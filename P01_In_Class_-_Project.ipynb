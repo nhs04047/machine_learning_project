{
 "cells": [
  {
   "cell_type": "markdown",
   "metadata": {},
   "source": [
    "# Project Objective\n",
    "\n",
    "In this project, we'll create a Python class that can be used to create and manipulate a personal bank account.\n",
    "\n",
    "The bank account class you'll create should have methods for each of the following:\n",
    "\n",
    "- Accepting deposits\n",
    "- Allowing withdrawals\n",
    "- Showing the balance\n",
    "- Showing the details of the account\n",
    "\n",
    "<b>Note: As with professional software development, you should be saving your code very often. As you code, make sure you save your code/changes. Otherwise, you run the risk of losing all your code!</b>\n",
    "\n",
    "Let's begin!\n"
   ]
  },
  {
   "cell_type": "markdown",
   "metadata": {},
   "source": [
    "# 1.\n",
    "On line 1, create a BankAccount class.\n",
    "\n",
    "<b>Hint</b>\n",
    "> ```python\n",
    "class BankAccount(object):\n",
    "```"
   ]
  },
  {
   "cell_type": "code",
   "execution_count": 1,
   "metadata": {
    "collapsed": true
   },
   "outputs": [],
   "source": [
    "class BankAccount(object):\n",
    "    pass"
   ]
  },
  {
   "cell_type": "markdown",
   "metadata": {},
   "source": [
    "# 2.\n",
    "Next, add a member variable called balance and set it equal to 0. This will represent the starting balance of any new BankAccount object.\n",
    "\n",
    "<b>Hint</b>\n",
    "> ```python\n",
    "class BankAccount(object):\n",
    "    balance = 0\n",
    "```"
   ]
  },
  {
   "cell_type": "code",
   "execution_count": 2,
   "metadata": {
    "collapsed": true
   },
   "outputs": [],
   "source": [
    "class BankAccount(object):\n",
    "    balance = 0"
   ]
  },
  {
   "cell_type": "markdown",
   "metadata": {},
   "source": [
    "# 3.\n",
    "Add the `__init__()` method that takes the default self parameter and an additional name parameter. Later, we'll use the name parameter to specify who the account belongs to.\n",
    "\n",
    "<b>Hint</b>\n",
    "> ```python\n",
    "class BankAccount(object):\n",
    "    balance = 0\n",
    "    def __init__(self, name):\n",
    "```"
   ]
  },
  {
   "cell_type": "code",
   "execution_count": 3,
   "metadata": {
    "collapsed": true
   },
   "outputs": [],
   "source": [
    "class BankAccount(object):\n",
    "    balance = 0\n",
    "    def __init__(self, name):\n",
    "        pass"
   ]
  },
  {
   "cell_type": "markdown",
   "metadata": {},
   "source": [
    "# 4.\n",
    "Inside the `__init__()` method, assign the self.name property to the name parameter that the method accepts.\n",
    "\n",
    "\n",
    "<b>Hint</b>\n",
    "> ```python\n",
    "self.name = name\n",
    "```"
   ]
  },
  {
   "cell_type": "code",
   "execution_count": 4,
   "metadata": {
    "collapsed": true
   },
   "outputs": [],
   "source": [
    "class BankAccount(object):\n",
    "    balance = 0\n",
    "    def __init__(self, name):\n",
    "        self.name = name"
   ]
  },
  {
   "cell_type": "markdown",
   "metadata": {},
   "source": [
    "# 5.\n",
    "Well done. This method will make sure that whatever name the user types (when creating an object of this class) will be attributed to that object.\n",
    "\n",
    "Next, add a `__repr__()` method that takes the default self parameter.\n",
    "\n",
    "<b>Hint</b>\n",
    "> ```python\n",
    "class BankAccount(object):\n",
    "    balance = 0\n",
    "    def __init__(self, name):\n",
    "        self.name = name\n",
    ">\n",
    "    def __repr__(self):\n",
    "```"
   ]
  },
  {
   "cell_type": "code",
   "execution_count": 5,
   "metadata": {
    "collapsed": true
   },
   "outputs": [],
   "source": [
    "class BankAccount(object):\n",
    "    balance = 0\n",
    "    def __init__(self, name):\n",
    "        self.name = name\n",
    "\n",
    "    def __repr__(self):\n",
    "        pass"
   ]
  },
  {
   "cell_type": "markdown",
   "metadata": {},
   "source": [
    "# 6.\n",
    "The `__repr__()` method defines what represents the object when a user tries to print that object using print. Let's add to this method and make it descriptive.\n",
    "\n",
    "In the `__repr__()` method, return a message stating who the account belongs to. The message should also include the balance, limited to two decimal places. Use string formatting to complete the message.\n",
    "\n",
    "<b>Hint</b>\n",
    "> ```python\n",
    "class BankAccount(object):\n",
    "    balance = 0\n",
    "    def __init__(self, name):\n",
    "        self.name = name\n",
    ">\n",
    "    def __repr__(self):\n",
    "        return \"%s's account. Balance: $%.2f\" % (self.name, self.balance)\n",
    "```\n",
    "> <b>Note: The `__repr__()` method requires return (instead of print) to display the information associated with an object.</b>"
   ]
  },
  {
   "cell_type": "code",
   "execution_count": 6,
   "metadata": {
    "collapsed": true
   },
   "outputs": [],
   "source": [
    "class BankAccount(object):\n",
    "    balance = 0\n",
    "    def __init__(self, name):\n",
    "        self.name = name\n",
    "\n",
    "    def __repr__(self):\n",
    "        return \"%s's account. Balance: $%.2f\" % (self.name, self.balance)"
   ]
  },
  {
   "cell_type": "markdown",
   "metadata": {},
   "source": [
    "# 7.\n",
    "Cool! The method you just added will return the bank account's information if a user tries to print a BankAccount object.\n",
    "\n",
    "Since printing an object isn't always useful, let's add a method called show_balance() that will print just the balance. It should accept the default self parameter.\n",
    "\n",
    "<b>Hint</b>\n",
    "> ```python\n",
    "class BankAccount(object):\n",
    "    balance = 0\n",
    "    def __init__(self, name):\n",
    "        self.name = name\n",
    ">\n",
    "    def __repr__(self):\n",
    "        return \"%s's account. Balance: $%.2f\" % (self.name, self.balance)\n",
    ">\n",
    "    def show_balance(self):\n",
    "```"
   ]
  },
  {
   "cell_type": "code",
   "execution_count": 7,
   "metadata": {
    "collapsed": true
   },
   "outputs": [],
   "source": [
    "class BankAccount(object):\n",
    "    balance = 0\n",
    "    def __init__(self, name):\n",
    "        self.name = name\n",
    "\n",
    "    def __repr__(self):\n",
    "        return \"%s's account. Balance: $%.2f\" % (self.name, self.balance)\n",
    "\n",
    "    def show_balance(self):\n",
    "        pass"
   ]
  },
  {
   "cell_type": "markdown",
   "metadata": {},
   "source": [
    "# 8.\n",
    "On the next line, use string formatting to print the user's balance to two decimal places.\n",
    "\n",
    "<b>Hint</b>\n",
    "> Use the `<Hint>` from Step 6 to help you. Use print instead of return.\n"
   ]
  },
  {
   "cell_type": "code",
   "execution_count": 8,
   "metadata": {
    "collapsed": true
   },
   "outputs": [],
   "source": [
    "class BankAccount(object):\n",
    "    balance = 0\n",
    "    def __init__(self, name):\n",
    "        self.name = name\n",
    "\n",
    "    def __repr__(self):\n",
    "        return \"%s's account. Balance: $%.2f\" % (self.name, self.balance)\n",
    "\n",
    "    def show_balance(self):\n",
    "        print(\"Balance: $%.2f\".format(self.balance))"
   ]
  },
  {
   "cell_type": "markdown",
   "metadata": {},
   "source": [
    "# 9.\n",
    "Great! We can use that method to print the user's balance.\n",
    "\n",
    "Next, let's add a method that allows deposits to the bank account. Add a method called deposit() that takes the default parameter, as well as an amount parameter.\n",
    "\n",
    "<b>Hint</b>\n",
    "> ```python\n",
    "class BankAccount(object):\n",
    "    balance = 0\n",
    "    def __init__(self, name):\n",
    "        # Code\n",
    ">\n",
    "    def __repr__(self):\n",
    "        # Code\n",
    ">\n",
    "    def show_balance(self):\n",
    "        # Code\n",
    ">\n",
    "    def deposit(self, amount):\n",
    "```"
   ]
  },
  {
   "cell_type": "code",
   "execution_count": 9,
   "metadata": {
    "collapsed": true
   },
   "outputs": [],
   "source": [
    "class BankAccount(object):\n",
    "    balance = 0\n",
    "    def __init__(self, name):\n",
    "        self.name = name\n",
    "\n",
    "    def __repr__(self):\n",
    "        return \"%s's account. Balance: $%.2f\" % (self.name, self.balance)\n",
    "\n",
    "    def show_balance(self):\n",
    "        print(\"Balance: $%.2f\".format(self.balance))\n",
    "        \n",
    "    def deposit(self, amount):\n",
    "        pass"
   ]
  },
  {
   "cell_type": "markdown",
   "metadata": {},
   "source": [
    "# 10.\n",
    "Inside of the deposit() method, let's do some error checking. We shouldn't allow a user to deposit less than or equal to zero dollars (that doesn't make sense).\n",
    "\n",
    "Add an if statement that checks if amount is less than or equal to zero. Inside of the statement, print an appropriate error message. Then, on the next line, return.\n",
    "\n",
    "<b>Hint</b>\n",
    "> ```python\n",
    "class BankAccount(object):\n",
    "    balance = 0\n",
    "    def __init__(self, name):\n",
    "        # Code\n",
    ">\n",
    "    def __repr__(self):\n",
    "        # Code\n",
    ">\n",
    "    def show_balance(self):\n",
    "        # Code\n",
    ">\n",
    "    def deposit(self, amount):\n",
    "        if amount <= 0:\n",
    "            print(\"Some error message here\")\n",
    "            return\n",
    "```"
   ]
  },
  {
   "cell_type": "code",
   "execution_count": 10,
   "metadata": {
    "collapsed": true
   },
   "outputs": [],
   "source": [
    "class BankAccount(object):\n",
    "    balance = 0\n",
    "    def __init__(self, name):\n",
    "        self.name = name\n",
    "\n",
    "    def __repr__(self):\n",
    "        return \"%s's account. Balance: $%.2f\" % (self.name, self.balance)\n",
    "\n",
    "    def show_balance(self):\n",
    "        print(\"Balance: $%.2f\".format(self.balance))\n",
    "        \n",
    "    def deposit(self, amount):\n",
    "        if amount <= 0:\n",
    "            print(\"It shouldn't be allowed to deposit less than or equal to zero\")\n",
    "            return"
   ]
  },
  {
   "cell_type": "markdown",
   "metadata": {},
   "source": [
    "# 11.\n",
    "Otherwise, we should print out the amount of the deposit and then increment the user's balance.\n",
    "\n",
    "Add a corresponding else block. Inside of the else block, print a message that displays the amount that the user is depositing. Use string formatting and print only to two decimal places.\n",
    "\n",
    "<b>Hint</b>\n",
    "> ```python\n",
    "class BankAccount(object):\n",
    "    balance = 0\n",
    "    def __init__(self, name):\n",
    "        # Code\n",
    ">\n",
    "    def __repr__(self):\n",
    "        # Code\n",
    ">\n",
    "    def show_balance(self):\n",
    "        # Code\n",
    ">\n",
    "    def deposit(self, amount):\n",
    "        if amount <= 0:\n",
    "            print(\"Some error message here\")\n",
    "        else:\n",
    "            # Print the amount deposited\n",
    "```\n",
    "> Use the `<Hint>` from Step 6 to help you. Use print instead of return."
   ]
  },
  {
   "cell_type": "code",
   "execution_count": 11,
   "metadata": {
    "collapsed": true
   },
   "outputs": [],
   "source": [
    "class BankAccount(object):\n",
    "    balance = 0\n",
    "    def __init__(self, name):\n",
    "        self.name = name\n",
    "\n",
    "    def __repr__(self):\n",
    "        return \"%s's account. Balance: $%.2f\" % (self.name, self.balance)\n",
    "\n",
    "    def show_balance(self):\n",
    "        print(\"Balance: $%.2f\".format(self.balance))\n",
    "        \n",
    "    def deposit(self, amount):\n",
    "        if amount <= 0:\n",
    "            print(\"It shouldn't be allowed to deposit less than or equal to zero\")\n",
    "            return\n",
    "        else:\n",
    "            self.balance += amount"
   ]
  },
  {
   "cell_type": "markdown",
   "metadata": {},
   "source": [
    "# 12.\n",
    "On the next line, we should increment the user's balance.\n",
    "\n",
    "Increment the user's balance using the += operator.\n",
    "\n",
    "<b>Hint</b>\n",
    "> ```python\n",
    "class BankAccount(object):\n",
    "    balance = 0\n",
    "    def __init__(self, name):\n",
    "        # Code\n",
    ">\n",
    "    def __repr__(self):\n",
    "        # Code\n",
    ">\n",
    "    def show_balance(self):\n",
    "        # Code\n",
    ">\n",
    "    def deposit(self, amount):\n",
    "        if amount <= 0:\n",
    "            print(\"Some error message here\")\n",
    "        else:\n",
    "            # Print the amount deposited\n",
    "            self.balance += amount\n",
    "```"
   ]
  },
  {
   "cell_type": "markdown",
   "metadata": {},
   "source": [
    "# 13.\n",
    "On the next line, display the new balance to the user by calling the show_balance() method.\n",
    "\n",
    "Methods can be called on objects - try to figure out which object the method is called on.\n",
    "\n",
    "<b>Hint</b>\n",
    "> ```python\n",
    "class BankAccount(object):\n",
    "    balance = 0\n",
    "    def __init__(self, name):\n",
    "        # Code\n",
    ">\n",
    "    def __repr__(self):\n",
    "        # Code\n",
    ">\n",
    "    def show_balance(self):\n",
    "        # Code\n",
    ">\n",
    "    def deposit(self, amount):\n",
    "        if amount <= 0:\n",
    "            print(\"Some error message here\")\n",
    "        else:\n",
    "            # Print the amount deposited\n",
    "            self.balance += amount\n",
    "            self.show_balance()\n",
    "```"
   ]
  },
  {
   "cell_type": "code",
   "execution_count": 12,
   "metadata": {
    "collapsed": true
   },
   "outputs": [],
   "source": [
    "class BankAccount(object):\n",
    "    balance = 0\n",
    "    def __init__(self, name):\n",
    "        self.name = name\n",
    "\n",
    "    def __repr__(self):\n",
    "        return \"%s's account. Balance: $%.2f\" % (self.name, self.balance)\n",
    "\n",
    "    def show_balance(self):\n",
    "        print(\"Balance: $%.2f\".format(self.balance))\n",
    "        \n",
    "    def deposit(self, amount):\n",
    "        if amount <= 0:\n",
    "            print(\"It shouldn't be allowed to deposit less than or equal to zero\")\n",
    "            return\n",
    "        else:\n",
    "            self.balance += amount\n",
    "            self.show_balance()"
   ]
  },
  {
   "cell_type": "markdown",
   "metadata": {},
   "source": [
    "# 14.\n",
    "If a user can deposit, we should also allow them to withdraw.\n",
    "\n",
    "Add a new method called withdraw(). It should take the default parameter, as well as an amount parameter.\n",
    "\n",
    "<b>Hint</b>\n",
    "> Use the `<Hint>` from Step 9 to help you.\n"
   ]
  },
  {
   "cell_type": "markdown",
   "metadata": {},
   "source": [
    "# 15.\n",
    "Let's do some error checking again. The user should not be allowed to withdraw more than what is currently in their bank account.\n",
    "\n",
    "On the next line, add an if statement that checks if amount is greater than the balance. Inside the statement, print an appropriate error message. Then on the next line, return.\n",
    "\n",
    "<b>Hint</b>\n",
    "> ```python\n",
    "class BankAccount(object):\n",
    "    balance = 0\n",
    "    def __init__(self, name):\n",
    "        # Code\n",
    ">\n",
    "    def __repr__(self):\n",
    "        # Code\n",
    ">\n",
    "    def show_balance(self):\n",
    "        # Code\n",
    ">\n",
    "    def deposit(self, amount):\n",
    "        # Code\n",
    ">\n",
    "    def withdraw(self, amount):\n",
    "        # The if statement\n",
    "            # Print an error message\n",
    "            # Return\n",
    "```\n",
    "> This step is similar to Step 10."
   ]
  },
  {
   "cell_type": "markdown",
   "metadata": {},
   "source": [
    "# 16.\n",
    "Otherwise, we should allow the user to withdraw the funds.\n",
    "\n",
    "First, add a corresponding else block. Then, add a line that prints the amount that the user is withdrawing. Use string formatting and print the amount to two decimal places.\n",
    "\n",
    "<b>Hint</b>\n",
    "> Use the `<Hint>` from Step 6 to help you. Use print instead of return.\n"
   ]
  },
  {
   "cell_type": "markdown",
   "metadata": {},
   "source": [
    "# 17.\n",
    "Next, we should update the user's balance.\n",
    "\n",
    "On the next line, decrement the balance by the amount using the -= operator.\n",
    "\n",
    "<b>Hint</b>\n",
    "> Use the `<Hint>` from Step 12 to help you.\n"
   ]
  },
  {
   "cell_type": "code",
   "execution_count": 20,
   "metadata": {
    "collapsed": true
   },
   "outputs": [],
   "source": [
    "class BankAccount(object):\n",
    "    balance = 0\n",
    "    def __init__(self, name):\n",
    "        self.name = name\n",
    "\n",
    "    def __repr__(self):\n",
    "        return \"%s's account. Balance: $%.2f\" % (self.name, self.balance)\n",
    "\n",
    "    def show_balance(self):\n",
    "        print(\"Balance: $%.2f\" % (self.balance))\n",
    "        \n",
    "    def deposit(self, amount):\n",
    "        if amount <= 0:\n",
    "            print(\"It shouldn't be allowed to deposit less than or equal to zero\")\n",
    "            return\n",
    "        else:\n",
    "            self.balance += amount\n",
    "            self.show_balance()\n",
    "    def withdraw(self, amount):\n",
    "        if amount > self.balance:\n",
    "            print(\"It shouldn't be allowed to withdraw more than balance\")\n",
    "            return\n",
    "        else:\n",
    "            self.balance -= amount\n",
    "            self.show_balance()"
   ]
  },
  {
   "cell_type": "markdown",
   "metadata": {},
   "source": [
    "# 18.\n",
    "On the next line, display the user's balance by calling the show_balance() method.\n",
    "\n",
    "<b>Hint</b>\n",
    "> Use the `<Hint>` from Step 13 to help you.\n"
   ]
  },
  {
   "cell_type": "markdown",
   "metadata": {},
   "source": [
    "# 19.\n",
    "Perfect. We have minimal functionality and error checking that will allow a user to create an account, deposit to it, and withdraw from it. Let's test it out.\n",
    "\n",
    "Outside of any function, at the bottom of your file, create a BankAccount object called my_account and specify a name (as a string) for the argument.\n",
    "\n",
    "<b>Hint</b>\n",
    "> ```python\n",
    "class BankAccount(object):\n",
    "    balance = 0\n",
    "    def __init__(self, name)__:\n",
    "        # Code\n",
    ">\n",
    "    def __repr__(self):\n",
    "        # Code\n",
    ">\n",
    "    def show_balance(self):\n",
    "        # Code\n",
    ">\n",
    "    def deposit(self, amount):\n",
    "        # Code\n",
    ">\n",
    "    def withdraw(self, amount):\n",
    "        # Code\n",
    ">\n",
    "my_account = BankAccount(“Your-name-here\")\n",
    "```\n",
    "> <b>Note: Our code will not yet display anything in the terminal. For anything to happen, we first have to create objects of the class that we've created, and then manipulate those objects using the methods we've defined. We'll do that first, then we'll see the results at the end, in the terminal.</b>\n"
   ]
  },
  {
   "cell_type": "code",
   "execution_count": 21,
   "metadata": {
    "collapsed": true
   },
   "outputs": [],
   "source": [
    "my_account = BankAccount(\"Jason\")"
   ]
  },
  {
   "cell_type": "markdown",
   "metadata": {},
   "source": [
    "# 20.\n",
    "What happens if we try to print the my_account object? The `__repr__()` method should handle that case.\n",
    "\n",
    "On the next line, print the my_account object.\n"
   ]
  },
  {
   "cell_type": "code",
   "execution_count": 22,
   "metadata": {},
   "outputs": [
    {
     "name": "stdout",
     "output_type": "stream",
     "text": [
      "Jason's account. Balance: $0.00\n"
     ]
    }
   ],
   "source": [
    "print(my_account)"
   ]
  },
  {
   "cell_type": "markdown",
   "metadata": {},
   "source": [
    "# 21.\n",
    "Let's look at the difference between `__repr__()` and show_balance().\n",
    "\n",
    "On the next line, call the show_balance() method on my_account."
   ]
  },
  {
   "cell_type": "code",
   "execution_count": 23,
   "metadata": {},
   "outputs": [
    {
     "name": "stdout",
     "output_type": "stream",
     "text": [
      "Balance: $0.00\n"
     ]
    }
   ],
   "source": [
    "my_account.show_balance()"
   ]
  },
  {
   "cell_type": "markdown",
   "metadata": {},
   "source": [
    "# 22.\n",
    "Next, deposit 2000 dollars to my_account using the deposit() method.\n"
   ]
  },
  {
   "cell_type": "code",
   "execution_count": 24,
   "metadata": {},
   "outputs": [
    {
     "name": "stdout",
     "output_type": "stream",
     "text": [
      "Balance: $2000.00\n"
     ]
    }
   ],
   "source": [
    "my_account.deposit(2000)"
   ]
  },
  {
   "cell_type": "markdown",
   "metadata": {},
   "source": [
    "# 23.\n",
    "Let's make sure the withdraw() function works. On the next line, withdraw 1000 dollars from my_account using the withdraw() method.\n"
   ]
  },
  {
   "cell_type": "code",
   "execution_count": 25,
   "metadata": {},
   "outputs": [
    {
     "name": "stdout",
     "output_type": "stream",
     "text": [
      "Balance: $1000.00\n"
     ]
    }
   ],
   "source": [
    "my_account.withdraw(1000)"
   ]
  },
  {
   "cell_type": "markdown",
   "metadata": {},
   "source": [
    "# 24.\n",
    "Finally, let's see if the `__repr__()` method accurately reflects the changes that have happened to the my_account object.\n",
    "\n",
    "As the last line of code, print the my_account object once again."
   ]
  },
  {
   "cell_type": "code",
   "execution_count": 26,
   "metadata": {},
   "outputs": [
    {
     "name": "stdout",
     "output_type": "stream",
     "text": [
      "Jason's account. Balance: $1000.00\n"
     ]
    }
   ],
   "source": [
    "print(my_account)"
   ]
  },
  {
   "cell_type": "markdown",
   "metadata": {},
   "source": [
    "# 25.\n",
    "Now it's time to see the results of our class. Make sure that you have saved your code. Then, in the terminal, type the following and hit \"Enter\" on your keyboard:\n",
    "\n",
    "<b>python bankaccount.py</b>\n",
    "\n",
    "The console should show, in order:\n",
    "\n",
    "- The bank account's initial information\n",
    "- The balance\n",
    "- The deposit (along with the balance)\n",
    "- The withdrawal (along with the balance)\n",
    "- The bank account's most recent information\n",
    "\n",
    "Feel free to add or expand the functionality of the BankAccount class. Happy coding!"
   ]
  },
  {
   "cell_type": "markdown",
   "metadata": {
    "collapsed": true
   },
   "source": [
    "# Full Code"
   ]
  },
  {
   "cell_type": "code",
   "execution_count": 27,
   "metadata": {},
   "outputs": [
    {
     "name": "stdout",
     "output_type": "stream",
     "text": [
      "Jason's account. Balance: $0.00\n",
      "Balance: $0.00\n",
      "Balance: $2000.00\n",
      "Balance: $1000.00\n",
      "Balance: $1000.00\n",
      "Jason's account. Balance: $1000.00\n"
     ]
    }
   ],
   "source": [
    "class BankAccount(object):\n",
    "  balance = 0\n",
    "  def __init__(self, name):\n",
    "    self.name = name\n",
    "    \n",
    "  def __repr__(self):\n",
    "    return \"%s's account. Balance: $%.2f\" % (self.name, self.balance)\n",
    "  \n",
    "  def show_balance(self):\n",
    "    print(\"Balance: $%.2f\" % (self.balance))\n",
    "    \n",
    "  def deposite(self, amount):\n",
    "    if amount <= 0:\n",
    "      print(\"It shouldn't be allowed to deposit less than or equal to zero\")\n",
    "      return\n",
    "    else:\n",
    "      self.balance += amount\n",
    "      self.show_balance()\n",
    "  \n",
    "  def withdraw(self, amount):\n",
    "    if amount > self.balance:\n",
    "      print(\"It shouldn't be greater than the balance\")\n",
    "      return\n",
    "    else:\n",
    "      self.balance -= amount\n",
    "      self.show_balance()\n",
    "      \n",
    "my_account = BankAccount(\"Jason\")\n",
    "print(my_account.__repr__())\n",
    "my_account.show_balance()\n",
    "my_account.deposite(2000)\n",
    "my_account.withdraw(1000)\n",
    "my_account.show_balance()\n",
    "print(my_account.__repr__())"
   ]
  },
  {
   "cell_type": "code",
   "execution_count": null,
   "metadata": {
    "collapsed": true
   },
   "outputs": [],
   "source": []
  }
 ],
 "metadata": {
  "anaconda-cloud": {},
  "kernelspec": {
   "display_name": "Python 3",
   "language": "python",
   "name": "python3"
  },
  "language_info": {
   "codemirror_mode": {
    "name": "ipython",
    "version": 3
   },
   "file_extension": ".py",
   "mimetype": "text/x-python",
   "name": "python",
   "nbconvert_exporter": "python",
   "pygments_lexer": "ipython3",
   "version": "3.8.3"
  }
 },
 "nbformat": 4,
 "nbformat_minor": 1
}
