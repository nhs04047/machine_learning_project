{
 "cells": [
  {
   "cell_type": "code",
   "execution_count": 1,
   "metadata": {
    "collapsed": true
   },
   "outputs": [],
   "source": [
    "import numpy as np\n",
    "import pandas as pd\n",
    "import copy\n",
    "import collections\n",
    "from scipy import linalg\n",
    "import math\n",
    "from collections import defaultdict"
   ]
  },
  {
   "cell_type": "code",
   "execution_count": 2,
   "metadata": {
    "collapsed": true
   },
   "outputs": [],
   "source": [
    "#data\n",
    "# index[0]:user_id, index[1]:movie_id, index[2]:ratings\n",
    "df = pd.read_csv('./ml-100k/u.data',sep='\\t',header=None)"
   ]
  },
  {
   "cell_type": "code",
   "execution_count": 3,
   "metadata": {
    "collapsed": false
   },
   "outputs": [
    {
     "data": {
      "text/html": [
       "<div>\n",
       "<style>\n",
       "    .dataframe thead tr:only-child th {\n",
       "        text-align: right;\n",
       "    }\n",
       "\n",
       "    .dataframe thead th {\n",
       "        text-align: left;\n",
       "    }\n",
       "\n",
       "    .dataframe tbody tr th {\n",
       "        vertical-align: top;\n",
       "    }\n",
       "</style>\n",
       "<table border=\"1\" class=\"dataframe\">\n",
       "  <thead>\n",
       "    <tr style=\"text-align: right;\">\n",
       "      <th></th>\n",
       "      <th>0</th>\n",
       "      <th>1</th>\n",
       "      <th>2</th>\n",
       "      <th>3</th>\n",
       "    </tr>\n",
       "  </thead>\n",
       "  <tbody>\n",
       "    <tr>\n",
       "      <th>0</th>\n",
       "      <td>196</td>\n",
       "      <td>242</td>\n",
       "      <td>3</td>\n",
       "      <td>881250949</td>\n",
       "    </tr>\n",
       "    <tr>\n",
       "      <th>1</th>\n",
       "      <td>186</td>\n",
       "      <td>302</td>\n",
       "      <td>3</td>\n",
       "      <td>891717742</td>\n",
       "    </tr>\n",
       "    <tr>\n",
       "      <th>2</th>\n",
       "      <td>22</td>\n",
       "      <td>377</td>\n",
       "      <td>1</td>\n",
       "      <td>878887116</td>\n",
       "    </tr>\n",
       "  </tbody>\n",
       "</table>\n",
       "</div>"
      ],
      "text/plain": [
       "     0    1  2          3\n",
       "0  196  242  3  881250949\n",
       "1  186  302  3  891717742\n",
       "2   22  377  1  878887116"
      ]
     },
     "execution_count": 3,
     "metadata": {},
     "output_type": "execute_result"
    }
   ],
   "source": [
    "df.head(3)"
   ]
  },
  {
   "cell_type": "code",
   "execution_count": 4,
   "metadata": {
    "collapsed": true
   },
   "outputs": [],
   "source": [
    "#movie list\n",
    "df_info = pd.read_csv('./ml-100k/u.item',sep='|',header=None, encoding=\"ISO-8859-1\")"
   ]
  },
  {
   "cell_type": "code",
   "execution_count": 5,
   "metadata": {
    "collapsed": false
   },
   "outputs": [
    {
     "data": {
      "text/html": [
       "<div>\n",
       "<style>\n",
       "    .dataframe thead tr:only-child th {\n",
       "        text-align: right;\n",
       "    }\n",
       "\n",
       "    .dataframe thead th {\n",
       "        text-align: left;\n",
       "    }\n",
       "\n",
       "    .dataframe tbody tr th {\n",
       "        vertical-align: top;\n",
       "    }\n",
       "</style>\n",
       "<table border=\"1\" class=\"dataframe\">\n",
       "  <thead>\n",
       "    <tr style=\"text-align: right;\">\n",
       "      <th></th>\n",
       "      <th>0</th>\n",
       "      <th>1</th>\n",
       "      <th>2</th>\n",
       "      <th>3</th>\n",
       "      <th>4</th>\n",
       "      <th>5</th>\n",
       "      <th>6</th>\n",
       "      <th>7</th>\n",
       "      <th>8</th>\n",
       "      <th>9</th>\n",
       "      <th>...</th>\n",
       "      <th>14</th>\n",
       "      <th>15</th>\n",
       "      <th>16</th>\n",
       "      <th>17</th>\n",
       "      <th>18</th>\n",
       "      <th>19</th>\n",
       "      <th>20</th>\n",
       "      <th>21</th>\n",
       "      <th>22</th>\n",
       "      <th>23</th>\n",
       "    </tr>\n",
       "  </thead>\n",
       "  <tbody>\n",
       "    <tr>\n",
       "      <th>0</th>\n",
       "      <td>1</td>\n",
       "      <td>Toy Story (1995)</td>\n",
       "      <td>01-Jan-1995</td>\n",
       "      <td>NaN</td>\n",
       "      <td>http://us.imdb.com/M/title-exact?Toy%20Story%2...</td>\n",
       "      <td>0</td>\n",
       "      <td>0</td>\n",
       "      <td>0</td>\n",
       "      <td>1</td>\n",
       "      <td>1</td>\n",
       "      <td>...</td>\n",
       "      <td>0</td>\n",
       "      <td>0</td>\n",
       "      <td>0</td>\n",
       "      <td>0</td>\n",
       "      <td>0</td>\n",
       "      <td>0</td>\n",
       "      <td>0</td>\n",
       "      <td>0</td>\n",
       "      <td>0</td>\n",
       "      <td>0</td>\n",
       "    </tr>\n",
       "    <tr>\n",
       "      <th>1</th>\n",
       "      <td>2</td>\n",
       "      <td>GoldenEye (1995)</td>\n",
       "      <td>01-Jan-1995</td>\n",
       "      <td>NaN</td>\n",
       "      <td>http://us.imdb.com/M/title-exact?GoldenEye%20(...</td>\n",
       "      <td>0</td>\n",
       "      <td>1</td>\n",
       "      <td>1</td>\n",
       "      <td>0</td>\n",
       "      <td>0</td>\n",
       "      <td>...</td>\n",
       "      <td>0</td>\n",
       "      <td>0</td>\n",
       "      <td>0</td>\n",
       "      <td>0</td>\n",
       "      <td>0</td>\n",
       "      <td>0</td>\n",
       "      <td>0</td>\n",
       "      <td>1</td>\n",
       "      <td>0</td>\n",
       "      <td>0</td>\n",
       "    </tr>\n",
       "  </tbody>\n",
       "</table>\n",
       "<p>2 rows × 24 columns</p>\n",
       "</div>"
      ],
      "text/plain": [
       "   0                 1            2   3   \\\n",
       "0   1  Toy Story (1995)  01-Jan-1995 NaN   \n",
       "1   2  GoldenEye (1995)  01-Jan-1995 NaN   \n",
       "\n",
       "                                                  4   5   6   7   8   9  ...  \\\n",
       "0  http://us.imdb.com/M/title-exact?Toy%20Story%2...   0   0   0   1   1 ...   \n",
       "1  http://us.imdb.com/M/title-exact?GoldenEye%20(...   0   1   1   0   0 ...   \n",
       "\n",
       "   14  15  16  17  18  19  20  21  22  23  \n",
       "0   0   0   0   0   0   0   0   0   0   0  \n",
       "1   0   0   0   0   0   0   0   1   0   0  \n",
       "\n",
       "[2 rows x 24 columns]"
      ]
     },
     "execution_count": 5,
     "metadata": {},
     "output_type": "execute_result"
    }
   ],
   "source": [
    "df_info.head(2)"
   ]
  },
  {
   "cell_type": "code",
   "execution_count": 6,
   "metadata": {
    "collapsed": true
   },
   "outputs": [],
   "source": [
    "movielist = [df_info[1].tolist()[indx]+';'+str(indx+1) for indx in range(len(df_info[1].tolist()))]"
   ]
  },
  {
   "cell_type": "code",
   "execution_count": 7,
   "metadata": {
    "collapsed": false
   },
   "outputs": [
    {
     "name": "stdout",
     "output_type": "stream",
     "text": [
      "Movie counts: 1682, User counts: 943\n"
     ]
    }
   ],
   "source": [
    "nmovies = len(movielist)\n",
    "nusers = len(df[0].drop_duplicates().tolist())\n",
    "print(\"Movie counts: {}, User counts: {}\".format(nmovies, nusers))"
   ]
  },
  {
   "cell_type": "code",
   "execution_count": 8,
   "metadata": {
    "collapsed": true
   },
   "outputs": [],
   "source": [
    "min_ratings = 50\n",
    "movies_rated  = list(df[1])\n",
    "counts = collections.Counter(movies_rated)"
   ]
  },
  {
   "cell_type": "code",
   "execution_count": 9,
   "metadata": {
    "collapsed": false
   },
   "outputs": [],
   "source": [
    "dfout = pd.DataFrame(columns=['user']+movielist)"
   ]
  },
  {
   "cell_type": "code",
   "execution_count": 10,
   "metadata": {
    "collapsed": false
   },
   "outputs": [
    {
     "data": {
      "text/html": [
       "<div>\n",
       "<style>\n",
       "    .dataframe thead tr:only-child th {\n",
       "        text-align: right;\n",
       "    }\n",
       "\n",
       "    .dataframe thead th {\n",
       "        text-align: left;\n",
       "    }\n",
       "\n",
       "    .dataframe tbody tr th {\n",
       "        vertical-align: top;\n",
       "    }\n",
       "</style>\n",
       "<table border=\"1\" class=\"dataframe\">\n",
       "  <thead>\n",
       "    <tr style=\"text-align: right;\">\n",
       "      <th></th>\n",
       "      <th>user</th>\n",
       "      <th>Toy Story (1995);1</th>\n",
       "      <th>GoldenEye (1995);2</th>\n",
       "      <th>Four Rooms (1995);3</th>\n",
       "      <th>Get Shorty (1995);4</th>\n",
       "      <th>Copycat (1995);5</th>\n",
       "      <th>Shanghai Triad (Yao a yao yao dao waipo qiao) (1995);6</th>\n",
       "      <th>Twelve Monkeys (1995);7</th>\n",
       "      <th>Babe (1995);8</th>\n",
       "      <th>Dead Man Walking (1995);9</th>\n",
       "      <th>...</th>\n",
       "      <th>Mirage (1995);1673</th>\n",
       "      <th>Mamma Roma (1962);1674</th>\n",
       "      <th>Sunchaser, The (1996);1675</th>\n",
       "      <th>War at Home, The (1996);1676</th>\n",
       "      <th>Sweet Nothing (1995);1677</th>\n",
       "      <th>Mat' i syn (1997);1678</th>\n",
       "      <th>B. Monkey (1998);1679</th>\n",
       "      <th>Sliding Doors (1998);1680</th>\n",
       "      <th>You So Crazy (1994);1681</th>\n",
       "      <th>Scream of Stone (Schrei aus Stein) (1991);1682</th>\n",
       "    </tr>\n",
       "  </thead>\n",
       "  <tbody>\n",
       "  </tbody>\n",
       "</table>\n",
       "<p>0 rows × 1683 columns</p>\n",
       "</div>"
      ],
      "text/plain": [
       "Empty DataFrame\n",
       "Columns: [user, Toy Story (1995);1, GoldenEye (1995);2, Four Rooms (1995);3, Get Shorty (1995);4, Copycat (1995);5, Shanghai Triad (Yao a yao yao dao waipo qiao) (1995);6, Twelve Monkeys (1995);7, Babe (1995);8, Dead Man Walking (1995);9, Richard III (1995);10, Seven (Se7en) (1995);11, Usual Suspects, The (1995);12, Mighty Aphrodite (1995);13, Postino, Il (1994);14, Mr. Holland's Opus (1995);15, French Twist (Gazon maudit) (1995);16, From Dusk Till Dawn (1996);17, White Balloon, The (1995);18, Antonia's Line (1995);19, Angels and Insects (1995);20, Muppet Treasure Island (1996);21, Braveheart (1995);22, Taxi Driver (1976);23, Rumble in the Bronx (1995);24, Birdcage, The (1996);25, Brothers McMullen, The (1995);26, Bad Boys (1995);27, Apollo 13 (1995);28, Batman Forever (1995);29, Belle de jour (1967);30, Crimson Tide (1995);31, Crumb (1994);32, Desperado (1995);33, Doom Generation, The (1995);34, Free Willy 2: The Adventure Home (1995);35, Mad Love (1995);36, Nadja (1994);37, Net, The (1995);38, Strange Days (1995);39, To Wong Foo, Thanks for Everything! Julie Newmar (1995);40, Billy Madison (1995);41, Clerks (1994);42, Disclosure (1994);43, Dolores Claiborne (1994);44, Eat Drink Man Woman (1994);45, Exotica (1994);46, Ed Wood (1994);47, Hoop Dreams (1994);48, I.Q. (1994);49, Star Wars (1977);50, Legends of the Fall (1994);51, Madness of King George, The (1994);52, Natural Born Killers (1994);53, Outbreak (1995);54, Professional, The (1994);55, Pulp Fiction (1994);56, Priest (1994);57, Quiz Show (1994);58, Three Colors: Red (1994);59, Three Colors: Blue (1993);60, Three Colors: White (1994);61, Stargate (1994);62, Santa Clause, The (1994);63, Shawshank Redemption, The (1994);64, What's Eating Gilbert Grape (1993);65, While You Were Sleeping (1995);66, Ace Ventura: Pet Detective (1994);67, Crow, The (1994);68, Forrest Gump (1994);69, Four Weddings and a Funeral (1994);70, Lion King, The (1994);71, Mask, The (1994);72, Maverick (1994);73, Faster Pussycat! Kill! Kill! (1965);74, Brother Minister: The Assassination of Malcolm X (1994);75, Carlito's Way (1993);76, Firm, The (1993);77, Free Willy (1993);78, Fugitive, The (1993);79, Hot Shots! Part Deux (1993);80, Hudsucker Proxy, The (1994);81, Jurassic Park (1993);82, Much Ado About Nothing (1993);83, Robert A. Heinlein's The Puppet Masters (1994);84, Ref, The (1994);85, Remains of the Day, The (1993);86, Searching for Bobby Fischer (1993);87, Sleepless in Seattle (1993);88, Blade Runner (1982);89, So I Married an Axe Murderer (1993);90, Nightmare Before Christmas, The (1993);91, True Romance (1993);92, Welcome to the Dollhouse (1995);93, Home Alone (1990);94, Aladdin (1992);95, Terminator 2: Judgment Day (1991);96, Dances with Wolves (1990);97, Silence of the Lambs, The (1991);98, Snow White and the Seven Dwarfs (1937);99, ...]\n",
       "Index: []\n",
       "\n",
       "[0 rows x 1683 columns]"
      ]
     },
     "execution_count": 10,
     "metadata": {},
     "output_type": "execute_result"
    }
   ],
   "source": [
    "dfout.head(1)"
   ]
  },
  {
   "cell_type": "code",
   "execution_count": 11,
   "metadata": {
    "collapsed": false
   },
   "outputs": [
    {
     "name": "stderr",
     "output_type": "stream",
     "text": [
      "/Users/jason/anaconda/lib/python3.6/site-packages/ipykernel/__main__.py:6: DeprecationWarning: \n",
      ".ix is deprecated. Please use\n",
      ".loc for label based indexing or\n",
      ".iloc for positional indexing\n",
      "\n",
      "See the documentation here:\n",
      "http://pandas.pydata.org/pandas-docs/stable/indexing.html#ix-indexer-is-deprecated\n"
     ]
    }
   ],
   "source": [
    "toremovelist = []\n",
    "for i in range(1,nusers):\n",
    "    tmpmovielist = [0 for j in range(nmovies)]\n",
    "    dftmp =df[df[0]==i]\n",
    "    for k in dftmp.index:\n",
    "        if counts[dftmp.ix[k][1]]>= min_ratings:           \n",
    "           tmpmovielist[dftmp.ix[k][1]-1] = dftmp.ix[k][2]\n",
    "           \n",
    "        else:\n",
    "           toremovelist.append(dftmp.ix[k][1])\n",
    "            \n",
    "    dfout.loc[i] = [i]+tmpmovielist"
   ]
  },
  {
   "cell_type": "code",
   "execution_count": 12,
   "metadata": {
    "collapsed": false
   },
   "outputs": [],
   "source": [
    "toremovelist=list(set(toremovelist))\n",
    "dfout.drop(dfout.columns[toremovelist], axis=1, inplace=True)\n",
    "dfout.to_csv('utilitymatrix.csv',index=None)"
   ]
  },
  {
   "cell_type": "code",
   "execution_count": 13,
   "metadata": {
    "collapsed": false
   },
   "outputs": [
    {
     "data": {
      "text/html": [
       "<div>\n",
       "<style>\n",
       "    .dataframe thead tr:only-child th {\n",
       "        text-align: right;\n",
       "    }\n",
       "\n",
       "    .dataframe thead th {\n",
       "        text-align: left;\n",
       "    }\n",
       "\n",
       "    .dataframe tbody tr th {\n",
       "        vertical-align: top;\n",
       "    }\n",
       "</style>\n",
       "<table border=\"1\" class=\"dataframe\">\n",
       "  <thead>\n",
       "    <tr style=\"text-align: right;\">\n",
       "      <th></th>\n",
       "      <th>user</th>\n",
       "      <th>Toy Story (1995);1</th>\n",
       "      <th>GoldenEye (1995);2</th>\n",
       "      <th>Four Rooms (1995);3</th>\n",
       "      <th>Get Shorty (1995);4</th>\n",
       "      <th>Copycat (1995);5</th>\n",
       "      <th>Twelve Monkeys (1995);7</th>\n",
       "      <th>Babe (1995);8</th>\n",
       "      <th>Dead Man Walking (1995);9</th>\n",
       "      <th>Richard III (1995);10</th>\n",
       "      <th>...</th>\n",
       "      <th>Cool Runnings (1993);1035</th>\n",
       "      <th>Hamlet (1996);1039</th>\n",
       "      <th>Forget Paris (1995);1041</th>\n",
       "      <th>Multiplicity (1996);1047</th>\n",
       "      <th>She's the One (1996);1048</th>\n",
       "      <th>Koyaanisqatsi (1983);1065</th>\n",
       "      <th>Shallow Grave (1994);1073</th>\n",
       "      <th>Reality Bites (1994);1074</th>\n",
       "      <th>Six Degrees of Separation (1993);1101</th>\n",
       "      <th>Some Kind of Wonderful (1987);1119</th>\n",
       "    </tr>\n",
       "  </thead>\n",
       "  <tbody>\n",
       "    <tr>\n",
       "      <th>1</th>\n",
       "      <td>1</td>\n",
       "      <td>5</td>\n",
       "      <td>3</td>\n",
       "      <td>4</td>\n",
       "      <td>3</td>\n",
       "      <td>3</td>\n",
       "      <td>4</td>\n",
       "      <td>1</td>\n",
       "      <td>5</td>\n",
       "      <td>3</td>\n",
       "      <td>...</td>\n",
       "      <td>0</td>\n",
       "      <td>0</td>\n",
       "      <td>0</td>\n",
       "      <td>0</td>\n",
       "      <td>0</td>\n",
       "      <td>0</td>\n",
       "      <td>0</td>\n",
       "      <td>0</td>\n",
       "      <td>0</td>\n",
       "      <td>0</td>\n",
       "    </tr>\n",
       "    <tr>\n",
       "      <th>2</th>\n",
       "      <td>2</td>\n",
       "      <td>4</td>\n",
       "      <td>0</td>\n",
       "      <td>0</td>\n",
       "      <td>0</td>\n",
       "      <td>0</td>\n",
       "      <td>0</td>\n",
       "      <td>0</td>\n",
       "      <td>0</td>\n",
       "      <td>2</td>\n",
       "      <td>...</td>\n",
       "      <td>0</td>\n",
       "      <td>0</td>\n",
       "      <td>0</td>\n",
       "      <td>0</td>\n",
       "      <td>0</td>\n",
       "      <td>0</td>\n",
       "      <td>0</td>\n",
       "      <td>0</td>\n",
       "      <td>0</td>\n",
       "      <td>0</td>\n",
       "    </tr>\n",
       "    <tr>\n",
       "      <th>3</th>\n",
       "      <td>3</td>\n",
       "      <td>0</td>\n",
       "      <td>0</td>\n",
       "      <td>0</td>\n",
       "      <td>0</td>\n",
       "      <td>0</td>\n",
       "      <td>0</td>\n",
       "      <td>0</td>\n",
       "      <td>0</td>\n",
       "      <td>0</td>\n",
       "      <td>...</td>\n",
       "      <td>0</td>\n",
       "      <td>0</td>\n",
       "      <td>0</td>\n",
       "      <td>0</td>\n",
       "      <td>0</td>\n",
       "      <td>0</td>\n",
       "      <td>0</td>\n",
       "      <td>0</td>\n",
       "      <td>0</td>\n",
       "      <td>0</td>\n",
       "    </tr>\n",
       "    <tr>\n",
       "      <th>4</th>\n",
       "      <td>4</td>\n",
       "      <td>0</td>\n",
       "      <td>0</td>\n",
       "      <td>0</td>\n",
       "      <td>0</td>\n",
       "      <td>0</td>\n",
       "      <td>0</td>\n",
       "      <td>0</td>\n",
       "      <td>0</td>\n",
       "      <td>0</td>\n",
       "      <td>...</td>\n",
       "      <td>0</td>\n",
       "      <td>0</td>\n",
       "      <td>0</td>\n",
       "      <td>0</td>\n",
       "      <td>0</td>\n",
       "      <td>0</td>\n",
       "      <td>0</td>\n",
       "      <td>0</td>\n",
       "      <td>0</td>\n",
       "      <td>0</td>\n",
       "    </tr>\n",
       "    <tr>\n",
       "      <th>5</th>\n",
       "      <td>5</td>\n",
       "      <td>4</td>\n",
       "      <td>3</td>\n",
       "      <td>0</td>\n",
       "      <td>0</td>\n",
       "      <td>0</td>\n",
       "      <td>0</td>\n",
       "      <td>0</td>\n",
       "      <td>0</td>\n",
       "      <td>0</td>\n",
       "      <td>...</td>\n",
       "      <td>0</td>\n",
       "      <td>0</td>\n",
       "      <td>0</td>\n",
       "      <td>0</td>\n",
       "      <td>0</td>\n",
       "      <td>0</td>\n",
       "      <td>0</td>\n",
       "      <td>0</td>\n",
       "      <td>0</td>\n",
       "      <td>0</td>\n",
       "    </tr>\n",
       "  </tbody>\n",
       "</table>\n",
       "<p>5 rows × 604 columns</p>\n",
       "</div>"
      ],
      "text/plain": [
       "  user Toy Story (1995);1 GoldenEye (1995);2 Four Rooms (1995);3  \\\n",
       "1    1                  5                  3                   4   \n",
       "2    2                  4                  0                   0   \n",
       "3    3                  0                  0                   0   \n",
       "4    4                  0                  0                   0   \n",
       "5    5                  4                  3                   0   \n",
       "\n",
       "  Get Shorty (1995);4 Copycat (1995);5 Twelve Monkeys (1995);7 Babe (1995);8  \\\n",
       "1                   3                3                       4             1   \n",
       "2                   0                0                       0             0   \n",
       "3                   0                0                       0             0   \n",
       "4                   0                0                       0             0   \n",
       "5                   0                0                       0             0   \n",
       "\n",
       "  Dead Man Walking (1995);9 Richard III (1995);10  \\\n",
       "1                         5                     3   \n",
       "2                         0                     2   \n",
       "3                         0                     0   \n",
       "4                         0                     0   \n",
       "5                         0                     0   \n",
       "\n",
       "                 ...                 Cool Runnings (1993);1035  \\\n",
       "1                ...                                         0   \n",
       "2                ...                                         0   \n",
       "3                ...                                         0   \n",
       "4                ...                                         0   \n",
       "5                ...                                         0   \n",
       "\n",
       "  Hamlet (1996);1039 Forget Paris (1995);1041 Multiplicity (1996);1047  \\\n",
       "1                  0                        0                        0   \n",
       "2                  0                        0                        0   \n",
       "3                  0                        0                        0   \n",
       "4                  0                        0                        0   \n",
       "5                  0                        0                        0   \n",
       "\n",
       "  She's the One (1996);1048 Koyaanisqatsi (1983);1065  \\\n",
       "1                         0                         0   \n",
       "2                         0                         0   \n",
       "3                         0                         0   \n",
       "4                         0                         0   \n",
       "5                         0                         0   \n",
       "\n",
       "  Shallow Grave (1994);1073 Reality Bites (1994);1074  \\\n",
       "1                         0                         0   \n",
       "2                         0                         0   \n",
       "3                         0                         0   \n",
       "4                         0                         0   \n",
       "5                         0                         0   \n",
       "\n",
       "  Six Degrees of Separation (1993);1101 Some Kind of Wonderful (1987);1119  \n",
       "1                                     0                                  0  \n",
       "2                                     0                                  0  \n",
       "3                                     0                                  0  \n",
       "4                                     0                                  0  \n",
       "5                                     0                                  0  \n",
       "\n",
       "[5 rows x 604 columns]"
      ]
     },
     "execution_count": 13,
     "metadata": {},
     "output_type": "execute_result"
    }
   ],
   "source": [
    "dfout.head(5)"
   ]
  },
  {
   "cell_type": "markdown",
   "metadata": {},
   "source": [
    "### 영화 장르 데이터"
   ]
  },
  {
   "cell_type": "code",
   "execution_count": 14,
   "metadata": {
    "collapsed": false
   },
   "outputs": [
    {
     "name": "stdout",
     "output_type": "stream",
     "text": [
      "  movie_id unknown Action Adventure Animation Children's Comedy Crime  \\\n",
      "0        1       0      0         0         1          1      1     0   \n",
      "1        2       0      1         1         0          0      0     0   \n",
      "2        3       0      0         0         0          0      0     0   \n",
      "3        4       0      1         0         0          0      1     0   \n",
      "4        5       0      0         0         0          0      0     1   \n",
      "\n",
      "  Documentary Drama Fantasy Film-Noir Horror Musical Mystery Romance Sci-Fi  \\\n",
      "0           0     0       0         0      0       0       0       0      0   \n",
      "1           0     0       0         0      0       0       0       0      0   \n",
      "2           0     0       0         0      0       0       0       0      0   \n",
      "3           0     1       0         0      0       0       0       0      0   \n",
      "4           0     1       0         0      0       0       0       0      0   \n",
      "\n",
      "  Thriller War Western  \n",
      "0        0   0       0  \n",
      "1        1   0       0  \n",
      "2        1   0       0  \n",
      "3        0   0       0  \n",
      "4        1   0       0  \n"
     ]
    }
   ],
   "source": [
    "#matrix movies's content\n",
    "movieslist = [int(m.split(';')[-1]) for m in dfout.columns[1:]]\n",
    "moviescats = ['unknown','Action','Adventure','Animation','Children\\'s','Comedy','Crime','Documentary',\n",
    "              'Drama','Fantasy','Film-Noir','Horror','Musical','Mystery',\n",
    "              'Romance','Sci-Fi','Thriller','War','Western']\n",
    "dfout_movies =  pd.DataFrame(columns=['movie_id']+moviescats)\n",
    "startcatsindx = 5\n",
    "cnt= 0\n",
    "for m in movieslist:\n",
    "    dfout_movies.loc[cnt] = [m]+df_info.iloc[m-1][startcatsindx:].tolist()\n",
    "    cnt +=1 \n",
    "print(dfout_movies.head())\n",
    "\n",
    "dfout_movies.to_csv('movies_content.csv',index=None)"
   ]
  },
  {
   "cell_type": "markdown",
   "metadata": {},
   "source": [
    "### 결측치 대체(Imputation)"
   ]
  },
  {
   "cell_type": "code",
   "execution_count": 15,
   "metadata": {
    "collapsed": true
   },
   "outputs": [],
   "source": [
    "def imputation(inp,Ri):\n",
    "    Ri = Ri.astype(float)\n",
    "    def userav():\n",
    "        for i in xrange(len(Ri)):\n",
    "            Ri[i][Ri[i]==0] = sum(Ri[i])/float(len(Ri[i][Ri[i]>0]))\n",
    "        return Ri\n",
    "    def itemav():\n",
    "        for i in xrange(len(Ri[0])):\n",
    "            Ri[:,i][Ri[:,i]==0] = sum(Ri[:,i])/float(len(Ri[:,i][Ri[:,i]>0]))\n",
    "        return Ri            \n",
    "    switch = {'useraverage':userav(),'itemaverage':itemav()}\n",
    "    return switch[inp]"
   ]
  },
  {
   "cell_type": "markdown",
   "metadata": {},
   "source": [
    "### 유사도 평가"
   ]
  },
  {
   "cell_type": "code",
   "execution_count": 16,
   "metadata": {
    "collapsed": true
   },
   "outputs": [],
   "source": [
    "from scipy.stats import pearsonr\n",
    "from scipy.spatial.distance import cosine \n",
    "def sim(x,y,metric='cos'):\n",
    "    if metric == 'cos':\n",
    "       return 1.-cosine(x,y)\n",
    "    else:#correlation\n",
    "       return pearsonr(x,y)[0]"
   ]
  },
  {
   "cell_type": "markdown",
   "metadata": {},
   "source": [
    "## 협업 필터링 방법 (Collaborative Filtering Methods)\n",
    "\n",
    "### 메모리 기반 협업 필터링\n",
    "\n",
    "* 메모리 기반 형업 필터링은 **사용자 기반 협업 필터링(User-Based Collaborative Filtering)**과 **아이템 기반 협업 필터링(item-Based Collaborative Filtering)**으로 구분할 수 있다."
   ]
  },
  {
   "cell_type": "markdown",
   "metadata": {},
   "source": [
    "#### 1. 사용자 기반 협업 필터링\n",
    "\n",
    "* **u_vec**은 사용자 평점 벡터로 함수 **FindKNeighbours**에서 이 벡터와 가장 비슷한 사용자 $K$를 찾는다. \n",
    "* **CalcRating** 함수는 앞의 식을 이용해서 예측 평점을 계산한다. 단, 분포 교정은 하지 않는다.\n",
    "* 유틸리티 행렬이 데이터가 별로 없어 이웃이 없는 경우 사용자의 평균 평점으로 예측이 이루어지도록 구현되었다.\n",
    "* 예측 평점이 5를 넘거나 1보다 낮은 경우 각각 5와 1로 조정된다."
   ]
  },
  {
   "cell_type": "code",
   "execution_count": 17,
   "metadata": {
    "collapsed": true
   },
   "outputs": [],
   "source": [
    "def CF_userbased(u_vec,K,data,indxs=False):\n",
    "    def FindKNeighbours(r,data,K):\n",
    "        neighs = []\n",
    "        cnt=0\n",
    "        for u in range(len(data)):\n",
    "            if data[u,r]>0 and cnt<K:\n",
    "               neighs.append(data[u])   \n",
    "               cnt +=1 \n",
    "            elif cnt==K:\n",
    "               break\n",
    "        return np.array(neighs)\n",
    "        \n",
    "    def CalcRating(u_vec,r,neighs):\n",
    "        rating = 0.\n",
    "        den = 0.\n",
    "        for j in range(len(neighs)):\n",
    "            rating += neighs[j][-1]*float(neighs[j][r]-neighs[j][neighs[j]>0][:-1].mean())\n",
    "            den += abs(neighs[j][-1])\n",
    "        if den>0:\n",
    "            rating = np.round(u_vec[u_vec>0].mean()+(rating/den),0)\n",
    "        else:\n",
    "            rating = np.round(u_vec[u_vec>0].mean(),0)\n",
    "        if rating>5:\n",
    "            return 5.\n",
    "        elif rating<1:\n",
    "            return 1.\n",
    "        return rating \n",
    "    #add similarity col\n",
    "    data = data.astype(float)\n",
    "    nrows = len(data)\n",
    "    ncols = len(data[0])\n",
    "    data_sim = np.zeros((nrows,ncols+1))\n",
    "    data_sim[:,:-1] = data\n",
    "    #calc similarities:\n",
    "    for u in range(nrows):\n",
    "        if np.array_equal(data_sim[u,:-1],u_vec)==False: #list(data_sim[u,:-1]) != list(u_vec):\n",
    "           data_sim[u,ncols] = sim(data_sim[u,:-1],u_vec,'pearson')\n",
    "        else:\n",
    "           data_sim[u,ncols] = 0.\n",
    "    #order by similarity:\n",
    "    data_sim =data_sim[data_sim[:,ncols].argsort()][::-1]\n",
    "    #find the K users for each item not rated:\n",
    "    u_rec = np.zeros(len(u_vec))\n",
    "    for r in range(ncols):\n",
    "        if u_vec[r]==0:\n",
    "           neighs = FindKNeighbours(r,data_sim,K)\n",
    "           #calc the predicted rating\n",
    "           u_rec[r] = CalcRating(u_vec,r,neighs)\n",
    "    if indxs:\n",
    "            #take out the rated movies\n",
    "            seenindxs = [indx for indx in range(len(u_vec)) if u_vec[indx]>0]\n",
    "            u_rec[seenindxs] = -1\n",
    "            recsvec = np.argsort(u_rec)[::-1][np.argsort(u_rec)>0]\n",
    "        \n",
    "            return recsvec    \n",
    "    return u_rec"
   ]
  },
  {
   "cell_type": "markdown",
   "metadata": {},
   "source": [
    "#### 2. 아이템 기반 협업 필터링\n",
    "\n",
    "* 클래스 **CF_itembased**의 생성자는 아이템 유사도 행렬 **simmatrix**를 계산한다.\n",
    "* 아이템에 대해 사용자 평점이 없는 경우 함수 **CalcRatings**를 통해 예측을 하게 되며, 이 때 함수 내부적으로 **simmatrix**를 사용한다.\n",
    "* 함수 **GetKSimItemsperUser**는 사용자가 평가하지 않은 아이템과 유사도가 가장 높은 아이템 중 사용자가 과거에 평가했던 $K$개의 아이템을 찾는다.\n",
    "* **u_vec**는 사용자 평점 벡터로, 유틸리티 행렬의 행 벡터이다. **CalcRatings**은 가중 평균 평점을 계산한다. 이웃을 찾을 수 없는 경우 평점은 아이템의 평균 평점으로 설정한다."
   ]
  },
  {
   "cell_type": "code",
   "execution_count": 18,
   "metadata": {
    "collapsed": true
   },
   "outputs": [],
   "source": [
    "class CF_itembased(object):\n",
    "    def __init__(self,data):\n",
    "        #calc item similarities matrix\n",
    "        nitems = len(data[0])\n",
    "        self.data = data\n",
    "        self.simmatrix = np.zeros((nitems,nitems))\n",
    "        for i in range(nitems):\n",
    "            for j in range(nitems):\n",
    "                if j>=i:#triangular matrix\n",
    "                   self.simmatrix[i,j] = sim(data[:,i],data[:,j])\n",
    "                else:\n",
    "                   self.simmatrix[i,j] = self.simmatrix[j,i]\n",
    "\n",
    "    def GetKSimItemsperUser(self,r,K,u_vec):\n",
    "        items = np.argsort(self.simmatrix[r])[::-1]\n",
    "        items = items[items!=r]\n",
    "        cnt=0\n",
    "        neighitems = []\n",
    "        for i in items:\n",
    "            if u_vec[i]>0 and cnt<K:\n",
    "               neighitems.append(i)\n",
    "               cnt+=1\n",
    "            elif cnt==K:\n",
    "               break\n",
    "        return neighitems\n",
    "        \n",
    "    def CalcRating(self,r,u_vec,neighitems):\n",
    "        rating = 0.\n",
    "        den = 0.\n",
    "        for i in neighitems:\n",
    "            rating +=  self.simmatrix[r,i]*u_vec[i]\n",
    "            den += abs(self.simmatrix[r,i])\n",
    "        if den>0:\n",
    "            rating = np.round(rating/den,0)\n",
    "        else:\n",
    "            rating = np.round(self.data[:,r][self.data[:,r]>0].mean(),0)\n",
    "        return rating\n",
    "        \n",
    "    def CalcRatings(self,u_vec,K,indxs=False):\n",
    "        #u_rec = copy.copy(u_vec)\n",
    "        u_rec = np.zeros(len(u_vec))\n",
    "        for r in range(len(u_vec)):\n",
    "            if u_vec[r]==0:\n",
    "               neighitems = self.GetKSimItemsperUser(r,K,u_vec)\n",
    "               #calc predicted rating\n",
    "               u_rec[r] = self.CalcRating(r,u_vec,neighitems)\n",
    "        if indxs:\n",
    "            #take out the rated movies\n",
    "            seenindxs = [indx for indx in range(len(u_vec)) if u_vec[indx]>0]\n",
    "            u_rec[seenindxs]=-1\n",
    "            recsvec = np.argsort(u_rec)[::-1][np.argsort(u_rec)>0]\n",
    "        \n",
    "            return recsvec\n",
    "        return u_rec"
   ]
  },
  {
   "cell_type": "markdown",
   "metadata": {},
   "source": [
    "### 트레이닝 셋과 테스트 셋 분리"
   ]
  },
  {
   "cell_type": "code",
   "execution_count": 19,
   "metadata": {
    "collapsed": false
   },
   "outputs": [],
   "source": [
    "def cross_validation(df,k):\n",
    "    val_num = int(len(df)/float(k))\n",
    "    print(val_num)\n",
    "    df_trains = []\n",
    "    df_vals = []\n",
    "    for i in range(k):\n",
    "        start_val = (k-i-1)*val_num\n",
    "        end_val = start_val+val_num\n",
    "        df_trains.append(pd.concat([df[:start_val],df[end_val:]]))\n",
    "        df_vals.append(df[start_val:end_val])\n",
    "\n",
    "    return df_trains,df_vals"
   ]
  },
  {
   "cell_type": "markdown",
   "metadata": {},
   "source": [
    "### RMSE 평가"
   ]
  },
  {
   "cell_type": "code",
   "execution_count": 20,
   "metadata": {
    "collapsed": true
   },
   "outputs": [],
   "source": [
    "def SE(u_preds,u_vals):\n",
    "    nratings = len(u_vals)\n",
    "    se = 0.\n",
    "    cnt = 0\n",
    "    for i in range(nratings):\n",
    "        if u_vals[i]>0:\n",
    "           se +=  (u_vals[i]-u_preds[i])*(u_vals[i]-u_preds[i])\n",
    "           cnt += 1\n",
    "    return se,cnt"
   ]
  },
  {
   "cell_type": "markdown",
   "metadata": {},
   "source": [
    "### 예측을 위해 U_VEC의 절반은 숨겨서 값을 예측하긴 위한 적업"
   ]
  },
  {
   "cell_type": "code",
   "execution_count": 21,
   "metadata": {
    "collapsed": true
   },
   "outputs": [],
   "source": [
    "import random\n",
    "def HideRandomRatings(u_vec, ratiovals=0.5):\n",
    "    u_test = np.zeros(len(u_vec))\n",
    "    u_vals = np.zeros(len(u_vec))\n",
    "    cnt = 0\n",
    "    nratings = len(u_vec[u_vec>0])\n",
    "    for i in range(len(u_vec)):\n",
    "        if u_vec[i]>0:        \n",
    "            if bool(random.getrandbits(1)) or cnt>=int(nratings*ratiovals):\n",
    "                u_test[i]=u_vec[i]\n",
    "            else:#random choice to hide the rating:\n",
    "                cnt +=1\n",
    "                u_vals[i]=u_vec[i]\n",
    "    return u_test,u_vals"
   ]
  },
  {
   "cell_type": "markdown",
   "metadata": {},
   "source": [
    "### 1. 데이터 로드"
   ]
  },
  {
   "cell_type": "code",
   "execution_count": 22,
   "metadata": {
    "collapsed": false
   },
   "outputs": [
    {
     "name": "stdout",
     "output_type": "stream",
     "text": [
      "   user  Toy Story (1995);1  GoldenEye (1995);2  Four Rooms (1995);3  \\\n",
      "0     1                   5                   3                    4   \n",
      "1     2                   4                   0                    0   \n",
      "2     3                   0                   0                    0   \n",
      "3     4                   0                   0                    0   \n",
      "\n",
      "   Get Shorty (1995);4  Copycat (1995);5  Twelve Monkeys (1995);7  \\\n",
      "0                    3                 3                        4   \n",
      "1                    0                 0                        0   \n",
      "2                    0                 0                        0   \n",
      "3                    0                 0                        0   \n",
      "\n",
      "   Babe (1995);8  Dead Man Walking (1995);9  Richard III (1995);10  \\\n",
      "0              1                          5                      3   \n",
      "1              0                          0                      2   \n",
      "2              0                          0                      0   \n",
      "3              0                          0                      0   \n",
      "\n",
      "                  ...                  Cool Runnings (1993);1035  \\\n",
      "0                 ...                                          0   \n",
      "1                 ...                                          0   \n",
      "2                 ...                                          0   \n",
      "3                 ...                                          0   \n",
      "\n",
      "   Hamlet (1996);1039  Forget Paris (1995);1041  Multiplicity (1996);1047  \\\n",
      "0                   0                         0                         0   \n",
      "1                   0                         0                         0   \n",
      "2                   0                         0                         0   \n",
      "3                   0                         0                         0   \n",
      "\n",
      "   She's the One (1996);1048  Koyaanisqatsi (1983);1065  \\\n",
      "0                          0                          0   \n",
      "1                          0                          0   \n",
      "2                          0                          0   \n",
      "3                          0                          0   \n",
      "\n",
      "   Shallow Grave (1994);1073  Reality Bites (1994);1074  \\\n",
      "0                          0                          0   \n",
      "1                          0                          0   \n",
      "2                          0                          0   \n",
      "3                          0                          0   \n",
      "\n",
      "   Six Degrees of Separation (1993);1101  Some Kind of Wonderful (1987);1119  \n",
      "0                                      0                                   0  \n",
      "1                                      0                                   0  \n",
      "2                                      0                                   0  \n",
      "3                                      0                                   0  \n",
      "\n",
      "[4 rows x 604 columns]\n",
      "check::: 603 -- 603\n",
      "188\n"
     ]
    }
   ],
   "source": [
    "#load data\n",
    "df = pd.read_csv('utilitymatrix.csv')\n",
    "print(df.head(4))\n",
    "df_movies = pd.read_csv('movies_content.csv')\n",
    "movies = df_movies.values[:,1:]\n",
    "print('check:::',len(df.columns[1:]),'--',len(df_movies))\n",
    "movieslist = list(df.columns[1:])\n",
    "#k-fold cv 5 folds\n",
    "nfolds = 5\n",
    "df_trains,df_vals = cross_validation(df,nfolds)"
   ]
  },
  {
   "cell_type": "markdown",
   "metadata": {},
   "source": [
    "### 2. 데이터 준비"
   ]
  },
  {
   "cell_type": "code",
   "execution_count": 23,
   "metadata": {
    "collapsed": true
   },
   "outputs": [],
   "source": [
    "nmovies = len(df_vals[0].values[:,1:][0])\n",
    "vals_vecs_folds = []\n",
    "tests_vecs_folds = []\n",
    "for i in range(nfolds):\n",
    "    u_vecs = df_vals[i].values[:,1:]\n",
    "    vtests = np.empty((0,nmovies),float)\n",
    "    vvals = np.empty((0,nmovies),float)\n",
    "    for u_vec in u_vecs:\n",
    "        u_test,u_vals = HideRandomRatings(u_vec)\n",
    "        vvals = np.vstack([vvals,u_vals])\n",
    "        vtests = np.vstack([vtests,u_test])\n",
    "    vals_vecs_folds.append(vvals)\n",
    "    tests_vecs_folds.append(vtests)"
   ]
  },
  {
   "cell_type": "markdown",
   "metadata": {},
   "source": [
    "### 3. 평가"
   ]
  },
  {
   "cell_type": "markdown",
   "metadata": {},
   "source": [
    "* 아이템 기반 협업"
   ]
  },
  {
   "cell_type": "code",
   "execution_count": 24,
   "metadata": {
    "collapsed": false
   },
   "outputs": [
    {
     "name": "stdout",
     "output_type": "stream",
     "text": [
      "fold: 1\n",
      "fold: 2\n",
      "fold: 3\n",
      "fold: 4\n",
      "fold: 5\n",
      "user_itembased rmse: 1.02758195187 -- 40036\n"
     ]
    }
   ],
   "source": [
    "err_itembased = 0.\n",
    "cnt_itembased = 0\n",
    "\n",
    "for i in range(nfolds):\n",
    "    Umatrix = df_trains[i].values[:,1:]\n",
    "    cfitembased = CF_itembased(Umatrix)\n",
    "\n",
    "    print('fold:',i+1)\n",
    "    vec_vals = vals_vecs_folds[i]\n",
    "    vec_tests = tests_vecs_folds[i]\n",
    "    \n",
    "    for j in range(len(vec_vals)):\n",
    "        u_vals = vec_vals[j]\n",
    "        u_test = vec_tests[j]\n",
    "        \n",
    "        #cf_itembased\n",
    "        u_preds = cfitembased.CalcRatings(u_test,5)\n",
    "        e,c =  SE(u_preds,u_vals)\n",
    "        err_itembased +=e\n",
    "        cnt_itembased +=c\n",
    "        \n",
    "rmse_itembased = np.sqrt(err_itembased/float(cnt_itembased))\n",
    "\n",
    "print('user_itembased rmse:',rmse_itembased,'--',cnt_itembased)"
   ]
  },
  {
   "cell_type": "code",
   "execution_count": 25,
   "metadata": {
    "collapsed": false,
    "scrolled": true
   },
   "outputs": [
    {
     "data": {
      "text/plain": [
       "array([ 4.,  4.,  4.,  4.,  0.,  0.,  4.,  5.,  4.,  5.,  5.,  0.,  4.,\n",
       "        4.,  4.,  4.,  4.,  4.,  5.,  4.,  4.,  4.,  4.,  4.,  4.,  4.,\n",
       "        4.,  4.,  3.,  4.,  4.,  4.,  4.,  4.,  4.,  4.,  4.,  3.,  0.,\n",
       "        4.,  3.,  4.,  4.,  4.,  4.,  4.,  4.,  4.,  4.,  3.,  4.,  0.,\n",
       "        3.,  3.,  3.,  3.,  0.,  4.,  4.,  3.,  4.,  0.,  0.,  4.,  3.,\n",
       "        4.,  4.,  4.,  3.,  4.,  3.,  0.,  5.,  4.,  4.,  4.,  4.,  3.,\n",
       "        4.,  0.,  0.,  0.,  4.,  0.,  4.,  4.,  3.,  4.,  3.,  3.,  4.,\n",
       "        4.,  4.,  4.,  4.,  3.,  0.,  3.,  4.,  4.,  4.,  4.,  4.,  3.,\n",
       "        4.,  4.,  4.,  5.,  4.,  4.,  4.,  4.,  4.,  4.,  4.,  4.,  0.,\n",
       "        4.,  4.,  4.,  4.,  4.,  0.,  4.,  4.,  4.,  4.,  5.,  4.,  4.,\n",
       "        0.,  4.,  0.,  0.,  4.,  4.,  4.,  3.,  4.,  4.,  4.,  4.,  4.,\n",
       "        4.,  0.,  4.,  4.,  5.,  3.,  3.,  4.,  4.,  0.,  5.,  4.,  4.,\n",
       "        4.,  4.,  4.,  4.,  4.,  4.,  0.,  4.,  4.,  0.,  4.,  4.,  4.,\n",
       "        4.,  0.,  4.,  4.,  0.,  4.,  4.,  0.,  4.,  4.,  4.,  4.,  0.,\n",
       "        0.,  4.,  4.,  4.,  4.,  4.,  4.,  4.,  4.,  4.,  4.,  4.,  4.,\n",
       "        4.,  0.,  4.,  4.,  4.,  4.,  3.,  4.,  3.,  4.,  4.,  4.,  4.,\n",
       "        3.,  0.,  4.,  4.,  4.,  4.,  3.,  4.,  3.,  4.,  4.,  4.,  4.,\n",
       "        4.,  4.,  4.,  4.,  3.,  4.,  4.,  4.,  4.,  4.,  4.,  4.,  4.,\n",
       "        4.,  4.,  4.,  4.,  5.,  4.,  0.,  4.,  4.,  4.,  4.,  4.,  5.,\n",
       "        4.,  4.,  4.,  5.,  4.,  4.,  4.,  4.,  4.,  4.,  4.,  0.,  4.,\n",
       "        4.,  4.,  3.,  4.,  4.,  4.,  4.,  4.,  4.,  4.,  4.,  4.,  4.,\n",
       "        4.,  4.,  4.,  4.,  4.,  4.,  4.,  4.,  4.,  4.,  4.,  4.,  4.,\n",
       "        4.,  4.,  4.,  4.,  4.,  4.,  4.,  4.,  4.,  4.,  4.,  0.,  4.,\n",
       "        4.,  3.,  4.,  4.,  4.,  4.,  4.,  3.,  4.,  4.,  4.,  4.,  4.,\n",
       "        3.,  4.,  3.,  4.,  4.,  4.,  4.,  4.,  4.,  4.,  3.,  3.,  3.,\n",
       "        3.,  4.,  3.,  5.,  4.,  4.,  4.,  4.,  4.,  4.,  4.,  4.,  4.,\n",
       "        4.,  4.,  4.,  4.,  4.,  4.,  4.,  5.,  4.,  0.,  4.,  4.,  4.,\n",
       "        3.,  3.,  4.,  0.,  4.,  4.,  0.,  4.,  4.,  4.,  0.,  4.,  4.,\n",
       "        4.,  4.,  4.,  4.,  4.,  4.,  4.,  4.,  4.,  4.,  4.,  4.,  0.,\n",
       "        0.,  0.,  4.,  4.,  4.,  4.,  4.,  4.,  4.,  4.,  4.,  4.,  4.,\n",
       "        4.,  0.,  5.,  4.,  4.,  0.,  4.,  4.,  4.,  5.,  4.,  0.,  0.,\n",
       "        4.,  4.,  4.,  4.,  3.,  4.,  4.,  0.,  4.,  4.,  3.,  4.,  4.,\n",
       "        4.,  4.,  4.,  3.,  4.,  4.,  4.,  4.,  4.,  4.,  4.,  3.,  3.,\n",
       "        4.,  5.,  4.,  4.,  4.,  4.,  4.,  3.,  3.,  3.,  4.,  4.,  4.,\n",
       "        4.,  0.,  4.,  4.,  4.,  4.,  5.,  4.,  4.,  4.,  4.,  4.,  4.,\n",
       "        4.,  4.,  5.,  4.,  0.,  4.,  4.,  0.,  4.,  4.,  4.,  3.,  4.,\n",
       "        4.,  4.,  4.,  0.,  4.,  4.,  4.,  4.,  4.,  4.,  4.,  4.,  4.,\n",
       "        4.,  4.,  4.,  0.,  4.,  3.,  0.,  4.,  4.,  4.,  4.,  4.,  3.,\n",
       "        4.,  4.,  3.,  4.,  4.,  4.,  3.,  4.,  4.,  4.,  4.,  4.,  3.,\n",
       "        4.,  4.,  4.,  4.,  4.,  3.,  3.,  4.,  4.,  4.,  0.,  5.,  3.,\n",
       "        4.,  4.,  4.,  4.,  4.,  4.,  4.,  4.,  4.,  4.,  4.,  4.,  4.,\n",
       "        4.,  4.,  4.,  3.,  4.,  4.,  4.,  2.,  3.,  3.,  4.,  4.,  4.,\n",
       "        4.,  3.,  4.,  4.,  3.,  4.,  3.,  3.,  4.,  4.,  4.,  4.,  0.,\n",
       "        3.,  3.,  4.,  4.,  4.,  4.,  4.,  4.,  4.,  4.,  3.,  4.,  4.,\n",
       "        4.,  4.,  3.,  3.,  3.,  3.,  4.,  4.,  4.,  3.,  4.,  4.,  3.,\n",
       "        4.,  4.,  4.,  4.,  4.,  4.,  3.,  3.,  4.,  4.,  0.,  4.,  4.,\n",
       "        4.,  5.,  4.,  4.,  4.])"
      ]
     },
     "execution_count": 25,
     "metadata": {},
     "output_type": "execute_result"
    }
   ],
   "source": [
    "u_preds"
   ]
  },
  {
   "cell_type": "code",
   "execution_count": 26,
   "metadata": {
    "collapsed": false,
    "scrolled": true
   },
   "outputs": [
    {
     "data": {
      "text/plain": [
       "array([ 0.,  0.,  0.,  0.,  0.,  0.,  0.,  0.,  0.,  5.,  0.,  0.,  0.,\n",
       "        0.,  0.,  0.,  0.,  0.,  5.,  0.,  0.,  0.,  0.,  0.,  3.,  0.,\n",
       "        0.,  0.,  0.,  3.,  0.,  0.,  0.,  0.,  0.,  0.,  0.,  0.,  0.,\n",
       "        0.,  0.,  0.,  4.,  0.,  4.,  0.,  0.,  0.,  0.,  0.,  0.,  0.,\n",
       "        0.,  3.,  0.,  0.,  0.,  0.,  0.,  0.,  0.,  0.,  0.,  5.,  0.,\n",
       "        0.,  0.,  0.,  0.,  0.,  0.,  0.,  0.,  0.,  0.,  0.,  0.,  0.,\n",
       "        0.,  0.,  0.,  0.,  0.,  0.,  0.,  0.,  0.,  0.,  0.,  0.,  0.,\n",
       "        0.,  0.,  0.,  3.,  0.,  0.,  0.,  0.,  0.,  0.,  0.,  4.,  0.,\n",
       "        0.,  0.,  0.,  0.,  0.,  0.,  0.,  0.,  0.,  0.,  0.,  0.,  0.,\n",
       "        3.,  0.,  0.,  4.,  0.,  0.,  0.,  5.,  0.,  0.,  0.,  3.,  0.,\n",
       "        0.,  0.,  0.,  0.,  0.,  4.,  0.,  0.,  0.,  0.,  0.,  0.,  0.,\n",
       "        0.,  0.,  5.,  0.,  4.,  4.,  0.,  0.,  5.,  0.,  0.,  0.,  0.,\n",
       "        4.,  0.,  3.,  0.,  0.,  0.,  0.,  0.,  0.,  0.,  3.,  0.,  0.,\n",
       "        0.,  0.,  0.,  0.,  0.,  0.,  4.,  0.,  0.,  0.,  0.,  2.,  0.,\n",
       "        0.,  0.,  0.,  0.,  0.,  5.,  0.,  5.,  0.,  0.,  0.,  0.,  0.,\n",
       "        0.,  0.,  0.,  0.,  0.,  0.,  0.,  0.,  3.,  4.,  0.,  3.,  0.,\n",
       "        0.,  0.,  0.,  0.,  0.,  0.,  0.,  0.,  0.,  0.,  0.,  0.,  0.,\n",
       "        0.,  0.,  3.,  0.,  0.,  0.,  5.,  0.,  0.,  0.,  0.,  0.,  0.,\n",
       "        0.,  0.,  0.,  0.,  0.,  0.,  0.,  0.,  0.,  0.,  0.,  0.,  0.,\n",
       "        4.,  0.,  0.,  0.,  0.,  0.,  2.,  0.,  0.,  0.,  0.,  0.,  0.,\n",
       "        0.,  0.,  0.,  0.,  0.,  0.,  0.,  0.,  0.,  0.,  0.,  0.,  0.,\n",
       "        5.,  0.,  0.,  0.,  0.,  0.,  0.,  3.,  0.,  0.,  0.,  0.,  0.,\n",
       "        0.,  0.,  0.,  0.,  0.,  0.,  0.,  0.,  0.,  0.,  4.,  0.,  0.,\n",
       "        0.,  0.,  0.,  0.,  0.,  0.,  0.,  0.,  0.,  0.,  0.,  0.,  5.,\n",
       "        0.,  0.,  0.,  0.,  0.,  0.,  0.,  0.,  0.,  0.,  0.,  0.,  0.,\n",
       "        0.,  0.,  0.,  0.,  0.,  0.,  5.,  0.,  0.,  0.,  0.,  0.,  0.,\n",
       "        0.,  0.,  0.,  0.,  0.,  0.,  0.,  0.,  0.,  0.,  0.,  0.,  0.,\n",
       "        0.,  0.,  0.,  0.,  0.,  0.,  0.,  0.,  0.,  0.,  0.,  0.,  5.,\n",
       "        0.,  0.,  0.,  4.,  0.,  0.,  0.,  0.,  0.,  0.,  0.,  0.,  0.,\n",
       "        0.,  0.,  0.,  0.,  0.,  0.,  0.,  0.,  0.,  0.,  0.,  0.,  0.,\n",
       "        0.,  0.,  0.,  0.,  0.,  0.,  0.,  0.,  0.,  0.,  0.,  0.,  0.,\n",
       "        0.,  0.,  0.,  0.,  0.,  0.,  0.,  0.,  0.,  0.,  0.,  0.,  0.,\n",
       "        0.,  0.,  0.,  0.,  0.,  0.,  0.,  0.,  0.,  0.,  0.,  0.,  4.,\n",
       "        2.,  0.,  0.,  0.,  5.,  4.,  0.,  0.,  0.,  0.,  0.,  0.,  0.,\n",
       "        0.,  0.,  0.,  0.,  0.,  0.,  0.,  0.,  0.,  0.,  0.,  0.,  0.,\n",
       "        0.,  0.,  0.,  0.,  0.,  4.,  0.,  0.,  0.,  0.,  0.,  0.,  0.,\n",
       "        0.,  0.,  0.,  0.,  0.,  0.,  0.,  0.,  0.,  0.,  0.,  0.,  0.,\n",
       "        0.,  0.,  0.,  0.,  0.,  0.,  0.,  0.,  0.,  3.,  0.,  0.,  0.,\n",
       "        0.,  0.,  5.,  0.,  0.,  0.,  0.,  0.,  0.,  0.,  0.,  0.,  0.,\n",
       "        0.,  0.,  0.,  4.,  0.,  0.,  0.,  0.,  0.,  0.,  0.,  0.,  0.,\n",
       "        0.,  0.,  0.,  0.,  5.,  0.,  0.,  0.,  0.,  0.,  0.,  0.,  0.,\n",
       "        0.,  0.,  0.,  0.,  0.,  0.,  0.,  0.,  0.,  0.,  2.,  0.,  0.,\n",
       "        0.,  0.,  0.,  0.,  0.,  0.,  0.,  0.,  0.,  0.,  0.,  0.,  0.,\n",
       "        0.,  0.,  0.,  0.,  2.,  0.,  0.,  0.,  0.,  0.,  0.,  0.,  0.,\n",
       "        0.,  0.,  0.,  3.,  4.,  0.,  0.,  0.,  0.,  0.,  0.,  0.,  0.,\n",
       "        0.,  0.,  0.,  0.,  0.,  0.,  0.,  0.,  0.,  0.,  0.,  0.,  0.,\n",
       "        0.,  0.,  0.,  0.,  0.])"
      ]
     },
     "execution_count": 26,
     "metadata": {},
     "output_type": "execute_result"
    }
   ],
   "source": [
    "u_vals"
   ]
  },
  {
   "cell_type": "markdown",
   "metadata": {},
   "source": [
    "* 사용자 기반 협업"
   ]
  },
  {
   "cell_type": "code",
   "execution_count": 27,
   "metadata": {
    "collapsed": false
   },
   "outputs": [
    {
     "name": "stdout",
     "output_type": "stream",
     "text": [
      "fold: 1\n",
      "fold: 2\n",
      "fold: 3\n",
      "fold: 4\n",
      "fold: 5\n",
      "user_userbased rmse: 1.01244874082 -- 40036\n"
     ]
    }
   ],
   "source": [
    "err_userbased = 0.\n",
    "cnt_userbased = 0\n",
    "\n",
    "for i in range(nfolds):\n",
    "    Umatrix = df_trains[i].values[:,1:]\n",
    "    \n",
    "    print('fold:',i+1)\n",
    "    vec_vals = vals_vecs_folds[i]\n",
    "    vec_tests = tests_vecs_folds[i]\n",
    "    \n",
    "    for j in range(len(vec_vals)):\n",
    "        u_vals = vec_vals[j]\n",
    "        u_test = vec_tests[j]\n",
    "        \n",
    "        #cf_userbased\n",
    "        u_preds = CF_userbased(u_test,5,Umatrix)\n",
    "        e,c =  SE(u_preds,u_vals)\n",
    "        err_userbased +=e\n",
    "        cnt_userbased +=c\n",
    "        \n",
    "rmse_userbased = np.sqrt(err_userbased/float(cnt_userbased))\n",
    "\n",
    "print('user_userbased rmse:',rmse_userbased,'--',cnt_userbased)"
   ]
  },
  {
   "cell_type": "markdown",
   "metadata": {},
   "source": [
    "#### Classification Reports"
   ]
  },
  {
   "cell_type": "code",
   "execution_count": 28,
   "metadata": {
    "collapsed": true
   },
   "outputs": [],
   "source": [
    "def ClassificationMetrics(vec_vals,vec_recs,likethreshold=3,shortlist=50,ratingsval=False,vec_test=None):\n",
    "    #convert vals in indxs vec\n",
    "    indxs_like = [i for i in range(len(vec_vals)) if vec_vals[i]>likethreshold]\n",
    "    indxs_dislike = [i for i in range(len(vec_vals)) if vec_vals[i]<=likethreshold and vec_vals[i]>0]\n",
    "    cnt = len(indxs_like)+len(indxs_dislike)\n",
    "    indxs_rec = []\n",
    "    if ratingsval:\n",
    "        #convert ratings into items's list\n",
    "        if vec_test==None:\n",
    "            raise 'Error no test vector'\n",
    "        indxs_rec = [i for i in range(len(vec_recs)) if vec_recs[i]>likethreshold and vec_test[i]<1][:shortlist]\n",
    "    else:\n",
    "        #consider only the first slot of recs\n",
    "        indxs_rec = vec_recs[:shortlist]\n",
    "\n",
    "    tp = len(set(indxs_rec).intersection(set(indxs_like)))\n",
    "    fp = len(set(indxs_rec).intersection(set(indxs_dislike)))\n",
    "    fn = len(set(indxs_like)^(set(indxs_rec).intersection(set(indxs_like))))\n",
    "    precision = 0.\n",
    "    if tp+fp>0:\n",
    "        precision = float(tp)/(tp+fp)\n",
    "    recall = 0.\n",
    "    if tp+fn>0:\n",
    "        recall = float(tp)/(tp+fn)\n",
    "    f1 = 0.\n",
    "    if recall+precision >0:\n",
    "        f1 = 2.*precision*recall/(precision+recall)\n",
    "    \n",
    "    return np.array([precision,recall,f1]),cnt"
   ]
  },
  {
   "cell_type": "markdown",
   "metadata": {},
   "source": [
    "#### 사용자 기반 CF의 Classification Report"
   ]
  },
  {
   "cell_type": "code",
   "execution_count": 29,
   "metadata": {
    "collapsed": false
   },
   "outputs": [
    {
     "name": "stdout",
     "output_type": "stream",
     "text": [
      "fold: 1\n"
     ]
    },
    {
     "name": "stderr",
     "output_type": "stream",
     "text": [
      "/Users/jason/anaconda/lib/python3.6/site-packages/ipykernel/__main__.py:9: FutureWarning: comparison to `None` will result in an elementwise object comparison in the future.\n"
     ]
    },
    {
     "name": "stdout",
     "output_type": "stream",
     "text": [
      "[ 0.55778284  0.16189462  0.23678252]\n",
      "fold: 2\n",
      "[ 0.58101677  0.19595578  0.2764807 ]\n",
      "fold: 3\n",
      "[ 0.63076892  0.18983336  0.27615923]\n",
      "fold: 4\n",
      "[ 0.6171614   0.18818046  0.27322904]\n",
      "fold: 5\n",
      "[ 0.61801487  0.1760292   0.26263378]\n",
      "/n\n",
      "precision: 0.600948961043  recall: 0.182378683324  f1: 0.265057052193 --- 40036.0\n"
     ]
    }
   ],
   "source": [
    "tot_measures = np.zeros(3)    \n",
    "cnt_vals = 0.\n",
    "#CF memory based\n",
    "for i in range(nfolds):\n",
    "    Umatrix = df_trains[i].values[:,1:]\n",
    "    \n",
    "    print('fold:',i+1)\n",
    "    tot_measures_fold = np.zeros(3)\n",
    "    vals_vecs = vals_vecs_folds[i]\n",
    "    tests_vecs = tests_vecs_folds[i]\n",
    "    \n",
    "    for j in range(len(vals_vecs)):\n",
    "        u_vals = vals_vecs[j]\n",
    "        u_test = tests_vecs[j]\n",
    "        u_preds = CF_userbased(u_test,20,Umatrix)\n",
    "        \n",
    "        tmp_measures,cnt_tmp = ClassificationMetrics(u_vals,u_preds,3,50,True,u_test)\n",
    "        tot_measures_fold +=  tmp_measures\n",
    "        cnt_vals += cnt_tmp\n",
    "        \n",
    "    tot_measures_fold /= float(len(vals_vecs))\n",
    "    print(tot_measures_fold)\n",
    "    tot_measures += tot_measures_fold\n",
    "    \n",
    "tot_measures /= float(nfolds)\n",
    "\n",
    "print('/n')\n",
    "print('precision:',tot_measures[0],' recall:',tot_measures[1],' f1:',tot_measures[2],'---',cnt_vals)"
   ]
  },
  {
   "cell_type": "markdown",
   "metadata": {},
   "source": [
    "#### 아이템 기반 CF의 Classification Report"
   ]
  },
  {
   "cell_type": "code",
   "execution_count": 30,
   "metadata": {
    "collapsed": false
   },
   "outputs": [
    {
     "name": "stdout",
     "output_type": "stream",
     "text": [
      "fold: 1\n"
     ]
    },
    {
     "name": "stderr",
     "output_type": "stream",
     "text": [
      "/Users/jason/anaconda/lib/python3.6/site-packages/ipykernel/__main__.py:9: FutureWarning: comparison to `None` will result in an elementwise object comparison in the future.\n"
     ]
    },
    {
     "name": "stdout",
     "output_type": "stream",
     "text": [
      "[ 0.55281727  0.13391836  0.20508238]\n",
      "fold: 2\n",
      "[ 0.54423254  0.155529    0.22922353]\n",
      "fold: 3\n",
      "[ 0.57105799  0.14692863  0.22292263]\n",
      "fold: 4\n",
      "[ 0.57429122  0.15601368  0.23433468]\n",
      "fold: 5\n",
      "[ 0.58172116  0.14218703  0.21837473]\n",
      "/n\n",
      "precision: 0.564824035195  recall: 0.146915339462  f1: 0.221987591005 --- 40036.0\n"
     ]
    }
   ],
   "source": [
    "tot_measures = np.zeros(3)    \n",
    "cnt_vals = 0.\n",
    "#CF memory based\n",
    "for i in range(nfolds):\n",
    "    Umatrix = df_trains[i].values[:,1:]\n",
    "    cfitembased = CF_itembased(Umatrix)\n",
    "    \n",
    "    print('fold:',i+1)\n",
    "    tot_measures_fold = np.zeros(3)\n",
    "    vals_vecs = vals_vecs_folds[i]\n",
    "    tests_vecs = tests_vecs_folds[i]\n",
    "    \n",
    "    for j in range(len(vals_vecs)):\n",
    "        u_vals = vals_vecs[j]\n",
    "        u_test = tests_vecs[j]\n",
    "        u_preds = cfitembased.CalcRatings(u_test,5)\n",
    "        \n",
    "        tmp_measures,cnt_tmp = ClassificationMetrics(u_vals,u_preds,3,50,True,u_test)\n",
    "        tot_measures_fold +=  tmp_measures\n",
    "        cnt_vals += cnt_tmp\n",
    "        \n",
    "    tot_measures_fold /= float(len(vals_vecs))\n",
    "    print(tot_measures_fold)\n",
    "    tot_measures += tot_measures_fold\n",
    "    \n",
    "tot_measures /= float(nfolds)\n",
    "\n",
    "print('/n')\n",
    "print('precision:',tot_measures[0],' recall:',tot_measures[1],' f1:',tot_measures[2],'---',cnt_vals)"
   ]
  },
  {
   "cell_type": "markdown",
   "metadata": {},
   "source": [
    "### 모델 기반 협업 필터링 방법으로써, 교대 최소 제곱법(ALS, Alternating Least Square)와 확률 내리막 경사법(SGD, Stochatic Gradient Descent) 방법을 사용하여 추천시스템을 평가하시오."
   ]
  },
  {
   "cell_type": "code",
   "execution_count": 31,
   "metadata": {
    "collapsed": true
   },
   "outputs": [],
   "source": [
    "# ALS 함수"
   ]
  },
  {
   "cell_type": "code",
   "execution_count": 32,
   "metadata": {
    "collapsed": true
   },
   "outputs": [],
   "source": [
    "def ALS(Umatrix, K, iterations=50, l=0.001, tol=0.001):\n",
    "\n",
    "    nrows = len(Umatrix)\n",
    "    ncols = len(Umatrix[0])  \n",
    "    P = np.random.rand(nrows,K)\n",
    "    Q = np.random.rand(ncols,K)\n",
    "    Qt = Q.T\n",
    "    err = 0.\n",
    "    Umatrix = Umatrix.astype(float)\n",
    "    mask = Umatrix>0.\n",
    "    mask[mask==True]=1\n",
    "    mask[mask==False]=0\n",
    "    mask = mask.astype(np.float64, copy=False)\n",
    "    for it in range(iterations):\n",
    "        for u, mask_u in enumerate(mask):\n",
    "            P[u] = np.linalg.solve(np.dot(Qt, np.dot(np.diag(mask_u), Qt.T)) + l*np.eye(K), \n",
    "                                np.dot(Qt, np.dot(np.diag(mask_u), Umatrix[u].T))).T\n",
    "        for i, mask_i in enumerate(mask.T):\n",
    "            Qt[:,i] = np.linalg.solve(np.dot(P.T, np.dot(np.diag(mask_i), P)) + l*np.eye(K),\n",
    "                                np.dot(P.T, np.dot(np.diag(mask_i), Umatrix[:,i])))                            \n",
    "        err=np.sum((mask*(Umatrix - np.dot(P, Qt)))**2)\n",
    "        if err < tol:\n",
    "            break\n",
    "    return np.round(np.dot(P,Qt),0)"
   ]
  },
  {
   "cell_type": "code",
   "execution_count": 33,
   "metadata": {
    "collapsed": true
   },
   "outputs": [],
   "source": [
    "# SGD 함수"
   ]
  },
  {
   "cell_type": "code",
   "execution_count": 34,
   "metadata": {
    "collapsed": true
   },
   "outputs": [],
   "source": [
    "def SGD(Umatrix, K, iterations=100, alpha=0.00001, l=0.001, tol=0.001):\n",
    "\n",
    "    nrows = len(Umatrix)\n",
    "    ncols = len(Umatrix[0])  \n",
    "    P = np.random.rand(nrows,K)\n",
    "    Q = np.random.rand(ncols,K)\n",
    "    Qt = Q.T\n",
    "    cost=-1\n",
    "    for it in range(iterations):\n",
    "        for i in range(nrows):\n",
    "            for j in range(ncols):\n",
    "                if Umatrix[i][j] > 0:\n",
    "                   eij = Umatrix[i][j] -np.dot(P[i,:],Qt[:,j])\n",
    "                   for k in range(K):\n",
    "                       P[i][k] += alpha*(2*eij*Qt[k][j]-l*P[i][k])\n",
    "                       Qt[k][j] += alpha*(2*eij*P[i][k]-l*Qt[k][j]) \n",
    "        cost = 0\n",
    "        for i in range(nrows):\n",
    "            for j in range(ncols):\n",
    "                if Umatrix[i][j]>0:\n",
    "                   cost += pow(Umatrix[i][j]-np.dot(P[i,:],Qt[:,j]),2)\n",
    "                   for k in range(K):\n",
    "                       cost += float(l/2.0)*(pow(P[i][k],2)+pow(Qt[k][j],2))\n",
    "        if cost < tol:\n",
    "           break\n",
    "    return np.round(np.dot(P,Qt),0)"
   ]
  },
  {
   "cell_type": "markdown",
   "metadata": {
    "collapsed": true
   },
   "source": [
    "### 컨텐츠 기반의 필터링 - 아이템 특징 평균 방법(Item Features Average Method)"
   ]
  },
  {
   "cell_type": "code",
   "execution_count": 35,
   "metadata": {
    "collapsed": true
   },
   "outputs": [],
   "source": [
    "class CBF_averageprofile(object):\n",
    "    def __init__(self,Movies,Movieslist):\n",
    "        #calc user profiles:\n",
    "        self.nfeatures = len(Movies[0])\n",
    "        self.Movieslist = Movieslist \n",
    "        self.Movies = Movies\n",
    "        \n",
    "    def GetRecMovies(self,u_vec,indxs=False):\n",
    "        #generate user profile\n",
    "        nmovies = len(u_vec)\n",
    "        nfeatures = self.nfeatures\n",
    "        mean_u = u_vec[u_vec>0].mean()\n",
    "        diff_u = u_vec-mean_u\n",
    "        features_u = np.zeros(nfeatures).astype(float)\n",
    "        cnts = np.zeros(nfeatures)\n",
    "        for m in range(nmovies):\n",
    "            if u_vec[m]>0:#u has rated m\n",
    "               features_u += self.Movies[m]*(diff_u[m])\n",
    "               cnts += self.Movies[m]\n",
    "        #average:\n",
    "        for m in range(nfeatures):\n",
    "            if cnts[m]>0:\n",
    "               features_u[m] = features_u[m]/float(cnts[m])\n",
    "               \n",
    "        #calc sim:\n",
    "        sims = np.zeros(nmovies)\n",
    "        for m in range(nmovies):\n",
    "            if u_vec[m]==0:#sim only for movies not yet rated by the user\n",
    "               sims[m] = sim(features_u,self.Movies[m])\n",
    "        #order movies\n",
    "        order_movies_indxs = np.argsort(sims)[::-1] \n",
    "        if indxs:\n",
    "            return order_movies_indxs\n",
    "        return self.Movieslist[order_movies_indxs]"
   ]
  },
  {
   "cell_type": "code",
   "execution_count": 38,
   "metadata": {
    "collapsed": false
   },
   "outputs": [
    {
     "name": "stdout",
     "output_type": "stream",
     "text": [
      "fold: 1\n",
      "fold: 2\n",
      "fold: 3\n",
      "fold: 4\n",
      "fold: 5\n",
      "cbfavg rmse: 346.329705969 -- 40036\n"
     ]
    }
   ],
   "source": [
    "err_cbfavg = 0.\n",
    "cnt_cbfavg = 0\n",
    "for i in range(nfolds):\n",
    "    Umatrix = df_trains[i].values[:,1:]\n",
    "    print('fold:',i+1)\n",
    "    teststartindx = len(Umatrix)\n",
    "    vals_vecs = vals_vecs_folds[i]\n",
    "    tests_vecs = tests_vecs_folds[i]\n",
    "    for k in range(len(vals_vecs)):\n",
    "        u_vals = vals_vecs[k]\n",
    "        u_test = tests_vecs[k]\n",
    "        #add test vector to utility matrix\n",
    "        Umatrix = np.vstack([Umatrix,u_test])\n",
    "    \n",
    "    #svd_em_matrix = Hybrid_svd(movies,movieslist,Umatrix,20,'useraverage').matrix#SVD_EM(Umatrix,20,'useraverage',1)\n",
    "    #svd_matrix = SVD(Umatrix,20,'itemaverage')\n",
    "    #cbf_reg = CBF_regression(movies,Umatrix)\n",
    "    cbf_av = CBF_averageprofile(movies,movieslist)\n",
    "    #als_umatrix = SGD(Umatrix,20,50)#ALS(Umatrix,20,50)#NMF_alg(Umatrix,20,'itemaverage',0.001)\n",
    "    #evaluate errors\n",
    "    for indx in range(len(vals_vecs)):\n",
    "        #e,c =  SE(als_umatrix[teststartindx+indx],vals_vecs[indx])\n",
    "        #err_als += e\n",
    "        #cnt_als += c\n",
    "        #u_preds = cbf_reg.CalcRatings(Umatrix[teststartindx+indx])\n",
    "        u_preds = cbf_av.GetRecMovies(Umatrix[teststartindx+indx],True)\n",
    "        e,c = SE(u_preds,vals_vecs[indx])\n",
    "        err_cbfavg +=e\n",
    "        cnt_cbfavg +=c\n",
    "\n",
    "        \n",
    "#if cnt_svd==0: cnt_svd=1\n",
    "#if cnt_svd_em==0: cnt_svd_em=1\n",
    "#if cnt_als==0: cnt_als=1\n",
    "#if cnt_cbfreg==0: cnt_cbfreg=1\n",
    "if cnt_cbfavg==0: cnt_cbfavg=1\n",
    "\n",
    "#rmse_als = np.sqrt(err_als/float(cnt_als))\n",
    "#rmse_svd = np.sqrt(err_svd/float(cnt_svd))\n",
    "#rmse_svd_em = np.sqrt(err_svd_em/float(cnt_svd_em))\n",
    "#rmse_cbfreg = np.sqrt(err_cbfreg/float(cnt_cbfreg))\n",
    "rmse_cbfavg = np.sqrt(err_cbfavg/float(cnt_cbfavg))\n",
    "\n",
    "#print 'svd rmse:',rmse_svd,'--',cnt_svd\n",
    "#print 'svd_em rmse:',rmse_svd_em,'--',cnt_svd_em\n",
    "#print 'als rmse:',rmse_als,'--',cnt_als\n",
    "#print('cbfreg rmse:',rmse_cbfreg,'--',cnt_cbfreg)\n",
    "print('cbfavg rmse:',rmse_cbfavg,'--',cnt_cbfavg)"
   ]
  },
  {
   "cell_type": "code",
   "execution_count": 37,
   "metadata": {
    "collapsed": false
   },
   "outputs": [
    {
     "name": "stdout",
     "output_type": "stream",
     "text": [
      "fold: 1\n",
      "[ 0.52596038  0.10943407  0.16743059]\n",
      "fold: 2\n",
      "[ 0.52373249  0.11582587  0.18218171]\n",
      "fold: 3\n",
      "[ 0.62289902  0.12308052  0.19657529]\n",
      "fold: 4\n",
      "[ 0.57278972  0.11922015  0.1856087 ]\n",
      "fold: 5\n",
      "[ 0.56604597  0.11762429  0.18604406]\n",
      "precision: 0.562285515669  recall: 0.117036983521  f1: 0.183568069323 --- 40036.0\n"
     ]
    }
   ],
   "source": [
    "cnt_vals=0.\n",
    "tot_measures = np.zeros(3)\n",
    "for i in range(nfolds):\n",
    "    Umatrix = df_trains[i].values[:,1:]\n",
    "    print('fold:',i+1)\n",
    "    teststartindx = len(Umatrix)\n",
    "    \n",
    "    vals_vecs = vals_vecs_folds[i]\n",
    "    tests_vecs = tests_vecs_folds[i]\n",
    "    for k in range(len(vals_vecs)):\n",
    "        u_vals = vals_vecs[k]\n",
    "        u_test = tests_vecs[k]\n",
    "        #add test vector to utility matrix\n",
    "        Umatrix = np.vstack([Umatrix,u_test])\n",
    "    \n",
    "    cbf_av = CBF_averageprofile(movies,movieslist)\n",
    "    \n",
    "    tot_measures_fold = np.zeros(3)\n",
    "    for indx in range(len(vals_vecs)):\n",
    "        u_preds = cbf_av.GetRecMovies(Umatrix[teststartindx+indx],True)\n",
    "        tmp_measures,cnt_tmp = ClassificationMetrics(vals_vecs[indx],u_preds,3,50,False,Umatrix[teststartindx+indx])\n",
    "        tot_measures_fold +=  tmp_measures\n",
    "        cnt_vals += cnt_tmp\n",
    "    tot_measures_fold = tot_measures_fold/float(len(vals_vecs))\n",
    "    print(tot_measures_fold)\n",
    "    tot_measures += tot_measures_fold\n",
    "tot_measures = tot_measures/float(nfolds)\n",
    "print('precision:',tot_measures[0],' recall:',tot_measures[1],' f1:',tot_measures[2],'---',cnt_vals)"
   ]
  },
  {
   "cell_type": "code",
   "execution_count": 46,
   "metadata": {
    "collapsed": true
   },
   "outputs": [],
   "source": [
    "import numpy as np\n",
    "import pandas as pd"
   ]
  },
  {
   "cell_type": "code",
   "execution_count": 47,
   "metadata": {
    "collapsed": true
   },
   "outputs": [],
   "source": [
    "column_names = ['user_id','item_id','rating','timestamp']\n",
    "df = pd.read_csv('u.data',sep='\\t',names=column_names)"
   ]
  },
  {
   "cell_type": "code",
   "execution_count": 48,
   "metadata": {
    "collapsed": false
   },
   "outputs": [
    {
     "data": {
      "text/html": [
       "<div>\n",
       "<style>\n",
       "    .dataframe thead tr:only-child th {\n",
       "        text-align: right;\n",
       "    }\n",
       "\n",
       "    .dataframe thead th {\n",
       "        text-align: left;\n",
       "    }\n",
       "\n",
       "    .dataframe tbody tr th {\n",
       "        vertical-align: top;\n",
       "    }\n",
       "</style>\n",
       "<table border=\"1\" class=\"dataframe\">\n",
       "  <thead>\n",
       "    <tr style=\"text-align: right;\">\n",
       "      <th></th>\n",
       "      <th>user_id</th>\n",
       "      <th>item_id</th>\n",
       "      <th>rating</th>\n",
       "      <th>timestamp</th>\n",
       "    </tr>\n",
       "  </thead>\n",
       "  <tbody>\n",
       "    <tr>\n",
       "      <th>0</th>\n",
       "      <td>0</td>\n",
       "      <td>50</td>\n",
       "      <td>5</td>\n",
       "      <td>881250949</td>\n",
       "    </tr>\n",
       "    <tr>\n",
       "      <th>1</th>\n",
       "      <td>0</td>\n",
       "      <td>172</td>\n",
       "      <td>5</td>\n",
       "      <td>881250949</td>\n",
       "    </tr>\n",
       "    <tr>\n",
       "      <th>2</th>\n",
       "      <td>0</td>\n",
       "      <td>133</td>\n",
       "      <td>1</td>\n",
       "      <td>881250949</td>\n",
       "    </tr>\n",
       "    <tr>\n",
       "      <th>3</th>\n",
       "      <td>196</td>\n",
       "      <td>242</td>\n",
       "      <td>3</td>\n",
       "      <td>881250949</td>\n",
       "    </tr>\n",
       "    <tr>\n",
       "      <th>4</th>\n",
       "      <td>186</td>\n",
       "      <td>302</td>\n",
       "      <td>3</td>\n",
       "      <td>891717742</td>\n",
       "    </tr>\n",
       "  </tbody>\n",
       "</table>\n",
       "</div>"
      ],
      "text/plain": [
       "   user_id  item_id  rating  timestamp\n",
       "0        0       50       5  881250949\n",
       "1        0      172       5  881250949\n",
       "2        0      133       1  881250949\n",
       "3      196      242       3  881250949\n",
       "4      186      302       3  891717742"
      ]
     },
     "execution_count": 48,
     "metadata": {},
     "output_type": "execute_result"
    }
   ],
   "source": [
    "df.head()"
   ]
  },
  {
   "cell_type": "code",
   "execution_count": 49,
   "metadata": {
    "collapsed": false
   },
   "outputs": [
    {
     "data": {
      "text/html": [
       "<div>\n",
       "<style>\n",
       "    .dataframe thead tr:only-child th {\n",
       "        text-align: right;\n",
       "    }\n",
       "\n",
       "    .dataframe thead th {\n",
       "        text-align: left;\n",
       "    }\n",
       "\n",
       "    .dataframe tbody tr th {\n",
       "        vertical-align: top;\n",
       "    }\n",
       "</style>\n",
       "<table border=\"1\" class=\"dataframe\">\n",
       "  <thead>\n",
       "    <tr style=\"text-align: right;\">\n",
       "      <th></th>\n",
       "      <th>item_id</th>\n",
       "      <th>title</th>\n",
       "    </tr>\n",
       "  </thead>\n",
       "  <tbody>\n",
       "    <tr>\n",
       "      <th>0</th>\n",
       "      <td>1</td>\n",
       "      <td>Toy Story (1995)</td>\n",
       "    </tr>\n",
       "    <tr>\n",
       "      <th>1</th>\n",
       "      <td>2</td>\n",
       "      <td>GoldenEye (1995)</td>\n",
       "    </tr>\n",
       "  </tbody>\n",
       "</table>\n",
       "</div>"
      ],
      "text/plain": [
       "   item_id             title\n",
       "0        1  Toy Story (1995)\n",
       "1        2  GoldenEye (1995)"
      ]
     },
     "execution_count": 49,
     "metadata": {},
     "output_type": "execute_result"
    }
   ],
   "source": [
    "movie_titles = pd.read_csv('Movie_Id_Titles')\n",
    "movie_titles.head(2)"
   ]
  },
  {
   "cell_type": "code",
   "execution_count": 50,
   "metadata": {
    "collapsed": true
   },
   "outputs": [],
   "source": [
    "df = pd.merge(df,movie_titles,on='item_id')"
   ]
  },
  {
   "cell_type": "code",
   "execution_count": 51,
   "metadata": {
    "collapsed": false
   },
   "outputs": [
    {
     "data": {
      "text/html": [
       "<div>\n",
       "<style>\n",
       "    .dataframe thead tr:only-child th {\n",
       "        text-align: right;\n",
       "    }\n",
       "\n",
       "    .dataframe thead th {\n",
       "        text-align: left;\n",
       "    }\n",
       "\n",
       "    .dataframe tbody tr th {\n",
       "        vertical-align: top;\n",
       "    }\n",
       "</style>\n",
       "<table border=\"1\" class=\"dataframe\">\n",
       "  <thead>\n",
       "    <tr style=\"text-align: right;\">\n",
       "      <th></th>\n",
       "      <th>user_id</th>\n",
       "      <th>item_id</th>\n",
       "      <th>rating</th>\n",
       "      <th>timestamp</th>\n",
       "      <th>title</th>\n",
       "    </tr>\n",
       "  </thead>\n",
       "  <tbody>\n",
       "    <tr>\n",
       "      <th>0</th>\n",
       "      <td>0</td>\n",
       "      <td>50</td>\n",
       "      <td>5</td>\n",
       "      <td>881250949</td>\n",
       "      <td>Star Wars (1977)</td>\n",
       "    </tr>\n",
       "    <tr>\n",
       "      <th>1</th>\n",
       "      <td>290</td>\n",
       "      <td>50</td>\n",
       "      <td>5</td>\n",
       "      <td>880473582</td>\n",
       "      <td>Star Wars (1977)</td>\n",
       "    </tr>\n",
       "    <tr>\n",
       "      <th>2</th>\n",
       "      <td>79</td>\n",
       "      <td>50</td>\n",
       "      <td>4</td>\n",
       "      <td>891271545</td>\n",
       "      <td>Star Wars (1977)</td>\n",
       "    </tr>\n",
       "    <tr>\n",
       "      <th>3</th>\n",
       "      <td>2</td>\n",
       "      <td>50</td>\n",
       "      <td>5</td>\n",
       "      <td>888552084</td>\n",
       "      <td>Star Wars (1977)</td>\n",
       "    </tr>\n",
       "    <tr>\n",
       "      <th>4</th>\n",
       "      <td>8</td>\n",
       "      <td>50</td>\n",
       "      <td>5</td>\n",
       "      <td>879362124</td>\n",
       "      <td>Star Wars (1977)</td>\n",
       "    </tr>\n",
       "  </tbody>\n",
       "</table>\n",
       "</div>"
      ],
      "text/plain": [
       "   user_id  item_id  rating  timestamp             title\n",
       "0        0       50       5  881250949  Star Wars (1977)\n",
       "1      290       50       5  880473582  Star Wars (1977)\n",
       "2       79       50       4  891271545  Star Wars (1977)\n",
       "3        2       50       5  888552084  Star Wars (1977)\n",
       "4        8       50       5  879362124  Star Wars (1977)"
      ]
     },
     "execution_count": 51,
     "metadata": {},
     "output_type": "execute_result"
    }
   ],
   "source": [
    "df.head()"
   ]
  },
  {
   "cell_type": "code",
   "execution_count": 52,
   "metadata": {
    "collapsed": true
   },
   "outputs": [],
   "source": [
    "import matplotlib.pyplot as plt\n",
    "import seaborn as sns\n",
    "\n",
    "%matplotlib inline"
   ]
  },
  {
   "cell_type": "code",
   "execution_count": 55,
   "metadata": {
    "collapsed": false
   },
   "outputs": [
    {
     "data": {
      "text/plain": [
       "title\n",
       "Marlene Dietrich: Shadow and Light (1996)     5.0\n",
       "Prefontaine (1997)                            5.0\n",
       "Santa with Muscles (1996)                     5.0\n",
       "Star Kid (1997)                               5.0\n",
       "Someone Else's America (1995)                 5.0\n",
       "Name: rating, dtype: float64"
      ]
     },
     "execution_count": 55,
     "metadata": {},
     "output_type": "execute_result"
    }
   ],
   "source": [
    "df.groupby('title')['rating'].mean().sort_values(ascending=False).head()"
   ]
  },
  {
   "cell_type": "code",
   "execution_count": 56,
   "metadata": {
    "collapsed": false
   },
   "outputs": [
    {
     "data": {
      "text/plain": [
       "title\n",
       "Star Wars (1977)             584\n",
       "Contact (1997)               509\n",
       "Fargo (1996)                 508\n",
       "Return of the Jedi (1983)    507\n",
       "Liar Liar (1997)             485\n",
       "Name: rating, dtype: int64"
      ]
     },
     "execution_count": 56,
     "metadata": {},
     "output_type": "execute_result"
    }
   ],
   "source": [
    "df.groupby('title')['rating'].count().sort_values(ascending=False).head()"
   ]
  },
  {
   "cell_type": "code",
   "execution_count": 57,
   "metadata": {
    "collapsed": false
   },
   "outputs": [
    {
     "data": {
      "text/html": [
       "<div>\n",
       "<style>\n",
       "    .dataframe thead tr:only-child th {\n",
       "        text-align: right;\n",
       "    }\n",
       "\n",
       "    .dataframe thead th {\n",
       "        text-align: left;\n",
       "    }\n",
       "\n",
       "    .dataframe tbody tr th {\n",
       "        vertical-align: top;\n",
       "    }\n",
       "</style>\n",
       "<table border=\"1\" class=\"dataframe\">\n",
       "  <thead>\n",
       "    <tr style=\"text-align: right;\">\n",
       "      <th></th>\n",
       "      <th>rating</th>\n",
       "    </tr>\n",
       "    <tr>\n",
       "      <th>title</th>\n",
       "      <th></th>\n",
       "    </tr>\n",
       "  </thead>\n",
       "  <tbody>\n",
       "    <tr>\n",
       "      <th>'Til There Was You (1997)</th>\n",
       "      <td>2.333333</td>\n",
       "    </tr>\n",
       "    <tr>\n",
       "      <th>1-900 (1994)</th>\n",
       "      <td>2.600000</td>\n",
       "    </tr>\n",
       "    <tr>\n",
       "      <th>101 Dalmatians (1996)</th>\n",
       "      <td>2.908257</td>\n",
       "    </tr>\n",
       "    <tr>\n",
       "      <th>12 Angry Men (1957)</th>\n",
       "      <td>4.344000</td>\n",
       "    </tr>\n",
       "    <tr>\n",
       "      <th>187 (1997)</th>\n",
       "      <td>3.024390</td>\n",
       "    </tr>\n",
       "  </tbody>\n",
       "</table>\n",
       "</div>"
      ],
      "text/plain": [
       "                             rating\n",
       "title                              \n",
       "'Til There Was You (1997)  2.333333\n",
       "1-900 (1994)               2.600000\n",
       "101 Dalmatians (1996)      2.908257\n",
       "12 Angry Men (1957)        4.344000\n",
       "187 (1997)                 3.024390"
      ]
     },
     "execution_count": 57,
     "metadata": {},
     "output_type": "execute_result"
    }
   ],
   "source": [
    "ratings = pd.DataFrame(df.groupby('title')['rating'].mean())\n",
    "ratings.head()"
   ]
  },
  {
   "cell_type": "code",
   "execution_count": 58,
   "metadata": {
    "collapsed": true
   },
   "outputs": [],
   "source": [
    "ratings['num of ratings'] = pd.DataFrame(df.groupby('title')['rating'].count())"
   ]
  },
  {
   "cell_type": "code",
   "execution_count": 59,
   "metadata": {
    "collapsed": false
   },
   "outputs": [
    {
     "data": {
      "text/html": [
       "<div>\n",
       "<style>\n",
       "    .dataframe thead tr:only-child th {\n",
       "        text-align: right;\n",
       "    }\n",
       "\n",
       "    .dataframe thead th {\n",
       "        text-align: left;\n",
       "    }\n",
       "\n",
       "    .dataframe tbody tr th {\n",
       "        vertical-align: top;\n",
       "    }\n",
       "</style>\n",
       "<table border=\"1\" class=\"dataframe\">\n",
       "  <thead>\n",
       "    <tr style=\"text-align: right;\">\n",
       "      <th></th>\n",
       "      <th>rating</th>\n",
       "      <th>num of ratings</th>\n",
       "    </tr>\n",
       "    <tr>\n",
       "      <th>title</th>\n",
       "      <th></th>\n",
       "      <th></th>\n",
       "    </tr>\n",
       "  </thead>\n",
       "  <tbody>\n",
       "    <tr>\n",
       "      <th>'Til There Was You (1997)</th>\n",
       "      <td>2.333333</td>\n",
       "      <td>9</td>\n",
       "    </tr>\n",
       "    <tr>\n",
       "      <th>1-900 (1994)</th>\n",
       "      <td>2.600000</td>\n",
       "      <td>5</td>\n",
       "    </tr>\n",
       "    <tr>\n",
       "      <th>101 Dalmatians (1996)</th>\n",
       "      <td>2.908257</td>\n",
       "      <td>109</td>\n",
       "    </tr>\n",
       "    <tr>\n",
       "      <th>12 Angry Men (1957)</th>\n",
       "      <td>4.344000</td>\n",
       "      <td>125</td>\n",
       "    </tr>\n",
       "    <tr>\n",
       "      <th>187 (1997)</th>\n",
       "      <td>3.024390</td>\n",
       "      <td>41</td>\n",
       "    </tr>\n",
       "  </tbody>\n",
       "</table>\n",
       "</div>"
      ],
      "text/plain": [
       "                             rating  num of ratings\n",
       "title                                              \n",
       "'Til There Was You (1997)  2.333333               9\n",
       "1-900 (1994)               2.600000               5\n",
       "101 Dalmatians (1996)      2.908257             109\n",
       "12 Angry Men (1957)        4.344000             125\n",
       "187 (1997)                 3.024390              41"
      ]
     },
     "execution_count": 59,
     "metadata": {},
     "output_type": "execute_result"
    }
   ],
   "source": [
    "ratings.head()"
   ]
  },
  {
   "cell_type": "code",
   "execution_count": 60,
   "metadata": {
    "collapsed": false
   },
   "outputs": [
    {
     "data": {
      "text/plain": [
       "<matplotlib.axes._subplots.AxesSubplot at 0x119a38828>"
      ]
     },
     "execution_count": 60,
     "metadata": {},
     "output_type": "execute_result"
    },
    {
     "data": {
      "image/png": "[encoded data removed]",
      "text/plain": [
       "<matplotlib.figure.Figure at 0x119a24fd0>"
      ]
     },
     "metadata": {},
     "output_type": "display_data"
    }
   ],
   "source": [
    "plt.figure(figsize=(10,4))\n",
    "ratings['num of ratings'].hist(bins=70)"
   ]
  },
  {
   "cell_type": "code",
   "execution_count": 61,
   "metadata": {
    "collapsed": false
   },
   "outputs": [
    {
     "data": {
      "text/plain": [
       "<matplotlib.axes._subplots.AxesSubplot at 0x11a5809e8>"
      ]
     },
     "execution_count": 61,
     "metadata": {},
     "output_type": "execute_result"
    },
    {
     "data": {
      "image/png": "[encoded data removed]",
      "text/plain": [
       "<matplotlib.figure.Figure at 0x11a580b70>"
      ]
     },
     "metadata": {},
     "output_type": "display_data"
    }
   ],
   "source": [
    "plt.figure(figsize=(10,4))\n",
    "ratings['rating'].hist(bins=70)"
   ]
  },
  {
   "cell_type": "code",
   "execution_count": 62,
   "metadata": {
    "collapsed": false
   },
   "outputs": [
    {
     "data": {
      "text/plain": [
       "<seaborn.axisgrid.JointGrid at 0x11a580438>"
      ]
     },
     "execution_count": 62,
     "metadata": {},
     "output_type": "execute_result"
    },
    {
     "data": {
      "image/png": "[encoded data removed]",
      "text/plain": [
       "<matplotlib.figure.Figure at 0x11a5ea6d8>"
      ]
     },
     "metadata": {},
     "output_type": "display_data"
    }
   ],
   "source": [
    "sns.jointplot(x='rating',y='num of ratings',data=ratings,alpha=0.5)"
   ]
  },
  {
   "cell_type": "code",
   "execution_count": 64,
   "metadata": {
    "collapsed": false
   },
   "outputs": [
    {
     "data": {
      "text/html": [
       "<div>\n",
       "<style>\n",
       "    .dataframe thead tr:only-child th {\n",
       "        text-align: right;\n",
       "    }\n",
       "\n",
       "    .dataframe thead th {\n",
       "        text-align: left;\n",
       "    }\n",
       "\n",
       "    .dataframe tbody tr th {\n",
       "        vertical-align: top;\n",
       "    }\n",
       "</style>\n",
       "<table border=\"1\" class=\"dataframe\">\n",
       "  <thead>\n",
       "    <tr style=\"text-align: right;\">\n",
       "      <th>title</th>\n",
       "      <th>'Til There Was You (1997)</th>\n",
       "      <th>1-900 (1994)</th>\n",
       "      <th>101 Dalmatians (1996)</th>\n",
       "      <th>12 Angry Men (1957)</th>\n",
       "      <th>187 (1997)</th>\n",
       "      <th>2 Days in the Valley (1996)</th>\n",
       "      <th>20,000 Leagues Under the Sea (1954)</th>\n",
       "      <th>2001: A Space Odyssey (1968)</th>\n",
       "      <th>3 Ninjas: High Noon At Mega Mountain (1998)</th>\n",
       "      <th>39 Steps, The (1935)</th>\n",
       "      <th>...</th>\n",
       "      <th>Yankee Zulu (1994)</th>\n",
       "      <th>Year of the Horse (1997)</th>\n",
       "      <th>You So Crazy (1994)</th>\n",
       "      <th>Young Frankenstein (1974)</th>\n",
       "      <th>Young Guns (1988)</th>\n",
       "      <th>Young Guns II (1990)</th>\n",
       "      <th>Young Poisoner's Handbook, The (1995)</th>\n",
       "      <th>Zeus and Roxanne (1997)</th>\n",
       "      <th>unknown</th>\n",
       "      <th>Á köldum klaka (Cold Fever) (1994)</th>\n",
       "    </tr>\n",
       "    <tr>\n",
       "      <th>user_id</th>\n",
       "      <th></th>\n",
       "      <th></th>\n",
       "      <th></th>\n",
       "      <th></th>\n",
       "      <th></th>\n",
       "      <th></th>\n",
       "      <th></th>\n",
       "      <th></th>\n",
       "      <th></th>\n",
       "      <th></th>\n",
       "      <th></th>\n",
       "      <th></th>\n",
       "      <th></th>\n",
       "      <th></th>\n",
       "      <th></th>\n",
       "      <th></th>\n",
       "      <th></th>\n",
       "      <th></th>\n",
       "      <th></th>\n",
       "      <th></th>\n",
       "      <th></th>\n",
       "    </tr>\n",
       "  </thead>\n",
       "  <tbody>\n",
       "    <tr>\n",
       "      <th>0</th>\n",
       "      <td>NaN</td>\n",
       "      <td>NaN</td>\n",
       "      <td>NaN</td>\n",
       "      <td>NaN</td>\n",
       "      <td>NaN</td>\n",
       "      <td>NaN</td>\n",
       "      <td>NaN</td>\n",
       "      <td>NaN</td>\n",
       "      <td>NaN</td>\n",
       "      <td>NaN</td>\n",
       "      <td>...</td>\n",
       "      <td>NaN</td>\n",
       "      <td>NaN</td>\n",
       "      <td>NaN</td>\n",
       "      <td>NaN</td>\n",
       "      <td>NaN</td>\n",
       "      <td>NaN</td>\n",
       "      <td>NaN</td>\n",
       "      <td>NaN</td>\n",
       "      <td>NaN</td>\n",
       "      <td>NaN</td>\n",
       "    </tr>\n",
       "    <tr>\n",
       "      <th>1</th>\n",
       "      <td>NaN</td>\n",
       "      <td>NaN</td>\n",
       "      <td>2.0</td>\n",
       "      <td>5.0</td>\n",
       "      <td>NaN</td>\n",
       "      <td>NaN</td>\n",
       "      <td>3.0</td>\n",
       "      <td>4.0</td>\n",
       "      <td>NaN</td>\n",
       "      <td>NaN</td>\n",
       "      <td>...</td>\n",
       "      <td>NaN</td>\n",
       "      <td>NaN</td>\n",
       "      <td>NaN</td>\n",
       "      <td>5.0</td>\n",
       "      <td>3.0</td>\n",
       "      <td>NaN</td>\n",
       "      <td>NaN</td>\n",
       "      <td>NaN</td>\n",
       "      <td>4.0</td>\n",
       "      <td>NaN</td>\n",
       "    </tr>\n",
       "    <tr>\n",
       "      <th>2</th>\n",
       "      <td>NaN</td>\n",
       "      <td>NaN</td>\n",
       "      <td>NaN</td>\n",
       "      <td>NaN</td>\n",
       "      <td>NaN</td>\n",
       "      <td>NaN</td>\n",
       "      <td>NaN</td>\n",
       "      <td>NaN</td>\n",
       "      <td>1.0</td>\n",
       "      <td>NaN</td>\n",
       "      <td>...</td>\n",
       "      <td>NaN</td>\n",
       "      <td>NaN</td>\n",
       "      <td>NaN</td>\n",
       "      <td>NaN</td>\n",
       "      <td>NaN</td>\n",
       "      <td>NaN</td>\n",
       "      <td>NaN</td>\n",
       "      <td>NaN</td>\n",
       "      <td>NaN</td>\n",
       "      <td>NaN</td>\n",
       "    </tr>\n",
       "    <tr>\n",
       "      <th>3</th>\n",
       "      <td>NaN</td>\n",
       "      <td>NaN</td>\n",
       "      <td>NaN</td>\n",
       "      <td>NaN</td>\n",
       "      <td>2.0</td>\n",
       "      <td>NaN</td>\n",
       "      <td>NaN</td>\n",
       "      <td>NaN</td>\n",
       "      <td>NaN</td>\n",
       "      <td>NaN</td>\n",
       "      <td>...</td>\n",
       "      <td>NaN</td>\n",
       "      <td>NaN</td>\n",
       "      <td>NaN</td>\n",
       "      <td>NaN</td>\n",
       "      <td>NaN</td>\n",
       "      <td>NaN</td>\n",
       "      <td>NaN</td>\n",
       "      <td>NaN</td>\n",
       "      <td>NaN</td>\n",
       "      <td>NaN</td>\n",
       "    </tr>\n",
       "    <tr>\n",
       "      <th>4</th>\n",
       "      <td>NaN</td>\n",
       "      <td>NaN</td>\n",
       "      <td>NaN</td>\n",
       "      <td>NaN</td>\n",
       "      <td>NaN</td>\n",
       "      <td>NaN</td>\n",
       "      <td>NaN</td>\n",
       "      <td>NaN</td>\n",
       "      <td>NaN</td>\n",
       "      <td>NaN</td>\n",
       "      <td>...</td>\n",
       "      <td>NaN</td>\n",
       "      <td>NaN</td>\n",
       "      <td>NaN</td>\n",
       "      <td>NaN</td>\n",
       "      <td>NaN</td>\n",
       "      <td>NaN</td>\n",
       "      <td>NaN</td>\n",
       "      <td>NaN</td>\n",
       "      <td>NaN</td>\n",
       "      <td>NaN</td>\n",
       "    </tr>\n",
       "  </tbody>\n",
       "</table>\n",
       "<p>5 rows × 1664 columns</p>\n",
       "</div>"
      ],
      "text/plain": [
       "title    'Til There Was You (1997)  1-900 (1994)  101 Dalmatians (1996)  \\\n",
       "user_id                                                                   \n",
       "0                              NaN           NaN                    NaN   \n",
       "1                              NaN           NaN                    2.0   \n",
       "2                              NaN           NaN                    NaN   \n",
       "3                              NaN           NaN                    NaN   \n",
       "4                              NaN           NaN                    NaN   \n",
       "\n",
       "title    12 Angry Men (1957)  187 (1997)  2 Days in the Valley (1996)  \\\n",
       "user_id                                                                 \n",
       "0                        NaN         NaN                          NaN   \n",
       "1                        5.0         NaN                          NaN   \n",
       "2                        NaN         NaN                          NaN   \n",
       "3                        NaN         2.0                          NaN   \n",
       "4                        NaN         NaN                          NaN   \n",
       "\n",
       "title    20,000 Leagues Under the Sea (1954)  2001: A Space Odyssey (1968)  \\\n",
       "user_id                                                                      \n",
       "0                                        NaN                           NaN   \n",
       "1                                        3.0                           4.0   \n",
       "2                                        NaN                           NaN   \n",
       "3                                        NaN                           NaN   \n",
       "4                                        NaN                           NaN   \n",
       "\n",
       "title    3 Ninjas: High Noon At Mega Mountain (1998)  39 Steps, The (1935)  \\\n",
       "user_id                                                                      \n",
       "0                                                NaN                   NaN   \n",
       "1                                                NaN                   NaN   \n",
       "2                                                1.0                   NaN   \n",
       "3                                                NaN                   NaN   \n",
       "4                                                NaN                   NaN   \n",
       "\n",
       "title                   ...                  Yankee Zulu (1994)  \\\n",
       "user_id                 ...                                       \n",
       "0                       ...                                 NaN   \n",
       "1                       ...                                 NaN   \n",
       "2                       ...                                 NaN   \n",
       "3                       ...                                 NaN   \n",
       "4                       ...                                 NaN   \n",
       "\n",
       "title    Year of the Horse (1997)  You So Crazy (1994)  \\\n",
       "user_id                                                  \n",
       "0                             NaN                  NaN   \n",
       "1                             NaN                  NaN   \n",
       "2                             NaN                  NaN   \n",
       "3                             NaN                  NaN   \n",
       "4                             NaN                  NaN   \n",
       "\n",
       "title    Young Frankenstein (1974)  Young Guns (1988)  Young Guns II (1990)  \\\n",
       "user_id                                                                       \n",
       "0                              NaN                NaN                   NaN   \n",
       "1                              5.0                3.0                   NaN   \n",
       "2                              NaN                NaN                   NaN   \n",
       "3                              NaN                NaN                   NaN   \n",
       "4                              NaN                NaN                   NaN   \n",
       "\n",
       "title    Young Poisoner's Handbook, The (1995)  Zeus and Roxanne (1997)  \\\n",
       "user_id                                                                   \n",
       "0                                          NaN                      NaN   \n",
       "1                                          NaN                      NaN   \n",
       "2                                          NaN                      NaN   \n",
       "3                                          NaN                      NaN   \n",
       "4                                          NaN                      NaN   \n",
       "\n",
       "title    unknown  Á köldum klaka (Cold Fever) (1994)  \n",
       "user_id                                               \n",
       "0            NaN                                 NaN  \n",
       "1            4.0                                 NaN  \n",
       "2            NaN                                 NaN  \n",
       "3            NaN                                 NaN  \n",
       "4            NaN                                 NaN  \n",
       "\n",
       "[5 rows x 1664 columns]"
      ]
     },
     "execution_count": 64,
     "metadata": {},
     "output_type": "execute_result"
    }
   ],
   "source": [
    "moviemat = df.pivot_table(index='user_id',columns='title',values='rating')\n",
    "moviemat.head()"
   ]
  },
  {
   "cell_type": "code",
   "execution_count": 65,
   "metadata": {
    "collapsed": false
   },
   "outputs": [
    {
     "data": {
      "text/html": [
       "<div>\n",
       "<style>\n",
       "    .dataframe thead tr:only-child th {\n",
       "        text-align: right;\n",
       "    }\n",
       "\n",
       "    .dataframe thead th {\n",
       "        text-align: left;\n",
       "    }\n",
       "\n",
       "    .dataframe tbody tr th {\n",
       "        vertical-align: top;\n",
       "    }\n",
       "</style>\n",
       "<table border=\"1\" class=\"dataframe\">\n",
       "  <thead>\n",
       "    <tr style=\"text-align: right;\">\n",
       "      <th></th>\n",
       "      <th>rating</th>\n",
       "      <th>num of ratings</th>\n",
       "    </tr>\n",
       "    <tr>\n",
       "      <th>title</th>\n",
       "      <th></th>\n",
       "      <th></th>\n",
       "    </tr>\n",
       "  </thead>\n",
       "  <tbody>\n",
       "    <tr>\n",
       "      <th>Star Wars (1977)</th>\n",
       "      <td>4.359589</td>\n",
       "      <td>584</td>\n",
       "    </tr>\n",
       "    <tr>\n",
       "      <th>Contact (1997)</th>\n",
       "      <td>3.803536</td>\n",
       "      <td>509</td>\n",
       "    </tr>\n",
       "    <tr>\n",
       "      <th>Fargo (1996)</th>\n",
       "      <td>4.155512</td>\n",
       "      <td>508</td>\n",
       "    </tr>\n",
       "    <tr>\n",
       "      <th>Return of the Jedi (1983)</th>\n",
       "      <td>4.007890</td>\n",
       "      <td>507</td>\n",
       "    </tr>\n",
       "    <tr>\n",
       "      <th>Liar Liar (1997)</th>\n",
       "      <td>3.156701</td>\n",
       "      <td>485</td>\n",
       "    </tr>\n",
       "  </tbody>\n",
       "</table>\n",
       "</div>"
      ],
      "text/plain": [
       "                             rating  num of ratings\n",
       "title                                              \n",
       "Star Wars (1977)           4.359589             584\n",
       "Contact (1997)             3.803536             509\n",
       "Fargo (1996)               4.155512             508\n",
       "Return of the Jedi (1983)  4.007890             507\n",
       "Liar Liar (1997)           3.156701             485"
      ]
     },
     "execution_count": 65,
     "metadata": {},
     "output_type": "execute_result"
    }
   ],
   "source": [
    "ratings.sort_values('num of ratings', ascending=False).head()"
   ]
  },
  {
   "cell_type": "code",
   "execution_count": 66,
   "metadata": {
    "collapsed": false
   },
   "outputs": [
    {
     "data": {
      "text/plain": [
       "user_id\n",
       "0    5.0\n",
       "1    5.0\n",
       "2    5.0\n",
       "3    NaN\n",
       "4    5.0\n",
       "Name: Star Wars (1977), dtype: float64"
      ]
     },
     "execution_count": 66,
     "metadata": {},
     "output_type": "execute_result"
    }
   ],
   "source": [
    "starwars_user_ratings = moviemat['Star Wars (1977)']\n",
    "liarliar_user_ratings = moviemat['Liar Liar (1997)']\n",
    "starwars_user_ratings.head()"
   ]
  },
  {
   "cell_type": "code",
   "execution_count": 68,
   "metadata": {
    "collapsed": false
   },
   "outputs": [
    {
     "name": "stderr",
     "output_type": "stream",
     "text": [
      "/Users/jason/anaconda/lib/python3.6/site-packages/numpy/lib/function_base.py:2995: RuntimeWarning: Degrees of freedom <= 0 for slice\n",
      "  c = cov(x, y, rowvar)\n",
      "/Users/jason/anaconda/lib/python3.6/site-packages/numpy/lib/function_base.py:2929: RuntimeWarning: divide by zero encountered in double_scalars\n",
      "  c *= 1. / np.float64(fact)\n"
     ]
    }
   ],
   "source": [
    "similar_to_starwars = moviemat.corrwith(starwars_user_ratings)\n",
    "similar_to_liarliar = moviemat.corrwith(liarliar_user_ratings)"
   ]
  },
  {
   "cell_type": "code",
   "execution_count": 69,
   "metadata": {
    "collapsed": true
   },
   "outputs": [],
   "source": [
    "corr_starwars = pd.DataFrame(similar_to_starwars,columns=['Correlation'])"
   ]
  },
  {
   "cell_type": "code",
   "execution_count": 70,
   "metadata": {
    "collapsed": false
   },
   "outputs": [
    {
     "data": {
      "text/html": [
       "<div>\n",
       "<style>\n",
       "    .dataframe thead tr:only-child th {\n",
       "        text-align: right;\n",
       "    }\n",
       "\n",
       "    .dataframe thead th {\n",
       "        text-align: left;\n",
       "    }\n",
       "\n",
       "    .dataframe tbody tr th {\n",
       "        vertical-align: top;\n",
       "    }\n",
       "</style>\n",
       "<table border=\"1\" class=\"dataframe\">\n",
       "  <thead>\n",
       "    <tr style=\"text-align: right;\">\n",
       "      <th></th>\n",
       "      <th>Correlation</th>\n",
       "    </tr>\n",
       "    <tr>\n",
       "      <th>title</th>\n",
       "      <th></th>\n",
       "    </tr>\n",
       "  </thead>\n",
       "  <tbody>\n",
       "    <tr>\n",
       "      <th>'Til There Was You (1997)</th>\n",
       "      <td>0.872872</td>\n",
       "    </tr>\n",
       "    <tr>\n",
       "      <th>1-900 (1994)</th>\n",
       "      <td>-0.645497</td>\n",
       "    </tr>\n",
       "    <tr>\n",
       "      <th>101 Dalmatians (1996)</th>\n",
       "      <td>0.211132</td>\n",
       "    </tr>\n",
       "    <tr>\n",
       "      <th>12 Angry Men (1957)</th>\n",
       "      <td>0.184289</td>\n",
       "    </tr>\n",
       "    <tr>\n",
       "      <th>187 (1997)</th>\n",
       "      <td>0.027398</td>\n",
       "    </tr>\n",
       "  </tbody>\n",
       "</table>\n",
       "</div>"
      ],
      "text/plain": [
       "                           Correlation\n",
       "title                                 \n",
       "'Til There Was You (1997)     0.872872\n",
       "1-900 (1994)                 -0.645497\n",
       "101 Dalmatians (1996)         0.211132\n",
       "12 Angry Men (1957)           0.184289\n",
       "187 (1997)                    0.027398"
      ]
     },
     "execution_count": 70,
     "metadata": {},
     "output_type": "execute_result"
    }
   ],
   "source": [
    "corr_starwars.dropna(inplace=True)\n",
    "corr_starwars.head()"
   ]
  },
  {
   "cell_type": "code",
   "execution_count": 72,
   "metadata": {
    "collapsed": false
   },
   "outputs": [
    {
     "data": {
      "text/html": [
       "<div>\n",
       "<style>\n",
       "    .dataframe thead tr:only-child th {\n",
       "        text-align: right;\n",
       "    }\n",
       "\n",
       "    .dataframe thead th {\n",
       "        text-align: left;\n",
       "    }\n",
       "\n",
       "    .dataframe tbody tr th {\n",
       "        vertical-align: top;\n",
       "    }\n",
       "</style>\n",
       "<table border=\"1\" class=\"dataframe\">\n",
       "  <thead>\n",
       "    <tr style=\"text-align: right;\">\n",
       "      <th></th>\n",
       "      <th>Correlation</th>\n",
       "    </tr>\n",
       "    <tr>\n",
       "      <th>title</th>\n",
       "      <th></th>\n",
       "    </tr>\n",
       "  </thead>\n",
       "  <tbody>\n",
       "    <tr>\n",
       "      <th>Commandments (1997)</th>\n",
       "      <td>1.0</td>\n",
       "    </tr>\n",
       "    <tr>\n",
       "      <th>Cosi (1996)</th>\n",
       "      <td>1.0</td>\n",
       "    </tr>\n",
       "    <tr>\n",
       "      <th>No Escape (1994)</th>\n",
       "      <td>1.0</td>\n",
       "    </tr>\n",
       "    <tr>\n",
       "      <th>Stripes (1981)</th>\n",
       "      <td>1.0</td>\n",
       "    </tr>\n",
       "    <tr>\n",
       "      <th>Man of the Year (1995)</th>\n",
       "      <td>1.0</td>\n",
       "    </tr>\n",
       "    <tr>\n",
       "      <th>Hollow Reed (1996)</th>\n",
       "      <td>1.0</td>\n",
       "    </tr>\n",
       "    <tr>\n",
       "      <th>Beans of Egypt, Maine, The (1994)</th>\n",
       "      <td>1.0</td>\n",
       "    </tr>\n",
       "    <tr>\n",
       "      <th>Good Man in Africa, A (1994)</th>\n",
       "      <td>1.0</td>\n",
       "    </tr>\n",
       "    <tr>\n",
       "      <th>Old Lady Who Walked in the Sea, The (Vieille qui marchait dans la mer, La) (1991)</th>\n",
       "      <td>1.0</td>\n",
       "    </tr>\n",
       "    <tr>\n",
       "      <th>Outlaw, The (1943)</th>\n",
       "      <td>1.0</td>\n",
       "    </tr>\n",
       "  </tbody>\n",
       "</table>\n",
       "</div>"
      ],
      "text/plain": [
       "                                                    Correlation\n",
       "title                                                          \n",
       "Commandments (1997)                                         1.0\n",
       "Cosi (1996)                                                 1.0\n",
       "No Escape (1994)                                            1.0\n",
       "Stripes (1981)                                              1.0\n",
       "Man of the Year (1995)                                      1.0\n",
       "Hollow Reed (1996)                                          1.0\n",
       "Beans of Egypt, Maine, The (1994)                           1.0\n",
       "Good Man in Africa, A (1994)                                1.0\n",
       "Old Lady Who Walked in the Sea, The (Vieille qu...          1.0\n",
       "Outlaw, The (1943)                                          1.0"
      ]
     },
     "execution_count": 72,
     "metadata": {},
     "output_type": "execute_result"
    }
   ],
   "source": [
    "corr_starwars.sort_values('Correlation',ascending=False).head(10)"
   ]
  },
  {
   "cell_type": "code",
   "execution_count": 73,
   "metadata": {
    "collapsed": false
   },
   "outputs": [
    {
     "data": {
      "text/html": [
       "<div>\n",
       "<style>\n",
       "    .dataframe thead tr:only-child th {\n",
       "        text-align: right;\n",
       "    }\n",
       "\n",
       "    .dataframe thead th {\n",
       "        text-align: left;\n",
       "    }\n",
       "\n",
       "    .dataframe tbody tr th {\n",
       "        vertical-align: top;\n",
       "    }\n",
       "</style>\n",
       "<table border=\"1\" class=\"dataframe\">\n",
       "  <thead>\n",
       "    <tr style=\"text-align: right;\">\n",
       "      <th></th>\n",
       "      <th>Correlation</th>\n",
       "      <th>num of ratings</th>\n",
       "    </tr>\n",
       "    <tr>\n",
       "      <th>title</th>\n",
       "      <th></th>\n",
       "      <th></th>\n",
       "    </tr>\n",
       "  </thead>\n",
       "  <tbody>\n",
       "    <tr>\n",
       "      <th>'Til There Was You (1997)</th>\n",
       "      <td>0.872872</td>\n",
       "      <td>9</td>\n",
       "    </tr>\n",
       "    <tr>\n",
       "      <th>1-900 (1994)</th>\n",
       "      <td>-0.645497</td>\n",
       "      <td>5</td>\n",
       "    </tr>\n",
       "    <tr>\n",
       "      <th>101 Dalmatians (1996)</th>\n",
       "      <td>0.211132</td>\n",
       "      <td>109</td>\n",
       "    </tr>\n",
       "    <tr>\n",
       "      <th>12 Angry Men (1957)</th>\n",
       "      <td>0.184289</td>\n",
       "      <td>125</td>\n",
       "    </tr>\n",
       "    <tr>\n",
       "      <th>187 (1997)</th>\n",
       "      <td>0.027398</td>\n",
       "      <td>41</td>\n",
       "    </tr>\n",
       "  </tbody>\n",
       "</table>\n",
       "</div>"
      ],
      "text/plain": [
       "                           Correlation  num of ratings\n",
       "title                                                 \n",
       "'Til There Was You (1997)     0.872872               9\n",
       "1-900 (1994)                 -0.645497               5\n",
       "101 Dalmatians (1996)         0.211132             109\n",
       "12 Angry Men (1957)           0.184289             125\n",
       "187 (1997)                    0.027398              41"
      ]
     },
     "execution_count": 73,
     "metadata": {},
     "output_type": "execute_result"
    }
   ],
   "source": [
    "corr_starwars = corr_starwars.join(ratings['num of ratings'])\n",
    "corr_starwars.head()"
   ]
  },
  {
   "cell_type": "code",
   "execution_count": 74,
   "metadata": {
    "collapsed": false
   },
   "outputs": [
    {
     "data": {
      "text/html": [
       "<div>\n",
       "<style>\n",
       "    .dataframe thead tr:only-child th {\n",
       "        text-align: right;\n",
       "    }\n",
       "\n",
       "    .dataframe thead th {\n",
       "        text-align: left;\n",
       "    }\n",
       "\n",
       "    .dataframe tbody tr th {\n",
       "        vertical-align: top;\n",
       "    }\n",
       "</style>\n",
       "<table border=\"1\" class=\"dataframe\">\n",
       "  <thead>\n",
       "    <tr style=\"text-align: right;\">\n",
       "      <th></th>\n",
       "      <th>Correlation</th>\n",
       "      <th>num of ratings</th>\n",
       "    </tr>\n",
       "    <tr>\n",
       "      <th>title</th>\n",
       "      <th></th>\n",
       "      <th></th>\n",
       "    </tr>\n",
       "  </thead>\n",
       "  <tbody>\n",
       "    <tr>\n",
       "      <th>Star Wars (1977)</th>\n",
       "      <td>1.000000</td>\n",
       "      <td>584</td>\n",
       "    </tr>\n",
       "    <tr>\n",
       "      <th>Empire Strikes Back, The (1980)</th>\n",
       "      <td>0.748353</td>\n",
       "      <td>368</td>\n",
       "    </tr>\n",
       "    <tr>\n",
       "      <th>Return of the Jedi (1983)</th>\n",
       "      <td>0.672556</td>\n",
       "      <td>507</td>\n",
       "    </tr>\n",
       "    <tr>\n",
       "      <th>Raiders of the Lost Ark (1981)</th>\n",
       "      <td>0.536117</td>\n",
       "      <td>420</td>\n",
       "    </tr>\n",
       "    <tr>\n",
       "      <th>Austin Powers: International Man of Mystery (1997)</th>\n",
       "      <td>0.377433</td>\n",
       "      <td>130</td>\n",
       "    </tr>\n",
       "    <tr>\n",
       "      <th>Sting, The (1973)</th>\n",
       "      <td>0.367538</td>\n",
       "      <td>241</td>\n",
       "    </tr>\n",
       "    <tr>\n",
       "      <th>Indiana Jones and the Last Crusade (1989)</th>\n",
       "      <td>0.350107</td>\n",
       "      <td>331</td>\n",
       "    </tr>\n",
       "    <tr>\n",
       "      <th>Pinocchio (1940)</th>\n",
       "      <td>0.347868</td>\n",
       "      <td>101</td>\n",
       "    </tr>\n",
       "    <tr>\n",
       "      <th>Frighteners, The (1996)</th>\n",
       "      <td>0.332729</td>\n",
       "      <td>115</td>\n",
       "    </tr>\n",
       "    <tr>\n",
       "      <th>L.A. Confidential (1997)</th>\n",
       "      <td>0.319065</td>\n",
       "      <td>297</td>\n",
       "    </tr>\n",
       "  </tbody>\n",
       "</table>\n",
       "</div>"
      ],
      "text/plain": [
       "                                                    Correlation  \\\n",
       "title                                                             \n",
       "Star Wars (1977)                                       1.000000   \n",
       "Empire Strikes Back, The (1980)                        0.748353   \n",
       "Return of the Jedi (1983)                              0.672556   \n",
       "Raiders of the Lost Ark (1981)                         0.536117   \n",
       "Austin Powers: International Man of Mystery (1997)     0.377433   \n",
       "Sting, The (1973)                                      0.367538   \n",
       "Indiana Jones and the Last Crusade (1989)              0.350107   \n",
       "Pinocchio (1940)                                       0.347868   \n",
       "Frighteners, The (1996)                                0.332729   \n",
       "L.A. Confidential (1997)                               0.319065   \n",
       "\n",
       "                                                    num of ratings  \n",
       "title                                                               \n",
       "Star Wars (1977)                                               584  \n",
       "Empire Strikes Back, The (1980)                                368  \n",
       "Return of the Jedi (1983)                                      507  \n",
       "Raiders of the Lost Ark (1981)                                 420  \n",
       "Austin Powers: International Man of Mystery (1997)             130  \n",
       "Sting, The (1973)                                              241  \n",
       "Indiana Jones and the Last Crusade (1989)                      331  \n",
       "Pinocchio (1940)                                               101  \n",
       "Frighteners, The (1996)                                        115  \n",
       "L.A. Confidential (1997)                                       297  "
      ]
     },
     "execution_count": 74,
     "metadata": {},
     "output_type": "execute_result"
    }
   ],
   "source": [
    "corr_starwars[corr_starwars['num of ratings']>100].sort_values('Correlation',ascending=False).head(10)"
   ]
  },
  {
   "cell_type": "code",
   "execution_count": null,
   "metadata": {
    "collapsed": true
   },
   "outputs": [],
   "source": []
  }
 ],
 "metadata": {
  "kernelspec": {
   "display_name": "Python 3",
   "language": "python",
   "name": "python3"
  },
  "language_info": {
   "codemirror_mode": {
    "name": "ipython",
    "version": 3
   },
   "file_extension": ".py",
   "mimetype": "text/x-python",
   "name": "python",
   "nbconvert_exporter": "python",
   "pygments_lexer": "ipython3",
   "version": "3.6.0"
  }
 },
 "nbformat": 4,
 "nbformat_minor": 2
}
