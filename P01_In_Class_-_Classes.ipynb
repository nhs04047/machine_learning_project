{
 "cells": [
  {
   "cell_type": "markdown",
   "metadata": {},
   "source": [
    "# Class\n",
    "\n",
    "Python is an object-oriented programming language, which means it manipulates programming\n",
    "constructs called objects. You can think of an object as a single data structure that contains data as\n",
    "well as functions; functions of objects are called methods. For example, any time you call\n",
    "```python\n",
    "len(\"Eric\")\n",
    "```\n",
    "Python is checking to see whether the string object you passed it has a length, and if it does, it returns\n",
    "the value associated with that attribute. When you call\n",
    "```python\n",
    "my_dict.items()\n",
    "```\n",
    "Python checks to see if my_dict has an items() method (which all dictionaries have) and executes that\n",
    "method if it finds it.\n",
    "\n",
    "But what makes \"Eric\" a string and my_dict a dictionary? The fact that they're instances of the str and\n",
    "dict classes, respectively. A class is just a way of organizing and producing objects with similar\n",
    "attributes and methods.\n",
    "\n",
    "<b>Instructions</b>\n",
    "> Check out the <b>Code</b> in the editor to the right. We've defined our own class, Fruit, and created a lemon\n",
    "instance.\n",
    "\n",
    "> When you're ready, run the <b>Code</b> to get started creating classes and objects of your own."
   ]
  },
  {
   "cell_type": "code",
   "execution_count": 14,
   "metadata": {
    "collapsed": false
   },
   "outputs": [
    {
     "name": "stdout",
     "output_type": "stream",
     "text": [
      "I'm a yellow lemon and I taste sour.\n",
      "Don't eat me! I am super poisonous.\n"
     ]
    }
   ],
   "source": [
    "class Fruit(object):\n",
    "    poisonous = False\n",
    "    \"\"\"A class that makes various tasty fruits.\"\"\"\n",
    "    def __init__(self, name, color, flavor, poisonous):\n",
    "        self.name = name\n",
    "        self.color = color\n",
    "        self.flavor = flavor\n",
    "        #self.poisonous = poisonous\n",
    "        Fruit.poisonous = poisonous\n",
    "\n",
    "    def description(self):\n",
    "        print(\"I'm a %s %s and I taste %s.\" % (self.color, self.name, self.flavor))\n",
    "    \n",
    "    @classmethod\n",
    "    def is_edible(cls):\n",
    "        if not cls.poisonous:\n",
    "            print(\"Yep! I'm edible.\")\n",
    "        else:\n",
    "            print(\"Don't eat me! I am super poisonous.\")\n",
    "\n",
    "#Fruit.is_edible()\n",
    "\n",
    "lemon = Fruit(\"lemon\", \"yellow\", \"sour\", True)\n",
    "\n",
    "lemon.description()\n",
    "lemon.is_edible()"
   ]
  },
  {
   "cell_type": "markdown",
   "metadata": {},
   "source": [
    "# 2. Syntax\n",
    "A basic class consists only of the class keyword, the name of the class, and the class from which the new class inherits in parentheses. (We'll get to inheritance soon.) For now, our classes will inherit from the object class, like so:\n",
    "```python\n",
    "class NewClass(object):\n",
    "    # Class magic here\n",
    "```    \n",
    "This gives them the powers and abilities of a Python object. By convention, user-defined Python class names start with a capital letter.\n",
    "\n",
    "<b>Instructions</b>\n",
    "> Create a class called Animal in the editor. For now, in the body of your class, use the pass keyword. (pass doesn't do anything, but it's useful as a placeholder in areas of your <b>Code</b> where Python expects an expression.)\n"
   ]
  },
  {
   "cell_type": "code",
   "execution_count": 2,
   "metadata": {
    "collapsed": true
   },
   "outputs": [],
   "source": [
    "class Animal(object):\n",
    "    pass"
   ]
  },
  {
   "cell_type": "markdown",
   "metadata": {},
   "source": [
    "# 3. Classes\n",
    "We'd like our classes to do more than... well, nothing, so we'll have to replace our pass with\n",
    "something else.\n",
    "\n",
    "You may have noticed in our example back in the first exercise that we started our class definition off\n",
    "with an odd-looking function: `__init__()`. This function is required for classes, and it's used to initialize\n",
    "the objects it creates. `__init__()` always takes at least one argument, self, that refers to the object\n",
    "being created. You can think of `__init__()` as the function that \"boots up\" each object the class\n",
    "creates.\n",
    "\n",
    "<b>Instructions</b>\n",
    "> Remove the pass statement in your class definition, then go ahead and define an `__init__()` function\n",
    "for your Animal class. Pass it the argument self for now; we'll explain how this works in greater detail\n",
    "in the next section. Finally, put the pass into the body of the `__init__()` definition, since it will expect an\n",
    "indented block.\n",
    "\n",
    "<b>Hint</b>\n",
    "> Your <b>`__init__()`</b> function should look something like this:\n"
   ]
  },
  {
   "cell_type": "code",
   "execution_count": 3,
   "metadata": {
    "collapsed": true
   },
   "outputs": [],
   "source": [
    "def __init__(self):\n",
    "    pass"
   ]
  },
  {
   "cell_type": "markdown",
   "metadata": {},
   "source": [
    "# 4. Class Definition\n",
    "Excellent! Let's make one more tweak to our class definition, then go ahead and instantiate (create)\n",
    "our first object.\n",
    "\n",
    "So far, `__init__()` only takes one parameter: self. This is a Python convention; there's nothing magic\n",
    "about the word self. However, it's overwhelmingly common to use self as the first parameter in\n",
    "`__init__()`, so you should do this so that other people will understand your `<Code>`.\n",
    "\n",
    "The part that is magic is the fact that self is the first parameter passed to `__init__()`. Python will use\n",
    "the first parameter that `__init__()` receives to refer to the object being created; this is why it's often\n",
    "called self, since this parameter gives the object being created its identity.\n",
    "\n",
    "<b>Instructions</b>\n",
    "> Let's do two things in the editor:\n",
    "\n",
    "> Pass `__init__()` a second parameter, name.\n",
    "In the body of `__init__()`, let the function know that name refers to the created object's name by typing\n",
    "self.name = name. (This will become crystal clear in the next section.)\n",
    "\n",
    "<b>Hint</b>\n",
    "> Your syntax should look like this:\n",
    "> ```python\n",
    "class Animal(object):\n",
    "    def __init__(self, name):\n",
    "        # Set the name parameter here!\n",
    "```"
   ]
  },
  {
   "cell_type": "code",
   "execution_count": 4,
   "metadata": {
    "collapsed": true
   },
   "outputs": [],
   "source": [
    "class Animal(object):\n",
    "    def __init__(self, name):\n",
    "        self.name = name"
   ]
  },
  {
   "cell_type": "markdown",
   "metadata": {},
   "source": [
    "# 5. Instantiating Object\n",
    "Perfect! Now we're ready to start creating objects.\n",
    "\n",
    "We can access attributes of our objects using dot notation Here's how it works:\n",
    "```python\n",
    "class Square(object):\n",
    "  def __init__(self):\n",
    "    self.sides = 4\n",
    "\n",
    "my_shape = Square()\n",
    "print(my_shape.sides)\n",
    "```\n",
    "First we create a class named Square with an attribute sides.\n",
    "Outside the class definition, we create a new instance of Square named my_shape and access that\n",
    "attribute using my_shape.sides.\n",
    "\n",
    "<b>Instructions</b>\n",
    "> Outside the Animal class definition, create a variable named zebra and set it equal to Animal(\"Jeffrey\").\n",
    "Then print out zebra's name.\n",
    "\n",
    "<b>Hint</b>\n",
    "> You can create a new Animal object named \"Jeffrey\" like this:\n",
    "> ```python\n",
    "zebra = Animal(\"Jeffrey\")\n",
    "# You can print out \"Jeffrey\"'s name like this:\n",
    "print(zebra.name)\n",
    "```"
   ]
  },
  {
   "cell_type": "code",
   "execution_count": 5,
   "metadata": {
    "collapsed": false
   },
   "outputs": [
    {
     "name": "stdout",
     "output_type": "stream",
     "text": [
      "Jeffrey\n"
     ]
    }
   ],
   "source": [
    "class Animal(object):\n",
    "    def __init__(self, name):\n",
    "        self.name = name\n",
    "\n",
    "zebra = Animal(\"Jeffrey\")\n",
    "print(zebra.name)"
   ]
  },
  {
   "cell_type": "markdown",
   "metadata": {},
   "source": [
    "# 6. `__init__()` and self\n",
    "Now that you're starting to understand how classes and objects work, it's worth delving a bit more into\n",
    "`__init__()` and self. They can be confusing!\n",
    "\n",
    "As mentioned, you can think of `__init__()` as the method that \"boots up\" a class' instance object: the\n",
    "init bit is short for \"initialize.\"\n",
    "\n",
    "The first argument `__init__()` gets is used to refer to the instance object, and by convention, that\n",
    "argument is called self. If you add additional arguments—for instance, a name and age for your\n",
    "animal—setting each of those equal to self.name and self.age in the body of `__init__()` will make it so\n",
    "that when you create an instance object of your Animal class, you need to give each instance a name\n",
    "and an age, and those will be associated with the particular instance you create.\n",
    "\n",
    "<b>Instructions</b>\n",
    "> Check out the examples in the editor. See how `__init__()` \"boots up\" each object to expect a name\n",
    "and an age, then uses self.name and self.age to assign those names and ages to each object? Add a\n",
    "third attribute, is_hungry to `__init__()`, and run the `<Code>` to see the results.\n",
    "\n",
    "<b>Hint</b>\n",
    "> Your `<Code>` should look something like this:\n",
    "> ```python\n",
    "def __init__(self, name, age, is_hungry)\n",
    "    self.name = name\n",
    "    self.age = age\n",
    "    self.is_hungry = is_hungry\n",
    "```"
   ]
  },
  {
   "cell_type": "code",
   "execution_count": 8,
   "metadata": {
    "collapsed": false
   },
   "outputs": [
    {
     "name": "stdout",
     "output_type": "stream",
     "text": [
      "<Animal Class : Jeffrey, 2, True>\n"
     ]
    }
   ],
   "source": [
    "# Class definition\n",
    "class Animal(object):\n",
    "    \"\"\"Makes cute animals.\"\"\"\n",
    "    # For initializing our instance objects\n",
    "    def __init__(self, name, age, is_hungry):\n",
    "        self.name = name\n",
    "        self.age = age\n",
    "        self.is_hungry = is_hungry\n",
    "        \n",
    "    def __repr__(self):\n",
    "        return \"<Animal Class : {}, {}, {}>\".format(self.name, self.age, self.is_hungry)\n",
    "\n",
    "# Note that self is only used in the __init__()\n",
    "# function definition; we don't need to pass it\n",
    "# to our instance objects.\n",
    "\n",
    "zebra = Animal(\"Jeffrey\", 2, True)\n",
    "giraffe = Animal(\"Bruce\", 1, False)\n",
    "panda = Animal(\"Chad\", 7, True)\n",
    "\n",
    "print(zebra)\n",
    "#print(zebra.name, zebra.age, zebra.is_hungry)\n",
    "#print(giraffe.name, giraffe.age, giraffe.is_hungry)\n",
    "#print(panda.name, panda.age, panda.is_hungry)"
   ]
  },
  {
   "cell_type": "markdown",
   "metadata": {},
   "source": [
    "# 7. Scope\n",
    "Another important aspect of Python classes is scope. The scope of a variable is the context in which\n",
    "it's visible to the program.\n",
    "\n",
    "It may surprise you to learn that not all variables are accessible to all parts of a Python program at all\n",
    "times. When dealing with classes, you can have variables that are available everywhere (global\n",
    "variables), variables that are only available to members of a certain class (member variables), and\n",
    "variables that are only available to particular instances of a class (instance variables).\n",
    "\n",
    "The same goes for functions: some are available everywhere, some are only available to members of\n",
    "a certain class, and still others are only available to particular instance objects.\n",
    "\n",
    "<b>Instructions</b>\n",
    "> Check out the `<Code>` in the editor. Note that each individual animal gets its own name and age (since\n",
    "they're all initialized individually), but they all have access to the member variable is_alive, since\n",
    "they're all members of the Animal class. Run the `<Code>` to see the output!\n"
   ]
  },
  {
   "cell_type": "code",
   "execution_count": 8,
   "metadata": {
    "collapsed": false
   },
   "outputs": [
    {
     "name": "stdout",
     "output_type": "stream",
     "text": [
      "Jeffrey 2 True\n",
      "Bruce 1 False\n",
      "Chad 7 True\n"
     ]
    }
   ],
   "source": [
    "class Animal(object):\n",
    "    \"\"\"Makes cute animals.\"\"\"\n",
    "    is_alive = True\n",
    "    def __init__(self, name, age, is_alive):\n",
    "        self.name = name\n",
    "        self.age = age\n",
    "        self.is_alive = is_alive\n",
    "\n",
    "zebra = Animal(\"Jeffrey\", 2, True)\n",
    "giraffe = Animal(\"Bruce\", 1, False)\n",
    "panda = Animal(\"Chad\", 7, True)\n",
    "\n",
    "print(zebra.name, zebra.age, zebra.is_alive)\n",
    "print(giraffe.name, giraffe.age, giraffe.is_alive)\n",
    "print(panda.name, panda.age, panda.is_alive)"
   ]
  },
  {
   "cell_type": "markdown",
   "metadata": {},
   "source": [
    "# 8. Methods\n",
    "When a class has its own functions, those functions are called methods. You've already seen one\n",
    "such method: `__init__()`. But you can also define your own methods!\n",
    "\n",
    "<b>Instructions</b>\n",
    "> Add a method, description, to your Animal class. Using two separate print statements, it should print\n",
    "out the name and age of the animal it's called on. Then, create an instance of Animal, hippo (with\n",
    "whatever name and age you like), and call its description method.\n",
    "\n",
    "<b>Hint</b>\n",
    "> Remember to pass self as an argument to description. Otherwise, printing self.name and self.age\n",
    "won't work, since Python won't know which self (that is, which object) you're talking about!\n",
    "\n",
    "> Your method should look something like this:\n",
    "> ```python\n",
    "def description(self):\n",
    "    print(self.name)\n",
    "    print(self.age)\n",
    "```\n",
    "> After that, all you need to do is create a hippo and call its description method with hippo.description()!\n"
   ]
  },
  {
   "cell_type": "code",
   "execution_count": 9,
   "metadata": {
    "collapsed": false
   },
   "outputs": [
    {
     "name": "stdout",
     "output_type": "stream",
     "text": [
      "Hippo\n",
      "2\n",
      "None\n"
     ]
    }
   ],
   "source": [
    "class Animal(object):\n",
    "    \"\"\"Makes cute animals.\"\"\"\n",
    "    is_alive = True\n",
    "    def __init__(self, name, age):\n",
    "        self.name = name\n",
    "        self.age = age\n",
    "    # Add your method here!\n",
    "    def description(self):\n",
    "        print(self.name)\n",
    "        print(self.age)\n",
    "        \n",
    "hippo = Animal(\"Hippo\", 2)\n",
    "print(hippo.description())"
   ]
  },
  {
   "cell_type": "markdown",
   "metadata": {},
   "source": [
    "# 9. Members\n",
    "A class can have any number of member variables. These are variables that are available to all\n",
    "members of a class.\n",
    "```python\n",
    "hippo = Animal(\"Jake\", 12)\n",
    "cat = Animal(\"Boots\", 3)\n",
    "print(hippo.is_alive)\n",
    "hippo.is_alive = False\n",
    "print(hippo.is_alive)\n",
    "print(cat.is_alive)\n",
    "```\n",
    "In the example above, we create two instances of an Animal.\n",
    "Then we print out True, the default value stored in hippo's is_alive member variable.\n",
    "Next, we set that to False and print it out to make sure.\n",
    "Finally, we print out True, the value stored in cat's is_alive member variable. We only changed the\n",
    "variable in hippo, not in cat.\n",
    "Let's add another member variable to Animal.\n",
    "\n",
    "<b>Instructions</b>\n",
    "> After line 3, add a second member variable called health that contains the string \"good\".\n",
    "Then, create two new Animals: sloth and ocelot. (Give them whatever names and ages you like.)\n",
    "Finally, on three separate lines, print out the health of your hippo, sloth, and ocelot.\n",
    "\n",
    "<b>Hint</b>\n",
    "> You can add your member variable right under is_alive, like so:\n",
    "> ```python\n",
    "is_alive = True\n",
    "health   = \"good\"\n",
    "# You can print out your hippo's health with\n",
    "print(hippo.health)\n",
    "```"
   ]
  },
  {
   "cell_type": "code",
   "execution_count": 16,
   "metadata": {
    "collapsed": false
   },
   "outputs": [
    {
     "name": "stdout",
     "output_type": "stream",
     "text": [
      "Hippo\n",
      "2\n",
      "None\n"
     ]
    },
    {
     "data": {
      "text/plain": [
       "'\\nsloth = Animal(\"Sloth\", 4)\\nocelot = Animal(\"Ocelot\", 5)\\n\\nprint(hippo.health)\\nprint(sloth.health)\\nprint(ocelot.health)\\n'"
      ]
     },
     "execution_count": 16,
     "metadata": {},
     "output_type": "execute_result"
    }
   ],
   "source": [
    "class Animal(object):\n",
    "    \"\"\"Makes cute animals.\"\"\"\n",
    "    is_alive = True\n",
    "    health = \"good\"\n",
    "    def __init__(self, name, age):\n",
    "        self.name = name\n",
    "        self.age = age\n",
    "    # Add your method here!\n",
    "    def description(self):\n",
    "        print(self.name)\n",
    "        print(self.age)\n",
    "        \n",
    "hippo = Animal(\"Hippo\", 2)\n",
    "print(hippo.description())\n",
    "\n",
    "'''\n",
    "sloth = Animal(\"Sloth\", 4)\n",
    "ocelot = Animal(\"Ocelot\", 5)\n",
    "\n",
    "print(hippo.health)\n",
    "print(sloth.health)\n",
    "print(ocelot.health)\n",
    "'''"
   ]
  },
  {
   "cell_type": "markdown",
   "metadata": {},
   "source": [
    "# 10. Objects\n",
    "Classes like Animal and Fruit make it easy to understand the concepts of classes and instances, but\n",
    "you probably won't see many zebras or lemons in real-world programs.\n",
    "\n",
    "However, classes and objects are often used to model real-world objects. The `<Code>` in the editor is\n",
    "a more realistic demonstration of the kind of classes and objects you might find in commercial\n",
    "software. Here we have a basic ShoppingCart class for creating shopping cart objects for website\n",
    "customers; though basic, it's similar to what you'd see in a real program.\n",
    "\n",
    "<b>Instructions</b>\n",
    "> Create an instance of ShoppingCart called my_cart. Initialize it with any values you like, then use the\n",
    "add_item method to add an item to your cart.\n",
    "\n",
    "<b>Hint</b>\n",
    "> Since the ShoppingCart class has an `__init__()` method that takes a customer name, I'd create my\n",
    "cart like so:\n",
    "> ```python\n",
    "my_cart = ShoppingCart(\"Eric\")\n",
    "Calling the add_item() method might then be:\n",
    "\n",
    "> my_cart.add_item(\"Ukelele\", 10)\n",
    "```"
   ]
  },
  {
   "cell_type": "code",
   "execution_count": 16,
   "metadata": {
    "collapsed": false
   },
   "outputs": [
    {
     "name": "stdout",
     "output_type": "stream",
     "text": [
      "Eric added.\n",
      "Jason added.\n",
      "{'Jason': 90}\n"
     ]
    }
   ],
   "source": [
    "class ShoppingCart(object):\n",
    "    \"\"\"Creates shopping cart objects\n",
    "    for users of our fine website.\"\"\"\n",
    "    #items_in_cart = {}\n",
    "    def __init__(self, customer_name):\n",
    "        self.customer_name = customer_name\n",
    "        self.items_in_cart = {}\n",
    "\n",
    "    def add_item(self, product, price):\n",
    "        \"\"\"Add product to the cart.\"\"\"\n",
    "        if not product in self.items_in_cart:\n",
    "            self.items_in_cart[product] = price\n",
    "            print(product + \" added.\")\n",
    "        else:\n",
    "            print(product + \" is already in the cart.\")\n",
    "\n",
    "    def remove_item(self, product):\n",
    "        \"\"\"Remove product from the cart.\"\"\"\n",
    "        if product in self.items_in_cart:\n",
    "            del self.items_in_cart[product]\n",
    "            print(product + \" removed.\")\n",
    "        else:\n",
    "            print(product + \" is not in the cart.\")\n",
    "\n",
    "my_cart_0 = ShoppingCart(\"Eric\")\n",
    "my_cart_1 = ShoppingCart(\"Jason\")\n",
    "my_cart_0.add_item(\"Eric\", 10)\n",
    "my_cart_1.add_item(\"Jason\", 90)\n",
    "print(my_cart_1.items_in_cart)"
   ]
  },
  {
   "cell_type": "markdown",
   "metadata": {},
   "source": [
    "# 11. Inheritance\n",
    "Inheritance is a tricky concept, so let's go through it step by step.\n",
    "\n",
    "Inheritance is the process by which one class takes on the attributes and methods of another, and it’s\n",
    "used to express an is-a relationship. For example, a Panda is a bear, so a Panda class could inherit\n",
    "from a Bear class. However, a Toyota is not a Tractor, so it shouldn't inherit from the Tractor class\n",
    "(even if they have a lot of attributes and methods in common). Instead, both Toyota and Tractor could\n",
    "ultimately inherit from the same Vehicle class.\n",
    "\n",
    "<b>Instructions</b>\n",
    "> Check out the `<Code>` in the editor. We've defined a class, Customer, as well as a ReturningCustomer\n",
    "class that inherits from Customer. Note that we don't define the display_cart method in the body of\n",
    "ReturningCustomer, but it will still have access to that method via inheritance. Run the `<Code>` to see\n",
    "for yourself!\n"
   ]
  },
  {
   "cell_type": "code",
   "execution_count": 12,
   "metadata": {
    "collapsed": false
   },
   "outputs": [
    {
     "name": "stdout",
     "output_type": "stream",
     "text": [
      "I'm a string that stands in for the contents of your shopping cart!\n",
      "I'm a string that stands in for your order history!\n"
     ]
    }
   ],
   "source": [
    "class Customer(object):\n",
    "    \"\"\"Produces objects that represent customers.\"\"\"\n",
    "    def __init__(self, customer_id):\n",
    "        self.customer_id = customer_id\n",
    "\n",
    "    def display_cart(self):\n",
    "        print(\"I'm a string that stands in for the contents of your shopping cart!\")\n",
    "\n",
    "class ReturningCustomer(Customer):\n",
    "    \"\"\"For customers of the repeat variety.\"\"\"\n",
    "    def display_order_history(self):\n",
    "        print(\"I'm a string that stands in for your order history!\")\n",
    "\n",
    "monty_python = ReturningCustomer(\"ID: 12345\")\n",
    "monty_python.display_cart()\n",
    "monty_python.display_order_history()"
   ]
  },
  {
   "cell_type": "markdown",
   "metadata": {},
   "source": [
    "# 12. Inheritance Syntax\n",
    "\n",
    "In Python, inheritance works like this:\n",
    "```python\n",
    "class DerivedClass(BaseClass):\n",
    "    # <Code> goes here\n",
    "```\n",
    "where DerivedClass is the new class you're making and BaseClass is the class from which that new\n",
    "class inherits.\n",
    "\n",
    "<b>Instructions</b>\n",
    "> On lines 1-4, we've created a class named Shape.\n",
    "\n",
    "> Create your own class, Triangle, that inherits from Shape, like this:\n",
    "> ```python\n",
    "class Triangle(Shape):\n",
    "    # <Code> goes here\n",
    "```\n",
    "> Inside the Triangle class, write an `__init__()` function that takes four arguments: self, side1, side2, and\n",
    "side3.\n",
    "\n",
    "> Inside the `__init__()` function, set self.side1 = side1, self.side2 = side2, and self.side3 = side3.\n",
    "\n",
    "<b>Hint</b>\n",
    "> Your `<Code>` should look something like this:\n",
    "> ```python\n",
    "class Triangle(Shape):\n",
    "    def __init__(self, side1, side2, side3):\n",
    "       self.side1 = side1\n",
    "       self.side2 = side2\n",
    "       self.side3 = side3\n",
    "```"
   ]
  },
  {
   "cell_type": "code",
   "execution_count": 17,
   "metadata": {
    "collapsed": true
   },
   "outputs": [],
   "source": [
    "class Shape(object):\n",
    "    \"\"\"Makes shapes!\"\"\"\n",
    "    def __init__(self, number_of_sides):\n",
    "        self.number_of_sides = number_of_sides\n",
    "\n",
    "# Add your Triangle class below!\n",
    "class Triangle(Shape):\n",
    "    def __init__(self, side1, side2, side3):\n",
    "        super.__init__()\n",
    "        self.side1 = side1\n",
    "        self.side2 = side2\n",
    "        self.side3 = side3"
   ]
  },
  {
   "cell_type": "markdown",
   "metadata": {},
   "source": [
    "# 13. Method Override\n",
    "Sometimes you'll want one class that inherits from another to not only take on the methods and\n",
    "attributes of its parent, but to override one or more of them.\n",
    "```python\n",
    "class Employee(object):\n",
    "    def __init__(self, name):\n",
    "        self.name = name\n",
    "    def greet(self, other):\n",
    "        print \"Hello, %s\" % other.name\n",
    "\n",
    "class CEO(Employee):\n",
    "    def greet(self, other):\n",
    "        print \"Get back to work, %s!\" % other.name\n",
    "\n",
    "ceo = CEO(\"Emily\")\n",
    "emp = Employee(\"Steve\")\n",
    "emp.greet(ceo)\n",
    "# Hello, Emily\n",
    "ceo.greet(emp)\n",
    "# Get back to work, Steve!\n",
    "```\n",
    "Rather than have a separate greet_underling method for our CEO, we override (or re-create) the\n",
    "greet method on top of the base Employee.greet method. This way, we don't need to know what type\n",
    "of Employee we have before we greet another Employee.\n",
    "\n",
    "<b>Instructions</b>\n",
    "> Create a new class, PartTimeEmployee, that inherits from Employee.\n",
    "Give your derived class a calculate_wage method that overrides Employee's. It should take self and\n",
    "hours as arguments.\n",
    "Because PartTimeEmployee.calculate_wage overrides Employee.calculate_wage, it still needs to set\n",
    "self.hours = hours.\n",
    "It should return the part-time employee's number of hours worked multiplied by 12.00 (that is, they get\n",
    "`$`12.00 per hour instead of `$`20.00).\n",
    "\n",
    "<b>Hint</b>\n",
    "> In the example `<Code>` above, we created an overriding CEO.greet method. It had the same arguments\n",
    "as Employee.greet.You'll want to add a calculate_wage() method to your PartTimeEmployee class,\n",
    "and it should also take self and hours as arguments. Instead of returning hours `*` 20.00, though, it\n",
    "should return hours `*` 12.00.\n"
   ]
  },
  {
   "cell_type": "code",
   "execution_count": 14,
   "metadata": {
    "collapsed": true
   },
   "outputs": [],
   "source": [
    "class Employee(object):\n",
    "    \"\"\"Models real-life employees!\"\"\"\n",
    "    def __init__(self, employee_name):\n",
    "        self.employee_name = employee_name\n",
    "\n",
    "    def calculate_wage(self, hours):\n",
    "        self.hours = hours\n",
    "        return hours * 20.00\n",
    "\n",
    "# Add your <Code> below!\n",
    "class PartTimeEmployee(Employee):\n",
    "    def calculate_wage(self, hours):\n",
    "        self.hours = hours\n",
    "        return hours * 12.00"
   ]
  },
  {
   "cell_type": "markdown",
   "metadata": {},
   "source": [
    "# 14. Super Class\n",
    "On the flip side, sometimes you'll be working with a derived class (or subclass) and realize that you’ve\n",
    "overwritten a method or attribute defined in that class' base class (also called a parent or superclass)\n",
    "that you actually need. Have no fear! You can directly access the attributes or methods of a\n",
    "superclass with Python's built-in super call.\n",
    "\n",
    "The syntax looks like this:\n",
    "```python\n",
    "class Derived(Base):\n",
    "   def m(self):\n",
    "       return super(Derived, self).m()\n",
    "```       \n",
    "Where m() is a method from the base class.\n",
    "\n",
    "<b>Instructions</b>\n",
    "> First, inside your PartTimeEmployee class:\n",
    "\n",
    "> Add a new method called full_time_wage with the arguments self and hours.\n",
    "That method should return the result of a super call to the calculate_wage method of\n",
    "PartTimeEmployee's parent class. Use the example above for help.\n",
    "\n",
    "> Then, after your class:\n",
    "\n",
    "> Create an instance of the PartTimeEmployee class called milton. Don't forget to give it a name.\n",
    "Finally, print out the result of calling his full_time_wage method. You should see his wage printed out\n",
    "at `$`20.00 per hour! (That is, for 10 hours, the result should be 200.00.)\n",
    "\n",
    "<b>Hint</b>\n",
    "> You super call should look something like this:\n",
    "> ```python\n",
    "def full_time_wage(self, hours):\n",
    "    return super(PartTimeEmployee, self).method(args)\n",
    "```\n",
    "> Where method is the method you want (calculate_wage) and args are the arguments that method\n",
    "takes.\n"
   ]
  },
  {
   "cell_type": "code",
   "execution_count": 15,
   "metadata": {
    "collapsed": false
   },
   "outputs": [
    {
     "name": "stdout",
     "output_type": "stream",
     "text": [
      "200.0\n"
     ]
    }
   ],
   "source": [
    "class Employee(object):\n",
    "    \"\"\"Models real-life employees!\"\"\"\n",
    "    def __init__(self, employee_name):\n",
    "        self.employee_name = employee_name\n",
    "\n",
    "    def calculate_wage(self, hours):\n",
    "        self.hours = hours\n",
    "        return hours * 20.00\n",
    "\n",
    "# Add your <Code> below!\n",
    "class PartTimeEmployee(Employee):\n",
    "    def calculate_wage(self, hours):\n",
    "        self.hours = hours\n",
    "        return hours * 12.00\n",
    "    \n",
    "    def full_time_wage(self, hours):\n",
    "        return super(PartTimeEmployee, self).calculate_wage(hours)\n",
    "        \n",
    "milton = PartTimeEmployee(\"milton\")\n",
    "print(milton.full_time_wage(10))"
   ]
  },
  {
   "cell_type": "markdown",
   "metadata": {},
   "source": [
    "# 15. Class Basics\n",
    "First things first: let's create a class to work with.\n",
    "\n",
    "<b>Instructions</b>\n",
    "> Create a class, Triangle. Its `__init__()` method should take self, angle1, angle2, and angle3 as\n",
    "arguments. Make sure to set these appropriately in the body of the `__init__()` method (see the `<Hint>` for\n",
    "more).\n",
    "\n",
    "<b>Hint</b>\n",
    "> Make sure your Triangle inherits from object. Remember, class syntax looks like this:\n",
    "> ```python\n",
    "class ClassName(object):\n",
    "    def __init__(args):\n",
    "        # Set self.args = args\n",
    "```"
   ]
  },
  {
   "cell_type": "code",
   "execution_count": 16,
   "metadata": {
    "collapsed": true
   },
   "outputs": [],
   "source": [
    "class Triangle(object):\n",
    "    def __init__(self, angle1, angle2, angle3):\n",
    "        self.angle1 = angle1\n",
    "        self.angle2 = angle2\n",
    "        self.angle3 = angle3"
   ]
  },
  {
   "cell_type": "markdown",
   "metadata": {},
   "source": [
    "# 16. Member Variable and Method\n",
    "Great! Now let's add a member variable and a method to our class.\n",
    "\n",
    "<b>Instructions</b>\n",
    "> Inside the Triangle class:\n",
    "\n",
    "> - Create a variable named number_of_sides and set it equal to 3.\n",
    "- Create a method named check_angles. The sum of a triangle's three angles should return True if the\n",
    "sum of self.angle1, self.angle2, and self.angle3 is equal 180, and False otherwise.\n",
    "\n",
    "<b>Hint</b>\n",
    "> The check_angles method should look something like this:\n",
    "> ```python\n",
    "def check_angles(self):\n",
    "  if self.angle1+self.angle2+self.angle3==180:\n",
    "    return True\n",
    "  else:\n",
    "    return False\n",
    "```"
   ]
  },
  {
   "cell_type": "code",
   "execution_count": 17,
   "metadata": {
    "collapsed": true
   },
   "outputs": [],
   "source": [
    "class Triangle(object):\n",
    "    number_of_sides = 3\n",
    "    \n",
    "    def __init__(self, angle1, angle2, angle3):\n",
    "        self.angle1 = angle1\n",
    "        self.angle2 = angle2\n",
    "        self.angle3 = angle3\n",
    "    \n",
    "    def check_angles(self):\n",
    "        if (self.angle1 + self.angle2 + self.angle3) == 180:\n",
    "            return True\n",
    "        else:\n",
    "            return False"
   ]
  },
  {
   "cell_type": "markdown",
   "metadata": {},
   "source": [
    "# 17. Example\n",
    "Good work! As a store manager, you’re also in charge of keeping track of your stock/inventory.\n",
    "\n",
    "<b>Instructions</b>\n",
    "> Create a stock dictionary with the values below.\n",
    "> ```python\n",
    "\"banana\": 6\n",
    "\"apple\": 0\n",
    "\"orange\": 32\n",
    "\"pear\": 15\n",
    "```\n",
    "\n",
    "<b>Hint</b>\n",
    "> Remember to use curly braces to make a dictionary. Don't forget to separate each key/value pair with a comma!\n"
   ]
  },
  {
   "cell_type": "code",
   "execution_count": 18,
   "metadata": {
    "collapsed": true
   },
   "outputs": [],
   "source": [
    "rices = {\n",
    "    \"banana\" : 4,\n",
    "    \"apple\": 2,\n",
    "    \"orange\": 1.5,\n",
    "    \"pear\": 3    \n",
    "}\n",
    "\n",
    "stock = {\n",
    "    \"banana\" : 6,\n",
    "    \"apple\": 0,\n",
    "    \"orange\": 32,\n",
    "    \"pear\": 15    \n",
    "}"
   ]
  },
  {
   "cell_type": "markdown",
   "metadata": {},
   "source": [
    "# 18. Instantiate an Object\n",
    "Let's go ahead and create an instance of our Triangle class.\n",
    "\n",
    "<b>Instructions</b>\n",
    "> _ Create a variable named my_triangle and set it equal to a new instance of your Triangle class. Pass it\n",
    "three angles that sum to 180 (e.g. 90, 30, 60).\n",
    "- Print out my_triangle.number_of_sides\n",
    "- Print out my_triangle.check_angles()\n",
    "\n",
    "<b>Hint</b>\n",
    "> Remember, we can instantiate an object like so:\n",
    "> ```python\n",
    "instance = Class(args)\n",
    "```\n",
    "> Where args are the arguments `__init__()` takes, not including self.\n"
   ]
  },
  {
   "cell_type": "code",
   "execution_count": 19,
   "metadata": {
    "collapsed": false
   },
   "outputs": [
    {
     "name": "stdout",
     "output_type": "stream",
     "text": [
      "3\n",
      "True\n"
     ]
    }
   ],
   "source": [
    "class Triangle(object):\n",
    "    number_of_sides = 3\n",
    "    \n",
    "    def __init__(self, angle1, angle2, angle3):\n",
    "        self.angle1 = angle1\n",
    "        self.angle2 = angle2\n",
    "        self.angle3 = angle3\n",
    "    \n",
    "    def check_angles(self):\n",
    "        if (self.angle1 + self.angle2 + self.angle3) == 180:\n",
    "            return True\n",
    "        else:\n",
    "            return False\n",
    "            \n",
    "my_triangle = Triangle(90, 30, 60)\n",
    "print(my_triangle.number_of_sides)\n",
    "print(my_triangle.check_angles())"
   ]
  },
  {
   "cell_type": "markdown",
   "metadata": {},
   "source": [
    "# 19. Inheritance in Example\n",
    "Finally, let's create an Equilateral class that inherits from our Triangle class. (An equilateral triangle is\n",
    "a triangle whose angles are all 60˚, which also means that its three sides are equal in length.)\n",
    "\n",
    "<b>Instructions</b>\n",
    "> - Create a class named Equilateral that inherits from Triangle.\n",
    "- Inside Equilateral, create a member variable named angle and set it equal to 60.\n",
    "- Create an `__init__()` function with only the parameter self, and set self.angle1, self.angle2, and\n",
    "self.angle3 equal to self.angle (since an equilateral triangle's angles will always be 60`˚`).\n",
    "\n",
    "<b>Hint</b>\n",
    "> Remember, inheritance looks like this:\n",
    "> ```python\n",
    "class DerivedClass(BaseClass):\n",
    "    # Your <Code> here\n",
    "```\n",
    "> where DerivedClass is the new class you're making, and BaseClass is the class it inherits from"
   ]
  },
  {
   "cell_type": "code",
   "execution_count": 20,
   "metadata": {
    "collapsed": false
   },
   "outputs": [
    {
     "name": "stdout",
     "output_type": "stream",
     "text": [
      "3\n",
      "True\n"
     ]
    }
   ],
   "source": [
    "class Triangle(object):\n",
    "    number_of_sides = 3\n",
    "    \n",
    "    def __init__(self, angle1, angle2, angle3):\n",
    "        self.angle1 = angle1\n",
    "        self.angle2 = angle2\n",
    "        self.angle3 = angle3\n",
    "    \n",
    "    def check_angles(self):\n",
    "        if (self.angle1 + self.angle2 + self.angle3) == 180:\n",
    "            return True\n",
    "        else:\n",
    "            return False\n",
    "\n",
    "class Equilateral(Triangle):\n",
    "    angle = 60\n",
    "    def __init__(self):\n",
    "        self.angle1 = self.angle\n",
    "        self.angle2 = self.angle\n",
    "        self.angle3 = self.angle\n",
    "        \n",
    "my_triangle = Triangle(90, 30, 60)\n",
    "print(my_triangle.number_of_sides)\n",
    "print(my_triangle.check_angles())"
   ]
  },
  {
   "cell_type": "markdown",
   "metadata": {},
   "source": [
    "# 20. Building classes\n",
    "Chances are, you won't be designing Car classes in the real world anytime soon. Usually, classes are\n",
    "most useful for holding and accessing abstract collections of data.\n",
    "\n",
    "One useful class method to override is the built-in `__repr__()` method, which is short for\n",
    "representation; by providing a return value in this method, we can tell Python how to represent an\n",
    "object of our class (for instance, when using a print statement).\n",
    "\n",
    "<b>Instructions</b>\n",
    "> - Define a Point3D class that inherits from object\n",
    "- Inside the Point3D class, define an __init__() function that accepts self, x, y, and z, and assigns these\n",
    "numbers to the member variables self.x, self.y, self.z\n",
    "- Define a `__repr__()` method that returns \"(`%`d, `%`d, `%`d)\" % (self.x, self.y, self.z). This tells Python to\n",
    "represent this object in the following format: (x, y, z).\n",
    "- Outside the class definition, create a variable named my_point containing a new instance of Point3D\n",
    "with x=1, y=2, and z=3.\n",
    "- Finally, print my_point.\n",
    "\n",
    "<b>Hint</b>\n",
    "> When defining a new `__repr__()`, return a string value that uses the member variables of the class to\n",
    "display the 3D point properly. You can use the str() function to put these numbers in the proper string.\n",
    "\n",
    "> For advanced users: For more information on `__repr__` and other special methods see this Python\n",
    "documentation. Note the slight difference between the `__repr__` and `__str__` methods.\n"
   ]
  },
  {
   "cell_type": "code",
   "execution_count": 21,
   "metadata": {
    "collapsed": false
   },
   "outputs": [
    {
     "name": "stdout",
     "output_type": "stream",
     "text": [
      "(1, 2, 3)\n"
     ]
    }
   ],
   "source": [
    "class Point3D(object):\n",
    "    def __init__(self, x, y, z):\n",
    "        self.x = x\n",
    "        self.y = y\n",
    "        self.z = z\n",
    "        \n",
    "    def __repr__(self):\n",
    "        return \"(%d, %d, %d)\" % (self.x, self.y, self.z)\n",
    "        \n",
    "my_point = Point3D(1, 2, 3)\n",
    "print(my_point.__repr__())"
   ]
  },
  {
   "cell_type": "markdown",
   "metadata": {
    "collapsed": true
   },
   "source": [
    "# 21. Example to convert some function codes to class"
   ]
  },
  {
   "cell_type": "markdown",
   "metadata": {},
   "source": [
    "We have example codes for this conversion. First, let's run these codes to know what they are made for."
   ]
  },
  {
   "cell_type": "code",
   "execution_count": 1,
   "metadata": {
    "collapsed": false
   },
   "outputs": [
    {
     "name": "stdout",
     "output_type": "stream",
     "text": [
      "Enter 'p' to print the student list, 's' to add a new student, 'a' to add a mark to a student, or 'q' to quit. Enter your selection: p\n",
      "Enter 'p' to print the student list, 's' to add a new student, 'a' to add a mark to a student, or 'q' to quit. Enter your selection: s\n",
      "Please enter the new student's name: Jason\n",
      "Enter 'p' to print the student list, 's' to add a new student, 'a' to add a mark to a student, or 'q' to quit. Enter your selection: p\n",
      "ID: 0\n",
      "Jason, average mark: 0.\n",
      "Enter 'p' to print the student list, 's' to add a new student, 'a' to add a mark to a student, or 'q' to quit. Enter your selection: q\n"
     ]
    }
   ],
   "source": [
    "student_list = []\n",
    "\n",
    "def create_student():\n",
    "    name = input(\"Please enter the new student's name: \")\n",
    "    student_data = {\n",
    "        'name': name,\n",
    "        'marks': []\n",
    "    }\n",
    "\n",
    "    return student_data\n",
    "\n",
    "def add_mark(student, mark):\n",
    "    student['marks'].append(mark)\n",
    "\n",
    "def calculate_average_mark(student):\n",
    "    number = len(student['marks'])\n",
    "    if number == 0:\n",
    "        return 0\n",
    "\n",
    "    total = sum(student['marks'])\n",
    "    return total / number\n",
    "\n",
    "def print_student_details(student):\n",
    "    print(\"{}, average mark: {}.\".format(student['name'],\n",
    "                                         calculate_average_mark(student)))\n",
    "    \n",
    "def print_student_list(students):\n",
    "    for i, student in enumerate(students):\n",
    "        print(\"ID: {}\".format(i))\n",
    "        print_student_details(student)\n",
    "\n",
    "def menu():\n",
    "    selection = input(\"Enter 'p' to print the student list, \"\n",
    "                      \"'s' to add a new student, \"\n",
    "                      \"'a' to add a mark to a student, \"\n",
    "                      \"or 'q' to quit. \"\n",
    "                      \"Enter your selection: \")\n",
    "    while selection != 'q':\n",
    "        if selection == 'p':\n",
    "            print_student_list(student_list)\n",
    "        elif selection == 's':\n",
    "            student_list.append(create_student())\n",
    "        elif selection == 'a':\n",
    "            student_id = int(input(\"Enter the student ID to add a mark to: \"))\n",
    "            student = student_list[student_id]\n",
    "            new_mark = int(input(\"Enter the new mark to be added: \"))\n",
    "            add_mark(student, new_mark)\n",
    "\n",
    "        selection = input(\"Enter 'p' to print the student list, \"\n",
    "                          \"'s' to add a new student, \"\n",
    "                          \"'a' to add a mark to a student, \"\n",
    "                          \"or 'q' to quit. \"\n",
    "                          \"Enter your selection: \")\n",
    "\n",
    "menu()"
   ]
  },
  {
   "cell_type": "markdown",
   "metadata": {},
   "source": [
    "Secondly, we will try to create the \"Student\" class to make easily student data. Let's try it.\n",
    "\n",
    "```python\n",
    "def create_student():\n",
    "    name = input(\"Please enter the new student's name: \")\n",
    "    student_data = {\n",
    "        'name': name,\n",
    "        'marks': []\n",
    "    }\n",
    "\n",
    "    return student_data\n",
    "```\n",
    "\n",
    "The above code could be changed like the below to create student instance from the Student class and also the Student class will initialize the student name and marks intead of the above create_student function. \n",
    "\n",
    "```python\n",
    "def create_student():\n",
    "    name = input(\"Please enter the new student's name: \")\n",
    "    student_data = Student(name)\n",
    "\n",
    "    return student_data\n",
    "```\n",
    "\n",
    "The \"Student\" class is:\n",
    "```python\n",
    "class Sudent:\n",
    "    def __init__(self, name):\n",
    "        self.name = name\n",
    "        self.marks = []\n",
    "```"
   ]
  },
  {
   "cell_type": "markdown",
   "metadata": {},
   "source": [
    "Hence, all student variable should be instantiated with the Student class so that every student variables in the functions are changed like the below examples:\n",
    "```python\n",
    "\n",
    "def add_mark(student, mark):\n",
    "    # student['marks'].append(mark) # It's changed like this:\n",
    "    student.marks.append(mark)\n",
    "\n",
    "def calculate_average_mark(student):\n",
    "    # number = len(student['marks']) # to be changed:\n",
    "    number = len(student.marks)\n",
    "    if number == 0:\n",
    "        return 0\n",
    "\n",
    "    # total = sum(student['marks']) # to be changed:\n",
    "    total = sum(student.marks)\n",
    "    return total / number\n",
    "```\n"
   ]
  },
  {
   "cell_type": "markdown",
   "metadata": {},
   "source": [
    "The codes with the \"Student\" class can be easily made like the below code. Let's run it whether the functions are same with the original."
   ]
  },
  {
   "cell_type": "code",
   "execution_count": 2,
   "metadata": {
    "collapsed": false
   },
   "outputs": [
    {
     "name": "stdout",
     "output_type": "stream",
     "text": [
      "Enter 'p' to print the student list, 's' to add a new student, 'a' to add a mark to a student, or 'q' to quit. Enter your selection: s\n",
      "Please enter the new student's name: Jason\n",
      "Enter 'p' to print the student list, 's' to add a new student, 'a' to add a mark to a student, or 'q' to quit. Enter your selection: p\n",
      "ID: 0\n",
      "Jason, average mark: 0.\n",
      "Enter 'p' to print the student list, 's' to add a new student, 'a' to add a mark to a student, or 'q' to quit. Enter your selection: a\n",
      "Enter the student ID to add a mark to: 0\n",
      "Enter the new mark to be added: 90\n",
      "Enter 'p' to print the student list, 's' to add a new student, 'a' to add a mark to a student, or 'q' to quit. Enter your selection: p\n",
      "ID: 0\n",
      "Jason, average mark: 90.0.\n",
      "Enter 'p' to print the student list, 's' to add a new student, 'a' to add a mark to a student, or 'q' to quit. Enter your selection: q\n"
     ]
    }
   ],
   "source": [
    "student_list = []\n",
    "\n",
    "class Student:\n",
    "    def __init__(self, name):\n",
    "        self.name = name\n",
    "        self.marks = []\n",
    "        \n",
    "def create_student():\n",
    "    name = input(\"Please enter the new student's name: \")\n",
    "    student_data = Student(name)\n",
    "    \n",
    "    return student_data\n",
    "\n",
    "def add_mark(student, mark):\n",
    "    student.marks.append(mark)\n",
    "\n",
    "def calculate_average_mark(student):\n",
    "    number = len(student.marks)\n",
    "    if number == 0:\n",
    "        return 0\n",
    "\n",
    "    total = sum(student.marks)\n",
    "    return total / number\n",
    "\n",
    "def print_student_details(student):\n",
    "    print(\"{}, average mark: {}.\".format(student.name,\n",
    "                                         calculate_average_mark(student)))\n",
    "    \n",
    "def print_student_list(students):\n",
    "    for i, student in enumerate(students):\n",
    "        print(\"ID: {}\".format(i))\n",
    "        print_student_details(student)\n",
    "\n",
    "def menu():\n",
    "    selection = input(\"Enter 'p' to print the student list, \"\n",
    "                      \"'s' to add a new student, \"\n",
    "                      \"'a' to add a mark to a student, \"\n",
    "                      \"or 'q' to quit. \"\n",
    "                      \"Enter your selection: \")\n",
    "    while selection != 'q':\n",
    "        if selection == 'p':\n",
    "            print_student_list(student_list)\n",
    "        elif selection == 's':\n",
    "            student_list.append(create_student())\n",
    "        elif selection == 'a':\n",
    "            student_id = int(input(\"Enter the student ID to add a mark to: \"))\n",
    "            student = student_list[student_id]\n",
    "            new_mark = int(input(\"Enter the new mark to be added: \"))\n",
    "            add_mark(student, new_mark)\n",
    "\n",
    "        selection = input(\"Enter 'p' to print the student list, \"\n",
    "                          \"'s' to add a new student, \"\n",
    "                          \"'a' to add a mark to a student, \"\n",
    "                          \"or 'q' to quit. \"\n",
    "                          \"Enter your selection: \")\n",
    "\n",
    "menu()"
   ]
  },
  {
   "cell_type": "markdown",
   "metadata": {},
   "source": [
    "Finally, we could more modify the function codes into the class. Let's do it."
   ]
  },
  {
   "cell_type": "code",
   "execution_count": null,
   "metadata": {
    "collapsed": false
   },
   "outputs": [
    {
     "name": "stdout",
     "output_type": "stream",
     "text": [
      "Enter 'p' to print the student list, 's' to add a new student, 'a' to add a mark to a student, or 'q' to quit. Enter your selection: s\n",
      "Please enter the new student's name: Jason\n",
      "Enter 'p' to print the student list, 's' to add a new student, 'a' to add a mark to a student, or 'q' to quit. Enter your selection: a\n",
      "Enter the student ID to add a mark to: 0\n",
      "Enter the new mark to be added: 90\n",
      "Enter 'p' to print the student list, 's' to add a new student, 'a' to add a mark to a student, or 'q' to quit. Enter your selection: p\n",
      "ID: 0\n",
      "Jason, average mark: 90.0.\n"
     ]
    }
   ],
   "source": [
    "student_list = []\n",
    "\n",
    "class Student:\n",
    "    def __init__(self, name):\n",
    "        self.name = name\n",
    "        self.marks = []\n",
    "        \n",
    "    def average_mark(self):\n",
    "        number = len(self.marks)\n",
    "        if number == 0:\n",
    "            return 0\n",
    "\n",
    "        total = sum(self.marks)\n",
    "        return total / number\n",
    "\n",
    "\n",
    "def create_student():\n",
    "    name = input(\"Please enter the new student's name: \")\n",
    "    student_data = Student(name)\n",
    "    \n",
    "    return student_data\n",
    "\n",
    "def add_mark(student, mark):\n",
    "    student.marks.append(mark)\n",
    "\n",
    "def print_student_details(student):\n",
    "    print(\"{}, average mark: {}.\".format(student.name,\n",
    "                                         student.average_mark()))\n",
    "    \n",
    "def print_student_list(students):\n",
    "    for i, student in enumerate(students):\n",
    "        print(\"ID: {}\".format(i))\n",
    "        print_student_details(student)\n",
    "\n",
    "def menu():\n",
    "    selection = input(\"Enter 'p' to print the student list, \"\n",
    "                      \"'s' to add a new student, \"\n",
    "                      \"'a' to add a mark to a student, \"\n",
    "                      \"or 'q' to quit. \"\n",
    "                      \"Enter your selection: \")\n",
    "    while selection != 'q':\n",
    "        if selection == 'p':\n",
    "            print_student_list(student_list)\n",
    "        elif selection == 's':\n",
    "            student_list.append(create_student())\n",
    "        elif selection == 'a':\n",
    "            student_id = int(input(\"Enter the student ID to add a mark to: \"))\n",
    "            student = student_list[student_id]\n",
    "            new_mark = int(input(\"Enter the new mark to be added: \"))\n",
    "            add_mark(student, new_mark)\n",
    "\n",
    "        selection = input(\"Enter 'p' to print the student list, \"\n",
    "                          \"'s' to add a new student, \"\n",
    "                          \"'a' to add a mark to a student, \"\n",
    "                          \"or 'q' to quit. \"\n",
    "                          \"Enter your selection: \")\n",
    "\n",
    "menu()"
   ]
  },
  {
   "cell_type": "code",
   "execution_count": null,
   "metadata": {
    "collapsed": true
   },
   "outputs": [],
   "source": []
  }
 ],
 "metadata": {
  "anaconda-cloud": {},
  "kernelspec": {
   "display_name": "Python 3",
   "language": "python",
   "name": "python3"
  },
  "language_info": {
   "codemirror_mode": {
    "name": "ipython",
    "version": 3
   },
   "file_extension": ".py",
   "mimetype": "text/x-python",
   "name": "python",
   "nbconvert_exporter": "python",
   "pygments_lexer": "ipython3",
   "version": "3.6.0"
  }
 },
 "nbformat": 4,
 "nbformat_minor": 0
}
