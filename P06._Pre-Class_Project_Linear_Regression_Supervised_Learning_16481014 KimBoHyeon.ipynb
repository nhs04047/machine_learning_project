{
 "cells": [
  {
   "cell_type": "markdown",
   "metadata": {},
   "source": [
    "# Supervised Learning: Linear Regression"
   ]
  },
  {
   "cell_type": "markdown",
   "metadata": {},
   "source": [
    "In this section we will be going over linear regression. We'll be going over how to use the scikit-learn regression model, as well as how to train the regressor using the fit() method, and how to predict new labels using the predict() method. We'll be analyzing a data set consisting of house prices in Boston. We'll start off with a single variable linear regression using numpy and then move on to using scikit learn. We'll do an overview of the mathematics behind the method we're using, but mostly we'll dive deeper into pratical \"hands-on\" coding lessons.\n",
    "\n",
    "If you're interested in the deeper mathematics of linear regession methods, check out the [wikipedia page](http://en.wikipedia.org/wiki/Linear_regression) and also check out Andrew Ng's wonderful lectures for free on [youtube](https://www.youtube.com/watch?v=5u4G23_OohI).\n",
    "\n",
    "In this section we will be working through linear regression with the following steps:\n",
    "\n",
    "    Step 1: Getting and setting up the data.\n",
    "    Step 2: Visualizing current data.\n",
    "    Step 3: The mathematics behind the Least Squares Method.\n",
    "    Step 4: Using Numpy for a Univariate Linear Regression.\n",
    "    Step 5: Getting the error.\n",
    "    Step 6: Using scikit learn to implement a multivariate regression.\n",
    "    Step 7: Using Training and Validation.  \n",
    "    Step 8: Predicting Prices\n",
    "    Step 9 : Residual Plots\n",
    "    "
   ]
  },
  {
   "cell_type": "markdown",
   "metadata": {},
   "source": [
    "### Step 1: Getting and setting up the data."
   ]
  },
  {
   "cell_type": "markdown",
   "metadata": {},
   "source": [
    "We'll start by looking a an example of a dataset from scikit-learn. First we'll import our usual data analysis imports, then sklearn's built-in boston dataset."
   ]
  },
  {
   "cell_type": "code",
   "execution_count": 101,
   "metadata": {},
   "outputs": [],
   "source": [
    "import numpy as np\n",
    "import pandas as pd\n",
    "from pandas import Series, DataFrame"
   ]
  },
  {
   "cell_type": "markdown",
   "metadata": {},
   "source": [
    "Imports for plotting"
   ]
  },
  {
   "cell_type": "code",
   "execution_count": 102,
   "metadata": {},
   "outputs": [],
   "source": [
    "import matplotlib.pyplot as plt\n",
    "import seaborn as sns\n",
    "sns.set_style('whitegrid')\n",
    "\n",
    "%matplotlib inline"
   ]
  },
  {
   "cell_type": "markdown",
   "metadata": {},
   "source": [
    "Now import dataset from scikit learn as well as the linear_model module. Note: You may have to run a download, scikit learn will read an error and prompt you to if you don't have the datasets."
   ]
  },
  {
   "cell_type": "code",
   "execution_count": 103,
   "metadata": {},
   "outputs": [],
   "source": [
    "from sklearn.datasets import load_boston"
   ]
  },
  {
   "cell_type": "markdown",
   "metadata": {},
   "source": [
    "Next we'll download the data set"
   ]
  },
  {
   "cell_type": "code",
   "execution_count": 104,
   "metadata": {},
   "outputs": [],
   "source": [
    "# Load the housing dataset\n",
    "boston = load_boston()"
   ]
  },
  {
   "cell_type": "markdown",
   "metadata": {},
   "source": [
    "Let's see what the data set contains"
   ]
  },
  {
   "cell_type": "code",
   "execution_count": 105,
   "metadata": {},
   "outputs": [
    {
     "name": "stdout",
     "output_type": "stream",
     "text": [
      ".. _boston_dataset:\n",
      "\n",
      "Boston house prices dataset\n",
      "---------------------------\n",
      "\n",
      "**Data Set Characteristics:**  \n",
      "\n",
      "    :Number of Instances: 506 \n",
      "\n",
      "    :Number of Attributes: 13 numeric/categorical predictive. Median Value (attribute 14) is usually the target.\n",
      "\n",
      "    :Attribute Information (in order):\n",
      "        - CRIM     per capita crime rate by town\n",
      "        - ZN       proportion of residential land zoned for lots over 25,000 sq.ft.\n",
      "        - INDUS    proportion of non-retail business acres per town\n",
      "        - CHAS     Charles River dummy variable (= 1 if tract bounds river; 0 otherwise)\n",
      "        - NOX      nitric oxides concentration (parts per 10 million)\n",
      "        - RM       average number of rooms per dwelling\n",
      "        - AGE      proportion of owner-occupied units built prior to 1940\n",
      "        - DIS      weighted distances to five Boston employment centres\n",
      "        - RAD      index of accessibility to radial highways\n",
      "        - TAX      full-value property-tax rate per $10,000\n",
      "        - PTRATIO  pupil-teacher ratio by town\n",
      "        - B        1000(Bk - 0.63)^2 where Bk is the proportion of blacks by town\n",
      "        - LSTAT    % lower status of the population\n",
      "        - MEDV     Median value of owner-occupied homes in $1000's\n",
      "\n",
      "    :Missing Attribute Values: None\n",
      "\n",
      "    :Creator: Harrison, D. and Rubinfeld, D.L.\n",
      "\n",
      "This is a copy of UCI ML housing dataset.\n",
      "https://archive.ics.uci.edu/ml/machine-learning-databases/housing/\n",
      "\n",
      "\n",
      "This dataset was taken from the StatLib library which is maintained at Carnegie Mellon University.\n",
      "\n",
      "The Boston house-price data of Harrison, D. and Rubinfeld, D.L. 'Hedonic\n",
      "prices and the demand for clean air', J. Environ. Economics & Management,\n",
      "vol.5, 81-102, 1978.   Used in Belsley, Kuh & Welsch, 'Regression diagnostics\n",
      "...', Wiley, 1980.   N.B. Various transformations are used in the table on\n",
      "pages 244-261 of the latter.\n",
      "\n",
      "The Boston house-price data has been used in many machine learning papers that address regression\n",
      "problems.   \n",
      "     \n",
      ".. topic:: References\n",
      "\n",
      "   - Belsley, Kuh & Welsch, 'Regression diagnostics: Identifying Influential Data and Sources of Collinearity', Wiley, 1980. 244-261.\n",
      "   - Quinlan,R. (1993). Combining Instance-Based and Model-Based Learning. In Proceedings on the Tenth International Conference of Machine Learning, 236-243, University of Massachusetts, Amherst. Morgan Kaufmann.\n",
      "\n"
     ]
    }
   ],
   "source": [
    "print(boston.DESCR)"
   ]
  },
  {
   "cell_type": "markdown",
   "metadata": {},
   "source": [
    "### Step 2: Visualizing current data"
   ]
  },
  {
   "cell_type": "markdown",
   "metadata": {},
   "source": [
    "You should always try to do a quick visualization fo the data you have. Let's go ahead an make a histogram of the prices."
   ]
  },
  {
   "cell_type": "code",
   "execution_count": 106,
   "metadata": {},
   "outputs": [
    {
     "data": {
      "text/plain": [
       "Text(0, 0.5, 'Number of houses')"
      ]
     },
     "execution_count": 106,
     "metadata": {},
     "output_type": "execute_result"
    },
    {
     "data": {
      "image/png": "[encoded data removed]",
      "text/plain": [
       "<Figure size 432x288 with 1 Axes>"
      ]
     },
     "metadata": {
      "needs_background": "light"
     },
     "output_type": "display_data"
    }
   ],
   "source": [
    "# Histogram of prices (this is the target of our dataset)\n",
    "plt.hist(boston.target,bins=50)\n",
    "\n",
    "#label\n",
    "plt.xlabel('Price in $1000s')\n",
    "plt.ylabel('Number of houses')"
   ]
  },
  {
   "cell_type": "markdown",
   "metadata": {},
   "source": [
    "Interesting, now let's see a scatter plot of one feature, versus the target. In this case we'll use the housing price versus the number of rooms in the dwelling."
   ]
  },
  {
   "cell_type": "code",
   "execution_count": 107,
   "metadata": {},
   "outputs": [
    {
     "data": {
      "text/plain": [
       "Text(0.5, 0, 'Number of rooms')"
      ]
     },
     "execution_count": 107,
     "metadata": {},
     "output_type": "execute_result"
    },
    {
     "data": {
      "image/png": "[encoded data removed]",
      "text/plain": [
       "<Figure size 432x288 with 1 Axes>"
      ]
     },
     "metadata": {
      "needs_background": "light"
     },
     "output_type": "display_data"
    }
   ],
   "source": [
    "# Plot the column at the 5 index (Labeled RM)\n",
    "plt.scatter(boston.data[:,5],boston.target)\n",
    "\n",
    "#label\n",
    "plt.ylabel('Price in $1000s')\n",
    "plt.xlabel('Number of rooms')"
   ]
  },
  {
   "cell_type": "markdown",
   "metadata": {},
   "source": [
    "Great! Now we can make out a slight trend that price increases along with the number of rooms in that house, which intuitively makes sense! Now let's use scikit learn to see if we can fit the data linearly.\n",
    "\n",
    "Let's try to do the following:\n",
    "\n",
    "    1.) Use pandas to transform the boston dataset into a DataFrame: \n",
    "    \n",
    "    2.) Then use seaborn to perform an lmplot on that DataFrame to reproduce the scatter plot with a linear fit line."
   ]
  },
  {
   "cell_type": "code",
   "execution_count": 108,
   "metadata": {},
   "outputs": [
    {
     "data": {
      "text/html": [
       "<div>\n",
       "<style scoped>\n",
       "    .dataframe tbody tr th:only-of-type {\n",
       "        vertical-align: middle;\n",
       "    }\n",
       "\n",
       "    .dataframe tbody tr th {\n",
       "        vertical-align: top;\n",
       "    }\n",
       "\n",
       "    .dataframe thead th {\n",
       "        text-align: right;\n",
       "    }\n",
       "</style>\n",
       "<table border=\"1\" class=\"dataframe\">\n",
       "  <thead>\n",
       "    <tr style=\"text-align: right;\">\n",
       "      <th></th>\n",
       "      <th>CRIM</th>\n",
       "      <th>ZN</th>\n",
       "      <th>INDUS</th>\n",
       "      <th>CHAS</th>\n",
       "      <th>NOX</th>\n",
       "      <th>RM</th>\n",
       "      <th>AGE</th>\n",
       "      <th>DIS</th>\n",
       "      <th>RAD</th>\n",
       "      <th>TAX</th>\n",
       "      <th>PTRATIO</th>\n",
       "      <th>B</th>\n",
       "      <th>LSTAT</th>\n",
       "    </tr>\n",
       "  </thead>\n",
       "  <tbody>\n",
       "    <tr>\n",
       "      <th>0</th>\n",
       "      <td>0.00632</td>\n",
       "      <td>18.0</td>\n",
       "      <td>2.31</td>\n",
       "      <td>0.0</td>\n",
       "      <td>0.538</td>\n",
       "      <td>6.575</td>\n",
       "      <td>65.2</td>\n",
       "      <td>4.0900</td>\n",
       "      <td>1.0</td>\n",
       "      <td>296.0</td>\n",
       "      <td>15.3</td>\n",
       "      <td>396.90</td>\n",
       "      <td>4.98</td>\n",
       "    </tr>\n",
       "    <tr>\n",
       "      <th>1</th>\n",
       "      <td>0.02731</td>\n",
       "      <td>0.0</td>\n",
       "      <td>7.07</td>\n",
       "      <td>0.0</td>\n",
       "      <td>0.469</td>\n",
       "      <td>6.421</td>\n",
       "      <td>78.9</td>\n",
       "      <td>4.9671</td>\n",
       "      <td>2.0</td>\n",
       "      <td>242.0</td>\n",
       "      <td>17.8</td>\n",
       "      <td>396.90</td>\n",
       "      <td>9.14</td>\n",
       "    </tr>\n",
       "    <tr>\n",
       "      <th>2</th>\n",
       "      <td>0.02729</td>\n",
       "      <td>0.0</td>\n",
       "      <td>7.07</td>\n",
       "      <td>0.0</td>\n",
       "      <td>0.469</td>\n",
       "      <td>7.185</td>\n",
       "      <td>61.1</td>\n",
       "      <td>4.9671</td>\n",
       "      <td>2.0</td>\n",
       "      <td>242.0</td>\n",
       "      <td>17.8</td>\n",
       "      <td>392.83</td>\n",
       "      <td>4.03</td>\n",
       "    </tr>\n",
       "    <tr>\n",
       "      <th>3</th>\n",
       "      <td>0.03237</td>\n",
       "      <td>0.0</td>\n",
       "      <td>2.18</td>\n",
       "      <td>0.0</td>\n",
       "      <td>0.458</td>\n",
       "      <td>6.998</td>\n",
       "      <td>45.8</td>\n",
       "      <td>6.0622</td>\n",
       "      <td>3.0</td>\n",
       "      <td>222.0</td>\n",
       "      <td>18.7</td>\n",
       "      <td>394.63</td>\n",
       "      <td>2.94</td>\n",
       "    </tr>\n",
       "    <tr>\n",
       "      <th>4</th>\n",
       "      <td>0.06905</td>\n",
       "      <td>0.0</td>\n",
       "      <td>2.18</td>\n",
       "      <td>0.0</td>\n",
       "      <td>0.458</td>\n",
       "      <td>7.147</td>\n",
       "      <td>54.2</td>\n",
       "      <td>6.0622</td>\n",
       "      <td>3.0</td>\n",
       "      <td>222.0</td>\n",
       "      <td>18.7</td>\n",
       "      <td>396.90</td>\n",
       "      <td>5.33</td>\n",
       "    </tr>\n",
       "  </tbody>\n",
       "</table>\n",
       "</div>"
      ],
      "text/plain": [
       "      CRIM    ZN  INDUS  CHAS    NOX     RM   AGE     DIS  RAD    TAX  \\\n",
       "0  0.00632  18.0   2.31   0.0  0.538  6.575  65.2  4.0900  1.0  296.0   \n",
       "1  0.02731   0.0   7.07   0.0  0.469  6.421  78.9  4.9671  2.0  242.0   \n",
       "2  0.02729   0.0   7.07   0.0  0.469  7.185  61.1  4.9671  2.0  242.0   \n",
       "3  0.03237   0.0   2.18   0.0  0.458  6.998  45.8  6.0622  3.0  222.0   \n",
       "4  0.06905   0.0   2.18   0.0  0.458  7.147  54.2  6.0622  3.0  222.0   \n",
       "\n",
       "   PTRATIO       B  LSTAT  \n",
       "0     15.3  396.90   4.98  \n",
       "1     17.8  396.90   9.14  \n",
       "2     17.8  392.83   4.03  \n",
       "3     18.7  394.63   2.94  \n",
       "4     18.7  396.90   5.33  "
      ]
     },
     "execution_count": 108,
     "metadata": {},
     "output_type": "execute_result"
    }
   ],
   "source": [
    "# reset data as pandas DataFrame\n",
    "boston_df = DataFrame(boston.data)\n",
    "\n",
    "# label columns\n",
    "boston_df.columns = boston.feature_names\n",
    "\n",
    "#show\n",
    "boston_df.head()"
   ]
  },
  {
   "cell_type": "markdown",
   "metadata": {},
   "source": [
    "Now let's add the target of the boston data set, the price. We'll create a new column in our DataFrame."
   ]
  },
  {
   "cell_type": "code",
   "execution_count": 109,
   "metadata": {},
   "outputs": [],
   "source": [
    "# Set price column for target\n",
    "boston_df['Price'] = boston.target"
   ]
  },
  {
   "cell_type": "markdown",
   "metadata": {},
   "source": [
    "Now let's see the resultign DataFrame!"
   ]
  },
  {
   "cell_type": "code",
   "execution_count": 110,
   "metadata": {},
   "outputs": [
    {
     "data": {
      "text/html": [
       "<div>\n",
       "<style scoped>\n",
       "    .dataframe tbody tr th:only-of-type {\n",
       "        vertical-align: middle;\n",
       "    }\n",
       "\n",
       "    .dataframe tbody tr th {\n",
       "        vertical-align: top;\n",
       "    }\n",
       "\n",
       "    .dataframe thead th {\n",
       "        text-align: right;\n",
       "    }\n",
       "</style>\n",
       "<table border=\"1\" class=\"dataframe\">\n",
       "  <thead>\n",
       "    <tr style=\"text-align: right;\">\n",
       "      <th></th>\n",
       "      <th>CRIM</th>\n",
       "      <th>ZN</th>\n",
       "      <th>INDUS</th>\n",
       "      <th>CHAS</th>\n",
       "      <th>NOX</th>\n",
       "      <th>RM</th>\n",
       "      <th>AGE</th>\n",
       "      <th>DIS</th>\n",
       "      <th>RAD</th>\n",
       "      <th>TAX</th>\n",
       "      <th>PTRATIO</th>\n",
       "      <th>B</th>\n",
       "      <th>LSTAT</th>\n",
       "      <th>Price</th>\n",
       "    </tr>\n",
       "  </thead>\n",
       "  <tbody>\n",
       "    <tr>\n",
       "      <th>0</th>\n",
       "      <td>0.00632</td>\n",
       "      <td>18.0</td>\n",
       "      <td>2.31</td>\n",
       "      <td>0.0</td>\n",
       "      <td>0.538</td>\n",
       "      <td>6.575</td>\n",
       "      <td>65.2</td>\n",
       "      <td>4.0900</td>\n",
       "      <td>1.0</td>\n",
       "      <td>296.0</td>\n",
       "      <td>15.3</td>\n",
       "      <td>396.90</td>\n",
       "      <td>4.98</td>\n",
       "      <td>24.0</td>\n",
       "    </tr>\n",
       "    <tr>\n",
       "      <th>1</th>\n",
       "      <td>0.02731</td>\n",
       "      <td>0.0</td>\n",
       "      <td>7.07</td>\n",
       "      <td>0.0</td>\n",
       "      <td>0.469</td>\n",
       "      <td>6.421</td>\n",
       "      <td>78.9</td>\n",
       "      <td>4.9671</td>\n",
       "      <td>2.0</td>\n",
       "      <td>242.0</td>\n",
       "      <td>17.8</td>\n",
       "      <td>396.90</td>\n",
       "      <td>9.14</td>\n",
       "      <td>21.6</td>\n",
       "    </tr>\n",
       "    <tr>\n",
       "      <th>2</th>\n",
       "      <td>0.02729</td>\n",
       "      <td>0.0</td>\n",
       "      <td>7.07</td>\n",
       "      <td>0.0</td>\n",
       "      <td>0.469</td>\n",
       "      <td>7.185</td>\n",
       "      <td>61.1</td>\n",
       "      <td>4.9671</td>\n",
       "      <td>2.0</td>\n",
       "      <td>242.0</td>\n",
       "      <td>17.8</td>\n",
       "      <td>392.83</td>\n",
       "      <td>4.03</td>\n",
       "      <td>34.7</td>\n",
       "    </tr>\n",
       "    <tr>\n",
       "      <th>3</th>\n",
       "      <td>0.03237</td>\n",
       "      <td>0.0</td>\n",
       "      <td>2.18</td>\n",
       "      <td>0.0</td>\n",
       "      <td>0.458</td>\n",
       "      <td>6.998</td>\n",
       "      <td>45.8</td>\n",
       "      <td>6.0622</td>\n",
       "      <td>3.0</td>\n",
       "      <td>222.0</td>\n",
       "      <td>18.7</td>\n",
       "      <td>394.63</td>\n",
       "      <td>2.94</td>\n",
       "      <td>33.4</td>\n",
       "    </tr>\n",
       "    <tr>\n",
       "      <th>4</th>\n",
       "      <td>0.06905</td>\n",
       "      <td>0.0</td>\n",
       "      <td>2.18</td>\n",
       "      <td>0.0</td>\n",
       "      <td>0.458</td>\n",
       "      <td>7.147</td>\n",
       "      <td>54.2</td>\n",
       "      <td>6.0622</td>\n",
       "      <td>3.0</td>\n",
       "      <td>222.0</td>\n",
       "      <td>18.7</td>\n",
       "      <td>396.90</td>\n",
       "      <td>5.33</td>\n",
       "      <td>36.2</td>\n",
       "    </tr>\n",
       "  </tbody>\n",
       "</table>\n",
       "</div>"
      ],
      "text/plain": [
       "      CRIM    ZN  INDUS  CHAS    NOX     RM   AGE     DIS  RAD    TAX  \\\n",
       "0  0.00632  18.0   2.31   0.0  0.538  6.575  65.2  4.0900  1.0  296.0   \n",
       "1  0.02731   0.0   7.07   0.0  0.469  6.421  78.9  4.9671  2.0  242.0   \n",
       "2  0.02729   0.0   7.07   0.0  0.469  7.185  61.1  4.9671  2.0  242.0   \n",
       "3  0.03237   0.0   2.18   0.0  0.458  6.998  45.8  6.0622  3.0  222.0   \n",
       "4  0.06905   0.0   2.18   0.0  0.458  7.147  54.2  6.0622  3.0  222.0   \n",
       "\n",
       "   PTRATIO       B  LSTAT  Price  \n",
       "0     15.3  396.90   4.98   24.0  \n",
       "1     17.8  396.90   9.14   21.6  \n",
       "2     17.8  392.83   4.03   34.7  \n",
       "3     18.7  394.63   2.94   33.4  \n",
       "4     18.7  396.90   5.33   36.2  "
      ]
     },
     "execution_count": 110,
     "metadata": {},
     "output_type": "execute_result"
    }
   ],
   "source": [
    "# Show result\n",
    "boston_df.head()"
   ]
  },
  {
   "cell_type": "markdown",
   "metadata": {},
   "source": [
    "Now, you might be reminded of the seaborn lmplot function we used during the visualization lectures. You could use it here to do a linear fit automatically!"
   ]
  },
  {
   "cell_type": "code",
   "execution_count": 111,
   "metadata": {},
   "outputs": [
    {
     "data": {
      "text/plain": [
       "<seaborn.axisgrid.FacetGrid at 0x7f9f28b9c490>"
      ]
     },
     "execution_count": 111,
     "metadata": {},
     "output_type": "execute_result"
    },
    {
     "data": {
      "image/png": "[encoded data removed]",
      "text/plain": [
       "<Figure size 360x360 with 1 Axes>"
      ]
     },
     "metadata": {
      "needs_background": "light"
     },
     "output_type": "display_data"
    }
   ],
   "source": [
    "# Using seabron to create a linear fit\n",
    "sns.lmplot('RM','Price',data = boston_df)"
   ]
  },
  {
   "cell_type": "markdown",
   "metadata": {},
   "source": [
    "However, we won't be able to do this when we move to more complicated regression models, so we'll stay focused on using the scikit learn library!"
   ]
  },
  {
   "cell_type": "markdown",
   "metadata": {},
   "source": [
    "### Step 3: The mathematics behind the Least Squares Method."
   ]
  },
  {
   "cell_type": "markdown",
   "metadata": {},
   "source": [
    "In this particular lecture we'll use the least squares method as the way to estimate the coefficients. Here's a quick breakdown of how this method works mathematically:"
   ]
  },
  {
   "cell_type": "markdown",
   "metadata": {},
   "source": [
    "Take a quick look at the plot we created above using seaborn. Now consider each point, and know that they each have a coordinate in the form (X,Y). Now draw an imaginary line between each point and our current \"best-fit\" line. We'll call the distanace between each point and our current best-fit line, D. To get a quick image of what we're currently trying to visualize, take a look at the picture below:"
   ]
  },
  {
   "cell_type": "code",
   "execution_count": 112,
   "metadata": {},
   "outputs": [
    {
     "data": {
      "image/png": "[encoded data removed]",
      "text/plain": [
       "<IPython.core.display.Image object>"
      ]
     },
     "execution_count": 112,
     "metadata": {},
     "output_type": "execute_result"
    }
   ],
   "source": [
    "# Quick display of image form wikipedia\n",
    "from IPython.display import Image\n",
    "url = 'http://upload.wikimedia.org/wikipedia/commons/thumb/b/b0/Linear_least_squares_example2.svg/220px-Linear_least_squares_example2.svg.png'\n",
    "Image(url)"
   ]
  },
  {
   "cell_type": "markdown",
   "metadata": {},
   "source": [
    "Now as before, we're labeling each green line as having a distance D, and each red point as having a coordinate of (X,Y). Then we can define our best fit line as the line having the property were:\n",
    "$$ D_{1}^2 + D_{2}^2 + D_{3}^2 + D_{4}^2 + ....+ D_{N}^2$$"
   ]
  },
  {
   "cell_type": "markdown",
   "metadata": {},
   "source": [
    "So how do we find this line? The least-square line approximating the set of points:\n",
    "\n",
    "$$ (X,Y)_{1},(X,Y)_{2},(X,Y)_{3},(X,Y)_{4},(X,Y)_{5}, $$\n",
    "\n",
    "has the equation:\n",
    "$$ Y = a_{0} +a_{1}X $$\n",
    "this is basically just a rewritten form of the standard equation for a line:\n",
    "$$Y=mx+b$$"
   ]
  },
  {
   "cell_type": "markdown",
   "metadata": {},
   "source": [
    "We can solve for these constants a0 and a1 by simultaneously solving these equations:\n",
    "$$ \\Sigma Y = a_{0}N + a_{1}\\Sigma X $$\n",
    "$$ \\Sigma XY = a_{0}\\Sigma X + a_{1}\\Sigma X^2 $$"
   ]
  },
  {
   "cell_type": "markdown",
   "metadata": {},
   "source": [
    "These are called the normal equations for the least squares line. There are further steps that can be taken in rearranging these equations  to solve for y, but we'll let scikit-learn do the rest of the heavy lifting here. If you want further informatino on the mathematics of the above formulas, check out this great [video](https://www.youtube.com/watch?v=Qa2APhWjQPc).\n",
    "\n",
    "For now, we'll use numpy to do a simple single variable linear regression. Afterwards we'll unleash the power of scikit learn to do a full multivariate linear regression."
   ]
  },
  {
   "cell_type": "markdown",
   "metadata": {},
   "source": [
    "### Step 4: Using Numpy for a Univariate Linear Regression"
   ]
  },
  {
   "cell_type": "markdown",
   "metadata": {},
   "source": [
    "Numpy has a built in Least Square Method in its linear algebra library. We'll use this first for our Univariate regression and then move on to scikit learn for out Multi variate regression.\n",
    "\n",
    "We will start by setting up the X and Y arrays for numpy to take in. An important note for the X array: Numpy expects a two-dimensional array, the first dimension is the different example values, and the second dimension is the attribute number. In this case we have our value as the mean number of rooms per house, and this is a single attribute so the second dimension of the array is just 1. So we'll need to create a (506,1) shape array. There are a few ways to do this, but an easy way to do this is by using numpy's built-in vertical stack tool, vstack."
   ]
  },
  {
   "cell_type": "code",
   "execution_count": 136,
   "metadata": {},
   "outputs": [],
   "source": [
    "# Set up X as median room values\n",
    "X = boston_df.RM"
   ]
  },
  {
   "cell_type": "code",
   "execution_count": 137,
   "metadata": {},
   "outputs": [],
   "source": [
    "# Use v to make X two-dimensional\n",
    "X = np.vstack(boston_df.RM)"
   ]
  },
  {
   "cell_type": "code",
   "execution_count": 138,
   "metadata": {},
   "outputs": [
    {
     "data": {
      "text/plain": [
       "array([[6.575],\n",
       "       [6.421],\n",
       "       [7.185],\n",
       "       [6.998],\n",
       "       [7.147],\n",
       "       [6.43 ],\n",
       "       [6.012],\n",
       "       [6.172],\n",
       "       [5.631],\n",
       "       [6.004],\n",
       "       [6.377],\n",
       "       [6.009],\n",
       "       [5.889],\n",
       "       [5.949],\n",
       "       [6.096],\n",
       "       [5.834],\n",
       "       [5.935],\n",
       "       [5.99 ],\n",
       "       [5.456],\n",
       "       [5.727],\n",
       "       [5.57 ],\n",
       "       [5.965],\n",
       "       [6.142],\n",
       "       [5.813],\n",
       "       [5.924],\n",
       "       [5.599],\n",
       "       [5.813],\n",
       "       [6.047],\n",
       "       [6.495],\n",
       "       [6.674],\n",
       "       [5.713],\n",
       "       [6.072],\n",
       "       [5.95 ],\n",
       "       [5.701],\n",
       "       [6.096],\n",
       "       [5.933],\n",
       "       [5.841],\n",
       "       [5.85 ],\n",
       "       [5.966],\n",
       "       [6.595],\n",
       "       [7.024],\n",
       "       [6.77 ],\n",
       "       [6.169],\n",
       "       [6.211],\n",
       "       [6.069],\n",
       "       [5.682],\n",
       "       [5.786],\n",
       "       [6.03 ],\n",
       "       [5.399],\n",
       "       [5.602],\n",
       "       [5.963],\n",
       "       [6.115],\n",
       "       [6.511],\n",
       "       [5.998],\n",
       "       [5.888],\n",
       "       [7.249],\n",
       "       [6.383],\n",
       "       [6.816],\n",
       "       [6.145],\n",
       "       [5.927],\n",
       "       [5.741],\n",
       "       [5.966],\n",
       "       [6.456],\n",
       "       [6.762],\n",
       "       [7.104],\n",
       "       [6.29 ],\n",
       "       [5.787],\n",
       "       [5.878],\n",
       "       [5.594],\n",
       "       [5.885],\n",
       "       [6.417],\n",
       "       [5.961],\n",
       "       [6.065],\n",
       "       [6.245],\n",
       "       [6.273],\n",
       "       [6.286],\n",
       "       [6.279],\n",
       "       [6.14 ],\n",
       "       [6.232],\n",
       "       [5.874],\n",
       "       [6.727],\n",
       "       [6.619],\n",
       "       [6.302],\n",
       "       [6.167],\n",
       "       [6.389],\n",
       "       [6.63 ],\n",
       "       [6.015],\n",
       "       [6.121],\n",
       "       [7.007],\n",
       "       [7.079],\n",
       "       [6.417],\n",
       "       [6.405],\n",
       "       [6.442],\n",
       "       [6.211],\n",
       "       [6.249],\n",
       "       [6.625],\n",
       "       [6.163],\n",
       "       [8.069],\n",
       "       [7.82 ],\n",
       "       [7.416],\n",
       "       [6.727],\n",
       "       [6.781],\n",
       "       [6.405],\n",
       "       [6.137],\n",
       "       [6.167],\n",
       "       [5.851],\n",
       "       [5.836],\n",
       "       [6.127],\n",
       "       [6.474],\n",
       "       [6.229],\n",
       "       [6.195],\n",
       "       [6.715],\n",
       "       [5.913],\n",
       "       [6.092],\n",
       "       [6.254],\n",
       "       [5.928],\n",
       "       [6.176],\n",
       "       [6.021],\n",
       "       [5.872],\n",
       "       [5.731],\n",
       "       [5.87 ],\n",
       "       [6.004],\n",
       "       [5.961],\n",
       "       [5.856],\n",
       "       [5.879],\n",
       "       [5.986],\n",
       "       [5.613],\n",
       "       [5.693],\n",
       "       [6.431],\n",
       "       [5.637],\n",
       "       [6.458],\n",
       "       [6.326],\n",
       "       [6.372],\n",
       "       [5.822],\n",
       "       [5.757],\n",
       "       [6.335],\n",
       "       [5.942],\n",
       "       [6.454],\n",
       "       [5.857],\n",
       "       [6.151],\n",
       "       [6.174],\n",
       "       [5.019],\n",
       "       [5.403],\n",
       "       [5.468],\n",
       "       [4.903],\n",
       "       [6.13 ],\n",
       "       [5.628],\n",
       "       [4.926],\n",
       "       [5.186],\n",
       "       [5.597],\n",
       "       [6.122],\n",
       "       [5.404],\n",
       "       [5.012],\n",
       "       [5.709],\n",
       "       [6.129],\n",
       "       [6.152],\n",
       "       [5.272],\n",
       "       [6.943],\n",
       "       [6.066],\n",
       "       [6.51 ],\n",
       "       [6.25 ],\n",
       "       [7.489],\n",
       "       [7.802],\n",
       "       [8.375],\n",
       "       [5.854],\n",
       "       [6.101],\n",
       "       [7.929],\n",
       "       [5.877],\n",
       "       [6.319],\n",
       "       [6.402],\n",
       "       [5.875],\n",
       "       [5.88 ],\n",
       "       [5.572],\n",
       "       [6.416],\n",
       "       [5.859],\n",
       "       [6.546],\n",
       "       [6.02 ],\n",
       "       [6.315],\n",
       "       [6.86 ],\n",
       "       [6.98 ],\n",
       "       [7.765],\n",
       "       [6.144],\n",
       "       [7.155],\n",
       "       [6.563],\n",
       "       [5.604],\n",
       "       [6.153],\n",
       "       [7.831],\n",
       "       [6.782],\n",
       "       [6.556],\n",
       "       [7.185],\n",
       "       [6.951],\n",
       "       [6.739],\n",
       "       [7.178],\n",
       "       [6.8  ],\n",
       "       [6.604],\n",
       "       [7.875],\n",
       "       [7.287],\n",
       "       [7.107],\n",
       "       [7.274],\n",
       "       [6.975],\n",
       "       [7.135],\n",
       "       [6.162],\n",
       "       [7.61 ],\n",
       "       [7.853],\n",
       "       [8.034],\n",
       "       [5.891],\n",
       "       [6.326],\n",
       "       [5.783],\n",
       "       [6.064],\n",
       "       [5.344],\n",
       "       [5.96 ],\n",
       "       [5.404],\n",
       "       [5.807],\n",
       "       [6.375],\n",
       "       [5.412],\n",
       "       [6.182],\n",
       "       [5.888],\n",
       "       [6.642],\n",
       "       [5.951],\n",
       "       [6.373],\n",
       "       [6.951],\n",
       "       [6.164],\n",
       "       [6.879],\n",
       "       [6.618],\n",
       "       [8.266],\n",
       "       [8.725],\n",
       "       [8.04 ],\n",
       "       [7.163],\n",
       "       [7.686],\n",
       "       [6.552],\n",
       "       [5.981],\n",
       "       [7.412],\n",
       "       [8.337],\n",
       "       [8.247],\n",
       "       [6.726],\n",
       "       [6.086],\n",
       "       [6.631],\n",
       "       [7.358],\n",
       "       [6.481],\n",
       "       [6.606],\n",
       "       [6.897],\n",
       "       [6.095],\n",
       "       [6.358],\n",
       "       [6.393],\n",
       "       [5.593],\n",
       "       [5.605],\n",
       "       [6.108],\n",
       "       [6.226],\n",
       "       [6.433],\n",
       "       [6.718],\n",
       "       [6.487],\n",
       "       [6.438],\n",
       "       [6.957],\n",
       "       [8.259],\n",
       "       [6.108],\n",
       "       [5.876],\n",
       "       [7.454],\n",
       "       [8.704],\n",
       "       [7.333],\n",
       "       [6.842],\n",
       "       [7.203],\n",
       "       [7.52 ],\n",
       "       [8.398],\n",
       "       [7.327],\n",
       "       [7.206],\n",
       "       [5.56 ],\n",
       "       [7.014],\n",
       "       [8.297],\n",
       "       [7.47 ],\n",
       "       [5.92 ],\n",
       "       [5.856],\n",
       "       [6.24 ],\n",
       "       [6.538],\n",
       "       [7.691],\n",
       "       [6.758],\n",
       "       [6.854],\n",
       "       [7.267],\n",
       "       [6.826],\n",
       "       [6.482],\n",
       "       [6.812],\n",
       "       [7.82 ],\n",
       "       [6.968],\n",
       "       [7.645],\n",
       "       [7.923],\n",
       "       [7.088],\n",
       "       [6.453],\n",
       "       [6.23 ],\n",
       "       [6.209],\n",
       "       [6.315],\n",
       "       [6.565],\n",
       "       [6.861],\n",
       "       [7.148],\n",
       "       [6.63 ],\n",
       "       [6.127],\n",
       "       [6.009],\n",
       "       [6.678],\n",
       "       [6.549],\n",
       "       [5.79 ],\n",
       "       [6.345],\n",
       "       [7.041],\n",
       "       [6.871],\n",
       "       [6.59 ],\n",
       "       [6.495],\n",
       "       [6.982],\n",
       "       [7.236],\n",
       "       [6.616],\n",
       "       [7.42 ],\n",
       "       [6.849],\n",
       "       [6.635],\n",
       "       [5.972],\n",
       "       [4.973],\n",
       "       [6.122],\n",
       "       [6.023],\n",
       "       [6.266],\n",
       "       [6.567],\n",
       "       [5.705],\n",
       "       [5.914],\n",
       "       [5.782],\n",
       "       [6.382],\n",
       "       [6.113],\n",
       "       [6.426],\n",
       "       [6.376],\n",
       "       [6.041],\n",
       "       [5.708],\n",
       "       [6.415],\n",
       "       [6.431],\n",
       "       [6.312],\n",
       "       [6.083],\n",
       "       [5.868],\n",
       "       [6.333],\n",
       "       [6.144],\n",
       "       [5.706],\n",
       "       [6.031],\n",
       "       [6.316],\n",
       "       [6.31 ],\n",
       "       [6.037],\n",
       "       [5.869],\n",
       "       [5.895],\n",
       "       [6.059],\n",
       "       [5.985],\n",
       "       [5.968],\n",
       "       [7.241],\n",
       "       [6.54 ],\n",
       "       [6.696],\n",
       "       [6.874],\n",
       "       [6.014],\n",
       "       [5.898],\n",
       "       [6.516],\n",
       "       [6.635],\n",
       "       [6.939],\n",
       "       [6.49 ],\n",
       "       [6.579],\n",
       "       [5.884],\n",
       "       [6.728],\n",
       "       [5.663],\n",
       "       [5.936],\n",
       "       [6.212],\n",
       "       [6.395],\n",
       "       [6.127],\n",
       "       [6.112],\n",
       "       [6.398],\n",
       "       [6.251],\n",
       "       [5.362],\n",
       "       [5.803],\n",
       "       [8.78 ],\n",
       "       [3.561],\n",
       "       [4.963],\n",
       "       [3.863],\n",
       "       [4.97 ],\n",
       "       [6.683],\n",
       "       [7.016],\n",
       "       [6.216],\n",
       "       [5.875],\n",
       "       [4.906],\n",
       "       [4.138],\n",
       "       [7.313],\n",
       "       [6.649],\n",
       "       [6.794],\n",
       "       [6.38 ],\n",
       "       [6.223],\n",
       "       [6.968],\n",
       "       [6.545],\n",
       "       [5.536],\n",
       "       [5.52 ],\n",
       "       [4.368],\n",
       "       [5.277],\n",
       "       [4.652],\n",
       "       [5.   ],\n",
       "       [4.88 ],\n",
       "       [5.39 ],\n",
       "       [5.713],\n",
       "       [6.051],\n",
       "       [5.036],\n",
       "       [6.193],\n",
       "       [5.887],\n",
       "       [6.471],\n",
       "       [6.405],\n",
       "       [5.747],\n",
       "       [5.453],\n",
       "       [5.852],\n",
       "       [5.987],\n",
       "       [6.343],\n",
       "       [6.404],\n",
       "       [5.349],\n",
       "       [5.531],\n",
       "       [5.683],\n",
       "       [4.138],\n",
       "       [5.608],\n",
       "       [5.617],\n",
       "       [6.852],\n",
       "       [5.757],\n",
       "       [6.657],\n",
       "       [4.628],\n",
       "       [5.155],\n",
       "       [4.519],\n",
       "       [6.434],\n",
       "       [6.782],\n",
       "       [5.304],\n",
       "       [5.957],\n",
       "       [6.824],\n",
       "       [6.411],\n",
       "       [6.006],\n",
       "       [5.648],\n",
       "       [6.103],\n",
       "       [5.565],\n",
       "       [5.896],\n",
       "       [5.837],\n",
       "       [6.202],\n",
       "       [6.193],\n",
       "       [6.38 ],\n",
       "       [6.348],\n",
       "       [6.833],\n",
       "       [6.425],\n",
       "       [6.436],\n",
       "       [6.208],\n",
       "       [6.629],\n",
       "       [6.461],\n",
       "       [6.152],\n",
       "       [5.935],\n",
       "       [5.627],\n",
       "       [5.818],\n",
       "       [6.406],\n",
       "       [6.219],\n",
       "       [6.485],\n",
       "       [5.854],\n",
       "       [6.459],\n",
       "       [6.341],\n",
       "       [6.251],\n",
       "       [6.185],\n",
       "       [6.417],\n",
       "       [6.749],\n",
       "       [6.655],\n",
       "       [6.297],\n",
       "       [7.393],\n",
       "       [6.728],\n",
       "       [6.525],\n",
       "       [5.976],\n",
       "       [5.936],\n",
       "       [6.301],\n",
       "       [6.081],\n",
       "       [6.701],\n",
       "       [6.376],\n",
       "       [6.317],\n",
       "       [6.513],\n",
       "       [6.209],\n",
       "       [5.759],\n",
       "       [5.952],\n",
       "       [6.003],\n",
       "       [5.926],\n",
       "       [5.713],\n",
       "       [6.167],\n",
       "       [6.229],\n",
       "       [6.437],\n",
       "       [6.98 ],\n",
       "       [5.427],\n",
       "       [6.162],\n",
       "       [6.484],\n",
       "       [5.304],\n",
       "       [6.185],\n",
       "       [6.229],\n",
       "       [6.242],\n",
       "       [6.75 ],\n",
       "       [7.061],\n",
       "       [5.762],\n",
       "       [5.871],\n",
       "       [6.312],\n",
       "       [6.114],\n",
       "       [5.905],\n",
       "       [5.454],\n",
       "       [5.414],\n",
       "       [5.093],\n",
       "       [5.983],\n",
       "       [5.983],\n",
       "       [5.707],\n",
       "       [5.926],\n",
       "       [5.67 ],\n",
       "       [5.39 ],\n",
       "       [5.794],\n",
       "       [6.019],\n",
       "       [5.569],\n",
       "       [6.027],\n",
       "       [6.593],\n",
       "       [6.12 ],\n",
       "       [6.976],\n",
       "       [6.794],\n",
       "       [6.03 ]])"
      ]
     },
     "execution_count": 138,
     "metadata": {},
     "output_type": "execute_result"
    }
   ],
   "source": [
    "# Set up Y as the target price of the houses.\n",
    "Y = boston_df.Price\n",
    "X"
   ]
  },
  {
   "cell_type": "markdown",
   "metadata": {},
   "source": [
    "Now that we have our X and Y, let's go ahead and use numpy to create the single variable linear regression.\n",
    "\n",
    "We know that a line has the equation:\n",
    "$$y=mx+b$$\n",
    "which we can rewrite using matrices:\n",
    "$$y=Ap$$\n",
    "where:\n",
    "$$A = \\begin{bmatrix}x & 1\\end{bmatrix}$$\n",
    "and\n",
    "$$p= \\begin{bmatrix}m \\\\b\\end{bmatrix}$$\n",
    "\n",
    "This is the same as the first equation if you carry out the linear algebra. \n",
    "So we'll start by creating the A matrix using numpy. We'll do this by creating a matrix in the form [X 1], so we'll call every value in our original X using a list comprehension and then set up an array in the form [X 1]"
   ]
  },
  {
   "cell_type": "code",
   "execution_count": 139,
   "metadata": {},
   "outputs": [],
   "source": [
    "# Create the X array in the form [X 1]\n",
    "X = np.array([[value,float(1)] for value in X ]) "
   ]
  },
  {
   "cell_type": "code",
   "execution_count": 140,
   "metadata": {},
   "outputs": [],
   "source": [
    "# lstsq함수에 문제가 생겨 형변환을 해줌\n",
    "X = X.astype(np.float64)"
   ]
  },
  {
   "cell_type": "markdown",
   "metadata": {},
   "source": [
    "Great! Now we can get the best fit values!"
   ]
  },
  {
   "cell_type": "code",
   "execution_count": 129,
   "metadata": {},
   "outputs": [],
   "source": [
    "m , b = np.linalg.lstsq(X,Y,rcond=None)[0]"
   ]
  },
  {
   "cell_type": "code",
   "execution_count": 133,
   "metadata": {},
   "outputs": [
    {
     "data": {
      "text/plain": [
       "9.102108981180313"
      ]
     },
     "execution_count": 133,
     "metadata": {},
     "output_type": "execute_result"
    }
   ],
   "source": [
    "m"
   ]
  },
  {
   "cell_type": "code",
   "execution_count": 132,
   "metadata": {},
   "outputs": [
    {
     "data": {
      "text/plain": [
       "-34.670620776438575"
      ]
     },
     "execution_count": 132,
     "metadata": {},
     "output_type": "execute_result"
    }
   ],
   "source": [
    "b"
   ]
  },
  {
   "cell_type": "markdown",
   "metadata": {},
   "source": [
    "Finally let's plot it all together! Note that we use the original format of the boston information. We only did our matrix transformations to utilize the numpy least square method."
   ]
  },
  {
   "cell_type": "code",
   "execution_count": 141,
   "metadata": {},
   "outputs": [
    {
     "data": {
      "text/plain": [
       "[<matplotlib.lines.Line2D at 0x7f9f28d4bfd0>]"
      ]
     },
     "execution_count": 141,
     "metadata": {},
     "output_type": "execute_result"
    },
    {
     "data": {
      "image/png": "[encoded data removed]",
      "text/plain": [
       "<Figure size 432x288 with 1 Axes>"
      ]
     },
     "metadata": {
      "needs_background": "light"
     },
     "output_type": "display_data"
    }
   ],
   "source": [
    "# First the original points, Price vs Avg Number of Rooms\n",
    "plt.plot(boston_df.RM,boston_df.Price,'o')\n",
    "\n",
    "# Next the best fit line\n",
    "x= boston_df.RM\n",
    "plt.plot(x, m*x + b,'r',label='Best Fit Line')"
   ]
  },
  {
   "cell_type": "markdown",
   "metadata": {},
   "source": [
    "### Step 5: Getting the error "
   ]
  },
  {
   "cell_type": "markdown",
   "metadata": {},
   "source": [
    "Great! We've just completed a single variable regression using the least squares method with Python! Let's see if we can find the error in our fitted line. Checking out the documentation [here](http://docs.scipy.org/doc/numpy/reference/generated/numpy.linalg.lstsq.html), we see that the resulting array has the total squared error. For each element, it checks the the difference between the line and the true value (our original D value), squares it, and returns the sum of all these. This was the summed D^2 value we discussed earlier. \n",
    "\n",
    "It's probably easier to understand the root mean squared error, which is similar to the standard deviation. In this case, to find the root mean square error we divide by the number of elements and then take the square root. There is also an issue of bias and an unbiased regression, but we'll delve into those topics later.\n",
    "\n",
    "For now let's see how we can get the root mean squared error of the line we just fitted."
   ]
  },
  {
   "cell_type": "code",
   "execution_count": 142,
   "metadata": {},
   "outputs": [
    {
     "name": "stdout",
     "output_type": "stream",
     "text": [
      "The root mean squared error was 6.60 \n"
     ]
    }
   ],
   "source": [
    "# Get the resulting array\n",
    "result = np.linalg.lstsq(X,Y,rcond=None)\n",
    "\n",
    "# Get the total error\n",
    "error_total = result[1]\n",
    "\n",
    "# Get the root mean square error\n",
    "rmse = np.sqrt(error_total/len(X) )\n",
    "\n",
    "# Print\n",
    "print(\"The root mean squared error was %.2f \" %rmse)"
   ]
  },
  {
   "cell_type": "markdown",
   "metadata": {},
   "source": [
    "Since the root mean square error (RMSE) corresponds approximately to the standard deviation we can now say that the price of a house won't vary more than 2 times the RMSE 95% of the time. Note: Review the Normal Distribution Appendix lecture if this doesn't make sense to you or check out this [link](http://en.wikipedia.org/wiki/68%E2%80%9395%E2%80%9399.7_rule).\n",
    "\n",
    "Thus we can reasonably expect a house price to be within $13,200 of our line fit."
   ]
  },
  {
   "cell_type": "markdown",
   "metadata": {},
   "source": [
    "### Step 6: Using scikit learn to implement a multivariate regression"
   ]
  },
  {
   "cell_type": "markdown",
   "metadata": {},
   "source": [
    "Now, we'll keep moving along with using scikit learn to do a multi variable regression. This will be a similar apporach to the above example, but sci kit learn will be able to take into account more than just a single data variable effecting the target!\n",
    "\n",
    "We'll start by importing the [linear regression library](http://scikit-learn.org/stable/modules/generated/sklearn.linear_model.LinearRegression.html) from the sklearn module.\n",
    "\n",
    "The sklearn.linear_model.LinearRegression class is an estimator. Estimators predict a value based on the observed data. In scikit-learn, all estimators implement the fit() and predict() methods. The former method is used to learn the parameters of a model, and the latter method is used to predict the value of a response variable for an explanatory variable using the learned parameters. It is easy to experiment with different models using scikit-learn because all estimators implement the fit and predict methods."
   ]
  },
  {
   "cell_type": "code",
   "execution_count": 143,
   "metadata": {},
   "outputs": [],
   "source": [
    "# Import for Linear Regression\n",
    "import sklearn\n",
    "from sklearn.linear_model import LinearRegression"
   ]
  },
  {
   "cell_type": "markdown",
   "metadata": {},
   "source": [
    "Next, we create a LinearRegression object, afterwards, type lm. then press tab to see the list of methods availble on this object."
   ]
  },
  {
   "cell_type": "code",
   "execution_count": 144,
   "metadata": {},
   "outputs": [],
   "source": [
    "# Create LinearRegression object\n",
    "lreg = LinearRegression()"
   ]
  },
  {
   "cell_type": "markdown",
   "metadata": {},
   "source": [
    "The functions we will be using are:\n",
    "\n",
    "lreg.fit() which fits a linear model\n",
    "\n",
    "lreg.predict() which is used to predict Y using the linear model with estimated coefficients\n",
    "\n",
    "lreg.score() which returns the coefficient of determination (R^2). A measure of how well observed outcomes are replicated by the model, learn more about it [here](http://en.wikipedia.org/wiki/Coefficient_of_determination)\n",
    "\n",
    "\n",
    "\n"
   ]
  },
  {
   "cell_type": "markdown",
   "metadata": {},
   "source": [
    "We'll start the multi variable regression analysis by seperating our boston dataframe into the data columns and the target columns:"
   ]
  },
  {
   "cell_type": "code",
   "execution_count": 145,
   "metadata": {},
   "outputs": [],
   "source": [
    "# Data Columns\n",
    "X_multi = boston_df.drop('Price',1)\n",
    "\n",
    "# Targets\n",
    "Y_target = boston_df.Price"
   ]
  },
  {
   "cell_type": "markdown",
   "metadata": {},
   "source": [
    "Finally, we're ready to pass the X and Y using the linear regression object."
   ]
  },
  {
   "cell_type": "code",
   "execution_count": 146,
   "metadata": {},
   "outputs": [
    {
     "data": {
      "text/plain": [
       "LinearRegression()"
      ]
     },
     "execution_count": 146,
     "metadata": {},
     "output_type": "execute_result"
    }
   ],
   "source": [
    "# Implement Linear Regression\n",
    "lreg.fit(X_multi,Y_target)"
   ]
  },
  {
   "cell_type": "markdown",
   "metadata": {
    "collapsed": true
   },
   "source": [
    "Let's go ahead check the intercept and number of coefficients."
   ]
  },
  {
   "cell_type": "code",
   "execution_count": 147,
   "metadata": {},
   "outputs": [
    {
     "name": "stdout",
     "output_type": "stream",
     "text": [
      " The estimated intercept coefficient is 36.46 \n"
     ]
    }
   ],
   "source": [
    "print(' The estimated intercept coefficient is %.2f ' %lreg.intercept_)"
   ]
  },
  {
   "cell_type": "code",
   "execution_count": 148,
   "metadata": {},
   "outputs": [
    {
     "name": "stdout",
     "output_type": "stream",
     "text": [
      " The number of coefficients used was 13 \n"
     ]
    }
   ],
   "source": [
    "print(' The number of coefficients used was %d ' % len(lreg.coef_))"
   ]
  },
  {
   "cell_type": "markdown",
   "metadata": {},
   "source": [
    "Great! So we have basically made an equation for a line, but instead of just oneo coefficient m and an intercept b, we now have 13 coefficients. To get an idea of what this looks like check out the [documentation](http://scikit-learn.org/stable/modules/linear_model.html) for this equation:\n",
    "$$ y(w,x) = w_0 + w_1 x_1 + ... + w_p x_p $$\n",
    "\n",
    "Where $$w = (w_1, ...w_p)$$ as the coefficients and $$ w_0 $$ as the intercept "
   ]
  },
  {
   "cell_type": "markdown",
   "metadata": {},
   "source": [
    "What we'll do next is set up a DataFrame showing all the Features and their estimated coefficients obtained form the linear regression."
   ]
  },
  {
   "cell_type": "code",
   "execution_count": 149,
   "metadata": {},
   "outputs": [
    {
     "data": {
      "text/html": [
       "<div>\n",
       "<style scoped>\n",
       "    .dataframe tbody tr th:only-of-type {\n",
       "        vertical-align: middle;\n",
       "    }\n",
       "\n",
       "    .dataframe tbody tr th {\n",
       "        vertical-align: top;\n",
       "    }\n",
       "\n",
       "    .dataframe thead th {\n",
       "        text-align: right;\n",
       "    }\n",
       "</style>\n",
       "<table border=\"1\" class=\"dataframe\">\n",
       "  <thead>\n",
       "    <tr style=\"text-align: right;\">\n",
       "      <th></th>\n",
       "      <th>Features</th>\n",
       "      <th>Coefficient Estimate</th>\n",
       "    </tr>\n",
       "  </thead>\n",
       "  <tbody>\n",
       "    <tr>\n",
       "      <th>0</th>\n",
       "      <td>CRIM</td>\n",
       "      <td>-0.108011</td>\n",
       "    </tr>\n",
       "    <tr>\n",
       "      <th>1</th>\n",
       "      <td>ZN</td>\n",
       "      <td>0.046420</td>\n",
       "    </tr>\n",
       "    <tr>\n",
       "      <th>2</th>\n",
       "      <td>INDUS</td>\n",
       "      <td>0.020559</td>\n",
       "    </tr>\n",
       "    <tr>\n",
       "      <th>3</th>\n",
       "      <td>CHAS</td>\n",
       "      <td>2.686734</td>\n",
       "    </tr>\n",
       "    <tr>\n",
       "      <th>4</th>\n",
       "      <td>NOX</td>\n",
       "      <td>-17.766611</td>\n",
       "    </tr>\n",
       "    <tr>\n",
       "      <th>5</th>\n",
       "      <td>RM</td>\n",
       "      <td>3.809865</td>\n",
       "    </tr>\n",
       "    <tr>\n",
       "      <th>6</th>\n",
       "      <td>AGE</td>\n",
       "      <td>0.000692</td>\n",
       "    </tr>\n",
       "    <tr>\n",
       "      <th>7</th>\n",
       "      <td>DIS</td>\n",
       "      <td>-1.475567</td>\n",
       "    </tr>\n",
       "    <tr>\n",
       "      <th>8</th>\n",
       "      <td>RAD</td>\n",
       "      <td>0.306049</td>\n",
       "    </tr>\n",
       "    <tr>\n",
       "      <th>9</th>\n",
       "      <td>TAX</td>\n",
       "      <td>-0.012335</td>\n",
       "    </tr>\n",
       "    <tr>\n",
       "      <th>10</th>\n",
       "      <td>PTRATIO</td>\n",
       "      <td>-0.952747</td>\n",
       "    </tr>\n",
       "    <tr>\n",
       "      <th>11</th>\n",
       "      <td>B</td>\n",
       "      <td>0.009312</td>\n",
       "    </tr>\n",
       "    <tr>\n",
       "      <th>12</th>\n",
       "      <td>LSTAT</td>\n",
       "      <td>-0.524758</td>\n",
       "    </tr>\n",
       "    <tr>\n",
       "      <th>13</th>\n",
       "      <td>Price</td>\n",
       "      <td>NaN</td>\n",
       "    </tr>\n",
       "  </tbody>\n",
       "</table>\n",
       "</div>"
      ],
      "text/plain": [
       "   Features  Coefficient Estimate\n",
       "0      CRIM             -0.108011\n",
       "1        ZN              0.046420\n",
       "2     INDUS              0.020559\n",
       "3      CHAS              2.686734\n",
       "4       NOX            -17.766611\n",
       "5        RM              3.809865\n",
       "6       AGE              0.000692\n",
       "7       DIS             -1.475567\n",
       "8       RAD              0.306049\n",
       "9       TAX             -0.012335\n",
       "10  PTRATIO             -0.952747\n",
       "11        B              0.009312\n",
       "12    LSTAT             -0.524758\n",
       "13    Price                   NaN"
      ]
     },
     "execution_count": 149,
     "metadata": {},
     "output_type": "execute_result"
    }
   ],
   "source": [
    "# Set a DataFrame from the Features\n",
    "coeff_df = DataFrame(boston_df.columns)\n",
    "coeff_df.columns = ['Features']\n",
    "\n",
    "# Set a new column lining up the coefficients from the linear regression\n",
    "coeff_df[\"Coefficient Estimate\"] = pd.Series(lreg.coef_)\n",
    "\n",
    "# Show\n",
    "coeff_df"
   ]
  },
  {
   "cell_type": "markdown",
   "metadata": {},
   "source": [
    "Just like we initially plotted out, it seems the highest correlation between a feature and a house price was the number of rooms.\n",
    "\n",
    "Now let's move on to Predicting prices!"
   ]
  },
  {
   "cell_type": "markdown",
   "metadata": {},
   "source": [
    "### Step 7: Using Training and Validation "
   ]
  },
  {
   "cell_type": "markdown",
   "metadata": {},
   "source": [
    "In a dataset a training set is implemented to build up a model, while a validation set is used to validate the model built. Data points in the training set are excluded from the validation set. The correct way to pick out samples from your dataset to be part either the training or validation (also called test) set is *randomly*.\n",
    "\n",
    "Fortunately, scikit learn has a built in function specifically for this called train_test_split.\n",
    "\n",
    "The parameters passed are your X and Y, then optionally test_size parameter, representing the proportion of the dataset to include in the test split. As well a train_size parameter. ou can learn more about these parameters [here](http://scikit-learn.org/stable/modules/generated/sklearn.cross_validation.train_test_split.html)"
   ]
  },
  {
   "cell_type": "code",
   "execution_count": 150,
   "metadata": {},
   "outputs": [],
   "source": [
    "# Grab the output and set as X and Y test and train data sets!\n",
    "X_train, X_test, Y_train, Y_test = sklearn.model_selection.train_test_split(X,boston_df.Price)"
   ]
  },
  {
   "cell_type": "markdown",
   "metadata": {},
   "source": [
    "Let's go ahead and see what the output of the train_test_split was:"
   ]
  },
  {
   "cell_type": "code",
   "execution_count": 151,
   "metadata": {},
   "outputs": [
    {
     "name": "stdout",
     "output_type": "stream",
     "text": [
      "(379, 2) (127, 2) (379,) (127,)\n"
     ]
    }
   ],
   "source": [
    "# Print shapes of the training and testing data sets\n",
    "print(X_train.shape, X_test.shape, Y_train.shape, Y_test.shape)"
   ]
  },
  {
   "cell_type": "markdown",
   "metadata": {},
   "source": [
    "Great! Now that we have our training and testing sets we can continue on to predicint gprices based on the multiple variables."
   ]
  },
  {
   "cell_type": "markdown",
   "metadata": {},
   "source": [
    "### Step 8: Predicting Prices"
   ]
  },
  {
   "cell_type": "markdown",
   "metadata": {},
   "source": [
    "Now that we have our training and testing sets, let's go ahead and try to use them to predict house prices. We'll use our training set for the prediction and then use our testing set for validation."
   ]
  },
  {
   "cell_type": "code",
   "execution_count": 152,
   "metadata": {},
   "outputs": [
    {
     "data": {
      "text/plain": [
       "LinearRegression()"
      ]
     },
     "execution_count": 152,
     "metadata": {},
     "output_type": "execute_result"
    }
   ],
   "source": [
    "# Create our regression object\n",
    "lreg = LinearRegression()\n",
    "\n",
    "# Once again do a linear regression, except only on the training sets this time\n",
    "lreg.fit(X_train,Y_train)"
   ]
  },
  {
   "cell_type": "markdown",
   "metadata": {},
   "source": [
    "Now run a prediction on both the X training set and the testing set."
   ]
  },
  {
   "cell_type": "code",
   "execution_count": 153,
   "metadata": {},
   "outputs": [],
   "source": [
    "# Predictions on training and testing sets\n",
    "pred_train = lreg.predict(X_train)\n",
    "pred_test = lreg.predict(X_test)"
   ]
  },
  {
   "cell_type": "markdown",
   "metadata": {},
   "source": [
    "Now we will get the mean square error"
   ]
  },
  {
   "cell_type": "code",
   "execution_count": 155,
   "metadata": {},
   "outputs": [
    {
     "name": "stdout",
     "output_type": "stream",
     "text": [
      "Fit a model X_train, and calculate the MSE with Y_train: 47.15\n",
      "Fit a model X_train, and calculate the MSE with X_test and  Y_test: 33.18\n"
     ]
    }
   ],
   "source": [
    "print(\"Fit a model X_train, and calculate the MSE with Y_train: %.2f\" %np.mean((Y_train-pred_train)**2))\n",
    "print(\"Fit a model X_train, and calculate the MSE with X_test and  Y_test: %.2f\" %np.mean((Y_test-pred_test)**2))"
   ]
  },
  {
   "cell_type": "markdown",
   "metadata": {},
   "source": [
    "It looks like our mean square error between our training and testing was pretty close. But how do we actually visualize this?"
   ]
  },
  {
   "cell_type": "markdown",
   "metadata": {},
   "source": [
    "### Step 9 : Residual Plots"
   ]
  },
  {
   "cell_type": "markdown",
   "metadata": {},
   "source": [
    "In regression analysis, the difference between the observed value of the dependent variable (y) and the predicted value (ŷ) is called the residual (e). Each data point has one residual, so that:\n",
    "\n",
    "$$Residual = Observed\\:value - Predicted\\:value $$"
   ]
  },
  {
   "cell_type": "markdown",
   "metadata": {},
   "source": [
    "You can think of these residuals in the same way as the D value we discussed earlier, in this case however, there were multiple data points considered."
   ]
  },
  {
   "cell_type": "markdown",
   "metadata": {},
   "source": [
    "A residual plot is a graph that shows the residuals on the vertical axis and the independent variable on the horizontal axis. If the points in a residual plot are randomly dispersed around the horizontal axis, a linear regression model is appropriate for the data; otherwise, a non-linear model is more appropriate.\n",
    "\n",
    "Residual plots are a good way to visualize the errors in your data.  If you have done a good job then your data should be randomly scattered around line zero. If there is some strucutre or pattern, that means your model is not capturing some thing. There could be an interaction between 2 variables that you're not considering, or may be you are measuring time dependent data. If this is the case go back to your model and check your data set closely.\n",
    "\n",
    "So now let's go ahead and create the residual plot. For more info on the residual plots check out this great [link](http://blog.minitab.com/blog/adventures-in-statistics/why-you-need-to-check-your-residual-plots-for-regression-analysis)."
   ]
  },
  {
   "cell_type": "code",
   "execution_count": 168,
   "metadata": {},
   "outputs": [
    {
     "data": {
      "text/plain": [
       "Text(0.5, 1.0, 'Residual Plots')"
      ]
     },
     "execution_count": 168,
     "metadata": {},
     "output_type": "execute_result"
    },
    {
     "data": {
      "image/png": "[encoded data removed]",
      "text/plain": [
       "<Figure size 432x288 with 1 Axes>"
      ]
     },
     "metadata": {
      "needs_background": "light"
     },
     "output_type": "display_data"
    }
   ],
   "source": [
    "# Scatter plot the training data\n",
    "train = plt.scatter(pred_train,(Y_train-pred_train),c='b',alpha=0.5)\n",
    "\n",
    "# Scatter plot the testing data\n",
    "test = plt.scatter(pred_test,(Y_test-pred_test),c='r',alpha=0.5)\n",
    "\n",
    "# Plot a horizontal axis line at 0\n",
    "plt.hlines(y=0,xmin=-20,xmax=60)\n",
    "\n",
    "#Labels\n",
    "plt.legend((train,test),('Training','Test'),loc='upper right')\n",
    "plt.title('Residual Plots')"
   ]
  },
  {
   "cell_type": "markdown",
   "metadata": {},
   "source": [
    "Great! Looks like there aren't any major patterns to be concerned about, it may be interesting to check out the line occuring towards the bottom right, but overall the majority of the residuals seem to be randomly allocated above and below the horizontal. We could also use seaborn to create these plots:"
   ]
  },
  {
   "cell_type": "code",
   "execution_count": 172,
   "metadata": {},
   "outputs": [
    {
     "data": {
      "text/plain": [
       "<matplotlib.collections.PathCollection at 0x7f9f2a46d940>"
      ]
     },
     "execution_count": 172,
     "metadata": {},
     "output_type": "execute_result"
    }
   ],
   "source": [
    "# Residual plot of all the dataset using seaborn\n"
   ]
  },
  {
   "cell_type": "markdown",
   "metadata": {},
   "source": [
    "That's it for this lesson. Linear regression is a very broad topic, theres a ton of great information in the sci kit learn documentation, and I encourage you to check it out here:  http://scikit-learn.org/stable/modules/linear_model.html#linear-model"
   ]
  },
  {
   "cell_type": "code",
   "execution_count": null,
   "metadata": {
    "collapsed": true
   },
   "outputs": [],
   "source": []
  },
  {
   "cell_type": "code",
   "execution_count": null,
   "metadata": {
    "collapsed": true
   },
   "outputs": [],
   "source": []
  }
 ],
 "metadata": {
  "kernelspec": {
   "display_name": "Python 3",
   "language": "python",
   "name": "python3"
  },
  "language_info": {
   "codemirror_mode": {
    "name": "ipython",
    "version": 3
   },
   "file_extension": ".py",
   "mimetype": "text/x-python",
   "name": "python",
   "nbconvert_exporter": "python",
   "pygments_lexer": "ipython3",
   "version": "3.5.6"
  }
 },
 "nbformat": 4,
 "nbformat_minor": 1
}
