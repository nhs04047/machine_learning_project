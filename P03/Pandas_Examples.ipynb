{
 "cells": [
  {
   "cell_type": "markdown",
   "metadata": {},
   "source": [
    "# Series"
   ]
  },
  {
   "cell_type": "code",
   "execution_count": 1,
   "metadata": {
    "collapsed": true
   },
   "outputs": [],
   "source": [
    "import numpy as np\n",
    "import pandas as pd\n",
    "\n",
    "from pandas import Series, DataFrame"
   ]
  },
  {
   "cell_type": "code",
   "execution_count": 2,
   "metadata": {
    "collapsed": false
   },
   "outputs": [
    {
     "data": {
      "text/plain": [
       "0     3\n",
       "1     6\n",
       "2     9\n",
       "3    12\n",
       "dtype: int64"
      ]
     },
     "execution_count": 2,
     "metadata": {},
     "output_type": "execute_result"
    }
   ],
   "source": [
    "obj = Series([3, 6, 9, 12])\n",
    "obj"
   ]
  },
  {
   "cell_type": "code",
   "execution_count": 3,
   "metadata": {
    "collapsed": false
   },
   "outputs": [
    {
     "data": {
      "text/plain": [
       "array([ 3,  6,  9, 12])"
      ]
     },
     "execution_count": 3,
     "metadata": {},
     "output_type": "execute_result"
    }
   ],
   "source": [
    "obj.values"
   ]
  },
  {
   "cell_type": "code",
   "execution_count": 4,
   "metadata": {
    "collapsed": false
   },
   "outputs": [
    {
     "data": {
      "text/plain": [
       "RangeIndex(start=0, stop=4, step=1)"
      ]
     },
     "execution_count": 4,
     "metadata": {},
     "output_type": "execute_result"
    }
   ],
   "source": [
    "obj.index"
   ]
  },
  {
   "cell_type": "code",
   "execution_count": 5,
   "metadata": {
    "collapsed": false
   },
   "outputs": [
    {
     "data": {
      "text/plain": [
       "USSR       8700000\n",
       "Germany    4300000\n",
       "China      3000000\n",
       "Japan      2100000\n",
       "USA         400000\n",
       "dtype: int64"
      ]
     },
     "execution_count": 5,
     "metadata": {},
     "output_type": "execute_result"
    }
   ],
   "source": [
    "ww2_cas = Series([8700000, 4300000, 3000000, 2100000, 400000], index=['USSR', 'Germany', 'China', 'Japan', 'USA'])\n",
    "\n",
    "ww2_cas"
   ]
  },
  {
   "cell_type": "code",
   "execution_count": 6,
   "metadata": {
    "collapsed": false
   },
   "outputs": [
    {
     "data": {
      "text/plain": [
       "400000"
      ]
     },
     "execution_count": 6,
     "metadata": {},
     "output_type": "execute_result"
    }
   ],
   "source": [
    "ww2_cas['USA']"
   ]
  },
  {
   "cell_type": "code",
   "execution_count": 7,
   "metadata": {
    "collapsed": false
   },
   "outputs": [
    {
     "data": {
      "text/plain": [
       "USSR       8700000\n",
       "Germany    4300000\n",
       "dtype: int64"
      ]
     },
     "execution_count": 7,
     "metadata": {},
     "output_type": "execute_result"
    }
   ],
   "source": [
    "# Check which countries had cas greater than 3 mill\n",
    "\n",
    "ww2_cas[ww2_cas > 4000000]"
   ]
  },
  {
   "cell_type": "code",
   "execution_count": 8,
   "metadata": {
    "collapsed": false
   },
   "outputs": [
    {
     "data": {
      "text/plain": [
       "True"
      ]
     },
     "execution_count": 8,
     "metadata": {},
     "output_type": "execute_result"
    }
   ],
   "source": [
    "'USSR' in ww2_cas"
   ]
  },
  {
   "cell_type": "code",
   "execution_count": 9,
   "metadata": {
    "collapsed": false
   },
   "outputs": [
    {
     "data": {
      "text/plain": [
       "{'China': 3000000,\n",
       " 'Germany': 4300000,\n",
       " 'Japan': 2100000,\n",
       " 'USA': 400000,\n",
       " 'USSR': 8700000}"
      ]
     },
     "execution_count": 9,
     "metadata": {},
     "output_type": "execute_result"
    }
   ],
   "source": [
    "ww2_dict = ww2_cas.to_dict()\n",
    "\n",
    "ww2_dict"
   ]
  },
  {
   "cell_type": "code",
   "execution_count": 10,
   "metadata": {
    "collapsed": true
   },
   "outputs": [],
   "source": [
    "ww2_series = Series(ww2_dict)"
   ]
  },
  {
   "cell_type": "code",
   "execution_count": 11,
   "metadata": {
    "collapsed": false
   },
   "outputs": [
    {
     "data": {
      "text/plain": [
       "China      3000000\n",
       "Germany    4300000\n",
       "Japan      2100000\n",
       "USA         400000\n",
       "USSR       8700000\n",
       "dtype: int64"
      ]
     },
     "execution_count": 11,
     "metadata": {},
     "output_type": "execute_result"
    }
   ],
   "source": [
    "ww2_series"
   ]
  },
  {
   "cell_type": "code",
   "execution_count": 12,
   "metadata": {
    "collapsed": true
   },
   "outputs": [],
   "source": [
    "countries = ['China', 'Germany', 'Japan', 'USA', 'USSR', 'Argentina']"
   ]
  },
  {
   "cell_type": "code",
   "execution_count": 13,
   "metadata": {
    "collapsed": false
   },
   "outputs": [
    {
     "data": {
      "text/plain": [
       "China        3000000.0\n",
       "Germany      4300000.0\n",
       "Japan        2100000.0\n",
       "USA           400000.0\n",
       "USSR         8700000.0\n",
       "Argentina          NaN\n",
       "dtype: float64"
      ]
     },
     "execution_count": 13,
     "metadata": {},
     "output_type": "execute_result"
    }
   ],
   "source": [
    "obj2 = Series(ww2_dict, index=countries)\n",
    "\n",
    "obj2"
   ]
  },
  {
   "cell_type": "code",
   "execution_count": 14,
   "metadata": {
    "collapsed": false
   },
   "outputs": [
    {
     "data": {
      "text/plain": [
       "China        False\n",
       "Germany      False\n",
       "Japan        False\n",
       "USA          False\n",
       "USSR         False\n",
       "Argentina     True\n",
       "dtype: bool"
      ]
     },
     "execution_count": 14,
     "metadata": {},
     "output_type": "execute_result"
    }
   ],
   "source": [
    "pd.isnull(obj2)"
   ]
  },
  {
   "cell_type": "code",
   "execution_count": 15,
   "metadata": {
    "collapsed": false
   },
   "outputs": [
    {
     "data": {
      "text/plain": [
       "China         True\n",
       "Germany       True\n",
       "Japan         True\n",
       "USA           True\n",
       "USSR          True\n",
       "Argentina    False\n",
       "dtype: bool"
      ]
     },
     "execution_count": 15,
     "metadata": {},
     "output_type": "execute_result"
    }
   ],
   "source": [
    "pd.notnull(obj2)"
   ]
  },
  {
   "cell_type": "code",
   "execution_count": 16,
   "metadata": {
    "collapsed": false
   },
   "outputs": [
    {
     "data": {
      "text/plain": [
       "China      3000000\n",
       "Germany    4300000\n",
       "Japan      2100000\n",
       "USA         400000\n",
       "USSR       8700000\n",
       "dtype: int64"
      ]
     },
     "execution_count": 16,
     "metadata": {},
     "output_type": "execute_result"
    }
   ],
   "source": [
    "ww2_series"
   ]
  },
  {
   "cell_type": "code",
   "execution_count": 17,
   "metadata": {
    "collapsed": false
   },
   "outputs": [
    {
     "data": {
      "text/plain": [
       "China        3000000.0\n",
       "Germany      4300000.0\n",
       "Japan        2100000.0\n",
       "USA           400000.0\n",
       "USSR         8700000.0\n",
       "Argentina          NaN\n",
       "dtype: float64"
      ]
     },
     "execution_count": 17,
     "metadata": {},
     "output_type": "execute_result"
    }
   ],
   "source": [
    "obj2"
   ]
  },
  {
   "cell_type": "code",
   "execution_count": 18,
   "metadata": {
    "collapsed": false
   },
   "outputs": [
    {
     "data": {
      "text/plain": [
       "Argentina           NaN\n",
       "China         6000000.0\n",
       "Germany       8600000.0\n",
       "Japan         4200000.0\n",
       "USA            800000.0\n",
       "USSR         17400000.0\n",
       "dtype: float64"
      ]
     },
     "execution_count": 18,
     "metadata": {},
     "output_type": "execute_result"
    }
   ],
   "source": [
    "ww2_series + obj2"
   ]
  },
  {
   "cell_type": "code",
   "execution_count": 19,
   "metadata": {
    "collapsed": true
   },
   "outputs": [],
   "source": [
    "obj2.name = \"World War 2 Casualties\""
   ]
  },
  {
   "cell_type": "code",
   "execution_count": 20,
   "metadata": {
    "collapsed": false
   },
   "outputs": [
    {
     "data": {
      "text/plain": [
       "China        3000000.0\n",
       "Germany      4300000.0\n",
       "Japan        2100000.0\n",
       "USA           400000.0\n",
       "USSR         8700000.0\n",
       "Argentina          NaN\n",
       "Name: World War 2 Casualties, dtype: float64"
      ]
     },
     "execution_count": 20,
     "metadata": {},
     "output_type": "execute_result"
    }
   ],
   "source": [
    "obj2"
   ]
  },
  {
   "cell_type": "code",
   "execution_count": 21,
   "metadata": {
    "collapsed": true
   },
   "outputs": [],
   "source": [
    "obj2.index.name = 'Countries'"
   ]
  },
  {
   "cell_type": "code",
   "execution_count": 22,
   "metadata": {
    "collapsed": false
   },
   "outputs": [
    {
     "data": {
      "text/plain": [
       "Countries\n",
       "China        3000000.0\n",
       "Germany      4300000.0\n",
       "Japan        2100000.0\n",
       "USA           400000.0\n",
       "USSR         8700000.0\n",
       "Argentina          NaN\n",
       "Name: World War 2 Casualties, dtype: float64"
      ]
     },
     "execution_count": 22,
     "metadata": {},
     "output_type": "execute_result"
    }
   ],
   "source": [
    "obj2"
   ]
  },
  {
   "cell_type": "markdown",
   "metadata": {},
   "source": [
    "# DataFrame"
   ]
  },
  {
   "cell_type": "code",
   "execution_count": 23,
   "metadata": {
    "collapsed": true
   },
   "outputs": [],
   "source": [
    "import numpy as np\n",
    "import pandas as pd\n",
    "from pandas import Series, DataFrame"
   ]
  },
  {
   "cell_type": "code",
   "execution_count": 24,
   "metadata": {
    "collapsed": false
   },
   "outputs": [
    {
     "data": {
      "text/plain": [
       "True"
      ]
     },
     "execution_count": 24,
     "metadata": {},
     "output_type": "execute_result"
    }
   ],
   "source": [
    "import webbrowser\n",
    "website = 'http://en.wikipedia.org/wiki/NFL_win-loss_records'\n",
    "webbrowser.open(website)"
   ]
  },
  {
   "cell_type": "code",
   "execution_count": 27,
   "metadata": {
    "collapsed": false
   },
   "outputs": [],
   "source": [
    "nfl_frame = pd.read_clipboard()"
   ]
  },
  {
   "cell_type": "code",
   "execution_count": 28,
   "metadata": {
    "collapsed": false
   },
   "outputs": [
    {
     "data": {
      "text/html": [
       "<div>\n",
       "<table border=\"1\" class=\"dataframe\">\n",
       "  <thead>\n",
       "    <tr style=\"text-align: right;\">\n",
       "      <th></th>\n",
       "      <th>Rank</th>\n",
       "      <th>Team</th>\n",
       "      <th>Won</th>\n",
       "      <th>Lost</th>\n",
       "      <th>Tied</th>\n",
       "      <th>Pct.</th>\n",
       "      <th>First NFL Season</th>\n",
       "      <th>Total Games</th>\n",
       "      <th>Division</th>\n",
       "    </tr>\n",
       "  </thead>\n",
       "  <tbody>\n",
       "    <tr>\n",
       "      <th>0</th>\n",
       "      <td>1</td>\n",
       "      <td>Dallas Cowboys</td>\n",
       "      <td>493</td>\n",
       "      <td>367</td>\n",
       "      <td>6</td>\n",
       "      <td>0.573</td>\n",
       "      <td>1960</td>\n",
       "      <td>866</td>\n",
       "      <td>NFC East</td>\n",
       "    </tr>\n",
       "    <tr>\n",
       "      <th>1</th>\n",
       "      <td>2</td>\n",
       "      <td>Green Bay Packers</td>\n",
       "      <td>730</td>\n",
       "      <td>553</td>\n",
       "      <td>37</td>\n",
       "      <td>0.567</td>\n",
       "      <td>1921</td>\n",
       "      <td>1,320</td>\n",
       "      <td>NFC North</td>\n",
       "    </tr>\n",
       "    <tr>\n",
       "      <th>2</th>\n",
       "      <td>3</td>\n",
       "      <td>Chicago Bears</td>\n",
       "      <td>744</td>\n",
       "      <td>568</td>\n",
       "      <td>42</td>\n",
       "      <td>0.565</td>\n",
       "      <td>1920</td>\n",
       "      <td>1,354</td>\n",
       "      <td>NFC North</td>\n",
       "    </tr>\n",
       "    <tr>\n",
       "      <th>3</th>\n",
       "      <td>4</td>\n",
       "      <td>Miami Dolphins</td>\n",
       "      <td>439</td>\n",
       "      <td>341</td>\n",
       "      <td>4</td>\n",
       "      <td>0.563</td>\n",
       "      <td>1966</td>\n",
       "      <td>784</td>\n",
       "      <td>AFC East</td>\n",
       "    </tr>\n",
       "    <tr>\n",
       "      <th>4</th>\n",
       "      <td>5</td>\n",
       "      <td>New England Patriots</td>\n",
       "      <td>476</td>\n",
       "      <td>383</td>\n",
       "      <td>9</td>\n",
       "      <td>0.554</td>\n",
       "      <td>1960</td>\n",
       "      <td>868</td>\n",
       "      <td>AFC East</td>\n",
       "    </tr>\n",
       "    <tr>\n",
       "      <th>5</th>\n",
       "      <td>6</td>\n",
       "      <td>New York Giants</td>\n",
       "      <td>684</td>\n",
       "      <td>572</td>\n",
       "      <td>33</td>\n",
       "      <td>0.543</td>\n",
       "      <td>1925</td>\n",
       "      <td>1,289</td>\n",
       "      <td>NFC East</td>\n",
       "    </tr>\n",
       "    <tr>\n",
       "      <th>6</th>\n",
       "      <td>7</td>\n",
       "      <td>Denver Broncos</td>\n",
       "      <td>465</td>\n",
       "      <td>393</td>\n",
       "      <td>10</td>\n",
       "      <td>0.541</td>\n",
       "      <td>1960</td>\n",
       "      <td>868</td>\n",
       "      <td>AFC West</td>\n",
       "    </tr>\n",
       "    <tr>\n",
       "      <th>7</th>\n",
       "      <td>8</td>\n",
       "      <td>Minnesota Vikings</td>\n",
       "      <td>457</td>\n",
       "      <td>387</td>\n",
       "      <td>10</td>\n",
       "      <td>0.541</td>\n",
       "      <td>1961</td>\n",
       "      <td>854</td>\n",
       "      <td>NFC North</td>\n",
       "    </tr>\n",
       "    <tr>\n",
       "      <th>8</th>\n",
       "      <td>9</td>\n",
       "      <td>Baltimore Ravens</td>\n",
       "      <td>181</td>\n",
       "      <td>154</td>\n",
       "      <td>1</td>\n",
       "      <td>0.540</td>\n",
       "      <td>1996</td>\n",
       "      <td>336</td>\n",
       "      <td>AFC North</td>\n",
       "    </tr>\n",
       "    <tr>\n",
       "      <th>9</th>\n",
       "      <td>10</td>\n",
       "      <td>San Francisco 49ers</td>\n",
       "      <td>522</td>\n",
       "      <td>450</td>\n",
       "      <td>14</td>\n",
       "      <td>0.537</td>\n",
       "      <td>1950</td>\n",
       "      <td>986</td>\n",
       "      <td>NFC West</td>\n",
       "    </tr>\n",
       "    <tr>\n",
       "      <th>10</th>\n",
       "      <td>11</td>\n",
       "      <td>Indianapolis Colts</td>\n",
       "      <td>502</td>\n",
       "      <td>441</td>\n",
       "      <td>7</td>\n",
       "      <td>0.532</td>\n",
       "      <td>1953</td>\n",
       "      <td>950</td>\n",
       "      <td>AFC South</td>\n",
       "    </tr>\n",
       "    <tr>\n",
       "      <th>11</th>\n",
       "      <td>12</td>\n",
       "      <td>Oakland Raiders</td>\n",
       "      <td>456</td>\n",
       "      <td>401</td>\n",
       "      <td>11</td>\n",
       "      <td>0.532</td>\n",
       "      <td>1960</td>\n",
       "      <td>868</td>\n",
       "      <td>AFC West</td>\n",
       "    </tr>\n",
       "    <tr>\n",
       "      <th>12</th>\n",
       "      <td>13</td>\n",
       "      <td>Pittsburgh Steelers</td>\n",
       "      <td>601</td>\n",
       "      <td>535</td>\n",
       "      <td>20</td>\n",
       "      <td>0.529</td>\n",
       "      <td>1933</td>\n",
       "      <td>1,156</td>\n",
       "      <td>AFC North</td>\n",
       "    </tr>\n",
       "    <tr>\n",
       "      <th>13</th>\n",
       "      <td>14</td>\n",
       "      <td>Kansas City Chiefs</td>\n",
       "      <td>447</td>\n",
       "      <td>409</td>\n",
       "      <td>12</td>\n",
       "      <td>0.522</td>\n",
       "      <td>1960</td>\n",
       "      <td>868</td>\n",
       "      <td>AFC West</td>\n",
       "    </tr>\n",
       "    <tr>\n",
       "      <th>14</th>\n",
       "      <td>15</td>\n",
       "      <td>Washington Redskins</td>\n",
       "      <td>586</td>\n",
       "      <td>572</td>\n",
       "      <td>28</td>\n",
       "      <td>0.506</td>\n",
       "      <td>1932</td>\n",
       "      <td>1,186</td>\n",
       "      <td>NFC East</td>\n",
       "    </tr>\n",
       "    <tr>\n",
       "      <th>15</th>\n",
       "      <td>16</td>\n",
       "      <td>Seattle Seahawks</td>\n",
       "      <td>325</td>\n",
       "      <td>318</td>\n",
       "      <td>1</td>\n",
       "      <td>0.505</td>\n",
       "      <td>1976</td>\n",
       "      <td>644</td>\n",
       "      <td>NFC West</td>\n",
       "    </tr>\n",
       "    <tr>\n",
       "      <th>16</th>\n",
       "      <td>17</td>\n",
       "      <td>Cleveland Browns</td>\n",
       "      <td>462</td>\n",
       "      <td>466</td>\n",
       "      <td>10</td>\n",
       "      <td>0.498</td>\n",
       "      <td>1950</td>\n",
       "      <td>938</td>\n",
       "      <td>AFC North</td>\n",
       "    </tr>\n",
       "    <tr>\n",
       "      <th>17</th>\n",
       "      <td>18</td>\n",
       "      <td>Los Angeles Chargers</td>\n",
       "      <td>426</td>\n",
       "      <td>431</td>\n",
       "      <td>11</td>\n",
       "      <td>0.497</td>\n",
       "      <td>1960</td>\n",
       "      <td>868</td>\n",
       "      <td>AFC West</td>\n",
       "    </tr>\n",
       "    <tr>\n",
       "      <th>18</th>\n",
       "      <td>19</td>\n",
       "      <td>Los Angeles Rams</td>\n",
       "      <td>544</td>\n",
       "      <td>554</td>\n",
       "      <td>21</td>\n",
       "      <td>0.496</td>\n",
       "      <td>1937</td>\n",
       "      <td>1,119</td>\n",
       "      <td>NFC West</td>\n",
       "    </tr>\n",
       "    <tr>\n",
       "      <th>19</th>\n",
       "      <td>20</td>\n",
       "      <td>Carolina Panthers</td>\n",
       "      <td>172</td>\n",
       "      <td>179</td>\n",
       "      <td>1</td>\n",
       "      <td>0.490</td>\n",
       "      <td>1995</td>\n",
       "      <td>352</td>\n",
       "      <td>NFC South</td>\n",
       "    </tr>\n",
       "    <tr>\n",
       "      <th>20</th>\n",
       "      <td>21</td>\n",
       "      <td>Philadelphia Eagles</td>\n",
       "      <td>555</td>\n",
       "      <td>591</td>\n",
       "      <td>26</td>\n",
       "      <td>0.485</td>\n",
       "      <td>1933</td>\n",
       "      <td>1,172</td>\n",
       "      <td>NFC East</td>\n",
       "    </tr>\n",
       "    <tr>\n",
       "      <th>21</th>\n",
       "      <td>22</td>\n",
       "      <td>Tennessee Titans</td>\n",
       "      <td>413</td>\n",
       "      <td>449</td>\n",
       "      <td>6</td>\n",
       "      <td>0.479</td>\n",
       "      <td>1960</td>\n",
       "      <td>868</td>\n",
       "      <td>AFC South</td>\n",
       "    </tr>\n",
       "    <tr>\n",
       "      <th>22</th>\n",
       "      <td>23</td>\n",
       "      <td>Buffalo Bills</td>\n",
       "      <td>400</td>\n",
       "      <td>460</td>\n",
       "      <td>8</td>\n",
       "      <td>0.465</td>\n",
       "      <td>1960</td>\n",
       "      <td>868</td>\n",
       "      <td>AFC East</td>\n",
       "    </tr>\n",
       "    <tr>\n",
       "      <th>23</th>\n",
       "      <td>24</td>\n",
       "      <td>Detroit Lions</td>\n",
       "      <td>544</td>\n",
       "      <td>641</td>\n",
       "      <td>32</td>\n",
       "      <td>0.460</td>\n",
       "      <td>1930</td>\n",
       "      <td>1,217</td>\n",
       "      <td>NFC North</td>\n",
       "    </tr>\n",
       "    <tr>\n",
       "      <th>24</th>\n",
       "      <td>25</td>\n",
       "      <td>Cincinnati Bengals</td>\n",
       "      <td>344</td>\n",
       "      <td>408</td>\n",
       "      <td>4</td>\n",
       "      <td>0.458</td>\n",
       "      <td>1968</td>\n",
       "      <td>756</td>\n",
       "      <td>AFC North</td>\n",
       "    </tr>\n",
       "    <tr>\n",
       "      <th>25</th>\n",
       "      <td>26</td>\n",
       "      <td>New York Jets</td>\n",
       "      <td>392</td>\n",
       "      <td>468</td>\n",
       "      <td>8</td>\n",
       "      <td>0.456</td>\n",
       "      <td>1960</td>\n",
       "      <td>868</td>\n",
       "      <td>AFC East</td>\n",
       "    </tr>\n",
       "    <tr>\n",
       "      <th>26</th>\n",
       "      <td>27</td>\n",
       "      <td>New Orleans Saints</td>\n",
       "      <td>338</td>\n",
       "      <td>427</td>\n",
       "      <td>5</td>\n",
       "      <td>0.442</td>\n",
       "      <td>1967</td>\n",
       "      <td>770</td>\n",
       "      <td>NFC South</td>\n",
       "    </tr>\n",
       "    <tr>\n",
       "      <th>27</th>\n",
       "      <td>28</td>\n",
       "      <td>Houston Texans</td>\n",
       "      <td>106</td>\n",
       "      <td>134</td>\n",
       "      <td>0</td>\n",
       "      <td>0.442</td>\n",
       "      <td>2002</td>\n",
       "      <td>240</td>\n",
       "      <td>AFC South</td>\n",
       "    </tr>\n",
       "    <tr>\n",
       "      <th>28</th>\n",
       "      <td>29</td>\n",
       "      <td>Jacksonville Jaguars</td>\n",
       "      <td>155</td>\n",
       "      <td>197</td>\n",
       "      <td>0</td>\n",
       "      <td>0.440</td>\n",
       "      <td>1995</td>\n",
       "      <td>352</td>\n",
       "      <td>AFC South</td>\n",
       "    </tr>\n",
       "    <tr>\n",
       "      <th>29</th>\n",
       "      <td>30</td>\n",
       "      <td>Atlanta Falcons</td>\n",
       "      <td>341</td>\n",
       "      <td>437</td>\n",
       "      <td>6</td>\n",
       "      <td>0.439</td>\n",
       "      <td>1966</td>\n",
       "      <td>784</td>\n",
       "      <td>NFC South</td>\n",
       "    </tr>\n",
       "    <tr>\n",
       "      <th>30</th>\n",
       "      <td>31</td>\n",
       "      <td>Arizona Cardinals</td>\n",
       "      <td>542</td>\n",
       "      <td>732</td>\n",
       "      <td>40</td>\n",
       "      <td>0.428</td>\n",
       "      <td>1920</td>\n",
       "      <td>1,314</td>\n",
       "      <td>NFC West</td>\n",
       "    </tr>\n",
       "    <tr>\n",
       "      <th>31</th>\n",
       "      <td>32</td>\n",
       "      <td>Tampa Bay Buccaneers</td>\n",
       "      <td>250</td>\n",
       "      <td>393</td>\n",
       "      <td>1</td>\n",
       "      <td>0.389</td>\n",
       "      <td>1976</td>\n",
       "      <td>644</td>\n",
       "      <td>NFC South</td>\n",
       "    </tr>\n",
       "  </tbody>\n",
       "</table>\n",
       "</div>"
      ],
      "text/plain": [
       "    Rank                  Team  Won  Lost  Tied   Pct.  First NFL Season  \\\n",
       "0      1        Dallas Cowboys  493   367     6  0.573              1960   \n",
       "1      2     Green Bay Packers  730   553    37  0.567              1921   \n",
       "2      3         Chicago Bears  744   568    42  0.565              1920   \n",
       "3      4        Miami Dolphins  439   341     4  0.563              1966   \n",
       "4      5  New England Patriots  476   383     9  0.554              1960   \n",
       "5      6       New York Giants  684   572    33  0.543              1925   \n",
       "6      7        Denver Broncos  465   393    10  0.541              1960   \n",
       "7      8     Minnesota Vikings  457   387    10  0.541              1961   \n",
       "8      9      Baltimore Ravens  181   154     1  0.540              1996   \n",
       "9     10   San Francisco 49ers  522   450    14  0.537              1950   \n",
       "10    11    Indianapolis Colts  502   441     7  0.532              1953   \n",
       "11    12       Oakland Raiders  456   401    11  0.532              1960   \n",
       "12    13   Pittsburgh Steelers  601   535    20  0.529              1933   \n",
       "13    14    Kansas City Chiefs  447   409    12  0.522              1960   \n",
       "14    15   Washington Redskins  586   572    28  0.506              1932   \n",
       "15    16      Seattle Seahawks  325   318     1  0.505              1976   \n",
       "16    17      Cleveland Browns  462   466    10  0.498              1950   \n",
       "17    18  Los Angeles Chargers  426   431    11  0.497              1960   \n",
       "18    19      Los Angeles Rams  544   554    21  0.496              1937   \n",
       "19    20     Carolina Panthers  172   179     1  0.490              1995   \n",
       "20    21   Philadelphia Eagles  555   591    26  0.485              1933   \n",
       "21    22      Tennessee Titans  413   449     6  0.479              1960   \n",
       "22    23         Buffalo Bills  400   460     8  0.465              1960   \n",
       "23    24         Detroit Lions  544   641    32  0.460              1930   \n",
       "24    25    Cincinnati Bengals  344   408     4  0.458              1968   \n",
       "25    26         New York Jets  392   468     8  0.456              1960   \n",
       "26    27    New Orleans Saints  338   427     5  0.442              1967   \n",
       "27    28        Houston Texans  106   134     0  0.442              2002   \n",
       "28    29  Jacksonville Jaguars  155   197     0  0.440              1995   \n",
       "29    30       Atlanta Falcons  341   437     6  0.439              1966   \n",
       "30    31     Arizona Cardinals  542   732    40  0.428              1920   \n",
       "31    32  Tampa Bay Buccaneers  250   393     1  0.389              1976   \n",
       "\n",
       "   Total Games   Division  \n",
       "0          866   NFC East  \n",
       "1        1,320  NFC North  \n",
       "2        1,354  NFC North  \n",
       "3          784   AFC East  \n",
       "4          868   AFC East  \n",
       "5        1,289   NFC East  \n",
       "6          868   AFC West  \n",
       "7          854  NFC North  \n",
       "8          336  AFC North  \n",
       "9          986   NFC West  \n",
       "10         950  AFC South  \n",
       "11         868   AFC West  \n",
       "12       1,156  AFC North  \n",
       "13         868   AFC West  \n",
       "14       1,186   NFC East  \n",
       "15         644   NFC West  \n",
       "16         938  AFC North  \n",
       "17         868   AFC West  \n",
       "18       1,119   NFC West  \n",
       "19         352  NFC South  \n",
       "20       1,172   NFC East  \n",
       "21         868  AFC South  \n",
       "22         868   AFC East  \n",
       "23       1,217  NFC North  \n",
       "24         756  AFC North  \n",
       "25         868   AFC East  \n",
       "26         770  NFC South  \n",
       "27         240  AFC South  \n",
       "28         352  AFC South  \n",
       "29         784  NFC South  \n",
       "30       1,314   NFC West  \n",
       "31         644  NFC South  "
      ]
     },
     "execution_count": 28,
     "metadata": {},
     "output_type": "execute_result"
    }
   ],
   "source": [
    "nfl_frame"
   ]
  },
  {
   "cell_type": "code",
   "execution_count": 29,
   "metadata": {
    "collapsed": false
   },
   "outputs": [
    {
     "data": {
      "text/plain": [
       "Index(['Rank', 'Team', 'Won', 'Lost', 'Tied', 'Pct.', 'First NFL Season',\n",
       "       'Total Games', 'Division'],\n",
       "      dtype='object')"
      ]
     },
     "execution_count": 29,
     "metadata": {},
     "output_type": "execute_result"
    }
   ],
   "source": [
    "nfl_frame.columns"
   ]
  },
  {
   "cell_type": "code",
   "execution_count": 30,
   "metadata": {
    "collapsed": false
   },
   "outputs": [
    {
     "data": {
      "text/plain": [
       "0      1\n",
       "1      2\n",
       "2      3\n",
       "3      4\n",
       "4      5\n",
       "5      6\n",
       "6      7\n",
       "7      8\n",
       "8      9\n",
       "9     10\n",
       "10    11\n",
       "11    12\n",
       "12    13\n",
       "13    14\n",
       "14    15\n",
       "15    16\n",
       "16    17\n",
       "17    18\n",
       "18    19\n",
       "19    20\n",
       "20    21\n",
       "21    22\n",
       "22    23\n",
       "23    24\n",
       "24    25\n",
       "25    26\n",
       "26    27\n",
       "27    28\n",
       "28    29\n",
       "29    30\n",
       "30    31\n",
       "31    32\n",
       "Name: Rank, dtype: int64"
      ]
     },
     "execution_count": 30,
     "metadata": {},
     "output_type": "execute_result"
    }
   ],
   "source": [
    "nfl_frame.Rank"
   ]
  },
  {
   "cell_type": "code",
   "execution_count": 31,
   "metadata": {
    "collapsed": false
   },
   "outputs": [
    {
     "data": {
      "text/plain": [
       "0           Dallas Cowboys\n",
       "1        Green Bay Packers\n",
       "2            Chicago Bears\n",
       "3           Miami Dolphins\n",
       "4     New England Patriots\n",
       "5          New York Giants\n",
       "6           Denver Broncos\n",
       "7        Minnesota Vikings\n",
       "8         Baltimore Ravens\n",
       "9      San Francisco 49ers\n",
       "10      Indianapolis Colts\n",
       "11         Oakland Raiders\n",
       "12     Pittsburgh Steelers\n",
       "13      Kansas City Chiefs\n",
       "14     Washington Redskins\n",
       "15        Seattle Seahawks\n",
       "16        Cleveland Browns\n",
       "17    Los Angeles Chargers\n",
       "18        Los Angeles Rams\n",
       "19       Carolina Panthers\n",
       "20     Philadelphia Eagles\n",
       "21        Tennessee Titans\n",
       "22           Buffalo Bills\n",
       "23           Detroit Lions\n",
       "24      Cincinnati Bengals\n",
       "25           New York Jets\n",
       "26      New Orleans Saints\n",
       "27          Houston Texans\n",
       "28    Jacksonville Jaguars\n",
       "29         Atlanta Falcons\n",
       "30       Arizona Cardinals\n",
       "31    Tampa Bay Buccaneers\n",
       "Name: Team, dtype: object"
      ]
     },
     "execution_count": 31,
     "metadata": {},
     "output_type": "execute_result"
    }
   ],
   "source": [
    "nfl_frame.Team"
   ]
  },
  {
   "cell_type": "code",
   "execution_count": 32,
   "metadata": {
    "collapsed": false
   },
   "outputs": [
    {
     "data": {
      "text/plain": [
       "0     1960\n",
       "1     1921\n",
       "2     1920\n",
       "3     1966\n",
       "4     1960\n",
       "5     1925\n",
       "6     1960\n",
       "7     1961\n",
       "8     1996\n",
       "9     1950\n",
       "10    1953\n",
       "11    1960\n",
       "12    1933\n",
       "13    1960\n",
       "14    1932\n",
       "15    1976\n",
       "16    1950\n",
       "17    1960\n",
       "18    1937\n",
       "19    1995\n",
       "20    1933\n",
       "21    1960\n",
       "22    1960\n",
       "23    1930\n",
       "24    1968\n",
       "25    1960\n",
       "26    1967\n",
       "27    2002\n",
       "28    1995\n",
       "29    1966\n",
       "30    1920\n",
       "31    1976\n",
       "Name: First NFL Season, dtype: int64"
      ]
     },
     "execution_count": 32,
     "metadata": {},
     "output_type": "execute_result"
    }
   ],
   "source": [
    "nfl_frame['First NFL Season']"
   ]
  },
  {
   "cell_type": "code",
   "execution_count": 33,
   "metadata": {
    "collapsed": false
   },
   "outputs": [
    {
     "data": {
      "text/html": [
       "<div>\n",
       "<table border=\"1\" class=\"dataframe\">\n",
       "  <thead>\n",
       "    <tr style=\"text-align: right;\">\n",
       "      <th></th>\n",
       "      <th>Team</th>\n",
       "      <th>First NFL Season</th>\n",
       "      <th>Total Games</th>\n",
       "    </tr>\n",
       "  </thead>\n",
       "  <tbody>\n",
       "    <tr>\n",
       "      <th>0</th>\n",
       "      <td>Dallas Cowboys</td>\n",
       "      <td>1960</td>\n",
       "      <td>866</td>\n",
       "    </tr>\n",
       "    <tr>\n",
       "      <th>1</th>\n",
       "      <td>Green Bay Packers</td>\n",
       "      <td>1921</td>\n",
       "      <td>1,320</td>\n",
       "    </tr>\n",
       "    <tr>\n",
       "      <th>2</th>\n",
       "      <td>Chicago Bears</td>\n",
       "      <td>1920</td>\n",
       "      <td>1,354</td>\n",
       "    </tr>\n",
       "    <tr>\n",
       "      <th>3</th>\n",
       "      <td>Miami Dolphins</td>\n",
       "      <td>1966</td>\n",
       "      <td>784</td>\n",
       "    </tr>\n",
       "    <tr>\n",
       "      <th>4</th>\n",
       "      <td>New England Patriots</td>\n",
       "      <td>1960</td>\n",
       "      <td>868</td>\n",
       "    </tr>\n",
       "    <tr>\n",
       "      <th>5</th>\n",
       "      <td>New York Giants</td>\n",
       "      <td>1925</td>\n",
       "      <td>1,289</td>\n",
       "    </tr>\n",
       "    <tr>\n",
       "      <th>6</th>\n",
       "      <td>Denver Broncos</td>\n",
       "      <td>1960</td>\n",
       "      <td>868</td>\n",
       "    </tr>\n",
       "    <tr>\n",
       "      <th>7</th>\n",
       "      <td>Minnesota Vikings</td>\n",
       "      <td>1961</td>\n",
       "      <td>854</td>\n",
       "    </tr>\n",
       "    <tr>\n",
       "      <th>8</th>\n",
       "      <td>Baltimore Ravens</td>\n",
       "      <td>1996</td>\n",
       "      <td>336</td>\n",
       "    </tr>\n",
       "    <tr>\n",
       "      <th>9</th>\n",
       "      <td>San Francisco 49ers</td>\n",
       "      <td>1950</td>\n",
       "      <td>986</td>\n",
       "    </tr>\n",
       "    <tr>\n",
       "      <th>10</th>\n",
       "      <td>Indianapolis Colts</td>\n",
       "      <td>1953</td>\n",
       "      <td>950</td>\n",
       "    </tr>\n",
       "    <tr>\n",
       "      <th>11</th>\n",
       "      <td>Oakland Raiders</td>\n",
       "      <td>1960</td>\n",
       "      <td>868</td>\n",
       "    </tr>\n",
       "    <tr>\n",
       "      <th>12</th>\n",
       "      <td>Pittsburgh Steelers</td>\n",
       "      <td>1933</td>\n",
       "      <td>1,156</td>\n",
       "    </tr>\n",
       "    <tr>\n",
       "      <th>13</th>\n",
       "      <td>Kansas City Chiefs</td>\n",
       "      <td>1960</td>\n",
       "      <td>868</td>\n",
       "    </tr>\n",
       "    <tr>\n",
       "      <th>14</th>\n",
       "      <td>Washington Redskins</td>\n",
       "      <td>1932</td>\n",
       "      <td>1,186</td>\n",
       "    </tr>\n",
       "    <tr>\n",
       "      <th>15</th>\n",
       "      <td>Seattle Seahawks</td>\n",
       "      <td>1976</td>\n",
       "      <td>644</td>\n",
       "    </tr>\n",
       "    <tr>\n",
       "      <th>16</th>\n",
       "      <td>Cleveland Browns</td>\n",
       "      <td>1950</td>\n",
       "      <td>938</td>\n",
       "    </tr>\n",
       "    <tr>\n",
       "      <th>17</th>\n",
       "      <td>Los Angeles Chargers</td>\n",
       "      <td>1960</td>\n",
       "      <td>868</td>\n",
       "    </tr>\n",
       "    <tr>\n",
       "      <th>18</th>\n",
       "      <td>Los Angeles Rams</td>\n",
       "      <td>1937</td>\n",
       "      <td>1,119</td>\n",
       "    </tr>\n",
       "    <tr>\n",
       "      <th>19</th>\n",
       "      <td>Carolina Panthers</td>\n",
       "      <td>1995</td>\n",
       "      <td>352</td>\n",
       "    </tr>\n",
       "    <tr>\n",
       "      <th>20</th>\n",
       "      <td>Philadelphia Eagles</td>\n",
       "      <td>1933</td>\n",
       "      <td>1,172</td>\n",
       "    </tr>\n",
       "    <tr>\n",
       "      <th>21</th>\n",
       "      <td>Tennessee Titans</td>\n",
       "      <td>1960</td>\n",
       "      <td>868</td>\n",
       "    </tr>\n",
       "    <tr>\n",
       "      <th>22</th>\n",
       "      <td>Buffalo Bills</td>\n",
       "      <td>1960</td>\n",
       "      <td>868</td>\n",
       "    </tr>\n",
       "    <tr>\n",
       "      <th>23</th>\n",
       "      <td>Detroit Lions</td>\n",
       "      <td>1930</td>\n",
       "      <td>1,217</td>\n",
       "    </tr>\n",
       "    <tr>\n",
       "      <th>24</th>\n",
       "      <td>Cincinnati Bengals</td>\n",
       "      <td>1968</td>\n",
       "      <td>756</td>\n",
       "    </tr>\n",
       "    <tr>\n",
       "      <th>25</th>\n",
       "      <td>New York Jets</td>\n",
       "      <td>1960</td>\n",
       "      <td>868</td>\n",
       "    </tr>\n",
       "    <tr>\n",
       "      <th>26</th>\n",
       "      <td>New Orleans Saints</td>\n",
       "      <td>1967</td>\n",
       "      <td>770</td>\n",
       "    </tr>\n",
       "    <tr>\n",
       "      <th>27</th>\n",
       "      <td>Houston Texans</td>\n",
       "      <td>2002</td>\n",
       "      <td>240</td>\n",
       "    </tr>\n",
       "    <tr>\n",
       "      <th>28</th>\n",
       "      <td>Jacksonville Jaguars</td>\n",
       "      <td>1995</td>\n",
       "      <td>352</td>\n",
       "    </tr>\n",
       "    <tr>\n",
       "      <th>29</th>\n",
       "      <td>Atlanta Falcons</td>\n",
       "      <td>1966</td>\n",
       "      <td>784</td>\n",
       "    </tr>\n",
       "    <tr>\n",
       "      <th>30</th>\n",
       "      <td>Arizona Cardinals</td>\n",
       "      <td>1920</td>\n",
       "      <td>1,314</td>\n",
       "    </tr>\n",
       "    <tr>\n",
       "      <th>31</th>\n",
       "      <td>Tampa Bay Buccaneers</td>\n",
       "      <td>1976</td>\n",
       "      <td>644</td>\n",
       "    </tr>\n",
       "  </tbody>\n",
       "</table>\n",
       "</div>"
      ],
      "text/plain": [
       "                    Team  First NFL Season Total Games\n",
       "0         Dallas Cowboys              1960         866\n",
       "1      Green Bay Packers              1921       1,320\n",
       "2          Chicago Bears              1920       1,354\n",
       "3         Miami Dolphins              1966         784\n",
       "4   New England Patriots              1960         868\n",
       "5        New York Giants              1925       1,289\n",
       "6         Denver Broncos              1960         868\n",
       "7      Minnesota Vikings              1961         854\n",
       "8       Baltimore Ravens              1996         336\n",
       "9    San Francisco 49ers              1950         986\n",
       "10    Indianapolis Colts              1953         950\n",
       "11       Oakland Raiders              1960         868\n",
       "12   Pittsburgh Steelers              1933       1,156\n",
       "13    Kansas City Chiefs              1960         868\n",
       "14   Washington Redskins              1932       1,186\n",
       "15      Seattle Seahawks              1976         644\n",
       "16      Cleveland Browns              1950         938\n",
       "17  Los Angeles Chargers              1960         868\n",
       "18      Los Angeles Rams              1937       1,119\n",
       "19     Carolina Panthers              1995         352\n",
       "20   Philadelphia Eagles              1933       1,172\n",
       "21      Tennessee Titans              1960         868\n",
       "22         Buffalo Bills              1960         868\n",
       "23         Detroit Lions              1930       1,217\n",
       "24    Cincinnati Bengals              1968         756\n",
       "25         New York Jets              1960         868\n",
       "26    New Orleans Saints              1967         770\n",
       "27        Houston Texans              2002         240\n",
       "28  Jacksonville Jaguars              1995         352\n",
       "29       Atlanta Falcons              1966         784\n",
       "30     Arizona Cardinals              1920       1,314\n",
       "31  Tampa Bay Buccaneers              1976         644"
      ]
     },
     "execution_count": 33,
     "metadata": {},
     "output_type": "execute_result"
    }
   ],
   "source": [
    "DataFrame(nfl_frame, columns=['Team', 'First NFL Season', 'Total Games'])"
   ]
  },
  {
   "cell_type": "code",
   "execution_count": 34,
   "metadata": {
    "collapsed": false
   },
   "outputs": [
    {
     "data": {
      "text/html": [
       "<div>\n",
       "<table border=\"1\" class=\"dataframe\">\n",
       "  <thead>\n",
       "    <tr style=\"text-align: right;\">\n",
       "      <th></th>\n",
       "      <th>Team</th>\n",
       "      <th>First NFL Season</th>\n",
       "      <th>Total Games</th>\n",
       "      <th>Stadium</th>\n",
       "    </tr>\n",
       "  </thead>\n",
       "  <tbody>\n",
       "    <tr>\n",
       "      <th>0</th>\n",
       "      <td>Dallas Cowboys</td>\n",
       "      <td>1960</td>\n",
       "      <td>866</td>\n",
       "      <td>NaN</td>\n",
       "    </tr>\n",
       "    <tr>\n",
       "      <th>1</th>\n",
       "      <td>Green Bay Packers</td>\n",
       "      <td>1921</td>\n",
       "      <td>1,320</td>\n",
       "      <td>NaN</td>\n",
       "    </tr>\n",
       "    <tr>\n",
       "      <th>2</th>\n",
       "      <td>Chicago Bears</td>\n",
       "      <td>1920</td>\n",
       "      <td>1,354</td>\n",
       "      <td>NaN</td>\n",
       "    </tr>\n",
       "    <tr>\n",
       "      <th>3</th>\n",
       "      <td>Miami Dolphins</td>\n",
       "      <td>1966</td>\n",
       "      <td>784</td>\n",
       "      <td>NaN</td>\n",
       "    </tr>\n",
       "    <tr>\n",
       "      <th>4</th>\n",
       "      <td>New England Patriots</td>\n",
       "      <td>1960</td>\n",
       "      <td>868</td>\n",
       "      <td>NaN</td>\n",
       "    </tr>\n",
       "    <tr>\n",
       "      <th>5</th>\n",
       "      <td>New York Giants</td>\n",
       "      <td>1925</td>\n",
       "      <td>1,289</td>\n",
       "      <td>NaN</td>\n",
       "    </tr>\n",
       "    <tr>\n",
       "      <th>6</th>\n",
       "      <td>Denver Broncos</td>\n",
       "      <td>1960</td>\n",
       "      <td>868</td>\n",
       "      <td>NaN</td>\n",
       "    </tr>\n",
       "    <tr>\n",
       "      <th>7</th>\n",
       "      <td>Minnesota Vikings</td>\n",
       "      <td>1961</td>\n",
       "      <td>854</td>\n",
       "      <td>NaN</td>\n",
       "    </tr>\n",
       "    <tr>\n",
       "      <th>8</th>\n",
       "      <td>Baltimore Ravens</td>\n",
       "      <td>1996</td>\n",
       "      <td>336</td>\n",
       "      <td>NaN</td>\n",
       "    </tr>\n",
       "    <tr>\n",
       "      <th>9</th>\n",
       "      <td>San Francisco 49ers</td>\n",
       "      <td>1950</td>\n",
       "      <td>986</td>\n",
       "      <td>NaN</td>\n",
       "    </tr>\n",
       "    <tr>\n",
       "      <th>10</th>\n",
       "      <td>Indianapolis Colts</td>\n",
       "      <td>1953</td>\n",
       "      <td>950</td>\n",
       "      <td>NaN</td>\n",
       "    </tr>\n",
       "    <tr>\n",
       "      <th>11</th>\n",
       "      <td>Oakland Raiders</td>\n",
       "      <td>1960</td>\n",
       "      <td>868</td>\n",
       "      <td>NaN</td>\n",
       "    </tr>\n",
       "    <tr>\n",
       "      <th>12</th>\n",
       "      <td>Pittsburgh Steelers</td>\n",
       "      <td>1933</td>\n",
       "      <td>1,156</td>\n",
       "      <td>NaN</td>\n",
       "    </tr>\n",
       "    <tr>\n",
       "      <th>13</th>\n",
       "      <td>Kansas City Chiefs</td>\n",
       "      <td>1960</td>\n",
       "      <td>868</td>\n",
       "      <td>NaN</td>\n",
       "    </tr>\n",
       "    <tr>\n",
       "      <th>14</th>\n",
       "      <td>Washington Redskins</td>\n",
       "      <td>1932</td>\n",
       "      <td>1,186</td>\n",
       "      <td>NaN</td>\n",
       "    </tr>\n",
       "    <tr>\n",
       "      <th>15</th>\n",
       "      <td>Seattle Seahawks</td>\n",
       "      <td>1976</td>\n",
       "      <td>644</td>\n",
       "      <td>NaN</td>\n",
       "    </tr>\n",
       "    <tr>\n",
       "      <th>16</th>\n",
       "      <td>Cleveland Browns</td>\n",
       "      <td>1950</td>\n",
       "      <td>938</td>\n",
       "      <td>NaN</td>\n",
       "    </tr>\n",
       "    <tr>\n",
       "      <th>17</th>\n",
       "      <td>Los Angeles Chargers</td>\n",
       "      <td>1960</td>\n",
       "      <td>868</td>\n",
       "      <td>NaN</td>\n",
       "    </tr>\n",
       "    <tr>\n",
       "      <th>18</th>\n",
       "      <td>Los Angeles Rams</td>\n",
       "      <td>1937</td>\n",
       "      <td>1,119</td>\n",
       "      <td>NaN</td>\n",
       "    </tr>\n",
       "    <tr>\n",
       "      <th>19</th>\n",
       "      <td>Carolina Panthers</td>\n",
       "      <td>1995</td>\n",
       "      <td>352</td>\n",
       "      <td>NaN</td>\n",
       "    </tr>\n",
       "    <tr>\n",
       "      <th>20</th>\n",
       "      <td>Philadelphia Eagles</td>\n",
       "      <td>1933</td>\n",
       "      <td>1,172</td>\n",
       "      <td>NaN</td>\n",
       "    </tr>\n",
       "    <tr>\n",
       "      <th>21</th>\n",
       "      <td>Tennessee Titans</td>\n",
       "      <td>1960</td>\n",
       "      <td>868</td>\n",
       "      <td>NaN</td>\n",
       "    </tr>\n",
       "    <tr>\n",
       "      <th>22</th>\n",
       "      <td>Buffalo Bills</td>\n",
       "      <td>1960</td>\n",
       "      <td>868</td>\n",
       "      <td>NaN</td>\n",
       "    </tr>\n",
       "    <tr>\n",
       "      <th>23</th>\n",
       "      <td>Detroit Lions</td>\n",
       "      <td>1930</td>\n",
       "      <td>1,217</td>\n",
       "      <td>NaN</td>\n",
       "    </tr>\n",
       "    <tr>\n",
       "      <th>24</th>\n",
       "      <td>Cincinnati Bengals</td>\n",
       "      <td>1968</td>\n",
       "      <td>756</td>\n",
       "      <td>NaN</td>\n",
       "    </tr>\n",
       "    <tr>\n",
       "      <th>25</th>\n",
       "      <td>New York Jets</td>\n",
       "      <td>1960</td>\n",
       "      <td>868</td>\n",
       "      <td>NaN</td>\n",
       "    </tr>\n",
       "    <tr>\n",
       "      <th>26</th>\n",
       "      <td>New Orleans Saints</td>\n",
       "      <td>1967</td>\n",
       "      <td>770</td>\n",
       "      <td>NaN</td>\n",
       "    </tr>\n",
       "    <tr>\n",
       "      <th>27</th>\n",
       "      <td>Houston Texans</td>\n",
       "      <td>2002</td>\n",
       "      <td>240</td>\n",
       "      <td>NaN</td>\n",
       "    </tr>\n",
       "    <tr>\n",
       "      <th>28</th>\n",
       "      <td>Jacksonville Jaguars</td>\n",
       "      <td>1995</td>\n",
       "      <td>352</td>\n",
       "      <td>NaN</td>\n",
       "    </tr>\n",
       "    <tr>\n",
       "      <th>29</th>\n",
       "      <td>Atlanta Falcons</td>\n",
       "      <td>1966</td>\n",
       "      <td>784</td>\n",
       "      <td>NaN</td>\n",
       "    </tr>\n",
       "    <tr>\n",
       "      <th>30</th>\n",
       "      <td>Arizona Cardinals</td>\n",
       "      <td>1920</td>\n",
       "      <td>1,314</td>\n",
       "      <td>NaN</td>\n",
       "    </tr>\n",
       "    <tr>\n",
       "      <th>31</th>\n",
       "      <td>Tampa Bay Buccaneers</td>\n",
       "      <td>1976</td>\n",
       "      <td>644</td>\n",
       "      <td>NaN</td>\n",
       "    </tr>\n",
       "  </tbody>\n",
       "</table>\n",
       "</div>"
      ],
      "text/plain": [
       "                    Team  First NFL Season Total Games  Stadium\n",
       "0         Dallas Cowboys              1960         866      NaN\n",
       "1      Green Bay Packers              1921       1,320      NaN\n",
       "2          Chicago Bears              1920       1,354      NaN\n",
       "3         Miami Dolphins              1966         784      NaN\n",
       "4   New England Patriots              1960         868      NaN\n",
       "5        New York Giants              1925       1,289      NaN\n",
       "6         Denver Broncos              1960         868      NaN\n",
       "7      Minnesota Vikings              1961         854      NaN\n",
       "8       Baltimore Ravens              1996         336      NaN\n",
       "9    San Francisco 49ers              1950         986      NaN\n",
       "10    Indianapolis Colts              1953         950      NaN\n",
       "11       Oakland Raiders              1960         868      NaN\n",
       "12   Pittsburgh Steelers              1933       1,156      NaN\n",
       "13    Kansas City Chiefs              1960         868      NaN\n",
       "14   Washington Redskins              1932       1,186      NaN\n",
       "15      Seattle Seahawks              1976         644      NaN\n",
       "16      Cleveland Browns              1950         938      NaN\n",
       "17  Los Angeles Chargers              1960         868      NaN\n",
       "18      Los Angeles Rams              1937       1,119      NaN\n",
       "19     Carolina Panthers              1995         352      NaN\n",
       "20   Philadelphia Eagles              1933       1,172      NaN\n",
       "21      Tennessee Titans              1960         868      NaN\n",
       "22         Buffalo Bills              1960         868      NaN\n",
       "23         Detroit Lions              1930       1,217      NaN\n",
       "24    Cincinnati Bengals              1968         756      NaN\n",
       "25         New York Jets              1960         868      NaN\n",
       "26    New Orleans Saints              1967         770      NaN\n",
       "27        Houston Texans              2002         240      NaN\n",
       "28  Jacksonville Jaguars              1995         352      NaN\n",
       "29       Atlanta Falcons              1966         784      NaN\n",
       "30     Arizona Cardinals              1920       1,314      NaN\n",
       "31  Tampa Bay Buccaneers              1976         644      NaN"
      ]
     },
     "execution_count": 34,
     "metadata": {},
     "output_type": "execute_result"
    }
   ],
   "source": [
    "DataFrame(nfl_frame, columns=['Team', 'First NFL Season', 'Total Games', 'Stadium'])"
   ]
  },
  {
   "cell_type": "code",
   "execution_count": 35,
   "metadata": {
    "collapsed": false
   },
   "outputs": [
    {
     "data": {
      "text/html": [
       "<div>\n",
       "<table border=\"1\" class=\"dataframe\">\n",
       "  <thead>\n",
       "    <tr style=\"text-align: right;\">\n",
       "      <th></th>\n",
       "      <th>Rank</th>\n",
       "      <th>Team</th>\n",
       "      <th>Won</th>\n",
       "      <th>Lost</th>\n",
       "      <th>Tied</th>\n",
       "      <th>Pct.</th>\n",
       "      <th>First NFL Season</th>\n",
       "      <th>Total Games</th>\n",
       "      <th>Division</th>\n",
       "    </tr>\n",
       "  </thead>\n",
       "  <tbody>\n",
       "    <tr>\n",
       "      <th>0</th>\n",
       "      <td>1</td>\n",
       "      <td>Dallas Cowboys</td>\n",
       "      <td>493</td>\n",
       "      <td>367</td>\n",
       "      <td>6</td>\n",
       "      <td>0.573</td>\n",
       "      <td>1960</td>\n",
       "      <td>866</td>\n",
       "      <td>NFC East</td>\n",
       "    </tr>\n",
       "    <tr>\n",
       "      <th>1</th>\n",
       "      <td>2</td>\n",
       "      <td>Green Bay Packers</td>\n",
       "      <td>730</td>\n",
       "      <td>553</td>\n",
       "      <td>37</td>\n",
       "      <td>0.567</td>\n",
       "      <td>1921</td>\n",
       "      <td>1,320</td>\n",
       "      <td>NFC North</td>\n",
       "    </tr>\n",
       "    <tr>\n",
       "      <th>2</th>\n",
       "      <td>3</td>\n",
       "      <td>Chicago Bears</td>\n",
       "      <td>744</td>\n",
       "      <td>568</td>\n",
       "      <td>42</td>\n",
       "      <td>0.565</td>\n",
       "      <td>1920</td>\n",
       "      <td>1,354</td>\n",
       "      <td>NFC North</td>\n",
       "    </tr>\n",
       "    <tr>\n",
       "      <th>3</th>\n",
       "      <td>4</td>\n",
       "      <td>Miami Dolphins</td>\n",
       "      <td>439</td>\n",
       "      <td>341</td>\n",
       "      <td>4</td>\n",
       "      <td>0.563</td>\n",
       "      <td>1966</td>\n",
       "      <td>784</td>\n",
       "      <td>AFC East</td>\n",
       "    </tr>\n",
       "    <tr>\n",
       "      <th>4</th>\n",
       "      <td>5</td>\n",
       "      <td>New England Patriots</td>\n",
       "      <td>476</td>\n",
       "      <td>383</td>\n",
       "      <td>9</td>\n",
       "      <td>0.554</td>\n",
       "      <td>1960</td>\n",
       "      <td>868</td>\n",
       "      <td>AFC East</td>\n",
       "    </tr>\n",
       "    <tr>\n",
       "      <th>5</th>\n",
       "      <td>6</td>\n",
       "      <td>New York Giants</td>\n",
       "      <td>684</td>\n",
       "      <td>572</td>\n",
       "      <td>33</td>\n",
       "      <td>0.543</td>\n",
       "      <td>1925</td>\n",
       "      <td>1,289</td>\n",
       "      <td>NFC East</td>\n",
       "    </tr>\n",
       "    <tr>\n",
       "      <th>6</th>\n",
       "      <td>7</td>\n",
       "      <td>Denver Broncos</td>\n",
       "      <td>465</td>\n",
       "      <td>393</td>\n",
       "      <td>10</td>\n",
       "      <td>0.541</td>\n",
       "      <td>1960</td>\n",
       "      <td>868</td>\n",
       "      <td>AFC West</td>\n",
       "    </tr>\n",
       "    <tr>\n",
       "      <th>7</th>\n",
       "      <td>8</td>\n",
       "      <td>Minnesota Vikings</td>\n",
       "      <td>457</td>\n",
       "      <td>387</td>\n",
       "      <td>10</td>\n",
       "      <td>0.541</td>\n",
       "      <td>1961</td>\n",
       "      <td>854</td>\n",
       "      <td>NFC North</td>\n",
       "    </tr>\n",
       "    <tr>\n",
       "      <th>8</th>\n",
       "      <td>9</td>\n",
       "      <td>Baltimore Ravens</td>\n",
       "      <td>181</td>\n",
       "      <td>154</td>\n",
       "      <td>1</td>\n",
       "      <td>0.540</td>\n",
       "      <td>1996</td>\n",
       "      <td>336</td>\n",
       "      <td>AFC North</td>\n",
       "    </tr>\n",
       "    <tr>\n",
       "      <th>9</th>\n",
       "      <td>10</td>\n",
       "      <td>San Francisco 49ers</td>\n",
       "      <td>522</td>\n",
       "      <td>450</td>\n",
       "      <td>14</td>\n",
       "      <td>0.537</td>\n",
       "      <td>1950</td>\n",
       "      <td>986</td>\n",
       "      <td>NFC West</td>\n",
       "    </tr>\n",
       "    <tr>\n",
       "      <th>10</th>\n",
       "      <td>11</td>\n",
       "      <td>Indianapolis Colts</td>\n",
       "      <td>502</td>\n",
       "      <td>441</td>\n",
       "      <td>7</td>\n",
       "      <td>0.532</td>\n",
       "      <td>1953</td>\n",
       "      <td>950</td>\n",
       "      <td>AFC South</td>\n",
       "    </tr>\n",
       "    <tr>\n",
       "      <th>11</th>\n",
       "      <td>12</td>\n",
       "      <td>Oakland Raiders</td>\n",
       "      <td>456</td>\n",
       "      <td>401</td>\n",
       "      <td>11</td>\n",
       "      <td>0.532</td>\n",
       "      <td>1960</td>\n",
       "      <td>868</td>\n",
       "      <td>AFC West</td>\n",
       "    </tr>\n",
       "    <tr>\n",
       "      <th>12</th>\n",
       "      <td>13</td>\n",
       "      <td>Pittsburgh Steelers</td>\n",
       "      <td>601</td>\n",
       "      <td>535</td>\n",
       "      <td>20</td>\n",
       "      <td>0.529</td>\n",
       "      <td>1933</td>\n",
       "      <td>1,156</td>\n",
       "      <td>AFC North</td>\n",
       "    </tr>\n",
       "    <tr>\n",
       "      <th>13</th>\n",
       "      <td>14</td>\n",
       "      <td>Kansas City Chiefs</td>\n",
       "      <td>447</td>\n",
       "      <td>409</td>\n",
       "      <td>12</td>\n",
       "      <td>0.522</td>\n",
       "      <td>1960</td>\n",
       "      <td>868</td>\n",
       "      <td>AFC West</td>\n",
       "    </tr>\n",
       "    <tr>\n",
       "      <th>14</th>\n",
       "      <td>15</td>\n",
       "      <td>Washington Redskins</td>\n",
       "      <td>586</td>\n",
       "      <td>572</td>\n",
       "      <td>28</td>\n",
       "      <td>0.506</td>\n",
       "      <td>1932</td>\n",
       "      <td>1,186</td>\n",
       "      <td>NFC East</td>\n",
       "    </tr>\n",
       "    <tr>\n",
       "      <th>15</th>\n",
       "      <td>16</td>\n",
       "      <td>Seattle Seahawks</td>\n",
       "      <td>325</td>\n",
       "      <td>318</td>\n",
       "      <td>1</td>\n",
       "      <td>0.505</td>\n",
       "      <td>1976</td>\n",
       "      <td>644</td>\n",
       "      <td>NFC West</td>\n",
       "    </tr>\n",
       "    <tr>\n",
       "      <th>16</th>\n",
       "      <td>17</td>\n",
       "      <td>Cleveland Browns</td>\n",
       "      <td>462</td>\n",
       "      <td>466</td>\n",
       "      <td>10</td>\n",
       "      <td>0.498</td>\n",
       "      <td>1950</td>\n",
       "      <td>938</td>\n",
       "      <td>AFC North</td>\n",
       "    </tr>\n",
       "    <tr>\n",
       "      <th>17</th>\n",
       "      <td>18</td>\n",
       "      <td>Los Angeles Chargers</td>\n",
       "      <td>426</td>\n",
       "      <td>431</td>\n",
       "      <td>11</td>\n",
       "      <td>0.497</td>\n",
       "      <td>1960</td>\n",
       "      <td>868</td>\n",
       "      <td>AFC West</td>\n",
       "    </tr>\n",
       "    <tr>\n",
       "      <th>18</th>\n",
       "      <td>19</td>\n",
       "      <td>Los Angeles Rams</td>\n",
       "      <td>544</td>\n",
       "      <td>554</td>\n",
       "      <td>21</td>\n",
       "      <td>0.496</td>\n",
       "      <td>1937</td>\n",
       "      <td>1,119</td>\n",
       "      <td>NFC West</td>\n",
       "    </tr>\n",
       "    <tr>\n",
       "      <th>19</th>\n",
       "      <td>20</td>\n",
       "      <td>Carolina Panthers</td>\n",
       "      <td>172</td>\n",
       "      <td>179</td>\n",
       "      <td>1</td>\n",
       "      <td>0.490</td>\n",
       "      <td>1995</td>\n",
       "      <td>352</td>\n",
       "      <td>NFC South</td>\n",
       "    </tr>\n",
       "    <tr>\n",
       "      <th>20</th>\n",
       "      <td>21</td>\n",
       "      <td>Philadelphia Eagles</td>\n",
       "      <td>555</td>\n",
       "      <td>591</td>\n",
       "      <td>26</td>\n",
       "      <td>0.485</td>\n",
       "      <td>1933</td>\n",
       "      <td>1,172</td>\n",
       "      <td>NFC East</td>\n",
       "    </tr>\n",
       "    <tr>\n",
       "      <th>21</th>\n",
       "      <td>22</td>\n",
       "      <td>Tennessee Titans</td>\n",
       "      <td>413</td>\n",
       "      <td>449</td>\n",
       "      <td>6</td>\n",
       "      <td>0.479</td>\n",
       "      <td>1960</td>\n",
       "      <td>868</td>\n",
       "      <td>AFC South</td>\n",
       "    </tr>\n",
       "    <tr>\n",
       "      <th>22</th>\n",
       "      <td>23</td>\n",
       "      <td>Buffalo Bills</td>\n",
       "      <td>400</td>\n",
       "      <td>460</td>\n",
       "      <td>8</td>\n",
       "      <td>0.465</td>\n",
       "      <td>1960</td>\n",
       "      <td>868</td>\n",
       "      <td>AFC East</td>\n",
       "    </tr>\n",
       "    <tr>\n",
       "      <th>23</th>\n",
       "      <td>24</td>\n",
       "      <td>Detroit Lions</td>\n",
       "      <td>544</td>\n",
       "      <td>641</td>\n",
       "      <td>32</td>\n",
       "      <td>0.460</td>\n",
       "      <td>1930</td>\n",
       "      <td>1,217</td>\n",
       "      <td>NFC North</td>\n",
       "    </tr>\n",
       "    <tr>\n",
       "      <th>24</th>\n",
       "      <td>25</td>\n",
       "      <td>Cincinnati Bengals</td>\n",
       "      <td>344</td>\n",
       "      <td>408</td>\n",
       "      <td>4</td>\n",
       "      <td>0.458</td>\n",
       "      <td>1968</td>\n",
       "      <td>756</td>\n",
       "      <td>AFC North</td>\n",
       "    </tr>\n",
       "    <tr>\n",
       "      <th>25</th>\n",
       "      <td>26</td>\n",
       "      <td>New York Jets</td>\n",
       "      <td>392</td>\n",
       "      <td>468</td>\n",
       "      <td>8</td>\n",
       "      <td>0.456</td>\n",
       "      <td>1960</td>\n",
       "      <td>868</td>\n",
       "      <td>AFC East</td>\n",
       "    </tr>\n",
       "    <tr>\n",
       "      <th>26</th>\n",
       "      <td>27</td>\n",
       "      <td>New Orleans Saints</td>\n",
       "      <td>338</td>\n",
       "      <td>427</td>\n",
       "      <td>5</td>\n",
       "      <td>0.442</td>\n",
       "      <td>1967</td>\n",
       "      <td>770</td>\n",
       "      <td>NFC South</td>\n",
       "    </tr>\n",
       "    <tr>\n",
       "      <th>27</th>\n",
       "      <td>28</td>\n",
       "      <td>Houston Texans</td>\n",
       "      <td>106</td>\n",
       "      <td>134</td>\n",
       "      <td>0</td>\n",
       "      <td>0.442</td>\n",
       "      <td>2002</td>\n",
       "      <td>240</td>\n",
       "      <td>AFC South</td>\n",
       "    </tr>\n",
       "    <tr>\n",
       "      <th>28</th>\n",
       "      <td>29</td>\n",
       "      <td>Jacksonville Jaguars</td>\n",
       "      <td>155</td>\n",
       "      <td>197</td>\n",
       "      <td>0</td>\n",
       "      <td>0.440</td>\n",
       "      <td>1995</td>\n",
       "      <td>352</td>\n",
       "      <td>AFC South</td>\n",
       "    </tr>\n",
       "    <tr>\n",
       "      <th>29</th>\n",
       "      <td>30</td>\n",
       "      <td>Atlanta Falcons</td>\n",
       "      <td>341</td>\n",
       "      <td>437</td>\n",
       "      <td>6</td>\n",
       "      <td>0.439</td>\n",
       "      <td>1966</td>\n",
       "      <td>784</td>\n",
       "      <td>NFC South</td>\n",
       "    </tr>\n",
       "    <tr>\n",
       "      <th>30</th>\n",
       "      <td>31</td>\n",
       "      <td>Arizona Cardinals</td>\n",
       "      <td>542</td>\n",
       "      <td>732</td>\n",
       "      <td>40</td>\n",
       "      <td>0.428</td>\n",
       "      <td>1920</td>\n",
       "      <td>1,314</td>\n",
       "      <td>NFC West</td>\n",
       "    </tr>\n",
       "    <tr>\n",
       "      <th>31</th>\n",
       "      <td>32</td>\n",
       "      <td>Tampa Bay Buccaneers</td>\n",
       "      <td>250</td>\n",
       "      <td>393</td>\n",
       "      <td>1</td>\n",
       "      <td>0.389</td>\n",
       "      <td>1976</td>\n",
       "      <td>644</td>\n",
       "      <td>NFC South</td>\n",
       "    </tr>\n",
       "  </tbody>\n",
       "</table>\n",
       "</div>"
      ],
      "text/plain": [
       "    Rank                  Team  Won  Lost  Tied   Pct.  First NFL Season  \\\n",
       "0      1        Dallas Cowboys  493   367     6  0.573              1960   \n",
       "1      2     Green Bay Packers  730   553    37  0.567              1921   \n",
       "2      3         Chicago Bears  744   568    42  0.565              1920   \n",
       "3      4        Miami Dolphins  439   341     4  0.563              1966   \n",
       "4      5  New England Patriots  476   383     9  0.554              1960   \n",
       "5      6       New York Giants  684   572    33  0.543              1925   \n",
       "6      7        Denver Broncos  465   393    10  0.541              1960   \n",
       "7      8     Minnesota Vikings  457   387    10  0.541              1961   \n",
       "8      9      Baltimore Ravens  181   154     1  0.540              1996   \n",
       "9     10   San Francisco 49ers  522   450    14  0.537              1950   \n",
       "10    11    Indianapolis Colts  502   441     7  0.532              1953   \n",
       "11    12       Oakland Raiders  456   401    11  0.532              1960   \n",
       "12    13   Pittsburgh Steelers  601   535    20  0.529              1933   \n",
       "13    14    Kansas City Chiefs  447   409    12  0.522              1960   \n",
       "14    15   Washington Redskins  586   572    28  0.506              1932   \n",
       "15    16      Seattle Seahawks  325   318     1  0.505              1976   \n",
       "16    17      Cleveland Browns  462   466    10  0.498              1950   \n",
       "17    18  Los Angeles Chargers  426   431    11  0.497              1960   \n",
       "18    19      Los Angeles Rams  544   554    21  0.496              1937   \n",
       "19    20     Carolina Panthers  172   179     1  0.490              1995   \n",
       "20    21   Philadelphia Eagles  555   591    26  0.485              1933   \n",
       "21    22      Tennessee Titans  413   449     6  0.479              1960   \n",
       "22    23         Buffalo Bills  400   460     8  0.465              1960   \n",
       "23    24         Detroit Lions  544   641    32  0.460              1930   \n",
       "24    25    Cincinnati Bengals  344   408     4  0.458              1968   \n",
       "25    26         New York Jets  392   468     8  0.456              1960   \n",
       "26    27    New Orleans Saints  338   427     5  0.442              1967   \n",
       "27    28        Houston Texans  106   134     0  0.442              2002   \n",
       "28    29  Jacksonville Jaguars  155   197     0  0.440              1995   \n",
       "29    30       Atlanta Falcons  341   437     6  0.439              1966   \n",
       "30    31     Arizona Cardinals  542   732    40  0.428              1920   \n",
       "31    32  Tampa Bay Buccaneers  250   393     1  0.389              1976   \n",
       "\n",
       "   Total Games   Division  \n",
       "0          866   NFC East  \n",
       "1        1,320  NFC North  \n",
       "2        1,354  NFC North  \n",
       "3          784   AFC East  \n",
       "4          868   AFC East  \n",
       "5        1,289   NFC East  \n",
       "6          868   AFC West  \n",
       "7          854  NFC North  \n",
       "8          336  AFC North  \n",
       "9          986   NFC West  \n",
       "10         950  AFC South  \n",
       "11         868   AFC West  \n",
       "12       1,156  AFC North  \n",
       "13         868   AFC West  \n",
       "14       1,186   NFC East  \n",
       "15         644   NFC West  \n",
       "16         938  AFC North  \n",
       "17         868   AFC West  \n",
       "18       1,119   NFC West  \n",
       "19         352  NFC South  \n",
       "20       1,172   NFC East  \n",
       "21         868  AFC South  \n",
       "22         868   AFC East  \n",
       "23       1,217  NFC North  \n",
       "24         756  AFC North  \n",
       "25         868   AFC East  \n",
       "26         770  NFC South  \n",
       "27         240  AFC South  \n",
       "28         352  AFC South  \n",
       "29         784  NFC South  \n",
       "30       1,314   NFC West  \n",
       "31         644  NFC South  "
      ]
     },
     "execution_count": 35,
     "metadata": {},
     "output_type": "execute_result"
    }
   ],
   "source": [
    "nfl_frame"
   ]
  },
  {
   "cell_type": "code",
   "execution_count": 36,
   "metadata": {
    "collapsed": false
   },
   "outputs": [
    {
     "data": {
      "text/html": [
       "<div>\n",
       "<table border=\"1\" class=\"dataframe\">\n",
       "  <thead>\n",
       "    <tr style=\"text-align: right;\">\n",
       "      <th></th>\n",
       "      <th>Rank</th>\n",
       "      <th>Team</th>\n",
       "      <th>Won</th>\n",
       "      <th>Lost</th>\n",
       "      <th>Tied</th>\n",
       "      <th>Pct.</th>\n",
       "      <th>First NFL Season</th>\n",
       "      <th>Total Games</th>\n",
       "      <th>Division</th>\n",
       "    </tr>\n",
       "  </thead>\n",
       "  <tbody>\n",
       "    <tr>\n",
       "      <th>0</th>\n",
       "      <td>1</td>\n",
       "      <td>Dallas Cowboys</td>\n",
       "      <td>493</td>\n",
       "      <td>367</td>\n",
       "      <td>6</td>\n",
       "      <td>0.573</td>\n",
       "      <td>1960</td>\n",
       "      <td>866</td>\n",
       "      <td>NFC East</td>\n",
       "    </tr>\n",
       "    <tr>\n",
       "      <th>1</th>\n",
       "      <td>2</td>\n",
       "      <td>Green Bay Packers</td>\n",
       "      <td>730</td>\n",
       "      <td>553</td>\n",
       "      <td>37</td>\n",
       "      <td>0.567</td>\n",
       "      <td>1921</td>\n",
       "      <td>1,320</td>\n",
       "      <td>NFC North</td>\n",
       "    </tr>\n",
       "    <tr>\n",
       "      <th>2</th>\n",
       "      <td>3</td>\n",
       "      <td>Chicago Bears</td>\n",
       "      <td>744</td>\n",
       "      <td>568</td>\n",
       "      <td>42</td>\n",
       "      <td>0.565</td>\n",
       "      <td>1920</td>\n",
       "      <td>1,354</td>\n",
       "      <td>NFC North</td>\n",
       "    </tr>\n",
       "    <tr>\n",
       "      <th>3</th>\n",
       "      <td>4</td>\n",
       "      <td>Miami Dolphins</td>\n",
       "      <td>439</td>\n",
       "      <td>341</td>\n",
       "      <td>4</td>\n",
       "      <td>0.563</td>\n",
       "      <td>1966</td>\n",
       "      <td>784</td>\n",
       "      <td>AFC East</td>\n",
       "    </tr>\n",
       "    <tr>\n",
       "      <th>4</th>\n",
       "      <td>5</td>\n",
       "      <td>New England Patriots</td>\n",
       "      <td>476</td>\n",
       "      <td>383</td>\n",
       "      <td>9</td>\n",
       "      <td>0.554</td>\n",
       "      <td>1960</td>\n",
       "      <td>868</td>\n",
       "      <td>AFC East</td>\n",
       "    </tr>\n",
       "  </tbody>\n",
       "</table>\n",
       "</div>"
      ],
      "text/plain": [
       "   Rank                  Team  Won  Lost  Tied   Pct.  First NFL Season  \\\n",
       "0     1        Dallas Cowboys  493   367     6  0.573              1960   \n",
       "1     2     Green Bay Packers  730   553    37  0.567              1921   \n",
       "2     3         Chicago Bears  744   568    42  0.565              1920   \n",
       "3     4        Miami Dolphins  439   341     4  0.563              1966   \n",
       "4     5  New England Patriots  476   383     9  0.554              1960   \n",
       "\n",
       "  Total Games   Division  \n",
       "0         866   NFC East  \n",
       "1       1,320  NFC North  \n",
       "2       1,354  NFC North  \n",
       "3         784   AFC East  \n",
       "4         868   AFC East  "
      ]
     },
     "execution_count": 36,
     "metadata": {},
     "output_type": "execute_result"
    }
   ],
   "source": [
    "nfl_frame.head()"
   ]
  },
  {
   "cell_type": "code",
   "execution_count": 37,
   "metadata": {
    "collapsed": false
   },
   "outputs": [
    {
     "data": {
      "text/html": [
       "<div>\n",
       "<table border=\"1\" class=\"dataframe\">\n",
       "  <thead>\n",
       "    <tr style=\"text-align: right;\">\n",
       "      <th></th>\n",
       "      <th>Rank</th>\n",
       "      <th>Team</th>\n",
       "      <th>Won</th>\n",
       "      <th>Lost</th>\n",
       "      <th>Tied</th>\n",
       "      <th>Pct.</th>\n",
       "      <th>First NFL Season</th>\n",
       "      <th>Total Games</th>\n",
       "      <th>Division</th>\n",
       "    </tr>\n",
       "  </thead>\n",
       "  <tbody>\n",
       "    <tr>\n",
       "      <th>0</th>\n",
       "      <td>1</td>\n",
       "      <td>Dallas Cowboys</td>\n",
       "      <td>493</td>\n",
       "      <td>367</td>\n",
       "      <td>6</td>\n",
       "      <td>0.573</td>\n",
       "      <td>1960</td>\n",
       "      <td>866</td>\n",
       "      <td>NFC East</td>\n",
       "    </tr>\n",
       "    <tr>\n",
       "      <th>1</th>\n",
       "      <td>2</td>\n",
       "      <td>Green Bay Packers</td>\n",
       "      <td>730</td>\n",
       "      <td>553</td>\n",
       "      <td>37</td>\n",
       "      <td>0.567</td>\n",
       "      <td>1921</td>\n",
       "      <td>1,320</td>\n",
       "      <td>NFC North</td>\n",
       "    </tr>\n",
       "    <tr>\n",
       "      <th>2</th>\n",
       "      <td>3</td>\n",
       "      <td>Chicago Bears</td>\n",
       "      <td>744</td>\n",
       "      <td>568</td>\n",
       "      <td>42</td>\n",
       "      <td>0.565</td>\n",
       "      <td>1920</td>\n",
       "      <td>1,354</td>\n",
       "      <td>NFC North</td>\n",
       "    </tr>\n",
       "  </tbody>\n",
       "</table>\n",
       "</div>"
      ],
      "text/plain": [
       "   Rank               Team  Won  Lost  Tied   Pct.  First NFL Season  \\\n",
       "0     1     Dallas Cowboys  493   367     6  0.573              1960   \n",
       "1     2  Green Bay Packers  730   553    37  0.567              1921   \n",
       "2     3      Chicago Bears  744   568    42  0.565              1920   \n",
       "\n",
       "  Total Games   Division  \n",
       "0         866   NFC East  \n",
       "1       1,320  NFC North  \n",
       "2       1,354  NFC North  "
      ]
     },
     "execution_count": 37,
     "metadata": {},
     "output_type": "execute_result"
    }
   ],
   "source": [
    "nfl_frame.head(3)"
   ]
  },
  {
   "cell_type": "code",
   "execution_count": 38,
   "metadata": {
    "collapsed": false
   },
   "outputs": [
    {
     "data": {
      "text/html": [
       "<div>\n",
       "<table border=\"1\" class=\"dataframe\">\n",
       "  <thead>\n",
       "    <tr style=\"text-align: right;\">\n",
       "      <th></th>\n",
       "      <th>Rank</th>\n",
       "      <th>Team</th>\n",
       "      <th>Won</th>\n",
       "      <th>Lost</th>\n",
       "      <th>Tied</th>\n",
       "      <th>Pct.</th>\n",
       "      <th>First NFL Season</th>\n",
       "      <th>Total Games</th>\n",
       "      <th>Division</th>\n",
       "    </tr>\n",
       "  </thead>\n",
       "  <tbody>\n",
       "    <tr>\n",
       "      <th>27</th>\n",
       "      <td>28</td>\n",
       "      <td>Houston Texans</td>\n",
       "      <td>106</td>\n",
       "      <td>134</td>\n",
       "      <td>0</td>\n",
       "      <td>0.442</td>\n",
       "      <td>2002</td>\n",
       "      <td>240</td>\n",
       "      <td>AFC South</td>\n",
       "    </tr>\n",
       "    <tr>\n",
       "      <th>28</th>\n",
       "      <td>29</td>\n",
       "      <td>Jacksonville Jaguars</td>\n",
       "      <td>155</td>\n",
       "      <td>197</td>\n",
       "      <td>0</td>\n",
       "      <td>0.440</td>\n",
       "      <td>1995</td>\n",
       "      <td>352</td>\n",
       "      <td>AFC South</td>\n",
       "    </tr>\n",
       "    <tr>\n",
       "      <th>29</th>\n",
       "      <td>30</td>\n",
       "      <td>Atlanta Falcons</td>\n",
       "      <td>341</td>\n",
       "      <td>437</td>\n",
       "      <td>6</td>\n",
       "      <td>0.439</td>\n",
       "      <td>1966</td>\n",
       "      <td>784</td>\n",
       "      <td>NFC South</td>\n",
       "    </tr>\n",
       "    <tr>\n",
       "      <th>30</th>\n",
       "      <td>31</td>\n",
       "      <td>Arizona Cardinals</td>\n",
       "      <td>542</td>\n",
       "      <td>732</td>\n",
       "      <td>40</td>\n",
       "      <td>0.428</td>\n",
       "      <td>1920</td>\n",
       "      <td>1,314</td>\n",
       "      <td>NFC West</td>\n",
       "    </tr>\n",
       "    <tr>\n",
       "      <th>31</th>\n",
       "      <td>32</td>\n",
       "      <td>Tampa Bay Buccaneers</td>\n",
       "      <td>250</td>\n",
       "      <td>393</td>\n",
       "      <td>1</td>\n",
       "      <td>0.389</td>\n",
       "      <td>1976</td>\n",
       "      <td>644</td>\n",
       "      <td>NFC South</td>\n",
       "    </tr>\n",
       "  </tbody>\n",
       "</table>\n",
       "</div>"
      ],
      "text/plain": [
       "    Rank                  Team  Won  Lost  Tied   Pct.  First NFL Season  \\\n",
       "27    28        Houston Texans  106   134     0  0.442              2002   \n",
       "28    29  Jacksonville Jaguars  155   197     0  0.440              1995   \n",
       "29    30       Atlanta Falcons  341   437     6  0.439              1966   \n",
       "30    31     Arizona Cardinals  542   732    40  0.428              1920   \n",
       "31    32  Tampa Bay Buccaneers  250   393     1  0.389              1976   \n",
       "\n",
       "   Total Games   Division  \n",
       "27         240  AFC South  \n",
       "28         352  AFC South  \n",
       "29         784  NFC South  \n",
       "30       1,314   NFC West  \n",
       "31         644  NFC South  "
      ]
     },
     "execution_count": 38,
     "metadata": {},
     "output_type": "execute_result"
    }
   ],
   "source": [
    "nfl_frame.tail()"
   ]
  },
  {
   "cell_type": "code",
   "execution_count": 39,
   "metadata": {
    "collapsed": false
   },
   "outputs": [
    {
     "data": {
      "text/plain": [
       "Rank                             4\n",
       "Team                Miami Dolphins\n",
       "Won                            439\n",
       "Lost                           341\n",
       "Tied                             4\n",
       "Pct.                         0.563\n",
       "First NFL Season              1966\n",
       "Total Games                    784\n",
       "Division                  AFC East\n",
       "Name: 3, dtype: object"
      ]
     },
     "execution_count": 39,
     "metadata": {},
     "output_type": "execute_result"
    }
   ],
   "source": [
    "nfl_frame.ix[3]"
   ]
  },
  {
   "cell_type": "code",
   "execution_count": 40,
   "metadata": {
    "collapsed": true
   },
   "outputs": [],
   "source": [
    "nfl_frame['Stadium'] = \"Levi's Stadium\""
   ]
  },
  {
   "cell_type": "code",
   "execution_count": 46,
   "metadata": {
    "collapsed": false
   },
   "outputs": [
    {
     "data": {
      "text/html": [
       "<div>\n",
       "<table border=\"1\" class=\"dataframe\">\n",
       "  <thead>\n",
       "    <tr style=\"text-align: right;\">\n",
       "      <th></th>\n",
       "      <th>Rank</th>\n",
       "      <th>Team</th>\n",
       "      <th>Won</th>\n",
       "      <th>Lost</th>\n",
       "      <th>Tied</th>\n",
       "      <th>Pct.</th>\n",
       "      <th>First NFL Season</th>\n",
       "      <th>Total Games</th>\n",
       "      <th>Division</th>\n",
       "      <th>Stadium</th>\n",
       "    </tr>\n",
       "  </thead>\n",
       "  <tbody>\n",
       "    <tr>\n",
       "      <th>0</th>\n",
       "      <td>1</td>\n",
       "      <td>Dallas Cowboys</td>\n",
       "      <td>493</td>\n",
       "      <td>367</td>\n",
       "      <td>6</td>\n",
       "      <td>0.573</td>\n",
       "      <td>1960</td>\n",
       "      <td>866</td>\n",
       "      <td>NFC East</td>\n",
       "      <td>Levi's Stadium</td>\n",
       "    </tr>\n",
       "    <tr>\n",
       "      <th>1</th>\n",
       "      <td>2</td>\n",
       "      <td>Green Bay Packers</td>\n",
       "      <td>730</td>\n",
       "      <td>553</td>\n",
       "      <td>37</td>\n",
       "      <td>0.567</td>\n",
       "      <td>1921</td>\n",
       "      <td>1,320</td>\n",
       "      <td>NFC North</td>\n",
       "      <td>Levi's Stadium</td>\n",
       "    </tr>\n",
       "    <tr>\n",
       "      <th>2</th>\n",
       "      <td>3</td>\n",
       "      <td>Chicago Bears</td>\n",
       "      <td>744</td>\n",
       "      <td>568</td>\n",
       "      <td>42</td>\n",
       "      <td>0.565</td>\n",
       "      <td>1920</td>\n",
       "      <td>1,354</td>\n",
       "      <td>NFC North</td>\n",
       "      <td>Levi's Stadium</td>\n",
       "    </tr>\n",
       "    <tr>\n",
       "      <th>3</th>\n",
       "      <td>4</td>\n",
       "      <td>Miami Dolphins</td>\n",
       "      <td>439</td>\n",
       "      <td>341</td>\n",
       "      <td>4</td>\n",
       "      <td>0.563</td>\n",
       "      <td>1966</td>\n",
       "      <td>784</td>\n",
       "      <td>AFC East</td>\n",
       "      <td>Levi's Stadium</td>\n",
       "    </tr>\n",
       "    <tr>\n",
       "      <th>4</th>\n",
       "      <td>5</td>\n",
       "      <td>New England Patriots</td>\n",
       "      <td>476</td>\n",
       "      <td>383</td>\n",
       "      <td>9</td>\n",
       "      <td>0.554</td>\n",
       "      <td>1960</td>\n",
       "      <td>868</td>\n",
       "      <td>AFC East</td>\n",
       "      <td>Levi's Stadium</td>\n",
       "    </tr>\n",
       "    <tr>\n",
       "      <th>5</th>\n",
       "      <td>6</td>\n",
       "      <td>New York Giants</td>\n",
       "      <td>684</td>\n",
       "      <td>572</td>\n",
       "      <td>33</td>\n",
       "      <td>0.543</td>\n",
       "      <td>1925</td>\n",
       "      <td>1,289</td>\n",
       "      <td>NFC East</td>\n",
       "      <td>Levi's Stadium</td>\n",
       "    </tr>\n",
       "    <tr>\n",
       "      <th>6</th>\n",
       "      <td>7</td>\n",
       "      <td>Denver Broncos</td>\n",
       "      <td>465</td>\n",
       "      <td>393</td>\n",
       "      <td>10</td>\n",
       "      <td>0.541</td>\n",
       "      <td>1960</td>\n",
       "      <td>868</td>\n",
       "      <td>AFC West</td>\n",
       "      <td>Levi's Stadium</td>\n",
       "    </tr>\n",
       "    <tr>\n",
       "      <th>7</th>\n",
       "      <td>8</td>\n",
       "      <td>Minnesota Vikings</td>\n",
       "      <td>457</td>\n",
       "      <td>387</td>\n",
       "      <td>10</td>\n",
       "      <td>0.541</td>\n",
       "      <td>1961</td>\n",
       "      <td>854</td>\n",
       "      <td>NFC North</td>\n",
       "      <td>Levi's Stadium</td>\n",
       "    </tr>\n",
       "    <tr>\n",
       "      <th>8</th>\n",
       "      <td>9</td>\n",
       "      <td>Baltimore Ravens</td>\n",
       "      <td>181</td>\n",
       "      <td>154</td>\n",
       "      <td>1</td>\n",
       "      <td>0.540</td>\n",
       "      <td>1996</td>\n",
       "      <td>336</td>\n",
       "      <td>AFC North</td>\n",
       "      <td>Levi's Stadium</td>\n",
       "    </tr>\n",
       "    <tr>\n",
       "      <th>9</th>\n",
       "      <td>10</td>\n",
       "      <td>San Francisco 49ers</td>\n",
       "      <td>522</td>\n",
       "      <td>450</td>\n",
       "      <td>14</td>\n",
       "      <td>0.537</td>\n",
       "      <td>1950</td>\n",
       "      <td>986</td>\n",
       "      <td>NFC West</td>\n",
       "      <td>Levi's Stadium</td>\n",
       "    </tr>\n",
       "    <tr>\n",
       "      <th>10</th>\n",
       "      <td>11</td>\n",
       "      <td>Indianapolis Colts</td>\n",
       "      <td>502</td>\n",
       "      <td>441</td>\n",
       "      <td>7</td>\n",
       "      <td>0.532</td>\n",
       "      <td>1953</td>\n",
       "      <td>950</td>\n",
       "      <td>AFC South</td>\n",
       "      <td>Levi's Stadium</td>\n",
       "    </tr>\n",
       "    <tr>\n",
       "      <th>11</th>\n",
       "      <td>12</td>\n",
       "      <td>Oakland Raiders</td>\n",
       "      <td>456</td>\n",
       "      <td>401</td>\n",
       "      <td>11</td>\n",
       "      <td>0.532</td>\n",
       "      <td>1960</td>\n",
       "      <td>868</td>\n",
       "      <td>AFC West</td>\n",
       "      <td>Levi's Stadium</td>\n",
       "    </tr>\n",
       "    <tr>\n",
       "      <th>12</th>\n",
       "      <td>13</td>\n",
       "      <td>Pittsburgh Steelers</td>\n",
       "      <td>601</td>\n",
       "      <td>535</td>\n",
       "      <td>20</td>\n",
       "      <td>0.529</td>\n",
       "      <td>1933</td>\n",
       "      <td>1,156</td>\n",
       "      <td>AFC North</td>\n",
       "      <td>Levi's Stadium</td>\n",
       "    </tr>\n",
       "    <tr>\n",
       "      <th>13</th>\n",
       "      <td>14</td>\n",
       "      <td>Kansas City Chiefs</td>\n",
       "      <td>447</td>\n",
       "      <td>409</td>\n",
       "      <td>12</td>\n",
       "      <td>0.522</td>\n",
       "      <td>1960</td>\n",
       "      <td>868</td>\n",
       "      <td>AFC West</td>\n",
       "      <td>Levi's Stadium</td>\n",
       "    </tr>\n",
       "    <tr>\n",
       "      <th>14</th>\n",
       "      <td>15</td>\n",
       "      <td>Washington Redskins</td>\n",
       "      <td>586</td>\n",
       "      <td>572</td>\n",
       "      <td>28</td>\n",
       "      <td>0.506</td>\n",
       "      <td>1932</td>\n",
       "      <td>1,186</td>\n",
       "      <td>NFC East</td>\n",
       "      <td>Levi's Stadium</td>\n",
       "    </tr>\n",
       "    <tr>\n",
       "      <th>15</th>\n",
       "      <td>16</td>\n",
       "      <td>Seattle Seahawks</td>\n",
       "      <td>325</td>\n",
       "      <td>318</td>\n",
       "      <td>1</td>\n",
       "      <td>0.505</td>\n",
       "      <td>1976</td>\n",
       "      <td>644</td>\n",
       "      <td>NFC West</td>\n",
       "      <td>Levi's Stadium</td>\n",
       "    </tr>\n",
       "    <tr>\n",
       "      <th>16</th>\n",
       "      <td>17</td>\n",
       "      <td>Cleveland Browns</td>\n",
       "      <td>462</td>\n",
       "      <td>466</td>\n",
       "      <td>10</td>\n",
       "      <td>0.498</td>\n",
       "      <td>1950</td>\n",
       "      <td>938</td>\n",
       "      <td>AFC North</td>\n",
       "      <td>Levi's Stadium</td>\n",
       "    </tr>\n",
       "    <tr>\n",
       "      <th>17</th>\n",
       "      <td>18</td>\n",
       "      <td>Los Angeles Chargers</td>\n",
       "      <td>426</td>\n",
       "      <td>431</td>\n",
       "      <td>11</td>\n",
       "      <td>0.497</td>\n",
       "      <td>1960</td>\n",
       "      <td>868</td>\n",
       "      <td>AFC West</td>\n",
       "      <td>Levi's Stadium</td>\n",
       "    </tr>\n",
       "    <tr>\n",
       "      <th>18</th>\n",
       "      <td>19</td>\n",
       "      <td>Los Angeles Rams</td>\n",
       "      <td>544</td>\n",
       "      <td>554</td>\n",
       "      <td>21</td>\n",
       "      <td>0.496</td>\n",
       "      <td>1937</td>\n",
       "      <td>1,119</td>\n",
       "      <td>NFC West</td>\n",
       "      <td>Levi's Stadium</td>\n",
       "    </tr>\n",
       "    <tr>\n",
       "      <th>19</th>\n",
       "      <td>20</td>\n",
       "      <td>Carolina Panthers</td>\n",
       "      <td>172</td>\n",
       "      <td>179</td>\n",
       "      <td>1</td>\n",
       "      <td>0.490</td>\n",
       "      <td>1995</td>\n",
       "      <td>352</td>\n",
       "      <td>NFC South</td>\n",
       "      <td>Levi's Stadium</td>\n",
       "    </tr>\n",
       "    <tr>\n",
       "      <th>20</th>\n",
       "      <td>21</td>\n",
       "      <td>Philadelphia Eagles</td>\n",
       "      <td>555</td>\n",
       "      <td>591</td>\n",
       "      <td>26</td>\n",
       "      <td>0.485</td>\n",
       "      <td>1933</td>\n",
       "      <td>1,172</td>\n",
       "      <td>NFC East</td>\n",
       "      <td>Levi's Stadium</td>\n",
       "    </tr>\n",
       "    <tr>\n",
       "      <th>21</th>\n",
       "      <td>22</td>\n",
       "      <td>Tennessee Titans</td>\n",
       "      <td>413</td>\n",
       "      <td>449</td>\n",
       "      <td>6</td>\n",
       "      <td>0.479</td>\n",
       "      <td>1960</td>\n",
       "      <td>868</td>\n",
       "      <td>AFC South</td>\n",
       "      <td>Levi's Stadium</td>\n",
       "    </tr>\n",
       "    <tr>\n",
       "      <th>22</th>\n",
       "      <td>23</td>\n",
       "      <td>Buffalo Bills</td>\n",
       "      <td>400</td>\n",
       "      <td>460</td>\n",
       "      <td>8</td>\n",
       "      <td>0.465</td>\n",
       "      <td>1960</td>\n",
       "      <td>868</td>\n",
       "      <td>AFC East</td>\n",
       "      <td>Levi's Stadium</td>\n",
       "    </tr>\n",
       "    <tr>\n",
       "      <th>23</th>\n",
       "      <td>24</td>\n",
       "      <td>Detroit Lions</td>\n",
       "      <td>544</td>\n",
       "      <td>641</td>\n",
       "      <td>32</td>\n",
       "      <td>0.460</td>\n",
       "      <td>1930</td>\n",
       "      <td>1,217</td>\n",
       "      <td>NFC North</td>\n",
       "      <td>Levi's Stadium</td>\n",
       "    </tr>\n",
       "    <tr>\n",
       "      <th>24</th>\n",
       "      <td>25</td>\n",
       "      <td>Cincinnati Bengals</td>\n",
       "      <td>344</td>\n",
       "      <td>408</td>\n",
       "      <td>4</td>\n",
       "      <td>0.458</td>\n",
       "      <td>1968</td>\n",
       "      <td>756</td>\n",
       "      <td>AFC North</td>\n",
       "      <td>Levi's Stadium</td>\n",
       "    </tr>\n",
       "    <tr>\n",
       "      <th>25</th>\n",
       "      <td>26</td>\n",
       "      <td>New York Jets</td>\n",
       "      <td>392</td>\n",
       "      <td>468</td>\n",
       "      <td>8</td>\n",
       "      <td>0.456</td>\n",
       "      <td>1960</td>\n",
       "      <td>868</td>\n",
       "      <td>AFC East</td>\n",
       "      <td>Levi's Stadium</td>\n",
       "    </tr>\n",
       "    <tr>\n",
       "      <th>26</th>\n",
       "      <td>27</td>\n",
       "      <td>New Orleans Saints</td>\n",
       "      <td>338</td>\n",
       "      <td>427</td>\n",
       "      <td>5</td>\n",
       "      <td>0.442</td>\n",
       "      <td>1967</td>\n",
       "      <td>770</td>\n",
       "      <td>NFC South</td>\n",
       "      <td>Levi's Stadium</td>\n",
       "    </tr>\n",
       "    <tr>\n",
       "      <th>27</th>\n",
       "      <td>28</td>\n",
       "      <td>Houston Texans</td>\n",
       "      <td>106</td>\n",
       "      <td>134</td>\n",
       "      <td>0</td>\n",
       "      <td>0.442</td>\n",
       "      <td>2002</td>\n",
       "      <td>240</td>\n",
       "      <td>AFC South</td>\n",
       "      <td>Levi's Stadium</td>\n",
       "    </tr>\n",
       "    <tr>\n",
       "      <th>28</th>\n",
       "      <td>29</td>\n",
       "      <td>Jacksonville Jaguars</td>\n",
       "      <td>155</td>\n",
       "      <td>197</td>\n",
       "      <td>0</td>\n",
       "      <td>0.440</td>\n",
       "      <td>1995</td>\n",
       "      <td>352</td>\n",
       "      <td>AFC South</td>\n",
       "      <td>Levi's Stadium</td>\n",
       "    </tr>\n",
       "    <tr>\n",
       "      <th>29</th>\n",
       "      <td>30</td>\n",
       "      <td>Atlanta Falcons</td>\n",
       "      <td>341</td>\n",
       "      <td>437</td>\n",
       "      <td>6</td>\n",
       "      <td>0.439</td>\n",
       "      <td>1966</td>\n",
       "      <td>784</td>\n",
       "      <td>NFC South</td>\n",
       "      <td>Levi's Stadium</td>\n",
       "    </tr>\n",
       "    <tr>\n",
       "      <th>30</th>\n",
       "      <td>31</td>\n",
       "      <td>Arizona Cardinals</td>\n",
       "      <td>542</td>\n",
       "      <td>732</td>\n",
       "      <td>40</td>\n",
       "      <td>0.428</td>\n",
       "      <td>1920</td>\n",
       "      <td>1,314</td>\n",
       "      <td>NFC West</td>\n",
       "      <td>Levi's Stadium</td>\n",
       "    </tr>\n",
       "    <tr>\n",
       "      <th>31</th>\n",
       "      <td>32</td>\n",
       "      <td>Tampa Bay Buccaneers</td>\n",
       "      <td>250</td>\n",
       "      <td>393</td>\n",
       "      <td>1</td>\n",
       "      <td>0.389</td>\n",
       "      <td>1976</td>\n",
       "      <td>644</td>\n",
       "      <td>NFC South</td>\n",
       "      <td>Levi's Stadium</td>\n",
       "    </tr>\n",
       "  </tbody>\n",
       "</table>\n",
       "</div>"
      ],
      "text/plain": [
       "    Rank                  Team  Won  Lost  Tied   Pct.  First NFL Season  \\\n",
       "0      1        Dallas Cowboys  493   367     6  0.573              1960   \n",
       "1      2     Green Bay Packers  730   553    37  0.567              1921   \n",
       "2      3         Chicago Bears  744   568    42  0.565              1920   \n",
       "3      4        Miami Dolphins  439   341     4  0.563              1966   \n",
       "4      5  New England Patriots  476   383     9  0.554              1960   \n",
       "5      6       New York Giants  684   572    33  0.543              1925   \n",
       "6      7        Denver Broncos  465   393    10  0.541              1960   \n",
       "7      8     Minnesota Vikings  457   387    10  0.541              1961   \n",
       "8      9      Baltimore Ravens  181   154     1  0.540              1996   \n",
       "9     10   San Francisco 49ers  522   450    14  0.537              1950   \n",
       "10    11    Indianapolis Colts  502   441     7  0.532              1953   \n",
       "11    12       Oakland Raiders  456   401    11  0.532              1960   \n",
       "12    13   Pittsburgh Steelers  601   535    20  0.529              1933   \n",
       "13    14    Kansas City Chiefs  447   409    12  0.522              1960   \n",
       "14    15   Washington Redskins  586   572    28  0.506              1932   \n",
       "15    16      Seattle Seahawks  325   318     1  0.505              1976   \n",
       "16    17      Cleveland Browns  462   466    10  0.498              1950   \n",
       "17    18  Los Angeles Chargers  426   431    11  0.497              1960   \n",
       "18    19      Los Angeles Rams  544   554    21  0.496              1937   \n",
       "19    20     Carolina Panthers  172   179     1  0.490              1995   \n",
       "20    21   Philadelphia Eagles  555   591    26  0.485              1933   \n",
       "21    22      Tennessee Titans  413   449     6  0.479              1960   \n",
       "22    23         Buffalo Bills  400   460     8  0.465              1960   \n",
       "23    24         Detroit Lions  544   641    32  0.460              1930   \n",
       "24    25    Cincinnati Bengals  344   408     4  0.458              1968   \n",
       "25    26         New York Jets  392   468     8  0.456              1960   \n",
       "26    27    New Orleans Saints  338   427     5  0.442              1967   \n",
       "27    28        Houston Texans  106   134     0  0.442              2002   \n",
       "28    29  Jacksonville Jaguars  155   197     0  0.440              1995   \n",
       "29    30       Atlanta Falcons  341   437     6  0.439              1966   \n",
       "30    31     Arizona Cardinals  542   732    40  0.428              1920   \n",
       "31    32  Tampa Bay Buccaneers  250   393     1  0.389              1976   \n",
       "\n",
       "   Total Games   Division         Stadium  \n",
       "0          866   NFC East  Levi's Stadium  \n",
       "1        1,320  NFC North  Levi's Stadium  \n",
       "2        1,354  NFC North  Levi's Stadium  \n",
       "3          784   AFC East  Levi's Stadium  \n",
       "4          868   AFC East  Levi's Stadium  \n",
       "5        1,289   NFC East  Levi's Stadium  \n",
       "6          868   AFC West  Levi's Stadium  \n",
       "7          854  NFC North  Levi's Stadium  \n",
       "8          336  AFC North  Levi's Stadium  \n",
       "9          986   NFC West  Levi's Stadium  \n",
       "10         950  AFC South  Levi's Stadium  \n",
       "11         868   AFC West  Levi's Stadium  \n",
       "12       1,156  AFC North  Levi's Stadium  \n",
       "13         868   AFC West  Levi's Stadium  \n",
       "14       1,186   NFC East  Levi's Stadium  \n",
       "15         644   NFC West  Levi's Stadium  \n",
       "16         938  AFC North  Levi's Stadium  \n",
       "17         868   AFC West  Levi's Stadium  \n",
       "18       1,119   NFC West  Levi's Stadium  \n",
       "19         352  NFC South  Levi's Stadium  \n",
       "20       1,172   NFC East  Levi's Stadium  \n",
       "21         868  AFC South  Levi's Stadium  \n",
       "22         868   AFC East  Levi's Stadium  \n",
       "23       1,217  NFC North  Levi's Stadium  \n",
       "24         756  AFC North  Levi's Stadium  \n",
       "25         868   AFC East  Levi's Stadium  \n",
       "26         770  NFC South  Levi's Stadium  \n",
       "27         240  AFC South  Levi's Stadium  \n",
       "28         352  AFC South  Levi's Stadium  \n",
       "29         784  NFC South  Levi's Stadium  \n",
       "30       1,314   NFC West  Levi's Stadium  \n",
       "31         644  NFC South  Levi's Stadium  "
      ]
     },
     "execution_count": 46,
     "metadata": {},
     "output_type": "execute_result"
    }
   ],
   "source": [
    "nfl_frame"
   ]
  },
  {
   "cell_type": "code",
   "execution_count": 47,
   "metadata": {
    "collapsed": false
   },
   "outputs": [
    {
     "ename": "ValueError",
     "evalue": "Length of values does not match length of index",
     "output_type": "error",
     "traceback": [
      "\u001b[0;31m---------------------------------------------------------------------------\u001b[0m",
      "\u001b[0;31mValueError\u001b[0m                                Traceback (most recent call last)",
      "\u001b[0;32m<ipython-input-47-8b75acbaa9f4>\u001b[0m in \u001b[0;36m<module>\u001b[0;34m()\u001b[0m\n\u001b[0;32m----> 1\u001b[0;31m \u001b[0mnfl_frame\u001b[0m\u001b[0;34m[\u001b[0m\u001b[0;34m'Stadium'\u001b[0m\u001b[0;34m]\u001b[0m \u001b[0;34m=\u001b[0m \u001b[0mnp\u001b[0m\u001b[0;34m.\u001b[0m\u001b[0marange\u001b[0m\u001b[0;34m(\u001b[0m\u001b[0;36m8\u001b[0m\u001b[0;34m)\u001b[0m\u001b[0;34m\u001b[0m\u001b[0m\n\u001b[0m",
      "\u001b[0;32m/Users/jason/anaconda/lib/python3.6/site-packages/pandas/core/frame.py\u001b[0m in \u001b[0;36m__setitem__\u001b[0;34m(self, key, value)\u001b[0m\n\u001b[1;32m   2417\u001b[0m         \u001b[0;32melse\u001b[0m\u001b[0;34m:\u001b[0m\u001b[0;34m\u001b[0m\u001b[0m\n\u001b[1;32m   2418\u001b[0m             \u001b[0;31m# set column\u001b[0m\u001b[0;34m\u001b[0m\u001b[0;34m\u001b[0m\u001b[0m\n\u001b[0;32m-> 2419\u001b[0;31m             \u001b[0mself\u001b[0m\u001b[0;34m.\u001b[0m\u001b[0m_set_item\u001b[0m\u001b[0;34m(\u001b[0m\u001b[0mkey\u001b[0m\u001b[0;34m,\u001b[0m \u001b[0mvalue\u001b[0m\u001b[0;34m)\u001b[0m\u001b[0;34m\u001b[0m\u001b[0m\n\u001b[0m\u001b[1;32m   2420\u001b[0m \u001b[0;34m\u001b[0m\u001b[0m\n\u001b[1;32m   2421\u001b[0m     \u001b[0;32mdef\u001b[0m \u001b[0m_setitem_slice\u001b[0m\u001b[0;34m(\u001b[0m\u001b[0mself\u001b[0m\u001b[0;34m,\u001b[0m \u001b[0mkey\u001b[0m\u001b[0;34m,\u001b[0m \u001b[0mvalue\u001b[0m\u001b[0;34m)\u001b[0m\u001b[0;34m:\u001b[0m\u001b[0;34m\u001b[0m\u001b[0m\n",
      "\u001b[0;32m/Users/jason/anaconda/lib/python3.6/site-packages/pandas/core/frame.py\u001b[0m in \u001b[0;36m_set_item\u001b[0;34m(self, key, value)\u001b[0m\n\u001b[1;32m   2483\u001b[0m \u001b[0;34m\u001b[0m\u001b[0m\n\u001b[1;32m   2484\u001b[0m         \u001b[0mself\u001b[0m\u001b[0;34m.\u001b[0m\u001b[0m_ensure_valid_index\u001b[0m\u001b[0;34m(\u001b[0m\u001b[0mvalue\u001b[0m\u001b[0;34m)\u001b[0m\u001b[0;34m\u001b[0m\u001b[0m\n\u001b[0;32m-> 2485\u001b[0;31m         \u001b[0mvalue\u001b[0m \u001b[0;34m=\u001b[0m \u001b[0mself\u001b[0m\u001b[0;34m.\u001b[0m\u001b[0m_sanitize_column\u001b[0m\u001b[0;34m(\u001b[0m\u001b[0mkey\u001b[0m\u001b[0;34m,\u001b[0m \u001b[0mvalue\u001b[0m\u001b[0;34m)\u001b[0m\u001b[0;34m\u001b[0m\u001b[0m\n\u001b[0m\u001b[1;32m   2486\u001b[0m         \u001b[0mNDFrame\u001b[0m\u001b[0;34m.\u001b[0m\u001b[0m_set_item\u001b[0m\u001b[0;34m(\u001b[0m\u001b[0mself\u001b[0m\u001b[0;34m,\u001b[0m \u001b[0mkey\u001b[0m\u001b[0;34m,\u001b[0m \u001b[0mvalue\u001b[0m\u001b[0;34m)\u001b[0m\u001b[0;34m\u001b[0m\u001b[0m\n\u001b[1;32m   2487\u001b[0m \u001b[0;34m\u001b[0m\u001b[0m\n",
      "\u001b[0;32m/Users/jason/anaconda/lib/python3.6/site-packages/pandas/core/frame.py\u001b[0m in \u001b[0;36m_sanitize_column\u001b[0;34m(self, key, value, broadcast)\u001b[0m\n\u001b[1;32m   2654\u001b[0m \u001b[0;34m\u001b[0m\u001b[0m\n\u001b[1;32m   2655\u001b[0m             \u001b[0;31m# turn me into an ndarray\u001b[0m\u001b[0;34m\u001b[0m\u001b[0;34m\u001b[0m\u001b[0m\n\u001b[0;32m-> 2656\u001b[0;31m             \u001b[0mvalue\u001b[0m \u001b[0;34m=\u001b[0m \u001b[0m_sanitize_index\u001b[0m\u001b[0;34m(\u001b[0m\u001b[0mvalue\u001b[0m\u001b[0;34m,\u001b[0m \u001b[0mself\u001b[0m\u001b[0;34m.\u001b[0m\u001b[0mindex\u001b[0m\u001b[0;34m,\u001b[0m \u001b[0mcopy\u001b[0m\u001b[0;34m=\u001b[0m\u001b[0;32mFalse\u001b[0m\u001b[0;34m)\u001b[0m\u001b[0;34m\u001b[0m\u001b[0m\n\u001b[0m\u001b[1;32m   2657\u001b[0m             \u001b[0;32mif\u001b[0m \u001b[0;32mnot\u001b[0m \u001b[0misinstance\u001b[0m\u001b[0;34m(\u001b[0m\u001b[0mvalue\u001b[0m\u001b[0;34m,\u001b[0m \u001b[0;34m(\u001b[0m\u001b[0mnp\u001b[0m\u001b[0;34m.\u001b[0m\u001b[0mndarray\u001b[0m\u001b[0;34m,\u001b[0m \u001b[0mIndex\u001b[0m\u001b[0;34m)\u001b[0m\u001b[0;34m)\u001b[0m\u001b[0;34m:\u001b[0m\u001b[0;34m\u001b[0m\u001b[0m\n\u001b[1;32m   2658\u001b[0m                 \u001b[0;32mif\u001b[0m \u001b[0misinstance\u001b[0m\u001b[0;34m(\u001b[0m\u001b[0mvalue\u001b[0m\u001b[0;34m,\u001b[0m \u001b[0mlist\u001b[0m\u001b[0;34m)\u001b[0m \u001b[0;32mand\u001b[0m \u001b[0mlen\u001b[0m\u001b[0;34m(\u001b[0m\u001b[0mvalue\u001b[0m\u001b[0;34m)\u001b[0m \u001b[0;34m>\u001b[0m \u001b[0;36m0\u001b[0m\u001b[0;34m:\u001b[0m\u001b[0;34m\u001b[0m\u001b[0m\n",
      "\u001b[0;32m/Users/jason/anaconda/lib/python3.6/site-packages/pandas/core/series.py\u001b[0m in \u001b[0;36m_sanitize_index\u001b[0;34m(data, index, copy)\u001b[0m\n\u001b[1;32m   2798\u001b[0m \u001b[0;34m\u001b[0m\u001b[0m\n\u001b[1;32m   2799\u001b[0m     \u001b[0;32mif\u001b[0m \u001b[0mlen\u001b[0m\u001b[0;34m(\u001b[0m\u001b[0mdata\u001b[0m\u001b[0;34m)\u001b[0m \u001b[0;34m!=\u001b[0m \u001b[0mlen\u001b[0m\u001b[0;34m(\u001b[0m\u001b[0mindex\u001b[0m\u001b[0;34m)\u001b[0m\u001b[0;34m:\u001b[0m\u001b[0;34m\u001b[0m\u001b[0m\n\u001b[0;32m-> 2800\u001b[0;31m         \u001b[0;32mraise\u001b[0m \u001b[0mValueError\u001b[0m\u001b[0;34m(\u001b[0m\u001b[0;34m'Length of values does not match length of '\u001b[0m \u001b[0;34m'index'\u001b[0m\u001b[0;34m)\u001b[0m\u001b[0;34m\u001b[0m\u001b[0m\n\u001b[0m\u001b[1;32m   2801\u001b[0m \u001b[0;34m\u001b[0m\u001b[0m\n\u001b[1;32m   2802\u001b[0m     \u001b[0;32mif\u001b[0m \u001b[0misinstance\u001b[0m\u001b[0;34m(\u001b[0m\u001b[0mdata\u001b[0m\u001b[0;34m,\u001b[0m \u001b[0mPeriodIndex\u001b[0m\u001b[0;34m)\u001b[0m\u001b[0;34m:\u001b[0m\u001b[0;34m\u001b[0m\u001b[0m\n",
      "\u001b[0;31mValueError\u001b[0m: Length of values does not match length of index"
     ]
    }
   ],
   "source": [
    "nfl_frame['Stadium'] = np.arange(8)"
   ]
  },
  {
   "cell_type": "code",
   "execution_count": 37,
   "metadata": {
    "collapsed": false
   },
   "outputs": [
    {
     "data": {
      "text/html": [
       "<div>\n",
       "<table border=\"1\" class=\"dataframe\">\n",
       "  <thead>\n",
       "    <tr style=\"text-align: right;\">\n",
       "      <th></th>\n",
       "      <th>Rank</th>\n",
       "      <th>Team</th>\n",
       "      <th>Won</th>\n",
       "      <th>Lost</th>\n",
       "      <th>Tied</th>\n",
       "      <th>Pct.</th>\n",
       "      <th>First NFL Season</th>\n",
       "      <th>Total Games</th>\n",
       "      <th>Division</th>\n",
       "      <th>Stadium</th>\n",
       "    </tr>\n",
       "  </thead>\n",
       "  <tbody>\n",
       "    <tr>\n",
       "      <th>0</th>\n",
       "      <td>1</td>\n",
       "      <td>Chicago Bears</td>\n",
       "      <td>741</td>\n",
       "      <td>555</td>\n",
       "      <td>42</td>\n",
       "      <td>0.570</td>\n",
       "      <td>1920</td>\n",
       "      <td>1,338</td>\n",
       "      <td>NFC North</td>\n",
       "      <td>0</td>\n",
       "    </tr>\n",
       "    <tr>\n",
       "      <th>1</th>\n",
       "      <td>2</td>\n",
       "      <td>Dallas Cowboys</td>\n",
       "      <td>480</td>\n",
       "      <td>364</td>\n",
       "      <td>6</td>\n",
       "      <td>0.568</td>\n",
       "      <td>1960</td>\n",
       "      <td>850</td>\n",
       "      <td>NFC East</td>\n",
       "      <td>1</td>\n",
       "    </tr>\n",
       "    <tr>\n",
       "      <th>2</th>\n",
       "      <td>3</td>\n",
       "      <td>Green Bay Packers</td>\n",
       "      <td>720</td>\n",
       "      <td>547</td>\n",
       "      <td>37</td>\n",
       "      <td>0.566</td>\n",
       "      <td>1921</td>\n",
       "      <td>1,304</td>\n",
       "      <td>NFC North</td>\n",
       "      <td>2</td>\n",
       "    </tr>\n",
       "    <tr>\n",
       "      <th>3</th>\n",
       "      <td>4</td>\n",
       "      <td>Miami Dolphins</td>\n",
       "      <td>429</td>\n",
       "      <td>335</td>\n",
       "      <td>4</td>\n",
       "      <td>0.561</td>\n",
       "      <td>1966</td>\n",
       "      <td>768</td>\n",
       "      <td>AFC East</td>\n",
       "      <td>3</td>\n",
       "    </tr>\n",
       "    <tr>\n",
       "      <th>4</th>\n",
       "      <td>5</td>\n",
       "      <td>New England Patriots</td>\n",
       "      <td>462</td>\n",
       "      <td>381</td>\n",
       "      <td>9</td>\n",
       "      <td>0.548</td>\n",
       "      <td>1960</td>\n",
       "      <td>852</td>\n",
       "      <td>AFC East</td>\n",
       "      <td>4</td>\n",
       "    </tr>\n",
       "    <tr>\n",
       "      <th>5</th>\n",
       "      <td>6</td>\n",
       "      <td>San Francisco 49ers</td>\n",
       "      <td>520</td>\n",
       "      <td>436</td>\n",
       "      <td>14</td>\n",
       "      <td>0.543</td>\n",
       "      <td>1950</td>\n",
       "      <td>970</td>\n",
       "      <td>NFC West</td>\n",
       "      <td>5</td>\n",
       "    </tr>\n",
       "    <tr>\n",
       "      <th>6</th>\n",
       "      <td>7</td>\n",
       "      <td>Baltimore Ravens</td>\n",
       "      <td>173</td>\n",
       "      <td>146</td>\n",
       "      <td>1</td>\n",
       "      <td>0.542</td>\n",
       "      <td>1996</td>\n",
       "      <td>320</td>\n",
       "      <td>AFC North</td>\n",
       "      <td>6</td>\n",
       "    </tr>\n",
       "    <tr>\n",
       "      <th>7</th>\n",
       "      <td>8</td>\n",
       "      <td>Minnesota Vikings</td>\n",
       "      <td>449</td>\n",
       "      <td>379</td>\n",
       "      <td>10</td>\n",
       "      <td>0.542</td>\n",
       "      <td>1961</td>\n",
       "      <td>838</td>\n",
       "      <td>NFC North</td>\n",
       "      <td>7</td>\n",
       "    </tr>\n",
       "  </tbody>\n",
       "</table>\n",
       "</div>"
      ],
      "text/plain": [
       "   Rank                  Team  Won  Lost  Tied   Pct.  First NFL Season  \\\n",
       "0     1         Chicago Bears  741   555    42  0.570              1920   \n",
       "1     2        Dallas Cowboys  480   364     6  0.568              1960   \n",
       "2     3     Green Bay Packers  720   547    37  0.566              1921   \n",
       "3     4        Miami Dolphins  429   335     4  0.561              1966   \n",
       "4     5  New England Patriots  462   381     9  0.548              1960   \n",
       "5     6   San Francisco 49ers  520   436    14  0.543              1950   \n",
       "6     7      Baltimore Ravens  173   146     1  0.542              1996   \n",
       "7     8     Minnesota Vikings  449   379    10  0.542              1961   \n",
       "\n",
       "  Total Games   Division  Stadium  \n",
       "0       1,338  NFC North        0  \n",
       "1         850   NFC East        1  \n",
       "2       1,304  NFC North        2  \n",
       "3         768   AFC East        3  \n",
       "4         852   AFC East        4  \n",
       "5         970   NFC West        5  \n",
       "6         320  AFC North        6  \n",
       "7         838  NFC North        7  "
      ]
     },
     "execution_count": 37,
     "metadata": {},
     "output_type": "execute_result"
    }
   ],
   "source": [
    "nfl_frame"
   ]
  },
  {
   "cell_type": "code",
   "execution_count": 38,
   "metadata": {
    "collapsed": false
   },
   "outputs": [
    {
     "data": {
      "text/plain": [
       "4    Levi's Stadium\n",
       "0      AT&T Stadium\n",
       "dtype: object"
      ]
     },
     "execution_count": 38,
     "metadata": {},
     "output_type": "execute_result"
    }
   ],
   "source": [
    "stadiums = Series([\"Levi's Stadium\", \"AT&T Stadium\"], index=[4,0])\n",
    "stadiums"
   ]
  },
  {
   "cell_type": "code",
   "execution_count": 39,
   "metadata": {
    "collapsed": true
   },
   "outputs": [],
   "source": [
    "nfl_frame['Stadium'] = stadiums"
   ]
  },
  {
   "cell_type": "code",
   "execution_count": 40,
   "metadata": {
    "collapsed": false
   },
   "outputs": [
    {
     "data": {
      "text/html": [
       "<div>\n",
       "<table border=\"1\" class=\"dataframe\">\n",
       "  <thead>\n",
       "    <tr style=\"text-align: right;\">\n",
       "      <th></th>\n",
       "      <th>Rank</th>\n",
       "      <th>Team</th>\n",
       "      <th>Won</th>\n",
       "      <th>Lost</th>\n",
       "      <th>Tied</th>\n",
       "      <th>Pct.</th>\n",
       "      <th>First NFL Season</th>\n",
       "      <th>Total Games</th>\n",
       "      <th>Division</th>\n",
       "      <th>Stadium</th>\n",
       "    </tr>\n",
       "  </thead>\n",
       "  <tbody>\n",
       "    <tr>\n",
       "      <th>0</th>\n",
       "      <td>1</td>\n",
       "      <td>Chicago Bears</td>\n",
       "      <td>741</td>\n",
       "      <td>555</td>\n",
       "      <td>42</td>\n",
       "      <td>0.570</td>\n",
       "      <td>1920</td>\n",
       "      <td>1,338</td>\n",
       "      <td>NFC North</td>\n",
       "      <td>AT&amp;T Stadium</td>\n",
       "    </tr>\n",
       "    <tr>\n",
       "      <th>1</th>\n",
       "      <td>2</td>\n",
       "      <td>Dallas Cowboys</td>\n",
       "      <td>480</td>\n",
       "      <td>364</td>\n",
       "      <td>6</td>\n",
       "      <td>0.568</td>\n",
       "      <td>1960</td>\n",
       "      <td>850</td>\n",
       "      <td>NFC East</td>\n",
       "      <td>NaN</td>\n",
       "    </tr>\n",
       "    <tr>\n",
       "      <th>2</th>\n",
       "      <td>3</td>\n",
       "      <td>Green Bay Packers</td>\n",
       "      <td>720</td>\n",
       "      <td>547</td>\n",
       "      <td>37</td>\n",
       "      <td>0.566</td>\n",
       "      <td>1921</td>\n",
       "      <td>1,304</td>\n",
       "      <td>NFC North</td>\n",
       "      <td>NaN</td>\n",
       "    </tr>\n",
       "    <tr>\n",
       "      <th>3</th>\n",
       "      <td>4</td>\n",
       "      <td>Miami Dolphins</td>\n",
       "      <td>429</td>\n",
       "      <td>335</td>\n",
       "      <td>4</td>\n",
       "      <td>0.561</td>\n",
       "      <td>1966</td>\n",
       "      <td>768</td>\n",
       "      <td>AFC East</td>\n",
       "      <td>NaN</td>\n",
       "    </tr>\n",
       "    <tr>\n",
       "      <th>4</th>\n",
       "      <td>5</td>\n",
       "      <td>New England Patriots</td>\n",
       "      <td>462</td>\n",
       "      <td>381</td>\n",
       "      <td>9</td>\n",
       "      <td>0.548</td>\n",
       "      <td>1960</td>\n",
       "      <td>852</td>\n",
       "      <td>AFC East</td>\n",
       "      <td>Levi's Stadium</td>\n",
       "    </tr>\n",
       "    <tr>\n",
       "      <th>5</th>\n",
       "      <td>6</td>\n",
       "      <td>San Francisco 49ers</td>\n",
       "      <td>520</td>\n",
       "      <td>436</td>\n",
       "      <td>14</td>\n",
       "      <td>0.543</td>\n",
       "      <td>1950</td>\n",
       "      <td>970</td>\n",
       "      <td>NFC West</td>\n",
       "      <td>NaN</td>\n",
       "    </tr>\n",
       "    <tr>\n",
       "      <th>6</th>\n",
       "      <td>7</td>\n",
       "      <td>Baltimore Ravens</td>\n",
       "      <td>173</td>\n",
       "      <td>146</td>\n",
       "      <td>1</td>\n",
       "      <td>0.542</td>\n",
       "      <td>1996</td>\n",
       "      <td>320</td>\n",
       "      <td>AFC North</td>\n",
       "      <td>NaN</td>\n",
       "    </tr>\n",
       "    <tr>\n",
       "      <th>7</th>\n",
       "      <td>8</td>\n",
       "      <td>Minnesota Vikings</td>\n",
       "      <td>449</td>\n",
       "      <td>379</td>\n",
       "      <td>10</td>\n",
       "      <td>0.542</td>\n",
       "      <td>1961</td>\n",
       "      <td>838</td>\n",
       "      <td>NFC North</td>\n",
       "      <td>NaN</td>\n",
       "    </tr>\n",
       "  </tbody>\n",
       "</table>\n",
       "</div>"
      ],
      "text/plain": [
       "   Rank                  Team  Won  Lost  Tied   Pct.  First NFL Season  \\\n",
       "0     1         Chicago Bears  741   555    42  0.570              1920   \n",
       "1     2        Dallas Cowboys  480   364     6  0.568              1960   \n",
       "2     3     Green Bay Packers  720   547    37  0.566              1921   \n",
       "3     4        Miami Dolphins  429   335     4  0.561              1966   \n",
       "4     5  New England Patriots  462   381     9  0.548              1960   \n",
       "5     6   San Francisco 49ers  520   436    14  0.543              1950   \n",
       "6     7      Baltimore Ravens  173   146     1  0.542              1996   \n",
       "7     8     Minnesota Vikings  449   379    10  0.542              1961   \n",
       "\n",
       "  Total Games   Division         Stadium  \n",
       "0       1,338  NFC North    AT&T Stadium  \n",
       "1         850   NFC East             NaN  \n",
       "2       1,304  NFC North             NaN  \n",
       "3         768   AFC East             NaN  \n",
       "4         852   AFC East  Levi's Stadium  \n",
       "5         970   NFC West             NaN  \n",
       "6         320  AFC North             NaN  \n",
       "7         838  NFC North             NaN  "
      ]
     },
     "execution_count": 40,
     "metadata": {},
     "output_type": "execute_result"
    }
   ],
   "source": [
    "nfl_frame"
   ]
  },
  {
   "cell_type": "code",
   "execution_count": 41,
   "metadata": {
    "collapsed": true
   },
   "outputs": [],
   "source": [
    "del nfl_frame['Stadium']"
   ]
  },
  {
   "cell_type": "code",
   "execution_count": 42,
   "metadata": {
    "collapsed": false
   },
   "outputs": [
    {
     "data": {
      "text/html": [
       "<div>\n",
       "<table border=\"1\" class=\"dataframe\">\n",
       "  <thead>\n",
       "    <tr style=\"text-align: right;\">\n",
       "      <th></th>\n",
       "      <th>Rank</th>\n",
       "      <th>Team</th>\n",
       "      <th>Won</th>\n",
       "      <th>Lost</th>\n",
       "      <th>Tied</th>\n",
       "      <th>Pct.</th>\n",
       "      <th>First NFL Season</th>\n",
       "      <th>Total Games</th>\n",
       "      <th>Division</th>\n",
       "    </tr>\n",
       "  </thead>\n",
       "  <tbody>\n",
       "    <tr>\n",
       "      <th>0</th>\n",
       "      <td>1</td>\n",
       "      <td>Chicago Bears</td>\n",
       "      <td>741</td>\n",
       "      <td>555</td>\n",
       "      <td>42</td>\n",
       "      <td>0.570</td>\n",
       "      <td>1920</td>\n",
       "      <td>1,338</td>\n",
       "      <td>NFC North</td>\n",
       "    </tr>\n",
       "    <tr>\n",
       "      <th>1</th>\n",
       "      <td>2</td>\n",
       "      <td>Dallas Cowboys</td>\n",
       "      <td>480</td>\n",
       "      <td>364</td>\n",
       "      <td>6</td>\n",
       "      <td>0.568</td>\n",
       "      <td>1960</td>\n",
       "      <td>850</td>\n",
       "      <td>NFC East</td>\n",
       "    </tr>\n",
       "    <tr>\n",
       "      <th>2</th>\n",
       "      <td>3</td>\n",
       "      <td>Green Bay Packers</td>\n",
       "      <td>720</td>\n",
       "      <td>547</td>\n",
       "      <td>37</td>\n",
       "      <td>0.566</td>\n",
       "      <td>1921</td>\n",
       "      <td>1,304</td>\n",
       "      <td>NFC North</td>\n",
       "    </tr>\n",
       "    <tr>\n",
       "      <th>3</th>\n",
       "      <td>4</td>\n",
       "      <td>Miami Dolphins</td>\n",
       "      <td>429</td>\n",
       "      <td>335</td>\n",
       "      <td>4</td>\n",
       "      <td>0.561</td>\n",
       "      <td>1966</td>\n",
       "      <td>768</td>\n",
       "      <td>AFC East</td>\n",
       "    </tr>\n",
       "    <tr>\n",
       "      <th>4</th>\n",
       "      <td>5</td>\n",
       "      <td>New England Patriots</td>\n",
       "      <td>462</td>\n",
       "      <td>381</td>\n",
       "      <td>9</td>\n",
       "      <td>0.548</td>\n",
       "      <td>1960</td>\n",
       "      <td>852</td>\n",
       "      <td>AFC East</td>\n",
       "    </tr>\n",
       "    <tr>\n",
       "      <th>5</th>\n",
       "      <td>6</td>\n",
       "      <td>San Francisco 49ers</td>\n",
       "      <td>520</td>\n",
       "      <td>436</td>\n",
       "      <td>14</td>\n",
       "      <td>0.543</td>\n",
       "      <td>1950</td>\n",
       "      <td>970</td>\n",
       "      <td>NFC West</td>\n",
       "    </tr>\n",
       "    <tr>\n",
       "      <th>6</th>\n",
       "      <td>7</td>\n",
       "      <td>Baltimore Ravens</td>\n",
       "      <td>173</td>\n",
       "      <td>146</td>\n",
       "      <td>1</td>\n",
       "      <td>0.542</td>\n",
       "      <td>1996</td>\n",
       "      <td>320</td>\n",
       "      <td>AFC North</td>\n",
       "    </tr>\n",
       "    <tr>\n",
       "      <th>7</th>\n",
       "      <td>8</td>\n",
       "      <td>Minnesota Vikings</td>\n",
       "      <td>449</td>\n",
       "      <td>379</td>\n",
       "      <td>10</td>\n",
       "      <td>0.542</td>\n",
       "      <td>1961</td>\n",
       "      <td>838</td>\n",
       "      <td>NFC North</td>\n",
       "    </tr>\n",
       "  </tbody>\n",
       "</table>\n",
       "</div>"
      ],
      "text/plain": [
       "   Rank                  Team  Won  Lost  Tied   Pct.  First NFL Season  \\\n",
       "0     1         Chicago Bears  741   555    42  0.570              1920   \n",
       "1     2        Dallas Cowboys  480   364     6  0.568              1960   \n",
       "2     3     Green Bay Packers  720   547    37  0.566              1921   \n",
       "3     4        Miami Dolphins  429   335     4  0.561              1966   \n",
       "4     5  New England Patriots  462   381     9  0.548              1960   \n",
       "5     6   San Francisco 49ers  520   436    14  0.543              1950   \n",
       "6     7      Baltimore Ravens  173   146     1  0.542              1996   \n",
       "7     8     Minnesota Vikings  449   379    10  0.542              1961   \n",
       "\n",
       "  Total Games   Division  \n",
       "0       1,338  NFC North  \n",
       "1         850   NFC East  \n",
       "2       1,304  NFC North  \n",
       "3         768   AFC East  \n",
       "4         852   AFC East  \n",
       "5         970   NFC West  \n",
       "6         320  AFC North  \n",
       "7         838  NFC North  "
      ]
     },
     "execution_count": 42,
     "metadata": {},
     "output_type": "execute_result"
    }
   ],
   "source": [
    "nfl_frame"
   ]
  },
  {
   "cell_type": "code",
   "execution_count": 43,
   "metadata": {
    "collapsed": true
   },
   "outputs": [],
   "source": [
    "data = {'City':['SF', 'LA', 'NYC'], 'Population':[837000, 3880000, 8400000]}"
   ]
  },
  {
   "cell_type": "code",
   "execution_count": 44,
   "metadata": {
    "collapsed": true
   },
   "outputs": [],
   "source": [
    "city_frame = DataFrame(data)"
   ]
  },
  {
   "cell_type": "code",
   "execution_count": 45,
   "metadata": {
    "collapsed": false
   },
   "outputs": [
    {
     "data": {
      "text/html": [
       "<div>\n",
       "<table border=\"1\" class=\"dataframe\">\n",
       "  <thead>\n",
       "    <tr style=\"text-align: right;\">\n",
       "      <th></th>\n",
       "      <th>City</th>\n",
       "      <th>Population</th>\n",
       "    </tr>\n",
       "  </thead>\n",
       "  <tbody>\n",
       "    <tr>\n",
       "      <th>0</th>\n",
       "      <td>SF</td>\n",
       "      <td>837000</td>\n",
       "    </tr>\n",
       "    <tr>\n",
       "      <th>1</th>\n",
       "      <td>LA</td>\n",
       "      <td>3880000</td>\n",
       "    </tr>\n",
       "    <tr>\n",
       "      <th>2</th>\n",
       "      <td>NYC</td>\n",
       "      <td>8400000</td>\n",
       "    </tr>\n",
       "  </tbody>\n",
       "</table>\n",
       "</div>"
      ],
      "text/plain": [
       "  City  Population\n",
       "0   SF      837000\n",
       "1   LA     3880000\n",
       "2  NYC     8400000"
      ]
     },
     "execution_count": 45,
     "metadata": {},
     "output_type": "execute_result"
    }
   ],
   "source": [
    "city_frame"
   ]
  },
  {
   "cell_type": "code",
   "execution_count": 46,
   "metadata": {
    "collapsed": false
   },
   "outputs": [
    {
     "data": {
      "text/plain": [
       "True"
      ]
     },
     "execution_count": 46,
     "metadata": {},
     "output_type": "execute_result"
    }
   ],
   "source": [
    "website = 'http://pandas.pydata.org/pandas-docs/dev/generated/pandas.DataFrame.html'\n",
    "webbrowser.open(website)"
   ]
  },
  {
   "cell_type": "markdown",
   "metadata": {},
   "source": [
    "# Index Objects"
   ]
  },
  {
   "cell_type": "code",
   "execution_count": 47,
   "metadata": {
    "collapsed": true
   },
   "outputs": [],
   "source": [
    "import numpy as np\n",
    "from pandas import Series, DataFrame\n",
    "import pandas as pd"
   ]
  },
  {
   "cell_type": "code",
   "execution_count": 48,
   "metadata": {
    "collapsed": false
   },
   "outputs": [
    {
     "data": {
      "text/plain": [
       "A    1\n",
       "B    2\n",
       "C    3\n",
       "D    4\n",
       "dtype: int64"
      ]
     },
     "execution_count": 48,
     "metadata": {},
     "output_type": "execute_result"
    }
   ],
   "source": [
    "my_ser = Series([1, 2, 3, 4], index=['A', 'B', 'C', 'D'])\n",
    "\n",
    "my_ser"
   ]
  },
  {
   "cell_type": "code",
   "execution_count": 49,
   "metadata": {
    "collapsed": false
   },
   "outputs": [
    {
     "data": {
      "text/plain": [
       "Index(['A', 'B', 'C', 'D'], dtype='object')"
      ]
     },
     "execution_count": 49,
     "metadata": {},
     "output_type": "execute_result"
    }
   ],
   "source": [
    "my_index = my_ser.index\n",
    "\n",
    "my_index"
   ]
  },
  {
   "cell_type": "code",
   "execution_count": 50,
   "metadata": {
    "collapsed": false
   },
   "outputs": [
    {
     "data": {
      "text/plain": [
       "'C'"
      ]
     },
     "execution_count": 50,
     "metadata": {},
     "output_type": "execute_result"
    }
   ],
   "source": [
    "my_index[2]"
   ]
  },
  {
   "cell_type": "code",
   "execution_count": 51,
   "metadata": {
    "collapsed": false
   },
   "outputs": [
    {
     "data": {
      "text/plain": [
       "Index(['C', 'D'], dtype='object')"
      ]
     },
     "execution_count": 51,
     "metadata": {},
     "output_type": "execute_result"
    }
   ],
   "source": [
    "my_index[2:]"
   ]
  },
  {
   "cell_type": "code",
   "execution_count": 53,
   "metadata": {
    "collapsed": false
   },
   "outputs": [
    {
     "data": {
      "text/plain": [
       "Index(['A', 'B', 'C', 'D'], dtype='object')"
      ]
     },
     "execution_count": 53,
     "metadata": {},
     "output_type": "execute_result"
    }
   ],
   "source": [
    "my_index"
   ]
  },
  {
   "cell_type": "code",
   "execution_count": 54,
   "metadata": {
    "collapsed": false
   },
   "outputs": [
    {
     "data": {
      "text/plain": [
       "'A'"
      ]
     },
     "execution_count": 54,
     "metadata": {},
     "output_type": "execute_result"
    }
   ],
   "source": [
    "my_index[0]"
   ]
  },
  {
   "cell_type": "code",
   "execution_count": 52,
   "metadata": {
    "collapsed": false
   },
   "outputs": [
    {
     "ename": "TypeError",
     "evalue": "Index does not support mutable operations",
     "output_type": "error",
     "traceback": [
      "\u001b[0;31m---------------------------------------------------------------------------\u001b[0m",
      "\u001b[0;31mTypeError\u001b[0m                                 Traceback (most recent call last)",
      "\u001b[0;32m<ipython-input-52-55162dd228a2>\u001b[0m in \u001b[0;36m<module>\u001b[0;34m()\u001b[0m\n\u001b[0;32m----> 1\u001b[0;31m \u001b[0mmy_index\u001b[0m\u001b[0;34m[\u001b[0m\u001b[0;36m0\u001b[0m\u001b[0;34m]\u001b[0m \u001b[0;34m=\u001b[0m \u001b[0;34m'Z'\u001b[0m\u001b[0;34m\u001b[0m\u001b[0m\n\u001b[0m\u001b[1;32m      2\u001b[0m \u001b[0;34m\u001b[0m\u001b[0m\n\u001b[1;32m      3\u001b[0m \u001b[0mmy_index\u001b[0m\u001b[0;34m\u001b[0m\u001b[0m\n",
      "\u001b[0;32m/Users/jason/anaconda/lib/python3.5/site-packages/pandas/indexes/base.py\u001b[0m in \u001b[0;36m__setitem__\u001b[0;34m(self, key, value)\u001b[0m\n\u001b[1;32m   1243\u001b[0m \u001b[0;34m\u001b[0m\u001b[0m\n\u001b[1;32m   1244\u001b[0m     \u001b[0;32mdef\u001b[0m \u001b[0m__setitem__\u001b[0m\u001b[0;34m(\u001b[0m\u001b[0mself\u001b[0m\u001b[0;34m,\u001b[0m \u001b[0mkey\u001b[0m\u001b[0;34m,\u001b[0m \u001b[0mvalue\u001b[0m\u001b[0;34m)\u001b[0m\u001b[0;34m:\u001b[0m\u001b[0;34m\u001b[0m\u001b[0m\n\u001b[0;32m-> 1245\u001b[0;31m         \u001b[0;32mraise\u001b[0m \u001b[0mTypeError\u001b[0m\u001b[0;34m(\u001b[0m\u001b[0;34m\"Index does not support mutable operations\"\u001b[0m\u001b[0;34m)\u001b[0m\u001b[0;34m\u001b[0m\u001b[0m\n\u001b[0m\u001b[1;32m   1246\u001b[0m \u001b[0;34m\u001b[0m\u001b[0m\n\u001b[1;32m   1247\u001b[0m     \u001b[0;32mdef\u001b[0m \u001b[0m__getitem__\u001b[0m\u001b[0;34m(\u001b[0m\u001b[0mself\u001b[0m\u001b[0;34m,\u001b[0m \u001b[0mkey\u001b[0m\u001b[0;34m)\u001b[0m\u001b[0;34m:\u001b[0m\u001b[0;34m\u001b[0m\u001b[0m\n",
      "\u001b[0;31mTypeError\u001b[0m: Index does not support mutable operations"
     ]
    }
   ],
   "source": [
    "my_index[0] = 'Z'\n",
    "\n",
    "my_index"
   ]
  },
  {
   "cell_type": "markdown",
   "metadata": {},
   "source": [
    "# Reindexing"
   ]
  },
  {
   "cell_type": "code",
   "execution_count": 69,
   "metadata": {
    "collapsed": true
   },
   "outputs": [],
   "source": [
    "from numpy.random import randn"
   ]
  },
  {
   "cell_type": "code",
   "execution_count": 70,
   "metadata": {
    "collapsed": false
   },
   "outputs": [
    {
     "data": {
      "text/plain": [
       "A    1\n",
       "B    2\n",
       "C    3\n",
       "D    4\n",
       "dtype: int64"
      ]
     },
     "execution_count": 70,
     "metadata": {},
     "output_type": "execute_result"
    }
   ],
   "source": [
    "ser1 = Series([1, 2, 3, 4], index=['A', 'B', 'C', 'D'])\n",
    "\n",
    "ser1"
   ]
  },
  {
   "cell_type": "code",
   "execution_count": 71,
   "metadata": {
    "collapsed": false
   },
   "outputs": [
    {
     "data": {
      "text/plain": [
       "A    1.0\n",
       "B    2.0\n",
       "C    3.0\n",
       "D    4.0\n",
       "E    NaN\n",
       "F    NaN\n",
       "dtype: float64"
      ]
     },
     "execution_count": 71,
     "metadata": {},
     "output_type": "execute_result"
    }
   ],
   "source": [
    "ser2 = ser1.reindex(['A', 'B', 'C', 'D', 'E', 'F'])\n",
    "\n",
    "ser2"
   ]
  },
  {
   "cell_type": "code",
   "execution_count": 72,
   "metadata": {
    "collapsed": false
   },
   "outputs": [
    {
     "data": {
      "text/plain": [
       "A    1.0\n",
       "B    2.0\n",
       "C    3.0\n",
       "D    4.0\n",
       "E    NaN\n",
       "F    NaN\n",
       "G    0.0\n",
       "dtype: float64"
      ]
     },
     "execution_count": 72,
     "metadata": {},
     "output_type": "execute_result"
    }
   ],
   "source": [
    "ser2.reindex(['A', 'B', 'C', 'D', 'E', 'F', 'G'], fill_value=0)"
   ]
  },
  {
   "cell_type": "code",
   "execution_count": 74,
   "metadata": {
    "collapsed": false
   },
   "outputs": [
    {
     "data": {
      "text/plain": [
       "0        USA\n",
       "5     Mexico\n",
       "10    Canada\n",
       "dtype: object"
      ]
     },
     "execution_count": 74,
     "metadata": {},
     "output_type": "execute_result"
    }
   ],
   "source": [
    "ser3 = Series(['USA', 'Mexico', 'Canada'], index=[0, 5, 10])\n",
    "\n",
    "ser3"
   ]
  },
  {
   "cell_type": "code",
   "execution_count": 76,
   "metadata": {
    "collapsed": false
   },
   "outputs": [
    {
     "data": {
      "text/plain": [
       "range(0, 15)"
      ]
     },
     "execution_count": 76,
     "metadata": {},
     "output_type": "execute_result"
    }
   ],
   "source": [
    "ranger = range(15)\n",
    "\n",
    "ranger"
   ]
  },
  {
   "cell_type": "code",
   "execution_count": 78,
   "metadata": {
    "collapsed": false
   },
   "outputs": [
    {
     "data": {
      "text/plain": [
       "0        USA\n",
       "1        USA\n",
       "2        USA\n",
       "3        USA\n",
       "4        USA\n",
       "5     Mexico\n",
       "6     Mexico\n",
       "7     Mexico\n",
       "8     Mexico\n",
       "9     Mexico\n",
       "10    Canada\n",
       "11    Canada\n",
       "12    Canada\n",
       "13    Canada\n",
       "14    Canada\n",
       "dtype: object"
      ]
     },
     "execution_count": 78,
     "metadata": {},
     "output_type": "execute_result"
    }
   ],
   "source": [
    "ser3.reindex(ranger, method='ffill')"
   ]
  },
  {
   "cell_type": "code",
   "execution_count": 83,
   "metadata": {
    "collapsed": false
   },
   "outputs": [
    {
     "data": {
      "text/html": [
       "<div>\n",
       "<table border=\"1\" class=\"dataframe\">\n",
       "  <thead>\n",
       "    <tr style=\"text-align: right;\">\n",
       "      <th></th>\n",
       "      <th>col1</th>\n",
       "      <th>col2</th>\n",
       "      <th>col3</th>\n",
       "      <th>col4</th>\n",
       "      <th>col5</th>\n",
       "    </tr>\n",
       "  </thead>\n",
       "  <tbody>\n",
       "    <tr>\n",
       "      <th>A</th>\n",
       "      <td>-1.956609</td>\n",
       "      <td>1.130772</td>\n",
       "      <td>-0.476055</td>\n",
       "      <td>-0.325313</td>\n",
       "      <td>1.526588</td>\n",
       "    </tr>\n",
       "    <tr>\n",
       "      <th>B</th>\n",
       "      <td>-1.704696</td>\n",
       "      <td>-0.246728</td>\n",
       "      <td>-0.196950</td>\n",
       "      <td>0.376608</td>\n",
       "      <td>0.310242</td>\n",
       "    </tr>\n",
       "    <tr>\n",
       "      <th>C</th>\n",
       "      <td>0.242536</td>\n",
       "      <td>-0.051250</td>\n",
       "      <td>0.747474</td>\n",
       "      <td>-0.735875</td>\n",
       "      <td>2.753715</td>\n",
       "    </tr>\n",
       "    <tr>\n",
       "      <th>D</th>\n",
       "      <td>1.467290</td>\n",
       "      <td>-1.088925</td>\n",
       "      <td>-0.390686</td>\n",
       "      <td>0.806912</td>\n",
       "      <td>2.595164</td>\n",
       "    </tr>\n",
       "    <tr>\n",
       "      <th>E</th>\n",
       "      <td>-0.510249</td>\n",
       "      <td>0.283513</td>\n",
       "      <td>0.446398</td>\n",
       "      <td>1.937759</td>\n",
       "      <td>0.005898</td>\n",
       "    </tr>\n",
       "  </tbody>\n",
       "</table>\n",
       "</div>"
      ],
      "text/plain": [
       "       col1      col2      col3      col4      col5\n",
       "A -1.956609  1.130772 -0.476055 -0.325313  1.526588\n",
       "B -1.704696 -0.246728 -0.196950  0.376608  0.310242\n",
       "C  0.242536 -0.051250  0.747474 -0.735875  2.753715\n",
       "D  1.467290 -1.088925 -0.390686  0.806912  2.595164\n",
       "E -0.510249  0.283513  0.446398  1.937759  0.005898"
      ]
     },
     "execution_count": 83,
     "metadata": {},
     "output_type": "execute_result"
    }
   ],
   "source": [
    "dframe = DataFrame(randn(25).reshape((5, 5)), index=['A', 'B', 'C', 'D', 'E'], \n",
    "                   columns=['col1', 'col2', 'col3', 'col4', 'col5'])\n",
    "\n",
    "dframe"
   ]
  },
  {
   "cell_type": "code",
   "execution_count": 84,
   "metadata": {
    "collapsed": true
   },
   "outputs": [],
   "source": [
    "dframe2 = dframe.reindex(['A', 'B', 'D', 'C', 'E', 'F'])"
   ]
  },
  {
   "cell_type": "code",
   "execution_count": 85,
   "metadata": {
    "collapsed": false
   },
   "outputs": [
    {
     "data": {
      "text/html": [
       "<div>\n",
       "<table border=\"1\" class=\"dataframe\">\n",
       "  <thead>\n",
       "    <tr style=\"text-align: right;\">\n",
       "      <th></th>\n",
       "      <th>col1</th>\n",
       "      <th>col2</th>\n",
       "      <th>col3</th>\n",
       "      <th>col4</th>\n",
       "      <th>col5</th>\n",
       "    </tr>\n",
       "  </thead>\n",
       "  <tbody>\n",
       "    <tr>\n",
       "      <th>A</th>\n",
       "      <td>-1.956609</td>\n",
       "      <td>1.130772</td>\n",
       "      <td>-0.476055</td>\n",
       "      <td>-0.325313</td>\n",
       "      <td>1.526588</td>\n",
       "    </tr>\n",
       "    <tr>\n",
       "      <th>B</th>\n",
       "      <td>-1.704696</td>\n",
       "      <td>-0.246728</td>\n",
       "      <td>-0.196950</td>\n",
       "      <td>0.376608</td>\n",
       "      <td>0.310242</td>\n",
       "    </tr>\n",
       "    <tr>\n",
       "      <th>D</th>\n",
       "      <td>1.467290</td>\n",
       "      <td>-1.088925</td>\n",
       "      <td>-0.390686</td>\n",
       "      <td>0.806912</td>\n",
       "      <td>2.595164</td>\n",
       "    </tr>\n",
       "    <tr>\n",
       "      <th>C</th>\n",
       "      <td>0.242536</td>\n",
       "      <td>-0.051250</td>\n",
       "      <td>0.747474</td>\n",
       "      <td>-0.735875</td>\n",
       "      <td>2.753715</td>\n",
       "    </tr>\n",
       "    <tr>\n",
       "      <th>E</th>\n",
       "      <td>-0.510249</td>\n",
       "      <td>0.283513</td>\n",
       "      <td>0.446398</td>\n",
       "      <td>1.937759</td>\n",
       "      <td>0.005898</td>\n",
       "    </tr>\n",
       "    <tr>\n",
       "      <th>F</th>\n",
       "      <td>NaN</td>\n",
       "      <td>NaN</td>\n",
       "      <td>NaN</td>\n",
       "      <td>NaN</td>\n",
       "      <td>NaN</td>\n",
       "    </tr>\n",
       "  </tbody>\n",
       "</table>\n",
       "</div>"
      ],
      "text/plain": [
       "       col1      col2      col3      col4      col5\n",
       "A -1.956609  1.130772 -0.476055 -0.325313  1.526588\n",
       "B -1.704696 -0.246728 -0.196950  0.376608  0.310242\n",
       "D  1.467290 -1.088925 -0.390686  0.806912  2.595164\n",
       "C  0.242536 -0.051250  0.747474 -0.735875  2.753715\n",
       "E -0.510249  0.283513  0.446398  1.937759  0.005898\n",
       "F       NaN       NaN       NaN       NaN       NaN"
      ]
     },
     "execution_count": 85,
     "metadata": {},
     "output_type": "execute_result"
    }
   ],
   "source": [
    "dframe2"
   ]
  },
  {
   "cell_type": "code",
   "execution_count": 88,
   "metadata": {
    "collapsed": true
   },
   "outputs": [],
   "source": [
    "new_columns = ['col1', 'col2', 'col3', 'col4', 'col5', 'col6']"
   ]
  },
  {
   "cell_type": "code",
   "execution_count": 89,
   "metadata": {
    "collapsed": false
   },
   "outputs": [
    {
     "data": {
      "text/html": [
       "<div>\n",
       "<table border=\"1\" class=\"dataframe\">\n",
       "  <thead>\n",
       "    <tr style=\"text-align: right;\">\n",
       "      <th></th>\n",
       "      <th>col1</th>\n",
       "      <th>col2</th>\n",
       "      <th>col3</th>\n",
       "      <th>col4</th>\n",
       "      <th>col5</th>\n",
       "      <th>col6</th>\n",
       "    </tr>\n",
       "  </thead>\n",
       "  <tbody>\n",
       "    <tr>\n",
       "      <th>A</th>\n",
       "      <td>-1.956609</td>\n",
       "      <td>1.130772</td>\n",
       "      <td>-0.476055</td>\n",
       "      <td>-0.325313</td>\n",
       "      <td>1.526588</td>\n",
       "      <td>NaN</td>\n",
       "    </tr>\n",
       "    <tr>\n",
       "      <th>B</th>\n",
       "      <td>-1.704696</td>\n",
       "      <td>-0.246728</td>\n",
       "      <td>-0.196950</td>\n",
       "      <td>0.376608</td>\n",
       "      <td>0.310242</td>\n",
       "      <td>NaN</td>\n",
       "    </tr>\n",
       "    <tr>\n",
       "      <th>D</th>\n",
       "      <td>1.467290</td>\n",
       "      <td>-1.088925</td>\n",
       "      <td>-0.390686</td>\n",
       "      <td>0.806912</td>\n",
       "      <td>2.595164</td>\n",
       "      <td>NaN</td>\n",
       "    </tr>\n",
       "    <tr>\n",
       "      <th>C</th>\n",
       "      <td>0.242536</td>\n",
       "      <td>-0.051250</td>\n",
       "      <td>0.747474</td>\n",
       "      <td>-0.735875</td>\n",
       "      <td>2.753715</td>\n",
       "      <td>NaN</td>\n",
       "    </tr>\n",
       "    <tr>\n",
       "      <th>E</th>\n",
       "      <td>-0.510249</td>\n",
       "      <td>0.283513</td>\n",
       "      <td>0.446398</td>\n",
       "      <td>1.937759</td>\n",
       "      <td>0.005898</td>\n",
       "      <td>NaN</td>\n",
       "    </tr>\n",
       "    <tr>\n",
       "      <th>F</th>\n",
       "      <td>NaN</td>\n",
       "      <td>NaN</td>\n",
       "      <td>NaN</td>\n",
       "      <td>NaN</td>\n",
       "      <td>NaN</td>\n",
       "      <td>NaN</td>\n",
       "    </tr>\n",
       "  </tbody>\n",
       "</table>\n",
       "</div>"
      ],
      "text/plain": [
       "       col1      col2      col3      col4      col5  col6\n",
       "A -1.956609  1.130772 -0.476055 -0.325313  1.526588   NaN\n",
       "B -1.704696 -0.246728 -0.196950  0.376608  0.310242   NaN\n",
       "D  1.467290 -1.088925 -0.390686  0.806912  2.595164   NaN\n",
       "C  0.242536 -0.051250  0.747474 -0.735875  2.753715   NaN\n",
       "E -0.510249  0.283513  0.446398  1.937759  0.005898   NaN\n",
       "F       NaN       NaN       NaN       NaN       NaN   NaN"
      ]
     },
     "execution_count": 89,
     "metadata": {},
     "output_type": "execute_result"
    }
   ],
   "source": [
    "dframe2.reindex(columns=new_columns)"
   ]
  },
  {
   "cell_type": "code",
   "execution_count": 90,
   "metadata": {
    "collapsed": false
   },
   "outputs": [
    {
     "data": {
      "text/html": [
       "<div>\n",
       "<table border=\"1\" class=\"dataframe\">\n",
       "  <thead>\n",
       "    <tr style=\"text-align: right;\">\n",
       "      <th></th>\n",
       "      <th>col1</th>\n",
       "      <th>col2</th>\n",
       "      <th>col3</th>\n",
       "      <th>col4</th>\n",
       "      <th>col5</th>\n",
       "    </tr>\n",
       "  </thead>\n",
       "  <tbody>\n",
       "    <tr>\n",
       "      <th>A</th>\n",
       "      <td>-1.956609</td>\n",
       "      <td>1.130772</td>\n",
       "      <td>-0.476055</td>\n",
       "      <td>-0.325313</td>\n",
       "      <td>1.526588</td>\n",
       "    </tr>\n",
       "    <tr>\n",
       "      <th>B</th>\n",
       "      <td>-1.704696</td>\n",
       "      <td>-0.246728</td>\n",
       "      <td>-0.196950</td>\n",
       "      <td>0.376608</td>\n",
       "      <td>0.310242</td>\n",
       "    </tr>\n",
       "    <tr>\n",
       "      <th>C</th>\n",
       "      <td>0.242536</td>\n",
       "      <td>-0.051250</td>\n",
       "      <td>0.747474</td>\n",
       "      <td>-0.735875</td>\n",
       "      <td>2.753715</td>\n",
       "    </tr>\n",
       "    <tr>\n",
       "      <th>D</th>\n",
       "      <td>1.467290</td>\n",
       "      <td>-1.088925</td>\n",
       "      <td>-0.390686</td>\n",
       "      <td>0.806912</td>\n",
       "      <td>2.595164</td>\n",
       "    </tr>\n",
       "    <tr>\n",
       "      <th>E</th>\n",
       "      <td>-0.510249</td>\n",
       "      <td>0.283513</td>\n",
       "      <td>0.446398</td>\n",
       "      <td>1.937759</td>\n",
       "      <td>0.005898</td>\n",
       "    </tr>\n",
       "  </tbody>\n",
       "</table>\n",
       "</div>"
      ],
      "text/plain": [
       "       col1      col2      col3      col4      col5\n",
       "A -1.956609  1.130772 -0.476055 -0.325313  1.526588\n",
       "B -1.704696 -0.246728 -0.196950  0.376608  0.310242\n",
       "C  0.242536 -0.051250  0.747474 -0.735875  2.753715\n",
       "D  1.467290 -1.088925 -0.390686  0.806912  2.595164\n",
       "E -0.510249  0.283513  0.446398  1.937759  0.005898"
      ]
     },
     "execution_count": 90,
     "metadata": {},
     "output_type": "execute_result"
    }
   ],
   "source": [
    "dframe"
   ]
  },
  {
   "cell_type": "code",
   "execution_count": 91,
   "metadata": {
    "collapsed": false
   },
   "outputs": [
    {
     "data": {
      "text/html": [
       "<div>\n",
       "<table border=\"1\" class=\"dataframe\">\n",
       "  <thead>\n",
       "    <tr style=\"text-align: right;\">\n",
       "      <th></th>\n",
       "      <th>col1</th>\n",
       "      <th>col2</th>\n",
       "      <th>col3</th>\n",
       "      <th>col4</th>\n",
       "      <th>col5</th>\n",
       "      <th>col6</th>\n",
       "    </tr>\n",
       "  </thead>\n",
       "  <tbody>\n",
       "    <tr>\n",
       "      <th>A</th>\n",
       "      <td>-1.956609</td>\n",
       "      <td>1.130772</td>\n",
       "      <td>-0.476055</td>\n",
       "      <td>-0.325313</td>\n",
       "      <td>1.526588</td>\n",
       "      <td>NaN</td>\n",
       "    </tr>\n",
       "    <tr>\n",
       "      <th>B</th>\n",
       "      <td>-1.704696</td>\n",
       "      <td>-0.246728</td>\n",
       "      <td>-0.196950</td>\n",
       "      <td>0.376608</td>\n",
       "      <td>0.310242</td>\n",
       "      <td>NaN</td>\n",
       "    </tr>\n",
       "    <tr>\n",
       "      <th>C</th>\n",
       "      <td>0.242536</td>\n",
       "      <td>-0.051250</td>\n",
       "      <td>0.747474</td>\n",
       "      <td>-0.735875</td>\n",
       "      <td>2.753715</td>\n",
       "      <td>NaN</td>\n",
       "    </tr>\n",
       "    <tr>\n",
       "      <th>D</th>\n",
       "      <td>1.467290</td>\n",
       "      <td>-1.088925</td>\n",
       "      <td>-0.390686</td>\n",
       "      <td>0.806912</td>\n",
       "      <td>2.595164</td>\n",
       "      <td>NaN</td>\n",
       "    </tr>\n",
       "    <tr>\n",
       "      <th>E</th>\n",
       "      <td>-0.510249</td>\n",
       "      <td>0.283513</td>\n",
       "      <td>0.446398</td>\n",
       "      <td>1.937759</td>\n",
       "      <td>0.005898</td>\n",
       "      <td>NaN</td>\n",
       "    </tr>\n",
       "    <tr>\n",
       "      <th>F</th>\n",
       "      <td>NaN</td>\n",
       "      <td>NaN</td>\n",
       "      <td>NaN</td>\n",
       "      <td>NaN</td>\n",
       "      <td>NaN</td>\n",
       "      <td>NaN</td>\n",
       "    </tr>\n",
       "  </tbody>\n",
       "</table>\n",
       "</div>"
      ],
      "text/plain": [
       "       col1      col2      col3      col4      col5  col6\n",
       "A -1.956609  1.130772 -0.476055 -0.325313  1.526588   NaN\n",
       "B -1.704696 -0.246728 -0.196950  0.376608  0.310242   NaN\n",
       "C  0.242536 -0.051250  0.747474 -0.735875  2.753715   NaN\n",
       "D  1.467290 -1.088925 -0.390686  0.806912  2.595164   NaN\n",
       "E -0.510249  0.283513  0.446398  1.937759  0.005898   NaN\n",
       "F       NaN       NaN       NaN       NaN       NaN   NaN"
      ]
     },
     "execution_count": 91,
     "metadata": {},
     "output_type": "execute_result"
    }
   ],
   "source": [
    "dframe.ix[['A', 'B', 'C', 'D', 'E', 'F'], new_columns]"
   ]
  },
  {
   "cell_type": "markdown",
   "metadata": {},
   "source": [
    "# Drop Entry"
   ]
  },
  {
   "cell_type": "code",
   "execution_count": 93,
   "metadata": {
    "collapsed": false
   },
   "outputs": [
    {
     "data": {
      "text/plain": [
       "a    0\n",
       "b    1\n",
       "c    2\n",
       "dtype: int64"
      ]
     },
     "execution_count": 93,
     "metadata": {},
     "output_type": "execute_result"
    }
   ],
   "source": [
    "ser1 = Series(np.arange(3), index=['a', 'b', 'c'])\n",
    "\n",
    "ser1"
   ]
  },
  {
   "cell_type": "code",
   "execution_count": 94,
   "metadata": {
    "collapsed": false
   },
   "outputs": [
    {
     "data": {
      "text/plain": [
       "a    0\n",
       "c    2\n",
       "dtype: int64"
      ]
     },
     "execution_count": 94,
     "metadata": {},
     "output_type": "execute_result"
    }
   ],
   "source": [
    "ser1.drop('b')"
   ]
  },
  {
   "cell_type": "code",
   "execution_count": 95,
   "metadata": {
    "collapsed": true
   },
   "outputs": [],
   "source": [
    "dframe1 = DataFrame(np.arange(9).reshape((3,3)), index=['SF', 'LA', 'NY'], columns=['pop', 'size', 'year'])"
   ]
  },
  {
   "cell_type": "code",
   "execution_count": 96,
   "metadata": {
    "collapsed": false
   },
   "outputs": [
    {
     "data": {
      "text/html": [
       "<div>\n",
       "<table border=\"1\" class=\"dataframe\">\n",
       "  <thead>\n",
       "    <tr style=\"text-align: right;\">\n",
       "      <th></th>\n",
       "      <th>pop</th>\n",
       "      <th>size</th>\n",
       "      <th>year</th>\n",
       "    </tr>\n",
       "  </thead>\n",
       "  <tbody>\n",
       "    <tr>\n",
       "      <th>SF</th>\n",
       "      <td>0</td>\n",
       "      <td>1</td>\n",
       "      <td>2</td>\n",
       "    </tr>\n",
       "    <tr>\n",
       "      <th>LA</th>\n",
       "      <td>3</td>\n",
       "      <td>4</td>\n",
       "      <td>5</td>\n",
       "    </tr>\n",
       "    <tr>\n",
       "      <th>NY</th>\n",
       "      <td>6</td>\n",
       "      <td>7</td>\n",
       "      <td>8</td>\n",
       "    </tr>\n",
       "  </tbody>\n",
       "</table>\n",
       "</div>"
      ],
      "text/plain": [
       "    pop  size  year\n",
       "SF    0     1     2\n",
       "LA    3     4     5\n",
       "NY    6     7     8"
      ]
     },
     "execution_count": 96,
     "metadata": {},
     "output_type": "execute_result"
    }
   ],
   "source": [
    "dframe1"
   ]
  },
  {
   "cell_type": "code",
   "execution_count": 97,
   "metadata": {
    "collapsed": false
   },
   "outputs": [
    {
     "data": {
      "text/html": [
       "<div>\n",
       "<table border=\"1\" class=\"dataframe\">\n",
       "  <thead>\n",
       "    <tr style=\"text-align: right;\">\n",
       "      <th></th>\n",
       "      <th>pop</th>\n",
       "      <th>size</th>\n",
       "      <th>year</th>\n",
       "    </tr>\n",
       "  </thead>\n",
       "  <tbody>\n",
       "    <tr>\n",
       "      <th>SF</th>\n",
       "      <td>0</td>\n",
       "      <td>1</td>\n",
       "      <td>2</td>\n",
       "    </tr>\n",
       "    <tr>\n",
       "      <th>NY</th>\n",
       "      <td>6</td>\n",
       "      <td>7</td>\n",
       "      <td>8</td>\n",
       "    </tr>\n",
       "  </tbody>\n",
       "</table>\n",
       "</div>"
      ],
      "text/plain": [
       "    pop  size  year\n",
       "SF    0     1     2\n",
       "NY    6     7     8"
      ]
     },
     "execution_count": 97,
     "metadata": {},
     "output_type": "execute_result"
    }
   ],
   "source": [
    "dframe1.drop('LA')"
   ]
  },
  {
   "cell_type": "code",
   "execution_count": 98,
   "metadata": {
    "collapsed": true
   },
   "outputs": [],
   "source": [
    "dframe2 = dframe1.drop('LA')"
   ]
  },
  {
   "cell_type": "code",
   "execution_count": 99,
   "metadata": {
    "collapsed": false
   },
   "outputs": [
    {
     "data": {
      "text/html": [
       "<div>\n",
       "<table border=\"1\" class=\"dataframe\">\n",
       "  <thead>\n",
       "    <tr style=\"text-align: right;\">\n",
       "      <th></th>\n",
       "      <th>pop</th>\n",
       "      <th>size</th>\n",
       "      <th>year</th>\n",
       "    </tr>\n",
       "  </thead>\n",
       "  <tbody>\n",
       "    <tr>\n",
       "      <th>SF</th>\n",
       "      <td>0</td>\n",
       "      <td>1</td>\n",
       "      <td>2</td>\n",
       "    </tr>\n",
       "    <tr>\n",
       "      <th>NY</th>\n",
       "      <td>6</td>\n",
       "      <td>7</td>\n",
       "      <td>8</td>\n",
       "    </tr>\n",
       "  </tbody>\n",
       "</table>\n",
       "</div>"
      ],
      "text/plain": [
       "    pop  size  year\n",
       "SF    0     1     2\n",
       "NY    6     7     8"
      ]
     },
     "execution_count": 99,
     "metadata": {},
     "output_type": "execute_result"
    }
   ],
   "source": [
    "dframe2"
   ]
  },
  {
   "cell_type": "code",
   "execution_count": 100,
   "metadata": {
    "collapsed": false
   },
   "outputs": [
    {
     "data": {
      "text/html": [
       "<div>\n",
       "<table border=\"1\" class=\"dataframe\">\n",
       "  <thead>\n",
       "    <tr style=\"text-align: right;\">\n",
       "      <th></th>\n",
       "      <th>pop</th>\n",
       "      <th>size</th>\n",
       "      <th>year</th>\n",
       "    </tr>\n",
       "  </thead>\n",
       "  <tbody>\n",
       "    <tr>\n",
       "      <th>SF</th>\n",
       "      <td>0</td>\n",
       "      <td>1</td>\n",
       "      <td>2</td>\n",
       "    </tr>\n",
       "    <tr>\n",
       "      <th>LA</th>\n",
       "      <td>3</td>\n",
       "      <td>4</td>\n",
       "      <td>5</td>\n",
       "    </tr>\n",
       "    <tr>\n",
       "      <th>NY</th>\n",
       "      <td>6</td>\n",
       "      <td>7</td>\n",
       "      <td>8</td>\n",
       "    </tr>\n",
       "  </tbody>\n",
       "</table>\n",
       "</div>"
      ],
      "text/plain": [
       "    pop  size  year\n",
       "SF    0     1     2\n",
       "LA    3     4     5\n",
       "NY    6     7     8"
      ]
     },
     "execution_count": 100,
     "metadata": {},
     "output_type": "execute_result"
    }
   ],
   "source": [
    "dframe1"
   ]
  },
  {
   "cell_type": "code",
   "execution_count": 104,
   "metadata": {
    "collapsed": false
   },
   "outputs": [
    {
     "data": {
      "text/html": [
       "<div>\n",
       "<table border=\"1\" class=\"dataframe\">\n",
       "  <thead>\n",
       "    <tr style=\"text-align: right;\">\n",
       "      <th></th>\n",
       "      <th>pop</th>\n",
       "      <th>size</th>\n",
       "    </tr>\n",
       "  </thead>\n",
       "  <tbody>\n",
       "    <tr>\n",
       "      <th>SF</th>\n",
       "      <td>0</td>\n",
       "      <td>1</td>\n",
       "    </tr>\n",
       "    <tr>\n",
       "      <th>LA</th>\n",
       "      <td>3</td>\n",
       "      <td>4</td>\n",
       "    </tr>\n",
       "    <tr>\n",
       "      <th>NY</th>\n",
       "      <td>6</td>\n",
       "      <td>7</td>\n",
       "    </tr>\n",
       "  </tbody>\n",
       "</table>\n",
       "</div>"
      ],
      "text/plain": [
       "    pop  size\n",
       "SF    0     1\n",
       "LA    3     4\n",
       "NY    6     7"
      ]
     },
     "execution_count": 104,
     "metadata": {},
     "output_type": "execute_result"
    }
   ],
   "source": [
    "dframe1.drop('year', axis=1)"
   ]
  },
  {
   "cell_type": "markdown",
   "metadata": {},
   "source": [
    "# Selecting Entries"
   ]
  },
  {
   "cell_type": "code",
   "execution_count": 109,
   "metadata": {
    "collapsed": true
   },
   "outputs": [],
   "source": [
    "ser1 = Series(np.arange(3), index=['A', 'B', 'C'])\n",
    "\n",
    "ser1 = 2 * ser1"
   ]
  },
  {
   "cell_type": "code",
   "execution_count": 110,
   "metadata": {
    "collapsed": false
   },
   "outputs": [
    {
     "data": {
      "text/plain": [
       "A    0\n",
       "B    2\n",
       "C    4\n",
       "dtype: int64"
      ]
     },
     "execution_count": 110,
     "metadata": {},
     "output_type": "execute_result"
    }
   ],
   "source": [
    "ser1"
   ]
  },
  {
   "cell_type": "code",
   "execution_count": 111,
   "metadata": {
    "collapsed": false
   },
   "outputs": [
    {
     "data": {
      "text/plain": [
       "2"
      ]
     },
     "execution_count": 111,
     "metadata": {},
     "output_type": "execute_result"
    }
   ],
   "source": [
    "ser1['B']"
   ]
  },
  {
   "cell_type": "code",
   "execution_count": 112,
   "metadata": {
    "collapsed": false
   },
   "outputs": [
    {
     "data": {
      "text/plain": [
       "2"
      ]
     },
     "execution_count": 112,
     "metadata": {},
     "output_type": "execute_result"
    }
   ],
   "source": [
    "ser1[1]"
   ]
  },
  {
   "cell_type": "code",
   "execution_count": 113,
   "metadata": {
    "collapsed": false
   },
   "outputs": [
    {
     "data": {
      "text/plain": [
       "A    0\n",
       "B    2\n",
       "C    4\n",
       "dtype: int64"
      ]
     },
     "execution_count": 113,
     "metadata": {},
     "output_type": "execute_result"
    }
   ],
   "source": [
    "ser1[0:3]"
   ]
  },
  {
   "cell_type": "code",
   "execution_count": 114,
   "metadata": {
    "collapsed": false
   },
   "outputs": [
    {
     "data": {
      "text/plain": [
       "A    0\n",
       "B    2\n",
       "dtype: int64"
      ]
     },
     "execution_count": 114,
     "metadata": {},
     "output_type": "execute_result"
    }
   ],
   "source": [
    "ser1[['A', 'B']]"
   ]
  },
  {
   "cell_type": "code",
   "execution_count": 115,
   "metadata": {
    "collapsed": false
   },
   "outputs": [
    {
     "data": {
      "text/plain": [
       "C    4\n",
       "dtype: int64"
      ]
     },
     "execution_count": 115,
     "metadata": {},
     "output_type": "execute_result"
    }
   ],
   "source": [
    "ser1[ser1 > 3]"
   ]
  },
  {
   "cell_type": "code",
   "execution_count": 116,
   "metadata": {
    "collapsed": false
   },
   "outputs": [
    {
     "data": {
      "text/plain": [
       "A     0\n",
       "B     2\n",
       "C    10\n",
       "dtype: int64"
      ]
     },
     "execution_count": 116,
     "metadata": {},
     "output_type": "execute_result"
    }
   ],
   "source": [
    "ser1[ser1 > 3] = 10\n",
    "\n",
    "ser1"
   ]
  },
  {
   "cell_type": "code",
   "execution_count": 117,
   "metadata": {
    "collapsed": false
   },
   "outputs": [
    {
     "data": {
      "text/html": [
       "<div>\n",
       "<table border=\"1\" class=\"dataframe\">\n",
       "  <thead>\n",
       "    <tr style=\"text-align: right;\">\n",
       "      <th></th>\n",
       "      <th>A</th>\n",
       "      <th>B</th>\n",
       "      <th>C</th>\n",
       "      <th>D</th>\n",
       "      <th>E</th>\n",
       "    </tr>\n",
       "  </thead>\n",
       "  <tbody>\n",
       "    <tr>\n",
       "      <th>NYC</th>\n",
       "      <td>0</td>\n",
       "      <td>1</td>\n",
       "      <td>2</td>\n",
       "      <td>3</td>\n",
       "      <td>4</td>\n",
       "    </tr>\n",
       "    <tr>\n",
       "      <th>LA</th>\n",
       "      <td>5</td>\n",
       "      <td>6</td>\n",
       "      <td>7</td>\n",
       "      <td>8</td>\n",
       "      <td>9</td>\n",
       "    </tr>\n",
       "    <tr>\n",
       "      <th>SF</th>\n",
       "      <td>10</td>\n",
       "      <td>11</td>\n",
       "      <td>12</td>\n",
       "      <td>13</td>\n",
       "      <td>14</td>\n",
       "    </tr>\n",
       "    <tr>\n",
       "      <th>DC</th>\n",
       "      <td>15</td>\n",
       "      <td>16</td>\n",
       "      <td>17</td>\n",
       "      <td>18</td>\n",
       "      <td>19</td>\n",
       "    </tr>\n",
       "    <tr>\n",
       "      <th>Chi</th>\n",
       "      <td>20</td>\n",
       "      <td>21</td>\n",
       "      <td>22</td>\n",
       "      <td>23</td>\n",
       "      <td>24</td>\n",
       "    </tr>\n",
       "  </tbody>\n",
       "</table>\n",
       "</div>"
      ],
      "text/plain": [
       "      A   B   C   D   E\n",
       "NYC   0   1   2   3   4\n",
       "LA    5   6   7   8   9\n",
       "SF   10  11  12  13  14\n",
       "DC   15  16  17  18  19\n",
       "Chi  20  21  22  23  24"
      ]
     },
     "execution_count": 117,
     "metadata": {},
     "output_type": "execute_result"
    }
   ],
   "source": [
    "dframe = DataFrame(np.arange(25).reshape((5, 5)), index=['NYC', 'LA', 'SF', 'DC', 'Chi'],\n",
    "                  columns=['A', 'B', 'C', 'D', 'E'])\n",
    "\n",
    "dframe"
   ]
  },
  {
   "cell_type": "code",
   "execution_count": 118,
   "metadata": {
    "collapsed": false
   },
   "outputs": [
    {
     "data": {
      "text/plain": [
       "NYC     1\n",
       "LA      6\n",
       "SF     11\n",
       "DC     16\n",
       "Chi    21\n",
       "Name: B, dtype: int64"
      ]
     },
     "execution_count": 118,
     "metadata": {},
     "output_type": "execute_result"
    }
   ],
   "source": [
    "dframe['B']"
   ]
  },
  {
   "cell_type": "code",
   "execution_count": 119,
   "metadata": {
    "collapsed": false
   },
   "outputs": [
    {
     "data": {
      "text/html": [
       "<div>\n",
       "<table border=\"1\" class=\"dataframe\">\n",
       "  <thead>\n",
       "    <tr style=\"text-align: right;\">\n",
       "      <th></th>\n",
       "      <th>B</th>\n",
       "      <th>E</th>\n",
       "    </tr>\n",
       "  </thead>\n",
       "  <tbody>\n",
       "    <tr>\n",
       "      <th>NYC</th>\n",
       "      <td>1</td>\n",
       "      <td>4</td>\n",
       "    </tr>\n",
       "    <tr>\n",
       "      <th>LA</th>\n",
       "      <td>6</td>\n",
       "      <td>9</td>\n",
       "    </tr>\n",
       "    <tr>\n",
       "      <th>SF</th>\n",
       "      <td>11</td>\n",
       "      <td>14</td>\n",
       "    </tr>\n",
       "    <tr>\n",
       "      <th>DC</th>\n",
       "      <td>16</td>\n",
       "      <td>19</td>\n",
       "    </tr>\n",
       "    <tr>\n",
       "      <th>Chi</th>\n",
       "      <td>21</td>\n",
       "      <td>24</td>\n",
       "    </tr>\n",
       "  </tbody>\n",
       "</table>\n",
       "</div>"
      ],
      "text/plain": [
       "      B   E\n",
       "NYC   1   4\n",
       "LA    6   9\n",
       "SF   11  14\n",
       "DC   16  19\n",
       "Chi  21  24"
      ]
     },
     "execution_count": 119,
     "metadata": {},
     "output_type": "execute_result"
    }
   ],
   "source": [
    "dframe[['B', 'E']]"
   ]
  },
  {
   "cell_type": "code",
   "execution_count": 120,
   "metadata": {
    "collapsed": false
   },
   "outputs": [
    {
     "data": {
      "text/html": [
       "<div>\n",
       "<table border=\"1\" class=\"dataframe\">\n",
       "  <thead>\n",
       "    <tr style=\"text-align: right;\">\n",
       "      <th></th>\n",
       "      <th>A</th>\n",
       "      <th>B</th>\n",
       "      <th>C</th>\n",
       "      <th>D</th>\n",
       "      <th>E</th>\n",
       "    </tr>\n",
       "  </thead>\n",
       "  <tbody>\n",
       "    <tr>\n",
       "      <th>SF</th>\n",
       "      <td>10</td>\n",
       "      <td>11</td>\n",
       "      <td>12</td>\n",
       "      <td>13</td>\n",
       "      <td>14</td>\n",
       "    </tr>\n",
       "    <tr>\n",
       "      <th>DC</th>\n",
       "      <td>15</td>\n",
       "      <td>16</td>\n",
       "      <td>17</td>\n",
       "      <td>18</td>\n",
       "      <td>19</td>\n",
       "    </tr>\n",
       "    <tr>\n",
       "      <th>Chi</th>\n",
       "      <td>20</td>\n",
       "      <td>21</td>\n",
       "      <td>22</td>\n",
       "      <td>23</td>\n",
       "      <td>24</td>\n",
       "    </tr>\n",
       "  </tbody>\n",
       "</table>\n",
       "</div>"
      ],
      "text/plain": [
       "      A   B   C   D   E\n",
       "SF   10  11  12  13  14\n",
       "DC   15  16  17  18  19\n",
       "Chi  20  21  22  23  24"
      ]
     },
     "execution_count": 120,
     "metadata": {},
     "output_type": "execute_result"
    }
   ],
   "source": [
    "dframe[dframe['C'] > 8]"
   ]
  },
  {
   "cell_type": "code",
   "execution_count": 121,
   "metadata": {
    "collapsed": false
   },
   "outputs": [
    {
     "data": {
      "text/html": [
       "<div>\n",
       "<table border=\"1\" class=\"dataframe\">\n",
       "  <thead>\n",
       "    <tr style=\"text-align: right;\">\n",
       "      <th></th>\n",
       "      <th>A</th>\n",
       "      <th>B</th>\n",
       "      <th>C</th>\n",
       "      <th>D</th>\n",
       "      <th>E</th>\n",
       "    </tr>\n",
       "  </thead>\n",
       "  <tbody>\n",
       "    <tr>\n",
       "      <th>NYC</th>\n",
       "      <td>False</td>\n",
       "      <td>False</td>\n",
       "      <td>False</td>\n",
       "      <td>False</td>\n",
       "      <td>False</td>\n",
       "    </tr>\n",
       "    <tr>\n",
       "      <th>LA</th>\n",
       "      <td>False</td>\n",
       "      <td>False</td>\n",
       "      <td>False</td>\n",
       "      <td>False</td>\n",
       "      <td>False</td>\n",
       "    </tr>\n",
       "    <tr>\n",
       "      <th>SF</th>\n",
       "      <td>False</td>\n",
       "      <td>True</td>\n",
       "      <td>True</td>\n",
       "      <td>True</td>\n",
       "      <td>True</td>\n",
       "    </tr>\n",
       "    <tr>\n",
       "      <th>DC</th>\n",
       "      <td>True</td>\n",
       "      <td>True</td>\n",
       "      <td>True</td>\n",
       "      <td>True</td>\n",
       "      <td>True</td>\n",
       "    </tr>\n",
       "    <tr>\n",
       "      <th>Chi</th>\n",
       "      <td>True</td>\n",
       "      <td>True</td>\n",
       "      <td>True</td>\n",
       "      <td>True</td>\n",
       "      <td>True</td>\n",
       "    </tr>\n",
       "  </tbody>\n",
       "</table>\n",
       "</div>"
      ],
      "text/plain": [
       "         A      B      C      D      E\n",
       "NYC  False  False  False  False  False\n",
       "LA   False  False  False  False  False\n",
       "SF   False   True   True   True   True\n",
       "DC    True   True   True   True   True\n",
       "Chi   True   True   True   True   True"
      ]
     },
     "execution_count": 121,
     "metadata": {},
     "output_type": "execute_result"
    }
   ],
   "source": [
    "dframe > 10"
   ]
  },
  {
   "cell_type": "code",
   "execution_count": 122,
   "metadata": {
    "collapsed": false
   },
   "outputs": [
    {
     "data": {
      "text/plain": [
       "A    5\n",
       "B    6\n",
       "C    7\n",
       "D    8\n",
       "E    9\n",
       "Name: LA, dtype: int64"
      ]
     },
     "execution_count": 122,
     "metadata": {},
     "output_type": "execute_result"
    }
   ],
   "source": [
    "dframe.ix['LA']"
   ]
  },
  {
   "cell_type": "code",
   "execution_count": 123,
   "metadata": {
    "collapsed": false
   },
   "outputs": [
    {
     "data": {
      "text/plain": [
       "A    5\n",
       "B    6\n",
       "C    7\n",
       "D    8\n",
       "E    9\n",
       "Name: LA, dtype: int64"
      ]
     },
     "execution_count": 123,
     "metadata": {},
     "output_type": "execute_result"
    }
   ],
   "source": [
    "dframe.ix[1]"
   ]
  },
  {
   "cell_type": "markdown",
   "metadata": {},
   "source": [
    "# Data Alignment"
   ]
  },
  {
   "cell_type": "code",
   "execution_count": 124,
   "metadata": {
    "collapsed": false
   },
   "outputs": [
    {
     "data": {
      "text/plain": [
       "A    0\n",
       "B    1\n",
       "C    2\n",
       "dtype: int64"
      ]
     },
     "execution_count": 124,
     "metadata": {},
     "output_type": "execute_result"
    }
   ],
   "source": [
    "ser1 = Series([0, 1, 2], index=['A', 'B', 'C'])\n",
    "\n",
    "ser1"
   ]
  },
  {
   "cell_type": "code",
   "execution_count": 125,
   "metadata": {
    "collapsed": false
   },
   "outputs": [
    {
     "data": {
      "text/plain": [
       "A    3\n",
       "B    4\n",
       "C    5\n",
       "D    6\n",
       "dtype: int64"
      ]
     },
     "execution_count": 125,
     "metadata": {},
     "output_type": "execute_result"
    }
   ],
   "source": [
    "ser2 = Series([3, 4, 5, 6], index=['A', 'B', 'C', 'D'])\n",
    "\n",
    "ser2"
   ]
  },
  {
   "cell_type": "code",
   "execution_count": 126,
   "metadata": {
    "collapsed": false
   },
   "outputs": [
    {
     "data": {
      "text/plain": [
       "A    3.0\n",
       "B    5.0\n",
       "C    7.0\n",
       "D    NaN\n",
       "dtype: float64"
      ]
     },
     "execution_count": 126,
     "metadata": {},
     "output_type": "execute_result"
    }
   ],
   "source": [
    "ser1 + ser2"
   ]
  },
  {
   "cell_type": "code",
   "execution_count": 127,
   "metadata": {
    "collapsed": true
   },
   "outputs": [],
   "source": [
    "dframe1 = DataFrame(np.arange(4).reshape((2,2)), columns=list('AB'), index=['NYC', 'LA'])"
   ]
  },
  {
   "cell_type": "code",
   "execution_count": 128,
   "metadata": {
    "collapsed": false
   },
   "outputs": [
    {
     "data": {
      "text/html": [
       "<div>\n",
       "<table border=\"1\" class=\"dataframe\">\n",
       "  <thead>\n",
       "    <tr style=\"text-align: right;\">\n",
       "      <th></th>\n",
       "      <th>A</th>\n",
       "      <th>B</th>\n",
       "    </tr>\n",
       "  </thead>\n",
       "  <tbody>\n",
       "    <tr>\n",
       "      <th>NYC</th>\n",
       "      <td>0</td>\n",
       "      <td>1</td>\n",
       "    </tr>\n",
       "    <tr>\n",
       "      <th>LA</th>\n",
       "      <td>2</td>\n",
       "      <td>3</td>\n",
       "    </tr>\n",
       "  </tbody>\n",
       "</table>\n",
       "</div>"
      ],
      "text/plain": [
       "     A  B\n",
       "NYC  0  1\n",
       "LA   2  3"
      ]
     },
     "execution_count": 128,
     "metadata": {},
     "output_type": "execute_result"
    }
   ],
   "source": [
    "dframe1"
   ]
  },
  {
   "cell_type": "code",
   "execution_count": 129,
   "metadata": {
    "collapsed": false
   },
   "outputs": [
    {
     "data": {
      "text/html": [
       "<div>\n",
       "<table border=\"1\" class=\"dataframe\">\n",
       "  <thead>\n",
       "    <tr style=\"text-align: right;\">\n",
       "      <th></th>\n",
       "      <th>A</th>\n",
       "      <th>D</th>\n",
       "      <th>C</th>\n",
       "    </tr>\n",
       "  </thead>\n",
       "  <tbody>\n",
       "    <tr>\n",
       "      <th>NYC</th>\n",
       "      <td>0</td>\n",
       "      <td>1</td>\n",
       "      <td>2</td>\n",
       "    </tr>\n",
       "    <tr>\n",
       "      <th>SF</th>\n",
       "      <td>3</td>\n",
       "      <td>4</td>\n",
       "      <td>5</td>\n",
       "    </tr>\n",
       "    <tr>\n",
       "      <th>LA</th>\n",
       "      <td>6</td>\n",
       "      <td>7</td>\n",
       "      <td>8</td>\n",
       "    </tr>\n",
       "  </tbody>\n",
       "</table>\n",
       "</div>"
      ],
      "text/plain": [
       "     A  D  C\n",
       "NYC  0  1  2\n",
       "SF   3  4  5\n",
       "LA   6  7  8"
      ]
     },
     "execution_count": 129,
     "metadata": {},
     "output_type": "execute_result"
    }
   ],
   "source": [
    "dframe2 = DataFrame(np.arange(9).reshape((3, 3)), columns=list('ADC'), index=['NYC', 'SF', 'LA'])\n",
    "\n",
    "dframe2"
   ]
  },
  {
   "cell_type": "code",
   "execution_count": 130,
   "metadata": {
    "collapsed": false
   },
   "outputs": [
    {
     "data": {
      "text/html": [
       "<div>\n",
       "<table border=\"1\" class=\"dataframe\">\n",
       "  <thead>\n",
       "    <tr style=\"text-align: right;\">\n",
       "      <th></th>\n",
       "      <th>A</th>\n",
       "      <th>B</th>\n",
       "      <th>C</th>\n",
       "      <th>D</th>\n",
       "    </tr>\n",
       "  </thead>\n",
       "  <tbody>\n",
       "    <tr>\n",
       "      <th>LA</th>\n",
       "      <td>8.0</td>\n",
       "      <td>NaN</td>\n",
       "      <td>NaN</td>\n",
       "      <td>NaN</td>\n",
       "    </tr>\n",
       "    <tr>\n",
       "      <th>NYC</th>\n",
       "      <td>0.0</td>\n",
       "      <td>NaN</td>\n",
       "      <td>NaN</td>\n",
       "      <td>NaN</td>\n",
       "    </tr>\n",
       "    <tr>\n",
       "      <th>SF</th>\n",
       "      <td>NaN</td>\n",
       "      <td>NaN</td>\n",
       "      <td>NaN</td>\n",
       "      <td>NaN</td>\n",
       "    </tr>\n",
       "  </tbody>\n",
       "</table>\n",
       "</div>"
      ],
      "text/plain": [
       "       A   B   C   D\n",
       "LA   8.0 NaN NaN NaN\n",
       "NYC  0.0 NaN NaN NaN\n",
       "SF   NaN NaN NaN NaN"
      ]
     },
     "execution_count": 130,
     "metadata": {},
     "output_type": "execute_result"
    }
   ],
   "source": [
    "dframe1 + dframe2"
   ]
  },
  {
   "cell_type": "code",
   "execution_count": 131,
   "metadata": {
    "collapsed": false
   },
   "outputs": [
    {
     "data": {
      "text/html": [
       "<div>\n",
       "<table border=\"1\" class=\"dataframe\">\n",
       "  <thead>\n",
       "    <tr style=\"text-align: right;\">\n",
       "      <th></th>\n",
       "      <th>A</th>\n",
       "      <th>B</th>\n",
       "    </tr>\n",
       "  </thead>\n",
       "  <tbody>\n",
       "    <tr>\n",
       "      <th>NYC</th>\n",
       "      <td>0</td>\n",
       "      <td>1</td>\n",
       "    </tr>\n",
       "    <tr>\n",
       "      <th>LA</th>\n",
       "      <td>2</td>\n",
       "      <td>3</td>\n",
       "    </tr>\n",
       "  </tbody>\n",
       "</table>\n",
       "</div>"
      ],
      "text/plain": [
       "     A  B\n",
       "NYC  0  1\n",
       "LA   2  3"
      ]
     },
     "execution_count": 131,
     "metadata": {},
     "output_type": "execute_result"
    }
   ],
   "source": [
    "dframe1"
   ]
  },
  {
   "cell_type": "code",
   "execution_count": 133,
   "metadata": {
    "collapsed": false
   },
   "outputs": [
    {
     "data": {
      "text/html": [
       "<div>\n",
       "<table border=\"1\" class=\"dataframe\">\n",
       "  <thead>\n",
       "    <tr style=\"text-align: right;\">\n",
       "      <th></th>\n",
       "      <th>A</th>\n",
       "      <th>B</th>\n",
       "      <th>C</th>\n",
       "      <th>D</th>\n",
       "    </tr>\n",
       "  </thead>\n",
       "  <tbody>\n",
       "    <tr>\n",
       "      <th>LA</th>\n",
       "      <td>8.0</td>\n",
       "      <td>3.0</td>\n",
       "      <td>8.0</td>\n",
       "      <td>7.0</td>\n",
       "    </tr>\n",
       "    <tr>\n",
       "      <th>NYC</th>\n",
       "      <td>0.0</td>\n",
       "      <td>1.0</td>\n",
       "      <td>2.0</td>\n",
       "      <td>1.0</td>\n",
       "    </tr>\n",
       "    <tr>\n",
       "      <th>SF</th>\n",
       "      <td>3.0</td>\n",
       "      <td>NaN</td>\n",
       "      <td>5.0</td>\n",
       "      <td>4.0</td>\n",
       "    </tr>\n",
       "  </tbody>\n",
       "</table>\n",
       "</div>"
      ],
      "text/plain": [
       "       A    B    C    D\n",
       "LA   8.0  3.0  8.0  7.0\n",
       "NYC  0.0  1.0  2.0  1.0\n",
       "SF   3.0  NaN  5.0  4.0"
      ]
     },
     "execution_count": 133,
     "metadata": {},
     "output_type": "execute_result"
    }
   ],
   "source": [
    "dframe1.add(dframe2, fill_value=0)"
   ]
  },
  {
   "cell_type": "code",
   "execution_count": 134,
   "metadata": {
    "collapsed": false
   },
   "outputs": [
    {
     "data": {
      "text/html": [
       "<div>\n",
       "<table border=\"1\" class=\"dataframe\">\n",
       "  <thead>\n",
       "    <tr style=\"text-align: right;\">\n",
       "      <th></th>\n",
       "      <th>A</th>\n",
       "      <th>D</th>\n",
       "      <th>C</th>\n",
       "    </tr>\n",
       "  </thead>\n",
       "  <tbody>\n",
       "    <tr>\n",
       "      <th>NYC</th>\n",
       "      <td>0</td>\n",
       "      <td>1</td>\n",
       "      <td>2</td>\n",
       "    </tr>\n",
       "    <tr>\n",
       "      <th>SF</th>\n",
       "      <td>3</td>\n",
       "      <td>4</td>\n",
       "      <td>5</td>\n",
       "    </tr>\n",
       "    <tr>\n",
       "      <th>LA</th>\n",
       "      <td>6</td>\n",
       "      <td>7</td>\n",
       "      <td>8</td>\n",
       "    </tr>\n",
       "  </tbody>\n",
       "</table>\n",
       "</div>"
      ],
      "text/plain": [
       "     A  D  C\n",
       "NYC  0  1  2\n",
       "SF   3  4  5\n",
       "LA   6  7  8"
      ]
     },
     "execution_count": 134,
     "metadata": {},
     "output_type": "execute_result"
    }
   ],
   "source": [
    "dframe2"
   ]
  },
  {
   "cell_type": "code",
   "execution_count": 135,
   "metadata": {
    "collapsed": true
   },
   "outputs": [],
   "source": [
    "ser3 = dframe2.ix[0]"
   ]
  },
  {
   "cell_type": "code",
   "execution_count": 136,
   "metadata": {
    "collapsed": false
   },
   "outputs": [
    {
     "data": {
      "text/plain": [
       "A    0\n",
       "D    1\n",
       "C    2\n",
       "Name: NYC, dtype: int64"
      ]
     },
     "execution_count": 136,
     "metadata": {},
     "output_type": "execute_result"
    }
   ],
   "source": [
    "ser3"
   ]
  },
  {
   "cell_type": "code",
   "execution_count": 137,
   "metadata": {
    "collapsed": false
   },
   "outputs": [
    {
     "data": {
      "text/html": [
       "<div>\n",
       "<table border=\"1\" class=\"dataframe\">\n",
       "  <thead>\n",
       "    <tr style=\"text-align: right;\">\n",
       "      <th></th>\n",
       "      <th>A</th>\n",
       "      <th>D</th>\n",
       "      <th>C</th>\n",
       "    </tr>\n",
       "  </thead>\n",
       "  <tbody>\n",
       "    <tr>\n",
       "      <th>NYC</th>\n",
       "      <td>0</td>\n",
       "      <td>0</td>\n",
       "      <td>0</td>\n",
       "    </tr>\n",
       "    <tr>\n",
       "      <th>SF</th>\n",
       "      <td>3</td>\n",
       "      <td>3</td>\n",
       "      <td>3</td>\n",
       "    </tr>\n",
       "    <tr>\n",
       "      <th>LA</th>\n",
       "      <td>6</td>\n",
       "      <td>6</td>\n",
       "      <td>6</td>\n",
       "    </tr>\n",
       "  </tbody>\n",
       "</table>\n",
       "</div>"
      ],
      "text/plain": [
       "     A  D  C\n",
       "NYC  0  0  0\n",
       "SF   3  3  3\n",
       "LA   6  6  6"
      ]
     },
     "execution_count": 137,
     "metadata": {},
     "output_type": "execute_result"
    }
   ],
   "source": [
    "dframe2-ser3"
   ]
  },
  {
   "cell_type": "markdown",
   "metadata": {},
   "source": [
    "# Rank and Sort"
   ]
  },
  {
   "cell_type": "code",
   "execution_count": 138,
   "metadata": {
    "collapsed": true
   },
   "outputs": [],
   "source": [
    "ser1 = Series(range(3), index=['C', 'A', 'B'])"
   ]
  },
  {
   "cell_type": "code",
   "execution_count": 139,
   "metadata": {
    "collapsed": false
   },
   "outputs": [
    {
     "data": {
      "text/plain": [
       "C    0\n",
       "A    1\n",
       "B    2\n",
       "dtype: int64"
      ]
     },
     "execution_count": 139,
     "metadata": {},
     "output_type": "execute_result"
    }
   ],
   "source": [
    "ser1"
   ]
  },
  {
   "cell_type": "code",
   "execution_count": 140,
   "metadata": {
    "collapsed": false
   },
   "outputs": [
    {
     "data": {
      "text/plain": [
       "A    1\n",
       "B    2\n",
       "C    0\n",
       "dtype: int64"
      ]
     },
     "execution_count": 140,
     "metadata": {},
     "output_type": "execute_result"
    }
   ],
   "source": [
    "ser1.sort_index()"
   ]
  },
  {
   "cell_type": "code",
   "execution_count": 141,
   "metadata": {
    "collapsed": false
   },
   "outputs": [
    {
     "name": "stderr",
     "output_type": "stream",
     "text": [
      "/Library/Frameworks/Python.framework/Versions/3.4/lib/python3.4/site-packages/ipykernel/__main__.py:1: FutureWarning: order is deprecated, use sort_values(...)\n",
      "  if __name__ == '__main__':\n"
     ]
    },
    {
     "data": {
      "text/plain": [
       "C    0\n",
       "A    1\n",
       "B    2\n",
       "dtype: int64"
      ]
     },
     "execution_count": 141,
     "metadata": {},
     "output_type": "execute_result"
    }
   ],
   "source": [
    "ser1.order()"
   ]
  },
  {
   "cell_type": "code",
   "execution_count": 143,
   "metadata": {
    "collapsed": false
   },
   "outputs": [
    {
     "data": {
      "text/plain": [
       "C    0\n",
       "A    1\n",
       "B    2\n",
       "dtype: int64"
      ]
     },
     "execution_count": 143,
     "metadata": {},
     "output_type": "execute_result"
    }
   ],
   "source": [
    "ser1.sort_values()"
   ]
  },
  {
   "cell_type": "code",
   "execution_count": 145,
   "metadata": {
    "collapsed": false
   },
   "outputs": [
    {
     "data": {
      "text/plain": [
       "0   -1.039036\n",
       "1   -0.465460\n",
       "2   -0.195224\n",
       "3   -1.266704\n",
       "4   -2.395574\n",
       "5    1.408797\n",
       "6    0.236801\n",
       "7   -0.059161\n",
       "8    0.442807\n",
       "9   -1.402559\n",
       "dtype: float64"
      ]
     },
     "execution_count": 145,
     "metadata": {},
     "output_type": "execute_result"
    }
   ],
   "source": [
    "ser2 = Series(randn(10))\n",
    "ser2"
   ]
  },
  {
   "cell_type": "code",
   "execution_count": 146,
   "metadata": {
    "collapsed": false
   },
   "outputs": [
    {
     "name": "stderr",
     "output_type": "stream",
     "text": [
      "/Library/Frameworks/Python.framework/Versions/3.4/lib/python3.4/site-packages/ipykernel/__main__.py:1: FutureWarning: sort is deprecated, use sort_values(inplace=True) for INPLACE sorting\n",
      "  if __name__ == '__main__':\n"
     ]
    }
   ],
   "source": [
    "ser2.sort()"
   ]
  },
  {
   "cell_type": "code",
   "execution_count": 147,
   "metadata": {
    "collapsed": false
   },
   "outputs": [
    {
     "data": {
      "text/plain": [
       "4   -2.395574\n",
       "9   -1.402559\n",
       "3   -1.266704\n",
       "0   -1.039036\n",
       "1   -0.465460\n",
       "2   -0.195224\n",
       "7   -0.059161\n",
       "6    0.236801\n",
       "8    0.442807\n",
       "5    1.408797\n",
       "dtype: float64"
      ]
     },
     "execution_count": 147,
     "metadata": {},
     "output_type": "execute_result"
    }
   ],
   "source": [
    "ser2"
   ]
  },
  {
   "cell_type": "code",
   "execution_count": 148,
   "metadata": {
    "collapsed": false
   },
   "outputs": [
    {
     "data": {
      "text/plain": [
       "4     1.0\n",
       "9     2.0\n",
       "3     3.0\n",
       "0     4.0\n",
       "1     5.0\n",
       "2     6.0\n",
       "7     7.0\n",
       "6     8.0\n",
       "8     9.0\n",
       "5    10.0\n",
       "dtype: float64"
      ]
     },
     "execution_count": 148,
     "metadata": {},
     "output_type": "execute_result"
    }
   ],
   "source": [
    "ser2.rank()"
   ]
  },
  {
   "cell_type": "code",
   "execution_count": 149,
   "metadata": {
    "collapsed": true
   },
   "outputs": [],
   "source": [
    "ser3 = Series(randn(10))"
   ]
  },
  {
   "cell_type": "code",
   "execution_count": 150,
   "metadata": {
    "collapsed": false
   },
   "outputs": [
    {
     "data": {
      "text/plain": [
       "0   -0.313952\n",
       "1    1.098174\n",
       "2   -0.078326\n",
       "3   -0.255664\n",
       "4    2.443653\n",
       "5    1.293001\n",
       "6   -1.675074\n",
       "7   -0.903657\n",
       "8   -0.111437\n",
       "9   -0.159778\n",
       "dtype: float64"
      ]
     },
     "execution_count": 150,
     "metadata": {},
     "output_type": "execute_result"
    }
   ],
   "source": [
    "ser3"
   ]
  },
  {
   "cell_type": "code",
   "execution_count": 151,
   "metadata": {
    "collapsed": false
   },
   "outputs": [
    {
     "data": {
      "text/plain": [
       "0     3.0\n",
       "1     8.0\n",
       "2     7.0\n",
       "3     4.0\n",
       "4    10.0\n",
       "5     9.0\n",
       "6     1.0\n",
       "7     2.0\n",
       "8     6.0\n",
       "9     5.0\n",
       "dtype: float64"
      ]
     },
     "execution_count": 151,
     "metadata": {},
     "output_type": "execute_result"
    }
   ],
   "source": [
    "ser3.rank()"
   ]
  },
  {
   "cell_type": "code",
   "execution_count": 152,
   "metadata": {
    "collapsed": false
   },
   "outputs": [
    {
     "name": "stderr",
     "output_type": "stream",
     "text": [
      "/Library/Frameworks/Python.framework/Versions/3.4/lib/python3.4/site-packages/ipykernel/__main__.py:1: FutureWarning: sort is deprecated, use sort_values(inplace=True) for INPLACE sorting\n",
      "  if __name__ == '__main__':\n"
     ]
    },
    {
     "data": {
      "text/plain": [
       "6     1.0\n",
       "7     2.0\n",
       "0     3.0\n",
       "3     4.0\n",
       "9     5.0\n",
       "8     6.0\n",
       "2     7.0\n",
       "1     8.0\n",
       "5     9.0\n",
       "4    10.0\n",
       "dtype: float64"
      ]
     },
     "execution_count": 152,
     "metadata": {},
     "output_type": "execute_result"
    }
   ],
   "source": [
    "ser3.sort()\n",
    "ser3.rank()"
   ]
  },
  {
   "cell_type": "code",
   "execution_count": 153,
   "metadata": {
    "collapsed": false
   },
   "outputs": [
    {
     "data": {
      "text/plain": [
       "6   -1.675074\n",
       "7   -0.903657\n",
       "0   -0.313952\n",
       "3   -0.255664\n",
       "9   -0.159778\n",
       "8   -0.111437\n",
       "2   -0.078326\n",
       "1    1.098174\n",
       "5    1.293001\n",
       "4    2.443653\n",
       "dtype: float64"
      ]
     },
     "execution_count": 153,
     "metadata": {},
     "output_type": "execute_result"
    }
   ],
   "source": [
    "ser3"
   ]
  },
  {
   "cell_type": "markdown",
   "metadata": {},
   "source": [
    "# Summary Statistics"
   ]
  },
  {
   "cell_type": "code",
   "execution_count": 154,
   "metadata": {
    "collapsed": true
   },
   "outputs": [],
   "source": [
    "arr = np.array([[1, 2, np.nan], [np.nan, 3, 4]])"
   ]
  },
  {
   "cell_type": "code",
   "execution_count": 155,
   "metadata": {
    "collapsed": true
   },
   "outputs": [],
   "source": [
    "dframe1 = DataFrame(arr, index=['A', 'B'], columns=['One', 'Two', 'Threee'])"
   ]
  },
  {
   "cell_type": "code",
   "execution_count": 156,
   "metadata": {
    "collapsed": false
   },
   "outputs": [
    {
     "data": {
      "text/html": [
       "<div>\n",
       "<table border=\"1\" class=\"dataframe\">\n",
       "  <thead>\n",
       "    <tr style=\"text-align: right;\">\n",
       "      <th></th>\n",
       "      <th>One</th>\n",
       "      <th>Two</th>\n",
       "      <th>Threee</th>\n",
       "    </tr>\n",
       "  </thead>\n",
       "  <tbody>\n",
       "    <tr>\n",
       "      <th>A</th>\n",
       "      <td>1.0</td>\n",
       "      <td>2.0</td>\n",
       "      <td>NaN</td>\n",
       "    </tr>\n",
       "    <tr>\n",
       "      <th>B</th>\n",
       "      <td>NaN</td>\n",
       "      <td>3.0</td>\n",
       "      <td>4.0</td>\n",
       "    </tr>\n",
       "  </tbody>\n",
       "</table>\n",
       "</div>"
      ],
      "text/plain": [
       "   One  Two  Threee\n",
       "A  1.0  2.0     NaN\n",
       "B  NaN  3.0     4.0"
      ]
     },
     "execution_count": 156,
     "metadata": {},
     "output_type": "execute_result"
    }
   ],
   "source": [
    "dframe1"
   ]
  },
  {
   "cell_type": "code",
   "execution_count": 157,
   "metadata": {
    "collapsed": false
   },
   "outputs": [
    {
     "data": {
      "text/plain": [
       "One       1.0\n",
       "Two       5.0\n",
       "Threee    4.0\n",
       "dtype: float64"
      ]
     },
     "execution_count": 157,
     "metadata": {},
     "output_type": "execute_result"
    }
   ],
   "source": [
    "dframe1.sum()"
   ]
  },
  {
   "cell_type": "code",
   "execution_count": 158,
   "metadata": {
    "collapsed": false
   },
   "outputs": [
    {
     "data": {
      "text/plain": [
       "A    3.0\n",
       "B    7.0\n",
       "dtype: float64"
      ]
     },
     "execution_count": 158,
     "metadata": {},
     "output_type": "execute_result"
    }
   ],
   "source": [
    "dframe1.sum(axis=1)"
   ]
  },
  {
   "cell_type": "code",
   "execution_count": 159,
   "metadata": {
    "collapsed": false
   },
   "outputs": [
    {
     "data": {
      "text/plain": [
       "One       1.0\n",
       "Two       2.0\n",
       "Threee    4.0\n",
       "dtype: float64"
      ]
     },
     "execution_count": 159,
     "metadata": {},
     "output_type": "execute_result"
    }
   ],
   "source": [
    "dframe1.min()"
   ]
  },
  {
   "cell_type": "code",
   "execution_count": 160,
   "metadata": {
    "collapsed": false
   },
   "outputs": [
    {
     "data": {
      "text/plain": [
       "One       A\n",
       "Two       A\n",
       "Threee    B\n",
       "dtype: object"
      ]
     },
     "execution_count": 160,
     "metadata": {},
     "output_type": "execute_result"
    }
   ],
   "source": [
    "dframe1.idxmin()"
   ]
  },
  {
   "cell_type": "code",
   "execution_count": 164,
   "metadata": {
    "collapsed": false
   },
   "outputs": [
    {
     "data": {
      "text/html": [
       "<div>\n",
       "<table border=\"1\" class=\"dataframe\">\n",
       "  <thead>\n",
       "    <tr style=\"text-align: right;\">\n",
       "      <th></th>\n",
       "      <th>One</th>\n",
       "      <th>Two</th>\n",
       "      <th>Threee</th>\n",
       "    </tr>\n",
       "  </thead>\n",
       "  <tbody>\n",
       "    <tr>\n",
       "      <th>A</th>\n",
       "      <td>1.0</td>\n",
       "      <td>2.0</td>\n",
       "      <td>NaN</td>\n",
       "    </tr>\n",
       "    <tr>\n",
       "      <th>B</th>\n",
       "      <td>NaN</td>\n",
       "      <td>5.0</td>\n",
       "      <td>4.0</td>\n",
       "    </tr>\n",
       "  </tbody>\n",
       "</table>\n",
       "</div>"
      ],
      "text/plain": [
       "   One  Two  Threee\n",
       "A  1.0  2.0     NaN\n",
       "B  NaN  5.0     4.0"
      ]
     },
     "execution_count": 164,
     "metadata": {},
     "output_type": "execute_result"
    }
   ],
   "source": [
    "dframe1.cumsum()"
   ]
  },
  {
   "cell_type": "code",
   "execution_count": 165,
   "metadata": {
    "collapsed": false
   },
   "outputs": [
    {
     "name": "stderr",
     "output_type": "stream",
     "text": [
      "/Library/Frameworks/Python.framework/Versions/3.4/lib/python3.4/site-packages/numpy/lib/function_base.py:3834: RuntimeWarning: Invalid value encountered in percentile\n",
      "  RuntimeWarning)\n"
     ]
    },
    {
     "data": {
      "text/html": [
       "<div>\n",
       "<table border=\"1\" class=\"dataframe\">\n",
       "  <thead>\n",
       "    <tr style=\"text-align: right;\">\n",
       "      <th></th>\n",
       "      <th>One</th>\n",
       "      <th>Two</th>\n",
       "      <th>Threee</th>\n",
       "    </tr>\n",
       "  </thead>\n",
       "  <tbody>\n",
       "    <tr>\n",
       "      <th>count</th>\n",
       "      <td>1.0</td>\n",
       "      <td>2.000000</td>\n",
       "      <td>1.0</td>\n",
       "    </tr>\n",
       "    <tr>\n",
       "      <th>mean</th>\n",
       "      <td>1.0</td>\n",
       "      <td>2.500000</td>\n",
       "      <td>4.0</td>\n",
       "    </tr>\n",
       "    <tr>\n",
       "      <th>std</th>\n",
       "      <td>NaN</td>\n",
       "      <td>0.707107</td>\n",
       "      <td>NaN</td>\n",
       "    </tr>\n",
       "    <tr>\n",
       "      <th>min</th>\n",
       "      <td>1.0</td>\n",
       "      <td>2.000000</td>\n",
       "      <td>4.0</td>\n",
       "    </tr>\n",
       "    <tr>\n",
       "      <th>25%</th>\n",
       "      <td>NaN</td>\n",
       "      <td>2.250000</td>\n",
       "      <td>NaN</td>\n",
       "    </tr>\n",
       "    <tr>\n",
       "      <th>50%</th>\n",
       "      <td>NaN</td>\n",
       "      <td>2.500000</td>\n",
       "      <td>NaN</td>\n",
       "    </tr>\n",
       "    <tr>\n",
       "      <th>75%</th>\n",
       "      <td>NaN</td>\n",
       "      <td>2.750000</td>\n",
       "      <td>NaN</td>\n",
       "    </tr>\n",
       "    <tr>\n",
       "      <th>max</th>\n",
       "      <td>1.0</td>\n",
       "      <td>3.000000</td>\n",
       "      <td>4.0</td>\n",
       "    </tr>\n",
       "  </tbody>\n",
       "</table>\n",
       "</div>"
      ],
      "text/plain": [
       "       One       Two  Threee\n",
       "count  1.0  2.000000     1.0\n",
       "mean   1.0  2.500000     4.0\n",
       "std    NaN  0.707107     NaN\n",
       "min    1.0  2.000000     4.0\n",
       "25%    NaN  2.250000     NaN\n",
       "50%    NaN  2.500000     NaN\n",
       "75%    NaN  2.750000     NaN\n",
       "max    1.0  3.000000     4.0"
      ]
     },
     "execution_count": 165,
     "metadata": {},
     "output_type": "execute_result"
    }
   ],
   "source": [
    "dframe1.describe()"
   ]
  },
  {
   "cell_type": "code",
   "execution_count": 167,
   "metadata": {
    "collapsed": false
   },
   "outputs": [],
   "source": [
    "from IPython.display import YouTubeVideo"
   ]
  },
  {
   "cell_type": "code",
   "execution_count": 170,
   "metadata": {
    "collapsed": false
   },
   "outputs": [
    {
     "data": {
      "text/html": [
       "\n",
       "        <iframe\n",
       "            width=\"400\"\n",
       "            height=\"300\"\n",
       "            src=\"https://www.youtube.com/embed/xGbpuFNR1ME\"\n",
       "            frameborder=\"0\"\n",
       "            allowfullscreen\n",
       "        ></iframe>\n",
       "        "
      ],
      "text/plain": [
       "<IPython.lib.display.YouTubeVideo at 0x1064fabe0>"
      ]
     },
     "execution_count": 170,
     "metadata": {},
     "output_type": "execute_result"
    }
   ],
   "source": [
    "YouTubeVideo('xGbpuFNR1ME')"
   ]
  },
  {
   "cell_type": "code",
   "execution_count": 169,
   "metadata": {
    "collapsed": false
   },
   "outputs": [
    {
     "data": {
      "text/html": [
       "\n",
       "        <iframe\n",
       "            width=\"400\"\n",
       "            height=\"300\"\n",
       "            src=\"https://www.youtube.com/embed/4EXNedimDMs\"\n",
       "            frameborder=\"0\"\n",
       "            allowfullscreen\n",
       "        ></iframe>\n",
       "        "
      ],
      "text/plain": [
       "<IPython.lib.display.YouTubeVideo at 0x1064fa828>"
      ]
     },
     "execution_count": 169,
     "metadata": {},
     "output_type": "execute_result"
    }
   ],
   "source": [
    "YouTubeVideo('4EXNedimDMs')"
   ]
  },
  {
   "cell_type": "code",
   "execution_count": 13,
   "metadata": {
    "collapsed": false
   },
   "outputs": [],
   "source": [
    "import pandas.io.data as pdweb\n",
    "import datetime\n",
    "import seaborn as sns\n",
    "import matplotlib.pyplot as plt\n",
    "import matplotlib.pylab as rcParams\n",
    "\n",
    "%matplotlib inline"
   ]
  },
  {
   "cell_type": "code",
   "execution_count": 2,
   "metadata": {
    "collapsed": false
   },
   "outputs": [
    {
     "data": {
      "text/html": [
       "<div>\n",
       "<table border=\"1\" class=\"dataframe\">\n",
       "  <thead>\n",
       "    <tr style=\"text-align: right;\">\n",
       "      <th></th>\n",
       "      <th>BP</th>\n",
       "      <th>CVX</th>\n",
       "      <th>XOM</th>\n",
       "    </tr>\n",
       "    <tr>\n",
       "      <th>Date</th>\n",
       "      <th></th>\n",
       "      <th></th>\n",
       "      <th></th>\n",
       "    </tr>\n",
       "  </thead>\n",
       "  <tbody>\n",
       "    <tr>\n",
       "      <th>2010-01-04</th>\n",
       "      <td>43.016566</td>\n",
       "      <td>61.805127</td>\n",
       "      <td>57.203028</td>\n",
       "    </tr>\n",
       "    <tr>\n",
       "      <th>2010-01-05</th>\n",
       "      <td>43.322008</td>\n",
       "      <td>62.242911</td>\n",
       "      <td>57.426378</td>\n",
       "    </tr>\n",
       "    <tr>\n",
       "      <th>2010-01-06</th>\n",
       "      <td>43.547455</td>\n",
       "      <td>62.250724</td>\n",
       "      <td>57.922715</td>\n",
       "    </tr>\n",
       "    <tr>\n",
       "      <th>2010-01-07</th>\n",
       "      <td>43.532910</td>\n",
       "      <td>62.016202</td>\n",
       "      <td>57.740730</td>\n",
       "    </tr>\n",
       "    <tr>\n",
       "      <th>2010-01-08</th>\n",
       "      <td>43.634723</td>\n",
       "      <td>62.125647</td>\n",
       "      <td>57.509100</td>\n",
       "    </tr>\n",
       "  </tbody>\n",
       "</table>\n",
       "</div>"
      ],
      "text/plain": [
       "                   BP        CVX        XOM\n",
       "Date                                       \n",
       "2010-01-04  43.016566  61.805127  57.203028\n",
       "2010-01-05  43.322008  62.242911  57.426378\n",
       "2010-01-06  43.547455  62.250724  57.922715\n",
       "2010-01-07  43.532910  62.016202  57.740730\n",
       "2010-01-08  43.634723  62.125647  57.509100"
      ]
     },
     "execution_count": 2,
     "metadata": {},
     "output_type": "execute_result"
    }
   ],
   "source": [
    "prices = pdweb.get_data_yahoo(['CVX', 'XOM', 'BP'], start=datetime.datetime(2010,1,1), \n",
    "                              end=datetime.datetime(2016,1,1))['Adj Close']\n",
    "\n",
    "prices.head()"
   ]
  },
  {
   "cell_type": "code",
   "execution_count": 3,
   "metadata": {
    "collapsed": true
   },
   "outputs": [],
   "source": [
    "volume = pdweb.get_data_yahoo(['CVX', 'XOM', 'BP'], start=datetime.datetime(2010,1,1), \n",
    "                              end=datetime.datetime(2016,1,1))['Volume']"
   ]
  },
  {
   "cell_type": "code",
   "execution_count": 4,
   "metadata": {
    "collapsed": false
   },
   "outputs": [
    {
     "data": {
      "text/html": [
       "<div>\n",
       "<table border=\"1\" class=\"dataframe\">\n",
       "  <thead>\n",
       "    <tr style=\"text-align: right;\">\n",
       "      <th></th>\n",
       "      <th>BP</th>\n",
       "      <th>CVX</th>\n",
       "      <th>XOM</th>\n",
       "    </tr>\n",
       "    <tr>\n",
       "      <th>Date</th>\n",
       "      <th></th>\n",
       "      <th></th>\n",
       "      <th></th>\n",
       "    </tr>\n",
       "  </thead>\n",
       "  <tbody>\n",
       "    <tr>\n",
       "      <th>2010-01-04</th>\n",
       "      <td>3956100.0</td>\n",
       "      <td>10173800.0</td>\n",
       "      <td>27809100.0</td>\n",
       "    </tr>\n",
       "    <tr>\n",
       "      <th>2010-01-05</th>\n",
       "      <td>4109600.0</td>\n",
       "      <td>10593700.0</td>\n",
       "      <td>30174700.0</td>\n",
       "    </tr>\n",
       "    <tr>\n",
       "      <th>2010-01-06</th>\n",
       "      <td>6227900.0</td>\n",
       "      <td>11014600.0</td>\n",
       "      <td>35044700.0</td>\n",
       "    </tr>\n",
       "    <tr>\n",
       "      <th>2010-01-07</th>\n",
       "      <td>4431300.0</td>\n",
       "      <td>9626900.0</td>\n",
       "      <td>27192100.0</td>\n",
       "    </tr>\n",
       "    <tr>\n",
       "      <th>2010-01-08</th>\n",
       "      <td>3786100.0</td>\n",
       "      <td>5624300.0</td>\n",
       "      <td>24891800.0</td>\n",
       "    </tr>\n",
       "  </tbody>\n",
       "</table>\n",
       "</div>"
      ],
      "text/plain": [
       "                   BP         CVX         XOM\n",
       "Date                                         \n",
       "2010-01-04  3956100.0  10173800.0  27809100.0\n",
       "2010-01-05  4109600.0  10593700.0  30174700.0\n",
       "2010-01-06  6227900.0  11014600.0  35044700.0\n",
       "2010-01-07  4431300.0   9626900.0  27192100.0\n",
       "2010-01-08  3786100.0   5624300.0  24891800.0"
      ]
     },
     "execution_count": 4,
     "metadata": {},
     "output_type": "execute_result"
    }
   ],
   "source": [
    "volume.head()"
   ]
  },
  {
   "cell_type": "code",
   "execution_count": 19,
   "metadata": {
    "collapsed": false
   },
   "outputs": [
    {
     "data": {
      "text/html": [
       "<div>\n",
       "<table border=\"1\" class=\"dataframe\">\n",
       "  <thead>\n",
       "    <tr style=\"text-align: right;\">\n",
       "      <th></th>\n",
       "      <th>BP</th>\n",
       "      <th>CVX</th>\n",
       "      <th>XOM</th>\n",
       "    </tr>\n",
       "    <tr>\n",
       "      <th>Date</th>\n",
       "      <th></th>\n",
       "      <th></th>\n",
       "      <th></th>\n",
       "    </tr>\n",
       "  </thead>\n",
       "  <tbody>\n",
       "    <tr>\n",
       "      <th>2010-01-04</th>\n",
       "      <td>NaN</td>\n",
       "      <td>NaN</td>\n",
       "      <td>NaN</td>\n",
       "    </tr>\n",
       "    <tr>\n",
       "      <th>2010-01-05</th>\n",
       "      <td>0.007101</td>\n",
       "      <td>0.007083</td>\n",
       "      <td>0.003905</td>\n",
       "    </tr>\n",
       "    <tr>\n",
       "      <th>2010-01-06</th>\n",
       "      <td>0.005204</td>\n",
       "      <td>0.000126</td>\n",
       "      <td>0.008643</td>\n",
       "    </tr>\n",
       "    <tr>\n",
       "      <th>2010-01-07</th>\n",
       "      <td>-0.000334</td>\n",
       "      <td>-0.003767</td>\n",
       "      <td>-0.003142</td>\n",
       "    </tr>\n",
       "    <tr>\n",
       "      <th>2010-01-08</th>\n",
       "      <td>0.002339</td>\n",
       "      <td>0.001765</td>\n",
       "      <td>-0.004012</td>\n",
       "    </tr>\n",
       "    <tr>\n",
       "      <th>2010-01-11</th>\n",
       "      <td>0.031500</td>\n",
       "      <td>0.017742</td>\n",
       "      <td>0.011220</td>\n",
       "    </tr>\n",
       "    <tr>\n",
       "      <th>2010-01-12</th>\n",
       "      <td>-0.006301</td>\n",
       "      <td>-0.005811</td>\n",
       "      <td>-0.004979</td>\n",
       "    </tr>\n",
       "    <tr>\n",
       "      <th>2010-01-13</th>\n",
       "      <td>0.004878</td>\n",
       "      <td>-0.007586</td>\n",
       "      <td>-0.004003</td>\n",
       "    </tr>\n",
       "    <tr>\n",
       "      <th>2010-01-14</th>\n",
       "      <td>-0.001133</td>\n",
       "      <td>-0.003133</td>\n",
       "      <td>0.000144</td>\n",
       "    </tr>\n",
       "    <tr>\n",
       "      <th>2010-01-15</th>\n",
       "      <td>-0.001458</td>\n",
       "      <td>-0.004023</td>\n",
       "      <td>-0.008180</td>\n",
       "    </tr>\n",
       "    <tr>\n",
       "      <th>2010-01-19</th>\n",
       "      <td>0.011032</td>\n",
       "      <td>0.005680</td>\n",
       "      <td>0.002315</td>\n",
       "    </tr>\n",
       "    <tr>\n",
       "      <th>2010-01-20</th>\n",
       "      <td>-0.020218</td>\n",
       "      <td>-0.019202</td>\n",
       "      <td>-0.017901</td>\n",
       "    </tr>\n",
       "    <tr>\n",
       "      <th>2010-01-21</th>\n",
       "      <td>-0.024402</td>\n",
       "      <td>-0.024440</td>\n",
       "      <td>-0.019550</td>\n",
       "    </tr>\n",
       "    <tr>\n",
       "      <th>2010-01-22</th>\n",
       "      <td>-0.028538</td>\n",
       "      <td>-0.021642</td>\n",
       "      <td>-0.008995</td>\n",
       "    </tr>\n",
       "    <tr>\n",
       "      <th>2010-01-25</th>\n",
       "      <td>0.011750</td>\n",
       "      <td>-0.000536</td>\n",
       "      <td>-0.003782</td>\n",
       "    </tr>\n",
       "    <tr>\n",
       "      <th>2010-01-26</th>\n",
       "      <td>-0.001025</td>\n",
       "      <td>-0.005366</td>\n",
       "      <td>0.001063</td>\n",
       "    </tr>\n",
       "    <tr>\n",
       "      <th>2010-01-27</th>\n",
       "      <td>-0.007352</td>\n",
       "      <td>-0.006069</td>\n",
       "      <td>-0.005765</td>\n",
       "    </tr>\n",
       "    <tr>\n",
       "      <th>2010-01-28</th>\n",
       "      <td>-0.012573</td>\n",
       "      <td>-0.006242</td>\n",
       "      <td>-0.008850</td>\n",
       "    </tr>\n",
       "    <tr>\n",
       "      <th>2010-01-29</th>\n",
       "      <td>-0.021106</td>\n",
       "      <td>-0.015292</td>\n",
       "      <td>-0.008159</td>\n",
       "    </tr>\n",
       "    <tr>\n",
       "      <th>2010-02-01</th>\n",
       "      <td>0.019779</td>\n",
       "      <td>0.020244</td>\n",
       "      <td>0.027161</td>\n",
       "    </tr>\n",
       "    <tr>\n",
       "      <th>2010-02-02</th>\n",
       "      <td>-0.030928</td>\n",
       "      <td>0.011824</td>\n",
       "      <td>0.011786</td>\n",
       "    </tr>\n",
       "    <tr>\n",
       "      <th>2010-02-03</th>\n",
       "      <td>-0.005229</td>\n",
       "      <td>-0.016655</td>\n",
       "      <td>-0.005376</td>\n",
       "    </tr>\n",
       "    <tr>\n",
       "      <th>2010-02-04</th>\n",
       "      <td>-0.030633</td>\n",
       "      <td>-0.025133</td>\n",
       "      <td>-0.028228</td>\n",
       "    </tr>\n",
       "    <tr>\n",
       "      <th>2010-02-05</th>\n",
       "      <td>-0.005610</td>\n",
       "      <td>-0.002662</td>\n",
       "      <td>0.001236</td>\n",
       "    </tr>\n",
       "    <tr>\n",
       "      <th>2010-02-08</th>\n",
       "      <td>-0.014103</td>\n",
       "      <td>-0.014751</td>\n",
       "      <td>-0.000466</td>\n",
       "    </tr>\n",
       "    <tr>\n",
       "      <th>2010-02-09</th>\n",
       "      <td>0.022506</td>\n",
       "      <td>0.016826</td>\n",
       "      <td>0.013209</td>\n",
       "    </tr>\n",
       "    <tr>\n",
       "      <th>2010-02-10</th>\n",
       "      <td>0.000746</td>\n",
       "      <td>-0.007853</td>\n",
       "      <td>-0.005368</td>\n",
       "    </tr>\n",
       "    <tr>\n",
       "      <th>2010-02-11</th>\n",
       "      <td>0.021435</td>\n",
       "      <td>0.013852</td>\n",
       "      <td>0.006014</td>\n",
       "    </tr>\n",
       "    <tr>\n",
       "      <th>2010-02-12</th>\n",
       "      <td>-0.002372</td>\n",
       "      <td>-0.000563</td>\n",
       "      <td>-0.006744</td>\n",
       "    </tr>\n",
       "    <tr>\n",
       "      <th>2010-02-16</th>\n",
       "      <td>0.023413</td>\n",
       "      <td>0.027883</td>\n",
       "      <td>0.022839</td>\n",
       "    </tr>\n",
       "    <tr>\n",
       "      <th>...</th>\n",
       "      <td>...</td>\n",
       "      <td>...</td>\n",
       "      <td>...</td>\n",
       "    </tr>\n",
       "    <tr>\n",
       "      <th>2015-11-18</th>\n",
       "      <td>0.026916</td>\n",
       "      <td>0.012963</td>\n",
       "      <td>0.009755</td>\n",
       "    </tr>\n",
       "    <tr>\n",
       "      <th>2015-11-19</th>\n",
       "      <td>0.004274</td>\n",
       "      <td>-0.014966</td>\n",
       "      <td>-0.005450</td>\n",
       "    </tr>\n",
       "    <tr>\n",
       "      <th>2015-11-20</th>\n",
       "      <td>-0.023262</td>\n",
       "      <td>-0.020037</td>\n",
       "      <td>-0.006351</td>\n",
       "    </tr>\n",
       "    <tr>\n",
       "      <th>2015-11-23</th>\n",
       "      <td>-0.000291</td>\n",
       "      <td>0.011235</td>\n",
       "      <td>0.006141</td>\n",
       "    </tr>\n",
       "    <tr>\n",
       "      <th>2015-11-24</th>\n",
       "      <td>0.016560</td>\n",
       "      <td>0.014887</td>\n",
       "      <td>0.019930</td>\n",
       "    </tr>\n",
       "    <tr>\n",
       "      <th>2015-11-25</th>\n",
       "      <td>0.000000</td>\n",
       "      <td>-0.005254</td>\n",
       "      <td>-0.007694</td>\n",
       "    </tr>\n",
       "    <tr>\n",
       "      <th>2015-11-27</th>\n",
       "      <td>-0.004573</td>\n",
       "      <td>-0.005502</td>\n",
       "      <td>-0.000246</td>\n",
       "    </tr>\n",
       "    <tr>\n",
       "      <th>2015-11-30</th>\n",
       "      <td>-0.006604</td>\n",
       "      <td>0.010512</td>\n",
       "      <td>0.005294</td>\n",
       "    </tr>\n",
       "    <tr>\n",
       "      <th>2015-12-01</th>\n",
       "      <td>0.004913</td>\n",
       "      <td>0.012703</td>\n",
       "      <td>0.002817</td>\n",
       "    </tr>\n",
       "    <tr>\n",
       "      <th>2015-12-02</th>\n",
       "      <td>-0.027322</td>\n",
       "      <td>-0.024113</td>\n",
       "      <td>-0.028575</td>\n",
       "    </tr>\n",
       "    <tr>\n",
       "      <th>2015-12-03</th>\n",
       "      <td>-0.016558</td>\n",
       "      <td>-0.015512</td>\n",
       "      <td>-0.014331</td>\n",
       "    </tr>\n",
       "    <tr>\n",
       "      <th>2015-12-04</th>\n",
       "      <td>-0.017739</td>\n",
       "      <td>0.009679</td>\n",
       "      <td>0.005739</td>\n",
       "    </tr>\n",
       "    <tr>\n",
       "      <th>2015-12-07</th>\n",
       "      <td>-0.043159</td>\n",
       "      <td>-0.027087</td>\n",
       "      <td>-0.026122</td>\n",
       "    </tr>\n",
       "    <tr>\n",
       "      <th>2015-12-08</th>\n",
       "      <td>0.000320</td>\n",
       "      <td>-0.009624</td>\n",
       "      <td>-0.028255</td>\n",
       "    </tr>\n",
       "    <tr>\n",
       "      <th>2015-12-09</th>\n",
       "      <td>0.017269</td>\n",
       "      <td>0.013420</td>\n",
       "      <td>0.013399</td>\n",
       "    </tr>\n",
       "    <tr>\n",
       "      <th>2015-12-10</th>\n",
       "      <td>-0.000314</td>\n",
       "      <td>0.019406</td>\n",
       "      <td>0.000793</td>\n",
       "    </tr>\n",
       "    <tr>\n",
       "      <th>2015-12-11</th>\n",
       "      <td>-0.031761</td>\n",
       "      <td>-0.032027</td>\n",
       "      <td>-0.017836</td>\n",
       "    </tr>\n",
       "    <tr>\n",
       "      <th>2015-12-14</th>\n",
       "      <td>-0.018513</td>\n",
       "      <td>0.033434</td>\n",
       "      <td>0.022733</td>\n",
       "    </tr>\n",
       "    <tr>\n",
       "      <th>2015-12-15</th>\n",
       "      <td>0.017538</td>\n",
       "      <td>0.038397</td>\n",
       "      <td>0.044719</td>\n",
       "    </tr>\n",
       "    <tr>\n",
       "      <th>2015-12-16</th>\n",
       "      <td>0.003902</td>\n",
       "      <td>0.007331</td>\n",
       "      <td>-0.003525</td>\n",
       "    </tr>\n",
       "    <tr>\n",
       "      <th>2015-12-17</th>\n",
       "      <td>-0.016845</td>\n",
       "      <td>-0.031036</td>\n",
       "      <td>-0.015035</td>\n",
       "    </tr>\n",
       "    <tr>\n",
       "      <th>2015-12-18</th>\n",
       "      <td>-0.006590</td>\n",
       "      <td>-0.008063</td>\n",
       "      <td>-0.008722</td>\n",
       "    </tr>\n",
       "    <tr>\n",
       "      <th>2015-12-21</th>\n",
       "      <td>-0.000663</td>\n",
       "      <td>-0.006347</td>\n",
       "      <td>-0.000259</td>\n",
       "    </tr>\n",
       "    <tr>\n",
       "      <th>2015-12-22</th>\n",
       "      <td>0.021905</td>\n",
       "      <td>0.011542</td>\n",
       "      <td>0.005048</td>\n",
       "    </tr>\n",
       "    <tr>\n",
       "      <th>2015-12-23</th>\n",
       "      <td>0.050666</td>\n",
       "      <td>0.039216</td>\n",
       "      <td>0.032711</td>\n",
       "    </tr>\n",
       "    <tr>\n",
       "      <th>2015-12-24</th>\n",
       "      <td>-0.007110</td>\n",
       "      <td>-0.018761</td>\n",
       "      <td>-0.010725</td>\n",
       "    </tr>\n",
       "    <tr>\n",
       "      <th>2015-12-28</th>\n",
       "      <td>-0.012765</td>\n",
       "      <td>-0.018360</td>\n",
       "      <td>-0.007437</td>\n",
       "    </tr>\n",
       "    <tr>\n",
       "      <th>2015-12-29</th>\n",
       "      <td>0.005046</td>\n",
       "      <td>0.009849</td>\n",
       "      <td>0.005334</td>\n",
       "    </tr>\n",
       "    <tr>\n",
       "      <th>2015-12-30</th>\n",
       "      <td>-0.017571</td>\n",
       "      <td>-0.012712</td>\n",
       "      <td>-0.013264</td>\n",
       "    </tr>\n",
       "    <tr>\n",
       "      <th>2015-12-31</th>\n",
       "      <td>-0.001597</td>\n",
       "      <td>-0.001443</td>\n",
       "      <td>-0.002048</td>\n",
       "    </tr>\n",
       "  </tbody>\n",
       "</table>\n",
       "<p>1510 rows × 3 columns</p>\n",
       "</div>"
      ],
      "text/plain": [
       "                  BP       CVX       XOM\n",
       "Date                                    \n",
       "2010-01-04       NaN       NaN       NaN\n",
       "2010-01-05  0.007101  0.007083  0.003905\n",
       "2010-01-06  0.005204  0.000126  0.008643\n",
       "2010-01-07 -0.000334 -0.003767 -0.003142\n",
       "2010-01-08  0.002339  0.001765 -0.004012\n",
       "2010-01-11  0.031500  0.017742  0.011220\n",
       "2010-01-12 -0.006301 -0.005811 -0.004979\n",
       "2010-01-13  0.004878 -0.007586 -0.004003\n",
       "2010-01-14 -0.001133 -0.003133  0.000144\n",
       "2010-01-15 -0.001458 -0.004023 -0.008180\n",
       "2010-01-19  0.011032  0.005680  0.002315\n",
       "2010-01-20 -0.020218 -0.019202 -0.017901\n",
       "2010-01-21 -0.024402 -0.024440 -0.019550\n",
       "2010-01-22 -0.028538 -0.021642 -0.008995\n",
       "2010-01-25  0.011750 -0.000536 -0.003782\n",
       "2010-01-26 -0.001025 -0.005366  0.001063\n",
       "2010-01-27 -0.007352 -0.006069 -0.005765\n",
       "2010-01-28 -0.012573 -0.006242 -0.008850\n",
       "2010-01-29 -0.021106 -0.015292 -0.008159\n",
       "2010-02-01  0.019779  0.020244  0.027161\n",
       "2010-02-02 -0.030928  0.011824  0.011786\n",
       "2010-02-03 -0.005229 -0.016655 -0.005376\n",
       "2010-02-04 -0.030633 -0.025133 -0.028228\n",
       "2010-02-05 -0.005610 -0.002662  0.001236\n",
       "2010-02-08 -0.014103 -0.014751 -0.000466\n",
       "2010-02-09  0.022506  0.016826  0.013209\n",
       "2010-02-10  0.000746 -0.007853 -0.005368\n",
       "2010-02-11  0.021435  0.013852  0.006014\n",
       "2010-02-12 -0.002372 -0.000563 -0.006744\n",
       "2010-02-16  0.023413  0.027883  0.022839\n",
       "...              ...       ...       ...\n",
       "2015-11-18  0.026916  0.012963  0.009755\n",
       "2015-11-19  0.004274 -0.014966 -0.005450\n",
       "2015-11-20 -0.023262 -0.020037 -0.006351\n",
       "2015-11-23 -0.000291  0.011235  0.006141\n",
       "2015-11-24  0.016560  0.014887  0.019930\n",
       "2015-11-25  0.000000 -0.005254 -0.007694\n",
       "2015-11-27 -0.004573 -0.005502 -0.000246\n",
       "2015-11-30 -0.006604  0.010512  0.005294\n",
       "2015-12-01  0.004913  0.012703  0.002817\n",
       "2015-12-02 -0.027322 -0.024113 -0.028575\n",
       "2015-12-03 -0.016558 -0.015512 -0.014331\n",
       "2015-12-04 -0.017739  0.009679  0.005739\n",
       "2015-12-07 -0.043159 -0.027087 -0.026122\n",
       "2015-12-08  0.000320 -0.009624 -0.028255\n",
       "2015-12-09  0.017269  0.013420  0.013399\n",
       "2015-12-10 -0.000314  0.019406  0.000793\n",
       "2015-12-11 -0.031761 -0.032027 -0.017836\n",
       "2015-12-14 -0.018513  0.033434  0.022733\n",
       "2015-12-15  0.017538  0.038397  0.044719\n",
       "2015-12-16  0.003902  0.007331 -0.003525\n",
       "2015-12-17 -0.016845 -0.031036 -0.015035\n",
       "2015-12-18 -0.006590 -0.008063 -0.008722\n",
       "2015-12-21 -0.000663 -0.006347 -0.000259\n",
       "2015-12-22  0.021905  0.011542  0.005048\n",
       "2015-12-23  0.050666  0.039216  0.032711\n",
       "2015-12-24 -0.007110 -0.018761 -0.010725\n",
       "2015-12-28 -0.012765 -0.018360 -0.007437\n",
       "2015-12-29  0.005046  0.009849  0.005334\n",
       "2015-12-30 -0.017571 -0.012712 -0.013264\n",
       "2015-12-31 -0.001597 -0.001443 -0.002048\n",
       "\n",
       "[1510 rows x 3 columns]"
      ]
     },
     "execution_count": 19,
     "metadata": {},
     "output_type": "execute_result"
    }
   ],
   "source": [
    "rets = prices.pct_change()\n",
    "rets"
   ]
  },
  {
   "cell_type": "code",
   "execution_count": 16,
   "metadata": {
    "collapsed": false
   },
   "outputs": [
    {
     "data": {
      "text/plain": [
       "<bound method DataFrame.corr of                   BP       CVX       XOM\n",
       "Date                                    \n",
       "2010-01-04       NaN       NaN       NaN\n",
       "2010-01-05  0.007101  0.007083  0.003905\n",
       "2010-01-06  0.005204  0.000126  0.008643\n",
       "2010-01-07 -0.000334 -0.003767 -0.003142\n",
       "2010-01-08  0.002339  0.001765 -0.004012\n",
       "2010-01-11  0.031500  0.017742  0.011220\n",
       "2010-01-12 -0.006301 -0.005811 -0.004979\n",
       "2010-01-13  0.004878 -0.007586 -0.004003\n",
       "2010-01-14 -0.001133 -0.003133  0.000144\n",
       "2010-01-15 -0.001458 -0.004023 -0.008180\n",
       "2010-01-19  0.011032  0.005680  0.002315\n",
       "2010-01-20 -0.020218 -0.019202 -0.017901\n",
       "2010-01-21 -0.024402 -0.024440 -0.019550\n",
       "2010-01-22 -0.028538 -0.021642 -0.008995\n",
       "2010-01-25  0.011750 -0.000536 -0.003782\n",
       "2010-01-26 -0.001025 -0.005366  0.001063\n",
       "2010-01-27 -0.007352 -0.006069 -0.005765\n",
       "2010-01-28 -0.012573 -0.006242 -0.008850\n",
       "2010-01-29 -0.021106 -0.015292 -0.008159\n",
       "2010-02-01  0.019779  0.020244  0.027161\n",
       "2010-02-02 -0.030928  0.011824  0.011786\n",
       "2010-02-03 -0.005229 -0.016655 -0.005376\n",
       "2010-02-04 -0.030633 -0.025133 -0.028228\n",
       "2010-02-05 -0.005610 -0.002662  0.001236\n",
       "2010-02-08 -0.014103 -0.014751 -0.000466\n",
       "2010-02-09  0.022506  0.016826  0.013209\n",
       "2010-02-10  0.000746 -0.007853 -0.005368\n",
       "2010-02-11  0.021435  0.013852  0.006014\n",
       "2010-02-12 -0.002372 -0.000563 -0.006744\n",
       "2010-02-16  0.023413  0.027883  0.022839\n",
       "...              ...       ...       ...\n",
       "2015-11-18  0.026916  0.012963  0.009755\n",
       "2015-11-19  0.004274 -0.014966 -0.005450\n",
       "2015-11-20 -0.023262 -0.020037 -0.006351\n",
       "2015-11-23 -0.000291  0.011235  0.006141\n",
       "2015-11-24  0.016560  0.014887  0.019930\n",
       "2015-11-25  0.000000 -0.005254 -0.007694\n",
       "2015-11-27 -0.004573 -0.005502 -0.000246\n",
       "2015-11-30 -0.006604  0.010512  0.005294\n",
       "2015-12-01  0.004913  0.012703  0.002817\n",
       "2015-12-02 -0.027322 -0.024113 -0.028575\n",
       "2015-12-03 -0.016558 -0.015512 -0.014331\n",
       "2015-12-04 -0.017739  0.009679  0.005739\n",
       "2015-12-07 -0.043159 -0.027087 -0.026122\n",
       "2015-12-08  0.000320 -0.009624 -0.028255\n",
       "2015-12-09  0.017269  0.013420  0.013399\n",
       "2015-12-10 -0.000314  0.019406  0.000793\n",
       "2015-12-11 -0.031761 -0.032027 -0.017836\n",
       "2015-12-14 -0.018513  0.033434  0.022733\n",
       "2015-12-15  0.017538  0.038397  0.044719\n",
       "2015-12-16  0.003902  0.007331 -0.003525\n",
       "2015-12-17 -0.016845 -0.031036 -0.015035\n",
       "2015-12-18 -0.006590 -0.008063 -0.008722\n",
       "2015-12-21 -0.000663 -0.006347 -0.000259\n",
       "2015-12-22  0.021905  0.011542  0.005048\n",
       "2015-12-23  0.050666  0.039216  0.032711\n",
       "2015-12-24 -0.007110 -0.018761 -0.010725\n",
       "2015-12-28 -0.012765 -0.018360 -0.007437\n",
       "2015-12-29  0.005046  0.009849  0.005334\n",
       "2015-12-30 -0.017571 -0.012712 -0.013264\n",
       "2015-12-31 -0.001597 -0.001443 -0.002048\n",
       "\n",
       "[1510 rows x 3 columns]>"
      ]
     },
     "execution_count": 16,
     "metadata": {},
     "output_type": "execute_result"
    }
   ],
   "source": [
    "# Correlation of the stocks\n",
    "corr = rets.corr\n",
    "corr"
   ]
  },
  {
   "cell_type": "code",
   "execution_count": 17,
   "metadata": {
    "collapsed": false
   },
   "outputs": [
    {
     "data": {
      "text/plain": [
       "<matplotlib.axes._subplots.AxesSubplot at 0x10b83a518>"
      ]
     },
     "execution_count": 17,
     "metadata": {},
     "output_type": "execute_result"
    },
    {
     "data": {
      "image/png": "[encoded data removed]",
      "text/plain": [
       "<matplotlib.figure.Figure at 0x10b849400>"
      ]
     },
     "metadata": {},
     "output_type": "display_data"
    }
   ],
   "source": [
    "prices.plot()"
   ]
  },
  {
   "cell_type": "code",
   "execution_count": 190,
   "metadata": {
    "collapsed": false
   },
   "outputs": [],
   "source": [
    "ser1 = Series(['w', 'w', 'x', 'y', 'z', 'w', 'x', 'y', 'x', 'a'])"
   ]
  },
  {
   "cell_type": "code",
   "execution_count": 191,
   "metadata": {
    "collapsed": false
   },
   "outputs": [
    {
     "data": {
      "text/plain": [
       "0    w\n",
       "1    w\n",
       "2    x\n",
       "3    y\n",
       "4    z\n",
       "5    w\n",
       "6    x\n",
       "7    y\n",
       "8    x\n",
       "9    a\n",
       "dtype: object"
      ]
     },
     "execution_count": 191,
     "metadata": {},
     "output_type": "execute_result"
    }
   ],
   "source": [
    "ser1"
   ]
  },
  {
   "cell_type": "code",
   "execution_count": 192,
   "metadata": {
    "collapsed": false
   },
   "outputs": [
    {
     "data": {
      "text/plain": [
       "array(['w', 'x', 'y', 'z', 'a'], dtype=object)"
      ]
     },
     "execution_count": 192,
     "metadata": {},
     "output_type": "execute_result"
    }
   ],
   "source": [
    "ser1.unique()"
   ]
  },
  {
   "cell_type": "code",
   "execution_count": 194,
   "metadata": {
    "collapsed": false
   },
   "outputs": [
    {
     "data": {
      "text/plain": [
       "x    3\n",
       "w    3\n",
       "y    2\n",
       "z    1\n",
       "a    1\n",
       "dtype: int64"
      ]
     },
     "execution_count": 194,
     "metadata": {},
     "output_type": "execute_result"
    }
   ],
   "source": [
    "ser1.value_counts()"
   ]
  },
  {
   "cell_type": "markdown",
   "metadata": {
    "collapsed": true
   },
   "source": [
    "# Missing Data"
   ]
  },
  {
   "cell_type": "code",
   "execution_count": 21,
   "metadata": {
    "collapsed": false
   },
   "outputs": [],
   "source": [
    "import numpy as np\n",
    "from pandas import Series, DataFrame\n",
    "import pandas as pd\n",
    "\n",
    "data = Series(['one', 'two', np.nan, 'four'])"
   ]
  },
  {
   "cell_type": "code",
   "execution_count": 22,
   "metadata": {
    "collapsed": false
   },
   "outputs": [
    {
     "data": {
      "text/plain": [
       "0     one\n",
       "1     two\n",
       "2     NaN\n",
       "3    four\n",
       "dtype: object"
      ]
     },
     "execution_count": 22,
     "metadata": {},
     "output_type": "execute_result"
    }
   ],
   "source": [
    "data"
   ]
  },
  {
   "cell_type": "code",
   "execution_count": 23,
   "metadata": {
    "collapsed": false
   },
   "outputs": [
    {
     "data": {
      "text/plain": [
       "0    False\n",
       "1    False\n",
       "2     True\n",
       "3    False\n",
       "dtype: bool"
      ]
     },
     "execution_count": 23,
     "metadata": {},
     "output_type": "execute_result"
    }
   ],
   "source": [
    "data.isnull()"
   ]
  },
  {
   "cell_type": "code",
   "execution_count": 24,
   "metadata": {
    "collapsed": false
   },
   "outputs": [
    {
     "data": {
      "text/plain": [
       "0     one\n",
       "1     two\n",
       "3    four\n",
       "dtype: object"
      ]
     },
     "execution_count": 24,
     "metadata": {},
     "output_type": "execute_result"
    }
   ],
   "source": [
    "data.dropna()"
   ]
  },
  {
   "cell_type": "code",
   "execution_count": 25,
   "metadata": {
    "collapsed": true
   },
   "outputs": [],
   "source": [
    "dframe = DataFrame([[1, 2, 3], [np.nan, 5, 6], [7, np.nan, 9], [np.nan, np.nan, np.nan]])"
   ]
  },
  {
   "cell_type": "code",
   "execution_count": 26,
   "metadata": {
    "collapsed": false
   },
   "outputs": [
    {
     "data": {
      "text/html": [
       "<div>\n",
       "<table border=\"1\" class=\"dataframe\">\n",
       "  <thead>\n",
       "    <tr style=\"text-align: right;\">\n",
       "      <th></th>\n",
       "      <th>0</th>\n",
       "      <th>1</th>\n",
       "      <th>2</th>\n",
       "    </tr>\n",
       "  </thead>\n",
       "  <tbody>\n",
       "    <tr>\n",
       "      <th>0</th>\n",
       "      <td>1.0</td>\n",
       "      <td>2.0</td>\n",
       "      <td>3.0</td>\n",
       "    </tr>\n",
       "    <tr>\n",
       "      <th>1</th>\n",
       "      <td>NaN</td>\n",
       "      <td>5.0</td>\n",
       "      <td>6.0</td>\n",
       "    </tr>\n",
       "    <tr>\n",
       "      <th>2</th>\n",
       "      <td>7.0</td>\n",
       "      <td>NaN</td>\n",
       "      <td>9.0</td>\n",
       "    </tr>\n",
       "    <tr>\n",
       "      <th>3</th>\n",
       "      <td>NaN</td>\n",
       "      <td>NaN</td>\n",
       "      <td>NaN</td>\n",
       "    </tr>\n",
       "  </tbody>\n",
       "</table>\n",
       "</div>"
      ],
      "text/plain": [
       "     0    1    2\n",
       "0  1.0  2.0  3.0\n",
       "1  NaN  5.0  6.0\n",
       "2  7.0  NaN  9.0\n",
       "3  NaN  NaN  NaN"
      ]
     },
     "execution_count": 26,
     "metadata": {},
     "output_type": "execute_result"
    }
   ],
   "source": [
    "dframe"
   ]
  },
  {
   "cell_type": "code",
   "execution_count": 27,
   "metadata": {
    "collapsed": true
   },
   "outputs": [],
   "source": [
    "clean_dframe = dframe.dropna()"
   ]
  },
  {
   "cell_type": "code",
   "execution_count": 28,
   "metadata": {
    "collapsed": false
   },
   "outputs": [
    {
     "data": {
      "text/html": [
       "<div>\n",
       "<table border=\"1\" class=\"dataframe\">\n",
       "  <thead>\n",
       "    <tr style=\"text-align: right;\">\n",
       "      <th></th>\n",
       "      <th>0</th>\n",
       "      <th>1</th>\n",
       "      <th>2</th>\n",
       "    </tr>\n",
       "  </thead>\n",
       "  <tbody>\n",
       "    <tr>\n",
       "      <th>0</th>\n",
       "      <td>1.0</td>\n",
       "      <td>2.0</td>\n",
       "      <td>3.0</td>\n",
       "    </tr>\n",
       "  </tbody>\n",
       "</table>\n",
       "</div>"
      ],
      "text/plain": [
       "     0    1    2\n",
       "0  1.0  2.0  3.0"
      ]
     },
     "execution_count": 28,
     "metadata": {},
     "output_type": "execute_result"
    }
   ],
   "source": [
    "clean_dframe"
   ]
  },
  {
   "cell_type": "code",
   "execution_count": 29,
   "metadata": {
    "collapsed": false
   },
   "outputs": [
    {
     "data": {
      "text/html": [
       "<div>\n",
       "<table border=\"1\" class=\"dataframe\">\n",
       "  <thead>\n",
       "    <tr style=\"text-align: right;\">\n",
       "      <th></th>\n",
       "      <th>0</th>\n",
       "      <th>1</th>\n",
       "      <th>2</th>\n",
       "    </tr>\n",
       "  </thead>\n",
       "  <tbody>\n",
       "    <tr>\n",
       "      <th>0</th>\n",
       "      <td>1.0</td>\n",
       "      <td>2.0</td>\n",
       "      <td>3.0</td>\n",
       "    </tr>\n",
       "    <tr>\n",
       "      <th>1</th>\n",
       "      <td>NaN</td>\n",
       "      <td>5.0</td>\n",
       "      <td>6.0</td>\n",
       "    </tr>\n",
       "    <tr>\n",
       "      <th>2</th>\n",
       "      <td>7.0</td>\n",
       "      <td>NaN</td>\n",
       "      <td>9.0</td>\n",
       "    </tr>\n",
       "  </tbody>\n",
       "</table>\n",
       "</div>"
      ],
      "text/plain": [
       "     0    1    2\n",
       "0  1.0  2.0  3.0\n",
       "1  NaN  5.0  6.0\n",
       "2  7.0  NaN  9.0"
      ]
     },
     "execution_count": 29,
     "metadata": {},
     "output_type": "execute_result"
    }
   ],
   "source": [
    "dframe.dropna(how='all')"
   ]
  },
  {
   "cell_type": "code",
   "execution_count": 30,
   "metadata": {
    "collapsed": false
   },
   "outputs": [
    {
     "data": {
      "text/html": [
       "<div>\n",
       "<table border=\"1\" class=\"dataframe\">\n",
       "  <thead>\n",
       "    <tr style=\"text-align: right;\">\n",
       "      <th></th>\n",
       "    </tr>\n",
       "  </thead>\n",
       "  <tbody>\n",
       "    <tr>\n",
       "      <th>0</th>\n",
       "    </tr>\n",
       "    <tr>\n",
       "      <th>1</th>\n",
       "    </tr>\n",
       "    <tr>\n",
       "      <th>2</th>\n",
       "    </tr>\n",
       "    <tr>\n",
       "      <th>3</th>\n",
       "    </tr>\n",
       "  </tbody>\n",
       "</table>\n",
       "</div>"
      ],
      "text/plain": [
       "Empty DataFrame\n",
       "Columns: []\n",
       "Index: [0, 1, 2, 3]"
      ]
     },
     "execution_count": 30,
     "metadata": {},
     "output_type": "execute_result"
    }
   ],
   "source": [
    "dframe.dropna(axis=1)"
   ]
  },
  {
   "cell_type": "code",
   "execution_count": 31,
   "metadata": {
    "collapsed": true
   },
   "outputs": [],
   "source": [
    "npn = np.nan\n",
    "\n",
    "dframe2 = DataFrame([[1, 2, 3, npn], [2, npn, 5, 6], [npn, 7, npn, 9], [1, npn, npn, npn]])"
   ]
  },
  {
   "cell_type": "code",
   "execution_count": 32,
   "metadata": {
    "collapsed": false
   },
   "outputs": [
    {
     "data": {
      "text/html": [
       "<div>\n",
       "<table border=\"1\" class=\"dataframe\">\n",
       "  <thead>\n",
       "    <tr style=\"text-align: right;\">\n",
       "      <th></th>\n",
       "      <th>0</th>\n",
       "      <th>1</th>\n",
       "      <th>2</th>\n",
       "      <th>3</th>\n",
       "    </tr>\n",
       "  </thead>\n",
       "  <tbody>\n",
       "    <tr>\n",
       "      <th>0</th>\n",
       "      <td>1.0</td>\n",
       "      <td>2.0</td>\n",
       "      <td>3.0</td>\n",
       "      <td>NaN</td>\n",
       "    </tr>\n",
       "    <tr>\n",
       "      <th>1</th>\n",
       "      <td>2.0</td>\n",
       "      <td>NaN</td>\n",
       "      <td>5.0</td>\n",
       "      <td>6.0</td>\n",
       "    </tr>\n",
       "    <tr>\n",
       "      <th>2</th>\n",
       "      <td>NaN</td>\n",
       "      <td>7.0</td>\n",
       "      <td>NaN</td>\n",
       "      <td>9.0</td>\n",
       "    </tr>\n",
       "    <tr>\n",
       "      <th>3</th>\n",
       "      <td>1.0</td>\n",
       "      <td>NaN</td>\n",
       "      <td>NaN</td>\n",
       "      <td>NaN</td>\n",
       "    </tr>\n",
       "  </tbody>\n",
       "</table>\n",
       "</div>"
      ],
      "text/plain": [
       "     0    1    2    3\n",
       "0  1.0  2.0  3.0  NaN\n",
       "1  2.0  NaN  5.0  6.0\n",
       "2  NaN  7.0  NaN  9.0\n",
       "3  1.0  NaN  NaN  NaN"
      ]
     },
     "execution_count": 32,
     "metadata": {},
     "output_type": "execute_result"
    }
   ],
   "source": [
    "dframe2"
   ]
  },
  {
   "cell_type": "code",
   "execution_count": 33,
   "metadata": {
    "collapsed": false
   },
   "outputs": [
    {
     "data": {
      "text/html": [
       "<div>\n",
       "<table border=\"1\" class=\"dataframe\">\n",
       "  <thead>\n",
       "    <tr style=\"text-align: right;\">\n",
       "      <th></th>\n",
       "      <th>0</th>\n",
       "      <th>1</th>\n",
       "      <th>2</th>\n",
       "      <th>3</th>\n",
       "    </tr>\n",
       "  </thead>\n",
       "  <tbody>\n",
       "    <tr>\n",
       "      <th>0</th>\n",
       "      <td>1.0</td>\n",
       "      <td>2.0</td>\n",
       "      <td>3.0</td>\n",
       "      <td>NaN</td>\n",
       "    </tr>\n",
       "    <tr>\n",
       "      <th>1</th>\n",
       "      <td>2.0</td>\n",
       "      <td>NaN</td>\n",
       "      <td>5.0</td>\n",
       "      <td>6.0</td>\n",
       "    </tr>\n",
       "    <tr>\n",
       "      <th>2</th>\n",
       "      <td>NaN</td>\n",
       "      <td>7.0</td>\n",
       "      <td>NaN</td>\n",
       "      <td>9.0</td>\n",
       "    </tr>\n",
       "  </tbody>\n",
       "</table>\n",
       "</div>"
      ],
      "text/plain": [
       "     0    1    2    3\n",
       "0  1.0  2.0  3.0  NaN\n",
       "1  2.0  NaN  5.0  6.0\n",
       "2  NaN  7.0  NaN  9.0"
      ]
     },
     "execution_count": 33,
     "metadata": {},
     "output_type": "execute_result"
    }
   ],
   "source": [
    "dframe2.dropna(thresh=2)"
   ]
  },
  {
   "cell_type": "code",
   "execution_count": 34,
   "metadata": {
    "collapsed": false
   },
   "outputs": [
    {
     "data": {
      "text/html": [
       "<div>\n",
       "<table border=\"1\" class=\"dataframe\">\n",
       "  <thead>\n",
       "    <tr style=\"text-align: right;\">\n",
       "      <th></th>\n",
       "      <th>0</th>\n",
       "      <th>1</th>\n",
       "      <th>2</th>\n",
       "      <th>3</th>\n",
       "    </tr>\n",
       "  </thead>\n",
       "  <tbody>\n",
       "    <tr>\n",
       "      <th>0</th>\n",
       "      <td>1.0</td>\n",
       "      <td>2.0</td>\n",
       "      <td>3.0</td>\n",
       "      <td>NaN</td>\n",
       "    </tr>\n",
       "    <tr>\n",
       "      <th>1</th>\n",
       "      <td>2.0</td>\n",
       "      <td>NaN</td>\n",
       "      <td>5.0</td>\n",
       "      <td>6.0</td>\n",
       "    </tr>\n",
       "  </tbody>\n",
       "</table>\n",
       "</div>"
      ],
      "text/plain": [
       "     0    1    2    3\n",
       "0  1.0  2.0  3.0  NaN\n",
       "1  2.0  NaN  5.0  6.0"
      ]
     },
     "execution_count": 34,
     "metadata": {},
     "output_type": "execute_result"
    }
   ],
   "source": [
    "dframe2.dropna(thresh=3)"
   ]
  },
  {
   "cell_type": "code",
   "execution_count": 35,
   "metadata": {
    "collapsed": false
   },
   "outputs": [
    {
     "data": {
      "text/html": [
       "<div>\n",
       "<table border=\"1\" class=\"dataframe\">\n",
       "  <thead>\n",
       "    <tr style=\"text-align: right;\">\n",
       "      <th></th>\n",
       "      <th>0</th>\n",
       "      <th>1</th>\n",
       "      <th>2</th>\n",
       "      <th>3</th>\n",
       "    </tr>\n",
       "  </thead>\n",
       "  <tbody>\n",
       "    <tr>\n",
       "      <th>0</th>\n",
       "      <td>1.0</td>\n",
       "      <td>2.0</td>\n",
       "      <td>3.0</td>\n",
       "      <td>NaN</td>\n",
       "    </tr>\n",
       "    <tr>\n",
       "      <th>1</th>\n",
       "      <td>2.0</td>\n",
       "      <td>NaN</td>\n",
       "      <td>5.0</td>\n",
       "      <td>6.0</td>\n",
       "    </tr>\n",
       "    <tr>\n",
       "      <th>2</th>\n",
       "      <td>NaN</td>\n",
       "      <td>7.0</td>\n",
       "      <td>NaN</td>\n",
       "      <td>9.0</td>\n",
       "    </tr>\n",
       "    <tr>\n",
       "      <th>3</th>\n",
       "      <td>1.0</td>\n",
       "      <td>NaN</td>\n",
       "      <td>NaN</td>\n",
       "      <td>NaN</td>\n",
       "    </tr>\n",
       "  </tbody>\n",
       "</table>\n",
       "</div>"
      ],
      "text/plain": [
       "     0    1    2    3\n",
       "0  1.0  2.0  3.0  NaN\n",
       "1  2.0  NaN  5.0  6.0\n",
       "2  NaN  7.0  NaN  9.0\n",
       "3  1.0  NaN  NaN  NaN"
      ]
     },
     "execution_count": 35,
     "metadata": {},
     "output_type": "execute_result"
    }
   ],
   "source": [
    "dframe2"
   ]
  },
  {
   "cell_type": "code",
   "execution_count": 36,
   "metadata": {
    "collapsed": false
   },
   "outputs": [
    {
     "data": {
      "text/html": [
       "<div>\n",
       "<table border=\"1\" class=\"dataframe\">\n",
       "  <thead>\n",
       "    <tr style=\"text-align: right;\">\n",
       "      <th></th>\n",
       "      <th>0</th>\n",
       "      <th>1</th>\n",
       "      <th>2</th>\n",
       "      <th>3</th>\n",
       "    </tr>\n",
       "  </thead>\n",
       "  <tbody>\n",
       "    <tr>\n",
       "      <th>0</th>\n",
       "      <td>1.0</td>\n",
       "      <td>2.0</td>\n",
       "      <td>3.0</td>\n",
       "      <td>1.0</td>\n",
       "    </tr>\n",
       "    <tr>\n",
       "      <th>1</th>\n",
       "      <td>2.0</td>\n",
       "      <td>1.0</td>\n",
       "      <td>5.0</td>\n",
       "      <td>6.0</td>\n",
       "    </tr>\n",
       "    <tr>\n",
       "      <th>2</th>\n",
       "      <td>1.0</td>\n",
       "      <td>7.0</td>\n",
       "      <td>1.0</td>\n",
       "      <td>9.0</td>\n",
       "    </tr>\n",
       "    <tr>\n",
       "      <th>3</th>\n",
       "      <td>1.0</td>\n",
       "      <td>1.0</td>\n",
       "      <td>1.0</td>\n",
       "      <td>1.0</td>\n",
       "    </tr>\n",
       "  </tbody>\n",
       "</table>\n",
       "</div>"
      ],
      "text/plain": [
       "     0    1    2    3\n",
       "0  1.0  2.0  3.0  1.0\n",
       "1  2.0  1.0  5.0  6.0\n",
       "2  1.0  7.0  1.0  9.0\n",
       "3  1.0  1.0  1.0  1.0"
      ]
     },
     "execution_count": 36,
     "metadata": {},
     "output_type": "execute_result"
    }
   ],
   "source": [
    "dframe2.fillna(1)"
   ]
  },
  {
   "cell_type": "code",
   "execution_count": 40,
   "metadata": {
    "collapsed": false
   },
   "outputs": [
    {
     "data": {
      "text/html": [
       "<div>\n",
       "<table border=\"1\" class=\"dataframe\">\n",
       "  <thead>\n",
       "    <tr style=\"text-align: right;\">\n",
       "      <th></th>\n",
       "      <th>0</th>\n",
       "      <th>1</th>\n",
       "      <th>2</th>\n",
       "      <th>3</th>\n",
       "    </tr>\n",
       "  </thead>\n",
       "  <tbody>\n",
       "    <tr>\n",
       "      <th>0</th>\n",
       "      <td>1.0</td>\n",
       "      <td>2.0</td>\n",
       "      <td>3.0</td>\n",
       "      <td>NaN</td>\n",
       "    </tr>\n",
       "    <tr>\n",
       "      <th>1</th>\n",
       "      <td>2.0</td>\n",
       "      <td>NaN</td>\n",
       "      <td>5.0</td>\n",
       "      <td>6.0</td>\n",
       "    </tr>\n",
       "    <tr>\n",
       "      <th>2</th>\n",
       "      <td>NaN</td>\n",
       "      <td>7.0</td>\n",
       "      <td>NaN</td>\n",
       "      <td>9.0</td>\n",
       "    </tr>\n",
       "    <tr>\n",
       "      <th>3</th>\n",
       "      <td>1.0</td>\n",
       "      <td>NaN</td>\n",
       "      <td>NaN</td>\n",
       "      <td>NaN</td>\n",
       "    </tr>\n",
       "  </tbody>\n",
       "</table>\n",
       "</div>"
      ],
      "text/plain": [
       "     0    1    2    3\n",
       "0  1.0  2.0  3.0  NaN\n",
       "1  2.0  NaN  5.0  6.0\n",
       "2  NaN  7.0  NaN  9.0\n",
       "3  1.0  NaN  NaN  NaN"
      ]
     },
     "execution_count": 40,
     "metadata": {},
     "output_type": "execute_result"
    }
   ],
   "source": [
    "dframe2"
   ]
  },
  {
   "cell_type": "code",
   "execution_count": 41,
   "metadata": {
    "collapsed": false
   },
   "outputs": [
    {
     "data": {
      "text/html": [
       "<div>\n",
       "<table border=\"1\" class=\"dataframe\">\n",
       "  <thead>\n",
       "    <tr style=\"text-align: right;\">\n",
       "      <th></th>\n",
       "      <th>0</th>\n",
       "      <th>1</th>\n",
       "      <th>2</th>\n",
       "      <th>3</th>\n",
       "    </tr>\n",
       "  </thead>\n",
       "  <tbody>\n",
       "    <tr>\n",
       "      <th>0</th>\n",
       "      <td>1.0</td>\n",
       "      <td>2.0</td>\n",
       "      <td>3.0</td>\n",
       "      <td>3.0</td>\n",
       "    </tr>\n",
       "    <tr>\n",
       "      <th>1</th>\n",
       "      <td>2.0</td>\n",
       "      <td>1.0</td>\n",
       "      <td>5.0</td>\n",
       "      <td>6.0</td>\n",
       "    </tr>\n",
       "    <tr>\n",
       "      <th>2</th>\n",
       "      <td>0.0</td>\n",
       "      <td>7.0</td>\n",
       "      <td>2.0</td>\n",
       "      <td>9.0</td>\n",
       "    </tr>\n",
       "    <tr>\n",
       "      <th>3</th>\n",
       "      <td>1.0</td>\n",
       "      <td>1.0</td>\n",
       "      <td>2.0</td>\n",
       "      <td>3.0</td>\n",
       "    </tr>\n",
       "  </tbody>\n",
       "</table>\n",
       "</div>"
      ],
      "text/plain": [
       "     0    1    2    3\n",
       "0  1.0  2.0  3.0  3.0\n",
       "1  2.0  1.0  5.0  6.0\n",
       "2  0.0  7.0  2.0  9.0\n",
       "3  1.0  1.0  2.0  3.0"
      ]
     },
     "execution_count": 41,
     "metadata": {},
     "output_type": "execute_result"
    }
   ],
   "source": [
    "dframe2.fillna({0:0, 1:1, 2:2, 3:3})"
   ]
  },
  {
   "cell_type": "code",
   "execution_count": 42,
   "metadata": {
    "collapsed": true
   },
   "outputs": [],
   "source": [
    "dframe2.fillna(0, inplace=True)"
   ]
  },
  {
   "cell_type": "code",
   "execution_count": 43,
   "metadata": {
    "collapsed": false
   },
   "outputs": [
    {
     "data": {
      "text/html": [
       "<div>\n",
       "<table border=\"1\" class=\"dataframe\">\n",
       "  <thead>\n",
       "    <tr style=\"text-align: right;\">\n",
       "      <th></th>\n",
       "      <th>0</th>\n",
       "      <th>1</th>\n",
       "      <th>2</th>\n",
       "      <th>3</th>\n",
       "    </tr>\n",
       "  </thead>\n",
       "  <tbody>\n",
       "    <tr>\n",
       "      <th>0</th>\n",
       "      <td>1.0</td>\n",
       "      <td>2.0</td>\n",
       "      <td>3.0</td>\n",
       "      <td>0.0</td>\n",
       "    </tr>\n",
       "    <tr>\n",
       "      <th>1</th>\n",
       "      <td>2.0</td>\n",
       "      <td>0.0</td>\n",
       "      <td>5.0</td>\n",
       "      <td>6.0</td>\n",
       "    </tr>\n",
       "    <tr>\n",
       "      <th>2</th>\n",
       "      <td>0.0</td>\n",
       "      <td>7.0</td>\n",
       "      <td>0.0</td>\n",
       "      <td>9.0</td>\n",
       "    </tr>\n",
       "    <tr>\n",
       "      <th>3</th>\n",
       "      <td>1.0</td>\n",
       "      <td>0.0</td>\n",
       "      <td>0.0</td>\n",
       "      <td>0.0</td>\n",
       "    </tr>\n",
       "  </tbody>\n",
       "</table>\n",
       "</div>"
      ],
      "text/plain": [
       "     0    1    2    3\n",
       "0  1.0  2.0  3.0  0.0\n",
       "1  2.0  0.0  5.0  6.0\n",
       "2  0.0  7.0  0.0  9.0\n",
       "3  1.0  0.0  0.0  0.0"
      ]
     },
     "execution_count": 43,
     "metadata": {},
     "output_type": "execute_result"
    }
   ],
   "source": [
    "dframe2"
   ]
  },
  {
   "cell_type": "markdown",
   "metadata": {},
   "source": [
    "# Index Hierarchy"
   ]
  },
  {
   "cell_type": "code",
   "execution_count": 44,
   "metadata": {
    "collapsed": true
   },
   "outputs": [],
   "source": [
    "import numpy as np\n",
    "from pandas import Series, DataFrame\n",
    "import pandas as pd\n",
    "\n",
    "from numpy.random import randn"
   ]
  },
  {
   "cell_type": "code",
   "execution_count": 45,
   "metadata": {
    "collapsed": true
   },
   "outputs": [],
   "source": [
    "ser = Series(randn(6), index=[[1,1,1,2,2,2], ['a', 'b', 'c', 'a', 'b', 'c']])"
   ]
  },
  {
   "cell_type": "code",
   "execution_count": 46,
   "metadata": {
    "collapsed": false
   },
   "outputs": [
    {
     "data": {
      "text/plain": [
       "1  a    1.229478\n",
       "   b   -0.929842\n",
       "   c   -0.732581\n",
       "2  a   -0.077759\n",
       "   b   -0.207379\n",
       "   c   -0.167745\n",
       "dtype: float64"
      ]
     },
     "execution_count": 46,
     "metadata": {},
     "output_type": "execute_result"
    }
   ],
   "source": [
    "ser"
   ]
  },
  {
   "cell_type": "code",
   "execution_count": 47,
   "metadata": {
    "collapsed": false
   },
   "outputs": [
    {
     "data": {
      "text/plain": [
       "MultiIndex(levels=[[1, 2], ['a', 'b', 'c']],\n",
       "           labels=[[0, 0, 0, 1, 1, 1], [0, 1, 2, 0, 1, 2]])"
      ]
     },
     "execution_count": 47,
     "metadata": {},
     "output_type": "execute_result"
    }
   ],
   "source": [
    "ser.index"
   ]
  },
  {
   "cell_type": "code",
   "execution_count": 48,
   "metadata": {
    "collapsed": false
   },
   "outputs": [
    {
     "data": {
      "text/plain": [
       "a    1.229478\n",
       "b   -0.929842\n",
       "c   -0.732581\n",
       "dtype: float64"
      ]
     },
     "execution_count": 48,
     "metadata": {},
     "output_type": "execute_result"
    }
   ],
   "source": [
    "ser[1]"
   ]
  },
  {
   "cell_type": "code",
   "execution_count": 49,
   "metadata": {
    "collapsed": false
   },
   "outputs": [
    {
     "data": {
      "text/plain": [
       "a   -0.077759\n",
       "b   -0.207379\n",
       "c   -0.167745\n",
       "dtype: float64"
      ]
     },
     "execution_count": 49,
     "metadata": {},
     "output_type": "execute_result"
    }
   ],
   "source": [
    "ser[2]"
   ]
  },
  {
   "cell_type": "code",
   "execution_count": 50,
   "metadata": {
    "collapsed": false
   },
   "outputs": [
    {
     "data": {
      "text/plain": [
       "1    1.229478\n",
       "2   -0.077759\n",
       "dtype: float64"
      ]
     },
     "execution_count": 50,
     "metadata": {},
     "output_type": "execute_result"
    }
   ],
   "source": [
    "ser[:,'a']"
   ]
  },
  {
   "cell_type": "code",
   "execution_count": 51,
   "metadata": {
    "collapsed": true
   },
   "outputs": [],
   "source": [
    "dframe = ser.unstack()"
   ]
  },
  {
   "cell_type": "code",
   "execution_count": 52,
   "metadata": {
    "collapsed": false
   },
   "outputs": [
    {
     "data": {
      "text/html": [
       "<div>\n",
       "<table border=\"1\" class=\"dataframe\">\n",
       "  <thead>\n",
       "    <tr style=\"text-align: right;\">\n",
       "      <th></th>\n",
       "      <th>a</th>\n",
       "      <th>b</th>\n",
       "      <th>c</th>\n",
       "    </tr>\n",
       "  </thead>\n",
       "  <tbody>\n",
       "    <tr>\n",
       "      <th>1</th>\n",
       "      <td>1.229478</td>\n",
       "      <td>-0.929842</td>\n",
       "      <td>-0.732581</td>\n",
       "    </tr>\n",
       "    <tr>\n",
       "      <th>2</th>\n",
       "      <td>-0.077759</td>\n",
       "      <td>-0.207379</td>\n",
       "      <td>-0.167745</td>\n",
       "    </tr>\n",
       "  </tbody>\n",
       "</table>\n",
       "</div>"
      ],
      "text/plain": [
       "          a         b         c\n",
       "1  1.229478 -0.929842 -0.732581\n",
       "2 -0.077759 -0.207379 -0.167745"
      ]
     },
     "execution_count": 52,
     "metadata": {},
     "output_type": "execute_result"
    }
   ],
   "source": [
    "dframe"
   ]
  },
  {
   "cell_type": "code",
   "execution_count": 54,
   "metadata": {
    "collapsed": false
   },
   "outputs": [],
   "source": [
    "dframe2 = DataFrame(np.arange(16).reshape(4,4), index=[['a','a','b','b'],[1,2,1,2]],\n",
    "                   columns=[['NY', 'NY', 'LA', 'SF'],['cold','hot','hot','cold']])"
   ]
  },
  {
   "cell_type": "code",
   "execution_count": 55,
   "metadata": {
    "collapsed": false
   },
   "outputs": [
    {
     "data": {
      "text/html": [
       "<div>\n",
       "<table border=\"1\" class=\"dataframe\">\n",
       "  <thead>\n",
       "    <tr>\n",
       "      <th></th>\n",
       "      <th></th>\n",
       "      <th colspan=\"2\" halign=\"left\">NY</th>\n",
       "      <th>LA</th>\n",
       "      <th>SF</th>\n",
       "    </tr>\n",
       "    <tr>\n",
       "      <th></th>\n",
       "      <th></th>\n",
       "      <th>cold</th>\n",
       "      <th>hot</th>\n",
       "      <th>hot</th>\n",
       "      <th>cold</th>\n",
       "    </tr>\n",
       "  </thead>\n",
       "  <tbody>\n",
       "    <tr>\n",
       "      <th rowspan=\"2\" valign=\"top\">a</th>\n",
       "      <th>1</th>\n",
       "      <td>0</td>\n",
       "      <td>1</td>\n",
       "      <td>2</td>\n",
       "      <td>3</td>\n",
       "    </tr>\n",
       "    <tr>\n",
       "      <th>2</th>\n",
       "      <td>4</td>\n",
       "      <td>5</td>\n",
       "      <td>6</td>\n",
       "      <td>7</td>\n",
       "    </tr>\n",
       "    <tr>\n",
       "      <th rowspan=\"2\" valign=\"top\">b</th>\n",
       "      <th>1</th>\n",
       "      <td>8</td>\n",
       "      <td>9</td>\n",
       "      <td>10</td>\n",
       "      <td>11</td>\n",
       "    </tr>\n",
       "    <tr>\n",
       "      <th>2</th>\n",
       "      <td>12</td>\n",
       "      <td>13</td>\n",
       "      <td>14</td>\n",
       "      <td>15</td>\n",
       "    </tr>\n",
       "  </tbody>\n",
       "</table>\n",
       "</div>"
      ],
      "text/plain": [
       "      NY      LA   SF\n",
       "    cold hot hot cold\n",
       "a 1    0   1   2    3\n",
       "  2    4   5   6    7\n",
       "b 1    8   9  10   11\n",
       "  2   12  13  14   15"
      ]
     },
     "execution_count": 55,
     "metadata": {},
     "output_type": "execute_result"
    }
   ],
   "source": [
    "dframe2"
   ]
  },
  {
   "cell_type": "code",
   "execution_count": 56,
   "metadata": {
    "collapsed": true
   },
   "outputs": [],
   "source": [
    "dframe2.index.names = ['INDEX_1','INDEX_2']"
   ]
  },
  {
   "cell_type": "code",
   "execution_count": 57,
   "metadata": {
    "collapsed": false
   },
   "outputs": [
    {
     "data": {
      "text/html": [
       "<div>\n",
       "<table border=\"1\" class=\"dataframe\">\n",
       "  <thead>\n",
       "    <tr>\n",
       "      <th></th>\n",
       "      <th>Cities</th>\n",
       "      <th colspan=\"2\" halign=\"left\">NY</th>\n",
       "      <th>LA</th>\n",
       "      <th>SF</th>\n",
       "    </tr>\n",
       "    <tr>\n",
       "      <th></th>\n",
       "      <th>Temp</th>\n",
       "      <th>cold</th>\n",
       "      <th>hot</th>\n",
       "      <th>hot</th>\n",
       "      <th>cold</th>\n",
       "    </tr>\n",
       "    <tr>\n",
       "      <th>INDEX_1</th>\n",
       "      <th>INDEX_2</th>\n",
       "      <th></th>\n",
       "      <th></th>\n",
       "      <th></th>\n",
       "      <th></th>\n",
       "    </tr>\n",
       "  </thead>\n",
       "  <tbody>\n",
       "    <tr>\n",
       "      <th rowspan=\"2\" valign=\"top\">a</th>\n",
       "      <th>1</th>\n",
       "      <td>0</td>\n",
       "      <td>1</td>\n",
       "      <td>2</td>\n",
       "      <td>3</td>\n",
       "    </tr>\n",
       "    <tr>\n",
       "      <th>2</th>\n",
       "      <td>4</td>\n",
       "      <td>5</td>\n",
       "      <td>6</td>\n",
       "      <td>7</td>\n",
       "    </tr>\n",
       "    <tr>\n",
       "      <th rowspan=\"2\" valign=\"top\">b</th>\n",
       "      <th>1</th>\n",
       "      <td>8</td>\n",
       "      <td>9</td>\n",
       "      <td>10</td>\n",
       "      <td>11</td>\n",
       "    </tr>\n",
       "    <tr>\n",
       "      <th>2</th>\n",
       "      <td>12</td>\n",
       "      <td>13</td>\n",
       "      <td>14</td>\n",
       "      <td>15</td>\n",
       "    </tr>\n",
       "  </tbody>\n",
       "</table>\n",
       "</div>"
      ],
      "text/plain": [
       "Cities            NY      LA   SF\n",
       "Temp            cold hot hot cold\n",
       "INDEX_1 INDEX_2                  \n",
       "a       1          0   1   2    3\n",
       "        2          4   5   6    7\n",
       "b       1          8   9  10   11\n",
       "        2         12  13  14   15"
      ]
     },
     "execution_count": 57,
     "metadata": {},
     "output_type": "execute_result"
    }
   ],
   "source": [
    "dframe2.columns.names = ['Cities','Temp']\n",
    "dframe2"
   ]
  },
  {
   "cell_type": "code",
   "execution_count": 58,
   "metadata": {
    "collapsed": false
   },
   "outputs": [
    {
     "data": {
      "text/html": [
       "<div>\n",
       "<table border=\"1\" class=\"dataframe\">\n",
       "  <thead>\n",
       "    <tr>\n",
       "      <th></th>\n",
       "      <th>Temp</th>\n",
       "      <th>cold</th>\n",
       "      <th colspan=\"2\" halign=\"left\">hot</th>\n",
       "      <th>cold</th>\n",
       "    </tr>\n",
       "    <tr>\n",
       "      <th></th>\n",
       "      <th>Cities</th>\n",
       "      <th>NY</th>\n",
       "      <th>NY</th>\n",
       "      <th>LA</th>\n",
       "      <th>SF</th>\n",
       "    </tr>\n",
       "    <tr>\n",
       "      <th>INDEX_1</th>\n",
       "      <th>INDEX_2</th>\n",
       "      <th></th>\n",
       "      <th></th>\n",
       "      <th></th>\n",
       "      <th></th>\n",
       "    </tr>\n",
       "  </thead>\n",
       "  <tbody>\n",
       "    <tr>\n",
       "      <th rowspan=\"2\" valign=\"top\">a</th>\n",
       "      <th>1</th>\n",
       "      <td>0</td>\n",
       "      <td>1</td>\n",
       "      <td>2</td>\n",
       "      <td>3</td>\n",
       "    </tr>\n",
       "    <tr>\n",
       "      <th>2</th>\n",
       "      <td>4</td>\n",
       "      <td>5</td>\n",
       "      <td>6</td>\n",
       "      <td>7</td>\n",
       "    </tr>\n",
       "    <tr>\n",
       "      <th rowspan=\"2\" valign=\"top\">b</th>\n",
       "      <th>1</th>\n",
       "      <td>8</td>\n",
       "      <td>9</td>\n",
       "      <td>10</td>\n",
       "      <td>11</td>\n",
       "    </tr>\n",
       "    <tr>\n",
       "      <th>2</th>\n",
       "      <td>12</td>\n",
       "      <td>13</td>\n",
       "      <td>14</td>\n",
       "      <td>15</td>\n",
       "    </tr>\n",
       "  </tbody>\n",
       "</table>\n",
       "</div>"
      ],
      "text/plain": [
       "Temp            cold hot     cold\n",
       "Cities            NY  NY  LA   SF\n",
       "INDEX_1 INDEX_2                  \n",
       "a       1          0   1   2    3\n",
       "        2          4   5   6    7\n",
       "b       1          8   9  10   11\n",
       "        2         12  13  14   15"
      ]
     },
     "execution_count": 58,
     "metadata": {},
     "output_type": "execute_result"
    }
   ],
   "source": [
    "dframe2.swaplevel('Cities','Temp',axis=1)"
   ]
  },
  {
   "cell_type": "code",
   "execution_count": 59,
   "metadata": {
    "collapsed": false
   },
   "outputs": [
    {
     "data": {
      "text/html": [
       "<div>\n",
       "<table border=\"1\" class=\"dataframe\">\n",
       "  <thead>\n",
       "    <tr>\n",
       "      <th></th>\n",
       "      <th>Cities</th>\n",
       "      <th colspan=\"2\" halign=\"left\">NY</th>\n",
       "      <th>LA</th>\n",
       "      <th>SF</th>\n",
       "    </tr>\n",
       "    <tr>\n",
       "      <th></th>\n",
       "      <th>Temp</th>\n",
       "      <th>cold</th>\n",
       "      <th>hot</th>\n",
       "      <th>hot</th>\n",
       "      <th>cold</th>\n",
       "    </tr>\n",
       "    <tr>\n",
       "      <th>INDEX_1</th>\n",
       "      <th>INDEX_2</th>\n",
       "      <th></th>\n",
       "      <th></th>\n",
       "      <th></th>\n",
       "      <th></th>\n",
       "    </tr>\n",
       "  </thead>\n",
       "  <tbody>\n",
       "    <tr>\n",
       "      <th>a</th>\n",
       "      <th>1</th>\n",
       "      <td>0</td>\n",
       "      <td>1</td>\n",
       "      <td>2</td>\n",
       "      <td>3</td>\n",
       "    </tr>\n",
       "    <tr>\n",
       "      <th>b</th>\n",
       "      <th>1</th>\n",
       "      <td>8</td>\n",
       "      <td>9</td>\n",
       "      <td>10</td>\n",
       "      <td>11</td>\n",
       "    </tr>\n",
       "    <tr>\n",
       "      <th>a</th>\n",
       "      <th>2</th>\n",
       "      <td>4</td>\n",
       "      <td>5</td>\n",
       "      <td>6</td>\n",
       "      <td>7</td>\n",
       "    </tr>\n",
       "    <tr>\n",
       "      <th>b</th>\n",
       "      <th>2</th>\n",
       "      <td>12</td>\n",
       "      <td>13</td>\n",
       "      <td>14</td>\n",
       "      <td>15</td>\n",
       "    </tr>\n",
       "  </tbody>\n",
       "</table>\n",
       "</div>"
      ],
      "text/plain": [
       "Cities            NY      LA   SF\n",
       "Temp            cold hot hot cold\n",
       "INDEX_1 INDEX_2                  \n",
       "a       1          0   1   2    3\n",
       "b       1          8   9  10   11\n",
       "a       2          4   5   6    7\n",
       "b       2         12  13  14   15"
      ]
     },
     "execution_count": 59,
     "metadata": {},
     "output_type": "execute_result"
    }
   ],
   "source": [
    "dframe2.sortlevel(1)"
   ]
  },
  {
   "cell_type": "code",
   "execution_count": 60,
   "metadata": {
    "collapsed": false
   },
   "outputs": [
    {
     "data": {
      "text/html": [
       "<div>\n",
       "<table border=\"1\" class=\"dataframe\">\n",
       "  <thead>\n",
       "    <tr style=\"text-align: right;\">\n",
       "      <th></th>\n",
       "      <th>Temp</th>\n",
       "      <th>cold</th>\n",
       "      <th>hot</th>\n",
       "    </tr>\n",
       "    <tr>\n",
       "      <th>INDEX_1</th>\n",
       "      <th>INDEX_2</th>\n",
       "      <th></th>\n",
       "      <th></th>\n",
       "    </tr>\n",
       "  </thead>\n",
       "  <tbody>\n",
       "    <tr>\n",
       "      <th rowspan=\"2\" valign=\"top\">a</th>\n",
       "      <th>1</th>\n",
       "      <td>3</td>\n",
       "      <td>3</td>\n",
       "    </tr>\n",
       "    <tr>\n",
       "      <th>2</th>\n",
       "      <td>11</td>\n",
       "      <td>11</td>\n",
       "    </tr>\n",
       "    <tr>\n",
       "      <th rowspan=\"2\" valign=\"top\">b</th>\n",
       "      <th>1</th>\n",
       "      <td>19</td>\n",
       "      <td>19</td>\n",
       "    </tr>\n",
       "    <tr>\n",
       "      <th>2</th>\n",
       "      <td>27</td>\n",
       "      <td>27</td>\n",
       "    </tr>\n",
       "  </tbody>\n",
       "</table>\n",
       "</div>"
      ],
      "text/plain": [
       "Temp             cold  hot\n",
       "INDEX_1 INDEX_2           \n",
       "a       1           3    3\n",
       "        2          11   11\n",
       "b       1          19   19\n",
       "        2          27   27"
      ]
     },
     "execution_count": 60,
     "metadata": {},
     "output_type": "execute_result"
    }
   ],
   "source": [
    "dframe2.sum(level='Temp',axis=1)"
   ]
  },
  {
   "cell_type": "code",
   "execution_count": null,
   "metadata": {
    "collapsed": true
   },
   "outputs": [],
   "source": []
  }
 ],
 "metadata": {
  "kernelspec": {
   "display_name": "Python 3",
   "language": "python",
   "name": "python3"
  },
  "language_info": {
   "codemirror_mode": {
    "name": "ipython",
    "version": 3
   },
   "file_extension": ".py",
   "mimetype": "text/x-python",
   "name": "python",
   "nbconvert_exporter": "python",
   "pygments_lexer": "ipython3",
   "version": "3.6.0"
  }
 },
 "nbformat": 4,
 "nbformat_minor": 0
}
