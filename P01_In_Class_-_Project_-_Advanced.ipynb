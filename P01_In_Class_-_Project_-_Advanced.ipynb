{
 "cells": [
  {
   "cell_type": "code",
   "execution_count": 54,
   "metadata": {
    "collapsed": true
   },
   "outputs": [],
   "source": [
    "# bank.py\n",
    "# Bank class\n",
    "\n",
    "class Bank:\n",
    "    def __init__(self, name, balance):\n",
    "        self.name = name\n",
    "        self.balance = balance"
   ]
  },
  {
   "cell_type": "code",
   "execution_count": 55,
   "metadata": {},
   "outputs": [
    {
     "name": "stdout",
     "output_type": "stream",
     "text": [
      "Hankook\n",
      "100\n"
     ]
    }
   ],
   "source": [
    "# app.py\n",
    "# for menu\n",
    "# from bank import Bank\n",
    "\n",
    "my_bank = Bank('Hankook', 100)\n",
    "print(my_bank.name)\n",
    "print(my_bank.balance)"
   ]
  },
  {
   "cell_type": "code",
   "execution_count": 56,
   "metadata": {
    "collapsed": true
   },
   "outputs": [],
   "source": [
    "# user.py\n",
    "# User Class\n",
    "\n",
    "class User:\n",
    "    def __init__(self, name):\n",
    "        self.name = name\n",
    "        self.banks = [] # empty banks list with a variable 'banks'"
   ]
  },
  {
   "cell_type": "code",
   "execution_count": 57,
   "metadata": {},
   "outputs": [
    {
     "name": "stdout",
     "output_type": "stream",
     "text": [
      "<__main__.User object at 0x104136240>\n"
     ]
    }
   ],
   "source": [
    "# app.py\n",
    "# from bank import Bank\n",
    "# from user import User\n",
    "\n",
    "user = User('Jason')\n",
    "my_bank = Bank('Hankook', 100)\n",
    "\n",
    "print(user)"
   ]
  },
  {
   "cell_type": "code",
   "execution_count": 58,
   "metadata": {},
   "outputs": [],
   "source": [
    "# user.py\n",
    "# User Class\n",
    "\n",
    "class User:\n",
    "    def __init__(self, name):\n",
    "        self.name = name\n",
    "        self.banks = [] # empty banks list with a variable 'banks'\n",
    "    def __repr__(self):\n",
    "        return \"<User {}>\".format(self.name)"
   ]
  },
  {
   "cell_type": "code",
   "execution_count": 59,
   "metadata": {},
   "outputs": [
    {
     "name": "stdout",
     "output_type": "stream",
     "text": [
      "<User Jason>\n"
     ]
    }
   ],
   "source": [
    "# app.py\n",
    "# from bank import Bank\n",
    "# from user import User\n",
    "\n",
    "user = User('Jason')\n",
    "my_bank = Bank('Hankook', 100)\n",
    "\n",
    "print(user)"
   ]
  },
  {
   "cell_type": "code",
   "execution_count": 60,
   "metadata": {},
   "outputs": [
    {
     "name": "stdout",
     "output_type": "stream",
     "text": [
      "<User Jason>\n",
      "[<__main__.Bank object at 0x10412efd0>]\n"
     ]
    }
   ],
   "source": [
    "# app.py\n",
    "# from bank import Bank\n",
    "# from user import User\n",
    "\n",
    "user = User('Jason')\n",
    "my_bank = Bank('Hankook', 100)\n",
    "\n",
    "# append banks list with user instance\n",
    "user.banks.append(my_bank)\n",
    "\n",
    "print(user)\n",
    "print(user.banks)"
   ]
  },
  {
   "cell_type": "code",
   "execution_count": 66,
   "metadata": {
    "collapsed": true
   },
   "outputs": [],
   "source": [
    "# bank.py\n",
    "# Bank class\n",
    "\n",
    "class Bank:\n",
    "    def __init__(self, name, balance, active): # active is boolean type\n",
    "        self.name = name\n",
    "        self.balance = balance\n",
    "        self.active = active\n",
    "        \n",
    "    def __repr__(self):\n",
    "        return \"<Banks {}, Balance {}>\".format(self.name, self.balance)"
   ]
  },
  {
   "cell_type": "code",
   "execution_count": 67,
   "metadata": {},
   "outputs": [
    {
     "name": "stdout",
     "output_type": "stream",
     "text": [
      "<User Jason>\n",
      "[<Banks Hankook, Balance 100>]\n"
     ]
    }
   ],
   "source": [
    "# app.py\n",
    "# from bank import Bank\n",
    "# from user import User\n",
    "\n",
    "user = User('Jason')\n",
    "my_bank = Bank('Hankook', 100, True) \n",
    "\n",
    "# append banks list with user instance\n",
    "user.banks.append(my_bank)\n",
    "\n",
    "print(user)\n",
    "print(user.banks)"
   ]
  },
  {
   "cell_type": "code",
   "execution_count": 68,
   "metadata": {
    "collapsed": true
   },
   "outputs": [],
   "source": [
    "# user.py\n",
    "# User Class\n",
    "\n",
    "class User:\n",
    "    def __init__(self, name):\n",
    "        self.name = name\n",
    "        self.banks = [] # empty banks list with a variable 'banks'\n",
    "    \n",
    "    def __repr__(self):\n",
    "        return \"<User {}>\".format(self.name)\n",
    "    \n",
    "    def active_banks(self):\n",
    "        active_banks_list = []\n",
    "        \n",
    "        for bank in self.banks:\n",
    "            if bank.active:\n",
    "                active_banks_list.append(bank)\n",
    "            \n",
    "        return active_banks_list"
   ]
  },
  {
   "cell_type": "code",
   "execution_count": 69,
   "metadata": {},
   "outputs": [
    {
     "name": "stdout",
     "output_type": "stream",
     "text": [
      "[]\n"
     ]
    }
   ],
   "source": [
    "# app.py\n",
    "# from bank import Bank\n",
    "# from user import User\n",
    "\n",
    "user = User('Jason')\n",
    "my_bank = Bank('Hankook', 100, False)\n",
    "\n",
    "# append banks list with user instance\n",
    "user.banks.append(my_bank)\n",
    "\n",
    "# print(user)\n",
    "# print(user.banks)\n",
    "print(user.active_banks())"
   ]
  },
  {
   "cell_type": "code",
   "execution_count": 70,
   "metadata": {},
   "outputs": [
    {
     "name": "stdout",
     "output_type": "stream",
     "text": [
      "[<Banks Hankook, Balance 100>]\n"
     ]
    }
   ],
   "source": [
    "# app.py\n",
    "# from bank import Bank\n",
    "# from user import User\n",
    "\n",
    "user = User('Jason')\n",
    "my_bank = Bank('Hankook', 100, True)\n",
    "\n",
    "# append banks list with user instance\n",
    "user.banks.append(my_bank)\n",
    "\n",
    "# print(user)\n",
    "# print(user.banks)\n",
    "print(user.active_banks())"
   ]
  },
  {
   "cell_type": "code",
   "execution_count": 71,
   "metadata": {
    "collapsed": true
   },
   "outputs": [],
   "source": [
    "# user.py\n",
    "# User Class\n",
    "\n",
    "class User:\n",
    "    def __init__(self, name):\n",
    "        self.name = name\n",
    "        self.banks = [] # empty banks list with a variable 'banks'\n",
    "    \n",
    "    def __repr__(self):\n",
    "        return \"<User {}>\".format(self.name)\n",
    "    \n",
    "    def active_banks(self):\n",
    "        return list(filter(lambda bank : bank.active, self.banks))"
   ]
  },
  {
   "cell_type": "code",
   "execution_count": 72,
   "metadata": {},
   "outputs": [
    {
     "name": "stdout",
     "output_type": "stream",
     "text": [
      "[<Banks Hankook, Balance 100>]\n"
     ]
    }
   ],
   "source": [
    "# app.py\n",
    "# from bank import Bank\n",
    "# from user import User\n",
    "\n",
    "user = User('Jason')\n",
    "my_bank = Bank('Hankook', 100, True)\n",
    "\n",
    "# append banks list with user instance\n",
    "user.banks.append(my_bank)\n",
    "\n",
    "# print(user)\n",
    "# print(user.banks)\n",
    "print(user.active_banks())"
   ]
  },
  {
   "cell_type": "code",
   "execution_count": 126,
   "metadata": {
    "collapsed": true
   },
   "outputs": [],
   "source": [
    "# user.py\n",
    "# User Class\n",
    "\n",
    "class User:\n",
    "    def __init__(self, name):\n",
    "        self.name = name\n",
    "        self.banks = [] # empty banks list with a variable 'banks'\n",
    "    \n",
    "    def __repr__(self):\n",
    "        return \"<User {}>\".format(self.name)\n",
    "    \n",
    "    def active_banks(self):\n",
    "        return list(filter(lambda bank : bank.active, self.banks))\n",
    "    \n",
    "    def add_bank(self, name, balance):\n",
    "        bank = Bank(name, balance, True)\n",
    "        self.banks.append(bank)\n",
    "        \n",
    "    def delete_bank(self, name):\n",
    "        self.banks = list(filter(lambda bank : bank.name != name , self.banks))\n",
    "        \n",
    "    def show_balance(self):\n",
    "        for bank in self.banks:\n",
    "            print(\"{} has {} balance\\n\".format(bank.name, bank.balance))"
   ]
  },
  {
   "cell_type": "code",
   "execution_count": 85,
   "metadata": {},
   "outputs": [
    {
     "name": "stdout",
     "output_type": "stream",
     "text": [
      "Hankook has 100 balance\n",
      "\n",
      "None\n"
     ]
    }
   ],
   "source": [
    "# app.py\n",
    "# from bank import Bank\n",
    "# from user import User\n",
    "\n",
    "user = User('Jason')\n",
    "my_bank = Bank('Hankook', 100, True)\n",
    "\n",
    "# append banks list with user instance\n",
    "user.banks.append(my_bank)\n",
    "print(user.show_balance())"
   ]
  },
  {
   "cell_type": "code",
   "execution_count": 125,
   "metadata": {
    "collapsed": true
   },
   "outputs": [],
   "source": [
    "# user.py\n",
    "# User Class\n",
    "\n",
    "class User:\n",
    "    def __init__(self, name):\n",
    "        self.name = name\n",
    "        self.banks = [] # empty banks list with a variable 'banks'\n",
    "    \n",
    "    def __repr__(self):\n",
    "        return \"<User {}>\".format(self.name)\n",
    "    \n",
    "    def active_banks(self):\n",
    "        return list(filter(lambda bank : bank.active, self.banks))\n",
    "    \n",
    "    def add_bank(self, name, balance):\n",
    "        bank = Bank(name, balance, True)\n",
    "        self.banks.append(bank)\n",
    "        \n",
    "    def delete_bank(self, name):\n",
    "        self.banks = list(filter(lambda bank : bank.name != name , self.banks))\n",
    "        \n",
    "    def show_balance(self):\n",
    "        for bank in self.banks:\n",
    "            print(\"{} has {} balance\".format(bank.name, bank.balance))\n",
    "    \n",
    "    def deposite(self, name, amount):\n",
    "        if amount <= 0:\n",
    "            print(\"It shouldn't be allowed to deposit less than or equal to zero\")\n",
    "            return\n",
    "        else:\n",
    "            for bank in self.banks:\n",
    "                if bank.name == name:\n",
    "                    bank.balance += amount\n",
    "            self.show_balance()\n",
    "            \n",
    "    def withdraw(self, name, amount):\n",
    "        for bank in self.banks:\n",
    "            if bank.name == name:\n",
    "                if amount > bank.balance:\n",
    "                    print(\"It shouldn't be greater than the balance\")\n",
    "                    return\n",
    "                else:\n",
    "                    bank.balance -= amount\n",
    "                    self.show_balance()"
   ]
  },
  {
   "cell_type": "code",
   "execution_count": 91,
   "metadata": {},
   "outputs": [
    {
     "name": "stdout",
     "output_type": "stream",
     "text": [
      "Hankook has 100 balance\n",
      "None\n",
      "Hankook has 300 balance\n",
      "Hankook has 200 balance\n"
     ]
    }
   ],
   "source": [
    "# app.py\n",
    "# from bank import Bank\n",
    "# from user import User\n",
    "\n",
    "user = User('Jason')\n",
    "my_bank = Bank('Hankook', 100, True)\n",
    "\n",
    "# append banks list with user instance\n",
    "user.banks.append(my_bank)\n",
    "print(user.show_balance())\n",
    "user.deposite('Hankook', 200)\n",
    "user.withdraw('Hankook', 100)"
   ]
  },
  {
   "cell_type": "code",
   "execution_count": 92,
   "metadata": {},
   "outputs": [
    {
     "name": "stdout",
     "output_type": "stream",
     "text": [
      "Kookmin has 500 balance\n",
      "HanKook has 300 balance\n",
      "None\n"
     ]
    }
   ],
   "source": [
    "# app.py\n",
    "# from bank import Bank\n",
    "# from user import User\n",
    "user = User('Jason')\n",
    "user.add_bank('Kookmin', 500)\n",
    "user.add_bank('HanKook', 300)\n",
    "\n",
    "# append banks list with user instance\n",
    "print(user.show_balance())"
   ]
  },
  {
   "cell_type": "code",
   "execution_count": 124,
   "metadata": {},
   "outputs": [],
   "source": [
    "# user.py\n",
    "# User Class\n",
    "\n",
    "class User:\n",
    "    def __init__(self, name):\n",
    "        self.name = name\n",
    "        self.banks = [] # empty banks list with a variable 'banks'\n",
    "    \n",
    "    def __repr__(self):\n",
    "        return \"<User {}>\".format(self.name)\n",
    "    \n",
    "    def active_banks(self):\n",
    "        return list(filter(lambda bank : bank.active, self.banks))\n",
    "    \n",
    "    def add_bank(self, name, balance):\n",
    "        bank = Bank(name, balance, True)\n",
    "        self.banks.append(bank)\n",
    "        \n",
    "    def delete_bank(self, name):\n",
    "        self.banks = list(filter(lambda bank : bank.name != name , self.banks))\n",
    "        \n",
    "    def show_balance(self):\n",
    "        for bank in self.banks:\n",
    "            print(\"{} has {} balance\".format(bank.name, bank.balance))\n",
    "    \n",
    "    def deposite(self, name, amount):\n",
    "        if amount <= 0:\n",
    "            print(\"It shouldn't be allowed to deposit less than or equal to zero\")\n",
    "            return\n",
    "        else:\n",
    "            for bank in self.banks:\n",
    "                if bank.name == name:\n",
    "                    bank.balance += amount\n",
    "            self.show_balance()\n",
    "            \n",
    "    def withdraw(self, name, amount):\n",
    "        for bank in self.banks:\n",
    "            if bank.name == name:\n",
    "                if amount > bank.balance:\n",
    "                    print(\"It shouldn't be greater than the balance\")\n",
    "                    return\n",
    "                else:\n",
    "                    bank.balance -= amount\n",
    "                    self.show_balance()\n",
    "                    \n",
    "    def save_to_file(self):\n",
    "        with open(\"{}.txt\".format(self.name), 'w') as f:\n",
    "            f.write(self.name + \"\\n\")\n",
    "            for bank in self.banks:\n",
    "                f.write(\"{}, {}, {}\\n\".format(bank.name, bank.balance, str(bank.active)))"
   ]
  },
  {
   "cell_type": "code",
   "execution_count": 98,
   "metadata": {
    "collapsed": true
   },
   "outputs": [],
   "source": [
    "# app.py\n",
    "# from bank import Bank\n",
    "# from user import User\n",
    "user = User('Jason')\n",
    "user.add_bank('Kookmin', 500)\n",
    "user.add_bank('HanKook', 300)\n",
    "\n",
    "# append banks list with user instance\n",
    "# print(user.show_balance())\n",
    "\n",
    "user.save_to_file()"
   ]
  },
  {
   "cell_type": "code",
   "execution_count": 123,
   "metadata": {
    "collapsed": true
   },
   "outputs": [],
   "source": [
    "# user.py\n",
    "# User Class\n",
    "\n",
    "class User:\n",
    "    def __init__(self, name):\n",
    "        self.name = name\n",
    "        self.banks = [] # empty banks list with a variable 'banks'\n",
    "    \n",
    "    def __repr__(self):\n",
    "        return \"<User {}>\".format(self.name)\n",
    "    \n",
    "    def active_banks(self):\n",
    "        return list(filter(lambda bank : bank.active, self.banks))\n",
    "    \n",
    "    def add_bank(self, name, balance):\n",
    "        bank = Bank(name, balance, True)\n",
    "        self.banks.append(bank)\n",
    "        \n",
    "    def delete_bank(self, name):\n",
    "        self.banks = list(filter(lambda bank : bank.name != name , self.banks))\n",
    "        \n",
    "    def show_balance(self):\n",
    "        for bank in self.banks:\n",
    "            print(\"{} has {} balance\".format(bank.name, bank.balance))\n",
    "    \n",
    "    def deposite(self, name, amount):\n",
    "        if amount <= 0:\n",
    "            print(\"It shouldn't be allowed to deposit less than or equal to zero\")\n",
    "            return\n",
    "        else:\n",
    "            for bank in self.banks:\n",
    "                if bank.name == name:\n",
    "                    bank.balance += amount\n",
    "            self.show_balance()\n",
    "            \n",
    "    def withdraw(self, name, amount):\n",
    "        for bank in self.banks:\n",
    "            if bank.name == name:\n",
    "                if amount > bank.balance:\n",
    "                    print(\"It shouldn't be greater than the balance\")\n",
    "                    return\n",
    "                else:\n",
    "                    bank.balance -= amount\n",
    "                    self.show_balance()\n",
    "                    \n",
    "    def save_to_file(self):\n",
    "        with open(\"{}.txt\".format(self.name), 'w') as f:\n",
    "            f.write(self.name + \"\\n\")\n",
    "            for bank in self.banks:\n",
    "                f.write(\"{}, {}, {}\\n\".format(bank.name, bank.balance, str(bank.active)))\n",
    "                \n",
    "    def load_from_file(self, filename):\n",
    "        with open(filename, 'r') as f:\n",
    "            content = f.readlines()\n",
    "            username = content[0]\n",
    "            banks = []\n",
    "            \n",
    "            for line in content[1:]:\n",
    "                bank_data = line.split(',') #['name', balance, 'active']\n",
    "                banks.append(Bank(bank_data[0], bank_data[1], bank_data[2] == 'True'))\n",
    "            \n",
    "            user = User(username)\n",
    "            user.banks = banks\n",
    "            \n",
    "            return user"
   ]
  },
  {
   "cell_type": "code",
   "execution_count": 100,
   "metadata": {},
   "outputs": [
    {
     "name": "stdout",
     "output_type": "stream",
     "text": [
      "Jason\n",
      "\n",
      "[<Banks Kookmin, Balance  500>, <Banks HanKook, Balance  300>]\n"
     ]
    }
   ],
   "source": [
    "# app.py\n",
    "# from bank import Bank\n",
    "# from user import User\n",
    "user = User('Jason')\n",
    "#user.add_bank('Kookmin', 500)\n",
    "#user.add_bank('HanKook', 300)\n",
    "\n",
    "# append banks list with user instance\n",
    "# print(user.show_balance())\n",
    "\n",
    "#user.save_to_file()\n",
    "user = user.load_from_file(\"Jason.txt\")\n",
    "print(user.name)\n",
    "print(user.banks)"
   ]
  },
  {
   "cell_type": "code",
   "execution_count": 122,
   "metadata": {
    "collapsed": true
   },
   "outputs": [],
   "source": [
    "# user.py\n",
    "# User Class\n",
    "\n",
    "class User:\n",
    "    def __init__(self, name):\n",
    "        self.name = name\n",
    "        self.banks = [] # empty banks list with a variable 'banks'\n",
    "    \n",
    "    def __repr__(self):\n",
    "        return \"<User {}>\".format(self.name)\n",
    "    \n",
    "    def active_banks(self):\n",
    "        return list(filter(lambda bank : bank.active, self.banks))\n",
    "    \n",
    "    def add_bank(self, name, balance):\n",
    "        bank = Bank(name, balance, True)\n",
    "        self.banks.append(bank)\n",
    "        \n",
    "    def delete_bank(self, name):\n",
    "        self.banks = list(filter(lambda bank : bank.name != name , self.banks))\n",
    "        \n",
    "    def show_balance(self):\n",
    "        for bank in self.banks:\n",
    "            print(\"{} has {} balance\".format(bank.name, bank.balance))\n",
    "    \n",
    "    def deposite(self, name, amount):\n",
    "        if amount <= 0:\n",
    "            print(\"It shouldn't be allowed to deposit less than or equal to zero\")\n",
    "            return\n",
    "        else:\n",
    "            for bank in self.banks:\n",
    "                if bank.name == name:\n",
    "                    bank.balance += amount\n",
    "            self.show_balance()\n",
    "            \n",
    "    def withdraw(self, name, amount):\n",
    "        for bank in self.banks:\n",
    "            if bank.name == name:\n",
    "                if amount > bank.balance:\n",
    "                    print(\"It shouldn't be greater than the balance\")\n",
    "                    return\n",
    "                else:\n",
    "                    bank.balance -= amount\n",
    "                    self.show_balance()\n",
    "                    \n",
    "    def save_to_file(self):\n",
    "        with open(\"{}.txt\".format(self.name), 'w') as f:\n",
    "            f.write(self.name + \"\\n\")\n",
    "            for bank in self.banks:\n",
    "                f.write(\"{}, {}, {}\\n\".format(bank.name, bank.balance, str(bank.active)))\n",
    "    \n",
    "    @classmethod\n",
    "    def load_from_file(cls, filename):\n",
    "        with open(filename, 'r') as f:\n",
    "            content = f.readlines()\n",
    "            username = content[0]\n",
    "            banks = []\n",
    "            \n",
    "            for line in content[1:]:\n",
    "                bank_data = line.split(',') #['name', balance, 'active']\n",
    "                banks.append(Bank(bank_data[0], bank_data[1], bank_data[2] == 'True'))\n",
    "            \n",
    "            user = cls(username)\n",
    "            user.banks = banks\n",
    "            \n",
    "            return user"
   ]
  },
  {
   "cell_type": "code",
   "execution_count": 102,
   "metadata": {},
   "outputs": [
    {
     "name": "stdout",
     "output_type": "stream",
     "text": [
      "Jason\n",
      "\n",
      "[<Banks Kookmin, Balance  500>, <Banks HanKook, Balance  300>]\n"
     ]
    }
   ],
   "source": [
    "# app.py\n",
    "# from bank import Bank\n",
    "# from user import User\n",
    "\n",
    "# user = User('Jason')\n",
    "#user.add_bank('Kookmin', 500)\n",
    "#user.add_bank('HanKook', 300)\n",
    "\n",
    "# append banks list with user instance\n",
    "# print(user.show_balance())\n",
    "\n",
    "#user.save_to_file()\n",
    "user = User.load_from_file(\"Jason.txt\")\n",
    "print(user.name)\n",
    "print(user.banks)"
   ]
  },
  {
   "cell_type": "code",
   "execution_count": 103,
   "metadata": {
    "collapsed": true
   },
   "outputs": [],
   "source": [
    "# bank.py\n",
    "# Bank class\n",
    "\n",
    "class Bank:\n",
    "    def __init__(self, name, balance, active): # active is boolean type\n",
    "        self.name = name\n",
    "        self.balance = balance\n",
    "        self.active = active\n",
    "        \n",
    "    def __repr__(self):\n",
    "        return \"<Banks {}, Balance {}>\".format(self.name, self.balance)\n",
    "    \n",
    "    def json(self):\n",
    "        return {\n",
    "            'name': self.name,\n",
    "            'balance': self.balance,\n",
    "            'active': self.active\n",
    "        }"
   ]
  },
  {
   "cell_type": "code",
   "execution_count": 121,
   "metadata": {
    "collapsed": true
   },
   "outputs": [],
   "source": [
    "# user.py\n",
    "# User Class\n",
    "\n",
    "class User:\n",
    "    def __init__(self, name):\n",
    "        self.name = name\n",
    "        self.banks = [] # empty banks list with a variable 'banks'\n",
    "    \n",
    "    def __repr__(self):\n",
    "        return \"<User {}>\".format(self.name)\n",
    "    \n",
    "    def active_banks(self):\n",
    "        return list(filter(lambda bank : bank.active, self.banks))\n",
    "    \n",
    "    def add_bank(self, name, balance):\n",
    "        bank = Bank(name, balance, True)\n",
    "        self.banks.append(bank)\n",
    "        \n",
    "    def delete_bank(self, name):\n",
    "        self.banks = list(filter(lambda bank : bank.name != name , self.banks))\n",
    "        \n",
    "    def show_balance(self):\n",
    "        for bank in self.banks:\n",
    "            print(\"{} has {} balance\".format(bank.name, bank.balance))\n",
    "    \n",
    "    def deposite(self, name, amount):\n",
    "        if amount <= 0:\n",
    "            print(\"It shouldn't be allowed to deposit less than or equal to zero\")\n",
    "            return\n",
    "        else:\n",
    "            for bank in self.banks:\n",
    "                if bank.name == name:\n",
    "                    bank.balance += amount\n",
    "            self.show_balance()\n",
    "            \n",
    "    def withdraw(self, name, amount):\n",
    "        for bank in self.banks:\n",
    "            if bank.name == name:\n",
    "                if amount > bank.balance:\n",
    "                    print(\"It shouldn't be greater than the balance\")\n",
    "                    return\n",
    "                else:\n",
    "                    bank.balance -= amount\n",
    "                    self.show_balance()\n",
    "    \n",
    "    def json(self):\n",
    "        return {\n",
    "            'name': self.name,\n",
    "            'banks': [\n",
    "                bank.json() for bank in self.banks\n",
    "            ]\n",
    "        }"
   ]
  },
  {
   "cell_type": "code",
   "execution_count": 105,
   "metadata": {},
   "outputs": [
    {
     "name": "stdout",
     "output_type": "stream",
     "text": [
      "{'name': 'Jason', 'banks': [{'name': 'Kookmin', 'active': True, 'balance': 500}, {'name': 'HanKook', 'active': True, 'balance': 300}]}\n"
     ]
    }
   ],
   "source": [
    "# app.py\n",
    "# from bank import Bank\n",
    "# from user import User\n",
    "\n",
    "user = User('Jason')\n",
    "user.add_bank('Kookmin', 500)\n",
    "user.add_bank('HanKook', 300)\n",
    "\n",
    "print(user.json())"
   ]
  },
  {
   "cell_type": "code",
   "execution_count": 108,
   "metadata": {},
   "outputs": [],
   "source": [
    "# app.py\n",
    "# from bank import Bank\n",
    "# from user import User\n",
    "\n",
    "import json\n",
    "\n",
    "user = User('Jason')\n",
    "user.add_bank('Kookmin', 500)\n",
    "user.add_bank('HanKook', 300)\n",
    "\n",
    "with open('my_file.txt', 'w') as f:\n",
    "    json.dump(user.json(), f)"
   ]
  },
  {
   "cell_type": "code",
   "execution_count": 120,
   "metadata": {
    "collapsed": true
   },
   "outputs": [],
   "source": [
    "# user.py\n",
    "# User Class\n",
    "\n",
    "class User:\n",
    "    def __init__(self, name):\n",
    "        self.name = name\n",
    "        self.banks = [] # empty banks list with a variable 'banks'\n",
    "    \n",
    "    def __repr__(self):\n",
    "        return \"<User {}>\".format(self.name)\n",
    "    \n",
    "    def active_banks(self):\n",
    "        return list(filter(lambda bank : bank.active, self.banks))\n",
    "    \n",
    "    def add_bank(self, name, balance):\n",
    "        bank = Bank(name, balance, True)\n",
    "        self.banks.append(bank)\n",
    "        \n",
    "    def delete_bank(self, name):\n",
    "        self.banks = list(filter(lambda bank : bank.name != name , self.banks))\n",
    "        \n",
    "    def show_balance(self):\n",
    "        for bank in self.banks:\n",
    "            print(\"{} has {} balance\".format(bank.name, bank.balance))\n",
    "    \n",
    "    def deposite(self, name, amount):\n",
    "        if amount <= 0:\n",
    "            print(\"It shouldn't be allowed to deposit less than or equal to zero\")\n",
    "            return\n",
    "        else:\n",
    "            for bank in self.banks:\n",
    "                if bank.name == name:\n",
    "                    bank.balance += amount\n",
    "            self.show_balance()\n",
    "            \n",
    "    def withdraw(self, name, amount):\n",
    "        for bank in self.banks:\n",
    "            if bank.name == name:\n",
    "                if amount > bank.balance:\n",
    "                    print(\"It shouldn't be greater than the balance\")\n",
    "                    return\n",
    "                else:\n",
    "                    bank.balance -= amount\n",
    "                    self.show_balance()\n",
    "    \n",
    "    def json(self):\n",
    "        return {\n",
    "            'name': self.name,\n",
    "            'banks': [\n",
    "                bank.json() for bank in self.banks\n",
    "            ]\n",
    "        }\n",
    "    \n",
    "    @classmethod\n",
    "    def from_json(cls, json_data):\n",
    "        user = User(json_data['name'])\n",
    "        banks = []\n",
    "        \n",
    "        for bank in json_data['banks']:\n",
    "            banks.append(Bank(bank['name'], bank['balance'], bank['active']))\n",
    "            \n",
    "        user.banks = banks\n",
    "        return user"
   ]
  },
  {
   "cell_type": "code",
   "execution_count": 113,
   "metadata": {},
   "outputs": [
    {
     "name": "stdout",
     "output_type": "stream",
     "text": [
      "{'name': 'Jason', 'banks': [{'name': 'Kookmin', 'active': True, 'balance': 500}, {'name': 'HanKook', 'active': True, 'balance': 300}]}\n"
     ]
    }
   ],
   "source": [
    "# app.py (#13)\n",
    "# from movie import Movie\n",
    "# from user import User\n",
    "\n",
    "import json\n",
    "\n",
    "#print(user.json())\n",
    "with open('my_file.txt', 'r') as f:\n",
    "    json_data = json.load(f)\n",
    "    user = User.from_json(json_data)\n",
    "    print(user.json())"
   ]
  },
  {
   "cell_type": "code",
   "execution_count": 114,
   "metadata": {
    "collapsed": true
   },
   "outputs": [],
   "source": [
    "# bank.py\n",
    "# Bank class\n",
    "\n",
    "class Bank:\n",
    "    def __init__(self, name, balance, active): # active is boolean type\n",
    "        self.name = name\n",
    "        self.balance = balance\n",
    "        self.active = active\n",
    "        \n",
    "    def __repr__(self):\n",
    "        return \"<Banks {}, Balance {}>\".format(self.name, self.balance)\n",
    "    \n",
    "    def json(self):\n",
    "        return {\n",
    "            'name': self.name,\n",
    "            'balance': self.balance,\n",
    "            'active': self.active\n",
    "        }\n",
    "    \n",
    "    @classmethod\n",
    "    def from_json(cls, json_data):\n",
    "        return Bank(json_data['name'], json_data['balance'], json_data['active'])"
   ]
  },
  {
   "cell_type": "code",
   "execution_count": 119,
   "metadata": {
    "collapsed": true
   },
   "outputs": [],
   "source": [
    "# user.py\n",
    "# User Class\n",
    "\n",
    "class User:\n",
    "    def __init__(self, name):\n",
    "        self.name = name\n",
    "        self.banks = [] # empty banks list with a variable 'banks'\n",
    "    \n",
    "    def __repr__(self):\n",
    "        return \"<User {}>\".format(self.name)\n",
    "    \n",
    "    def active_banks(self):\n",
    "        return list(filter(lambda bank : bank.active, self.banks))\n",
    "    \n",
    "    def add_bank(self, name, balance):\n",
    "        bank = Bank(name, balance, True)\n",
    "        self.banks.append(bank)\n",
    "        \n",
    "    def delete_bank(self, name):\n",
    "        self.banks = list(filter(lambda bank : bank.name != name , self.banks))\n",
    "        \n",
    "    def show_balance(self):\n",
    "        for bank in self.banks:\n",
    "            print(\"{} has {} balance\".format(bank.name, bank.balance))\n",
    "    \n",
    "    def deposite(self, name, amount):\n",
    "        if amount <= 0:\n",
    "            print(\"It shouldn't be allowed to deposit less than or equal to zero\")\n",
    "            return\n",
    "        else:\n",
    "            for bank in self.banks:\n",
    "                if bank.name == name:\n",
    "                    bank.balance += amount\n",
    "            self.show_balance()\n",
    "            \n",
    "    def withdraw(self, name, amount):\n",
    "        for bank in self.banks:\n",
    "            if bank.name == name:\n",
    "                if amount > bank.balance:\n",
    "                    print(\"It shouldn't be greater than the balance\")\n",
    "                    return\n",
    "                else:\n",
    "                    bank.balance -= amount\n",
    "                    self.show_balance()\n",
    "    \n",
    "    def json(self):\n",
    "        return {\n",
    "            'name': self.name,\n",
    "            'banks': [\n",
    "                bank.json() for bank in self.banks\n",
    "            ]\n",
    "        }\n",
    "    \n",
    "    @classmethod\n",
    "    def from_json(cls, json_data):\n",
    "        user = User(json_data['name'])\n",
    "        banks = []\n",
    "        \n",
    "        for bank in json_data['banks']:\n",
    "            banks.append(Bank.from_json(bank))\n",
    "            \n",
    "        user.banks = banks\n",
    "        return user"
   ]
  },
  {
   "cell_type": "code",
   "execution_count": 116,
   "metadata": {
    "collapsed": true
   },
   "outputs": [],
   "source": [
    "# bank.py\n",
    "# Bank class\n",
    "\n",
    "class Bank:\n",
    "    def __init__(self, name, balance, active): # active is boolean type\n",
    "        self.name = name\n",
    "        self.balance = balance\n",
    "        self.active = active\n",
    "        \n",
    "    def __repr__(self):\n",
    "        return \"<Banks {}, Balance {}>\".format(self.name, self.balance)\n",
    "    \n",
    "    def json(self):\n",
    "        return {\n",
    "            'name': self.name,\n",
    "            'balance': self.balance,\n",
    "            'active': self.active\n",
    "        }\n",
    "    \n",
    "    @classmethod\n",
    "    def from_json(cls, json_data):\n",
    "        return Bank(**json_data)"
   ]
  },
  {
   "cell_type": "code",
   "execution_count": 129,
   "metadata": {
    "collapsed": true
   },
   "outputs": [],
   "source": [
    "# user.py\n",
    "# User Class\n",
    "\n",
    "class User:\n",
    "    def __init__(self, name):\n",
    "        self.name = name\n",
    "        self.banks = [] # empty banks list with a variable 'banks'\n",
    "    \n",
    "    def __repr__(self):\n",
    "        return \"<User {}>\".format(self.name)\n",
    "    \n",
    "    def active_banks(self):\n",
    "        return list(filter(lambda bank : bank.active, self.banks))\n",
    "    \n",
    "    def add_bank(self, name, balance):\n",
    "        bank = Bank(name, balance, True)\n",
    "        self.banks.append(bank)\n",
    "        \n",
    "    def delete_bank(self, name):\n",
    "        self.banks = list(filter(lambda bank : bank.name != name , self.banks))\n",
    "        \n",
    "    def show_balance(self):\n",
    "        for bank in self.banks:\n",
    "            print(\"{} has {} balance\".format(bank.name, bank.balance))\n",
    "    \n",
    "    def deposite(self, name, amount):\n",
    "        if amount <= 0:\n",
    "            print(\"It shouldn't be allowed to deposit less than or equal to zero\")\n",
    "            return\n",
    "        else:\n",
    "            for bank in self.banks:\n",
    "                if bank.name == name:\n",
    "                    bank.balance += amount\n",
    "            self.show_balance()\n",
    "            \n",
    "    def withdraw(self, name, amount):\n",
    "        for bank in self.banks:\n",
    "            if bank.name == name:\n",
    "                if amount > bank.balance:\n",
    "                    print(\"It shouldn't be greater than the balance\")\n",
    "                    return\n",
    "                else:\n",
    "                    bank.balance -= amount\n",
    "                    self.show_balance()\n",
    "    \n",
    "    def set_inactive(self, name):\n",
    "        for bank in self.banks:\n",
    "            if bank.name == name:\n",
    "                bank.active = False\n",
    "                \n",
    "    def json(self):\n",
    "        return {\n",
    "            'name': self.name,\n",
    "            'banks': [\n",
    "                bank.json() for bank in self.banks\n",
    "            ]\n",
    "        }\n",
    "    \n",
    "    @classmethod\n",
    "    def from_json(cls, json_data):\n",
    "        user = User(json_data['name'])\n",
    "        banks = []\n",
    "        \n",
    "        for bank_data in json_data['banks']:\n",
    "            banks.append(Bank.from_json(bank_data))\n",
    "            \n",
    "        user.banks = banks\n",
    "        return user"
   ]
  },
  {
   "cell_type": "code",
   "execution_count": 131,
   "metadata": {},
   "outputs": [
    {
     "name": "stdout",
     "output_type": "stream",
     "text": [
      "Enter your name: Jason\n",
      "Enter 'a' to add a bank, 's' to see the list of banks,'i' to set a bank as inactive, 'd' to delete a bank, 'l' to see the list of active bank,'w' to withdraw from a bank, 'p' to deposite to a bank,'f' to save to a file and 'q' to quita\n",
      "Enter the bank name: Hankook\n",
      "Enter the bank balance: 300\n",
      "Enter 'a' to add a bank, 's' to see the list of banks,'i' to set a bank as inactive, 'd' to delete a bank, 'l' to see the list of active bank,'w' to withdraw from a bank, 'p' to deposite to a bank,'f' to save to a file and 'q' to quita\n",
      "Enter the bank name: Kookmin\n",
      "Enter the bank balance: 500\n",
      "Enter 'a' to add a bank, 's' to see the list of banks,'i' to set a bank as inactive, 'd' to delete a bank, 'l' to see the list of active bank,'w' to withdraw from a bank, 'p' to deposite to a bank,'f' to save to a file and 'q' to quits\n",
      "Name: Hankook, Balance: 300, Active: True\n",
      "Name: Kookmin, Balance: 500, Active: True\n",
      "Enter 'a' to add a bank, 's' to see the list of banks,'i' to set a bank as inactive, 'd' to delete a bank, 'l' to see the list of active bank,'w' to withdraw from a bank, 'p' to deposite to a bank,'f' to save to a file and 'q' to quitw\n",
      "How much you want to withdraw?: 100\n",
      "From what bank?: Hankook\n",
      "Hankook has 200 balance\n",
      "Kookmin has 500 balance\n",
      "Enter 'a' to add a bank, 's' to see the list of banks,'i' to set a bank as inactive, 'd' to delete a bank, 'l' to see the list of active bank,'w' to withdraw from a bank, 'p' to deposite to a bank,'f' to save to a file and 'q' to quits\n",
      "Name: Hankook, Balance: 200, Active: True\n",
      "Name: Kookmin, Balance: 500, Active: True\n",
      "Enter 'a' to add a bank, 's' to see the list of banks,'i' to set a bank as inactive, 'd' to delete a bank, 'l' to see the list of active bank,'w' to withdraw from a bank, 'p' to deposite to a bank,'f' to save to a file and 'q' to quitf\n",
      "Enter 'a' to add a bank, 's' to see the list of banks,'i' to set a bank as inactive, 'd' to delete a bank, 'l' to see the list of active bank,'w' to withdraw from a bank, 'p' to deposite to a bank,'f' to save to a file and 'q' to quitq\n"
     ]
    }
   ],
   "source": [
    "# app.py, finalizing this.\n",
    "# from bank import Bank\n",
    "# from user import User\n",
    "\n",
    "import json\n",
    "import os\n",
    "\n",
    "def file_exists(filename):\n",
    "    return os.path.isfile(filename)\n",
    "\n",
    "def menu():\n",
    "    # Ask for the user's name\n",
    "    name = input(\"Enter your name: \")\n",
    "    \n",
    "    # Check if a file exists for that user.\n",
    "    # If it already exists, welcome them and load their data.\n",
    "    filename = \"{}.txt\".format(name)\n",
    "    if file_exists(filename):\n",
    "        with open(filename, 'r') as f:\n",
    "            json_data = json.load(f)\n",
    "        \n",
    "        user = User.from_json(json_data)\n",
    "        \n",
    "    # If not, create a User object.\n",
    "    else:\n",
    "        user = User(name)\n",
    "    \n",
    "    \n",
    "    # Give them a list of options:\n",
    "        # - Add a bank\n",
    "        # - See list of bank\n",
    "            # . Set a bank as inactive\n",
    "            # . Detete a bank by name\n",
    "        # - See list of active banks\n",
    "        # - withdraw or deposit from or to active banks\n",
    "        # Save and Quit\n",
    "    user_input = input(\"Enter 'a' to add a bank, 's' to see the list of banks,\"\n",
    "         \"'i' to set a bank as inactive, 'd' to delete a bank, 'l' to see the list of active bank,\"\n",
    "         \"'w' to withdraw from a bank, 'p' to deposite to a bank,\"\n",
    "         \"'f' to save to a file and 'q' to quit\")\n",
    "    \n",
    "    while user_input != 'q':\n",
    "        if user_input == 'a':\n",
    "            bank_name = input(\"Enter the bank name: \")\n",
    "            bank_balance = int(input(\"Enter the bank balance: \"))\n",
    "            user.add_bank(bank_name, bank_balance)\n",
    "    \n",
    "        elif user_input == 's':\n",
    "            for bank in user.banks:\n",
    "                print(\"Name: {}, Balance: {}, Active: {}\".format(bank.name, bank.balance, bank.active))\n",
    "    \n",
    "        elif user_input == 'i':\n",
    "            bank_name = input(\"Enter the bank name to set as inactive: \")\n",
    "            user.set_inactive(bank_name)\n",
    "        \n",
    "        elif user_input == 'd':\n",
    "            bank_name = input(\"Enter the bank name to delete: \")\n",
    "            user.detete_bank(bank_name)\n",
    "    \n",
    "        elif user_input == 'l':\n",
    "            for bank in user.active_banks():\n",
    "                print(\"Name: {}, Balance: {}, Active: {}\".format(bank.name, bank.balance, bank.active))\n",
    "        \n",
    "        elif user_input == 'w':\n",
    "            bank_withdraw = int(input(\"How much you want to withdraw?: \"))\n",
    "            bank_name = input(\"From what bank?: \")\n",
    "            user.withdraw(bank_name, bank_withdraw)\n",
    "            \n",
    "        elif user_input == 'p':\n",
    "            bank_deposit = int(input(\"How much you want to deposit?: \"))\n",
    "            bank_name = input(\"To what bank?: \")\n",
    "            user.deposit(bank_name, bank_deposit)\n",
    "            \n",
    "        elif user_input == 'l':\n",
    "            for bank in user.active_banks():\n",
    "                print(\"Name: {}, Balance: {}, Active: {}\".format(bank.name, bank.balance, bank.active))\n",
    "        \n",
    "        elif user_input == 'f':\n",
    "            with open(filename, 'w') as f:\n",
    "                json.dump(user.json(), f)\n",
    "        \n",
    "        user_input = input(\"Enter 'a' to add a bank, 's' to see the list of banks,\"\n",
    "             \"'i' to set a bank as inactive, 'd' to delete a bank, 'l' to see the list of active bank,\"\n",
    "             \"'w' to withdraw from a bank, 'p' to deposite to a bank,\"\n",
    "             \"'f' to save to a file and 'q' to quit\")\n",
    "        \n",
    "menu()"
   ]
  },
  {
   "cell_type": "code",
   "execution_count": null,
   "metadata": {
    "collapsed": true
   },
   "outputs": [],
   "source": []
  }
 ],
 "metadata": {
  "anaconda-cloud": {},
  "kernelspec": {
   "display_name": "Python 3",
   "language": "python",
   "name": "python3"
  },
  "language_info": {
   "codemirror_mode": {
    "name": "ipython",
    "version": 3
   },
   "file_extension": ".py",
   "mimetype": "text/x-python",
   "name": "python",
   "nbconvert_exporter": "python",
   "pygments_lexer": "ipython3",
   "version": "3.8.3"
  }
 },
 "nbformat": 4,
 "nbformat_minor": 1
}
